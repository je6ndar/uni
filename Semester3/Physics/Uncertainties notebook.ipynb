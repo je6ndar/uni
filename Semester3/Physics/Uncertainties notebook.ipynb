{
 "cells": [
  {
   "cell_type": "markdown",
   "id": "c440b021",
   "metadata": {},
   "source": [
    "# Uncertainties\n",
    "The Python package *uncertainties* allows you to create and do calculations involving quantites with uncertainties.\n",
    "\n",
    "## Notation\n",
    "The result of a measurement will give a best value and an unceratinty which we write as\n",
    "\n",
    "$x\\pm\\delta x$\n",
    "\n",
    "The quantity $\\delta x$ is called the uncertainty or the absolute uncertainty. \n",
    "The uncertainty can never be negative, $\\delta x\\geq 0$.\n",
    "\n",
    "The quantity $\\frac{\\delta x}{\\left|x\\right|}$ is called the relative uncertainty, when $x\\neq 0$.\n",
    "\n",
    "An concrete example is a length that has been measured to $1.34\\pm 0.05$ m. Here the relative uncertainty is\n",
    "$\\frac{0.05}{1.34}=0.037=3.7\\%$\n",
    "\n",
    "## Python package *uncertainties*\n",
    "The Python package *uncertainties* allows you to create and do calculations involving quantites with uncertainties.\n",
    "If you haven't installed the package it can be installed with the command *pip install uncertainties*. \n",
    "\n",
    "\n",
    "## Creating quantites with uncertainties\n",
    "There are two easy ways to create a quantity with uncertainty.\n",
    "The first is to call the ufloat function that creates such a quantity. The ufloat funkction takes two arguments, the value and the uncertainty.\n",
    "The second way is to create a quantity with uncertainty from a string with the ufloat_fromstr function.\n",
    "The functions are used as in the example\n",
    "```python\n",
    "x = unc.ufloat(3.0,0.3)\n",
    "g = ufloat_fromstr(\"9.82+/-0.01\")\n",
    "```"
   ]
  },
  {
   "cell_type": "code",
   "execution_count": 1,
   "id": "0863e20f",
   "metadata": {},
   "outputs": [
    {
     "ename": "ModuleNotFoundError",
     "evalue": "No module named 'uncertainties'",
     "output_type": "error",
     "traceback": [
      "\u001b[0;31m---------------------------------------------------------------------------\u001b[0m",
      "\u001b[0;31mModuleNotFoundError\u001b[0m                       Traceback (most recent call last)",
      "Cell \u001b[0;32mIn[1], line 2\u001b[0m\n\u001b[1;32m      1\u001b[0m \u001b[38;5;28;01mimport\u001b[39;00m \u001b[38;5;21;01mnumpy\u001b[39;00m \u001b[38;5;28;01mas\u001b[39;00m \u001b[38;5;21;01mnp\u001b[39;00m\n\u001b[0;32m----> 2\u001b[0m \u001b[38;5;28;01mfrom\u001b[39;00m \u001b[38;5;21;01muncertainties\u001b[39;00m \u001b[38;5;28;01mimport\u001b[39;00m \u001b[38;5;241m*\u001b[39m\n\u001b[1;32m      3\u001b[0m x \u001b[38;5;241m=\u001b[39m ufloat(\u001b[38;5;241m3.0\u001b[39m,\u001b[38;5;241m0.3\u001b[39m)\n\u001b[1;32m      4\u001b[0m g \u001b[38;5;241m=\u001b[39m ufloat_fromstr(\u001b[38;5;124m\"\u001b[39m\u001b[38;5;124m9.82+/-0.01\u001b[39m\u001b[38;5;124m\"\u001b[39m)\n",
      "\u001b[0;31mModuleNotFoundError\u001b[0m: No module named 'uncertainties'"
     ]
    }
   ],
   "source": [
    "import numpy as np\n",
    "from uncertainties import *\n",
    "x = ufloat(3.0,0.3)\n",
    "g = ufloat_fromstr(\"9.82+/-0.01\")\n",
    "print(x)\n",
    "print(g)"
   ]
  },
  {
   "cell_type": "markdown",
   "id": "fcb6a4d7",
   "metadata": {},
   "source": [
    "## Accessing value and uncertainty\n",
    "You can access the value and uncertain of the ufloat objects as in this example with the acceleration of gravity, $g$, as defined above.\n",
    "The g.nominal_value is the value, and g.std_dev is the uncertainty; \n",
    "the latter can be changed (for independent variables) by referring to it in the same way.\n",
    ">```python\n",
    ">g.nominal_value\n",
    ">g.std_dev\n",
    ">```"
   ]
  },
  {
   "cell_type": "code",
   "execution_count": 3,
   "id": "33697a54",
   "metadata": {},
   "outputs": [
    {
     "name": "stdout",
     "output_type": "stream",
     "text": [
      "9.82\n",
      "0.005\n"
     ]
    }
   ],
   "source": [
    "g = ufloat(9.820,0.005)\n",
    "print(g.nominal_value)\n",
    "print(g.std_dev)"
   ]
  },
  {
   "cell_type": "markdown",
   "id": "17cd1952",
   "metadata": {},
   "source": [
    "You can perform almost all normal calculations with quantities with uncertainty as you would with normal numbers (we will return to functions like sin, cos, tan, log, exp etc. shortly).\n",
    "\n",
    "In the example below we see that the uncertainty in the arguments lead to an uncertainty in the computed quantity, this is called error propagation."
   ]
  },
  {
   "cell_type": "code",
   "execution_count": 4,
   "id": "55f368ae",
   "metadata": {},
   "outputs": [
    {
     "name": "stdout",
     "output_type": "stream",
     "text": [
      "88+/-18\n"
     ]
    }
   ],
   "source": [
    "z = x**2 * g\n",
    "print(z)"
   ]
  },
  {
   "cell_type": "markdown",
   "id": "5d3b74e3",
   "metadata": {},
   "source": [
    "Now we change the uncertainty of x to 0.1 and inspect the value of z we just computed."
   ]
  },
  {
   "cell_type": "code",
   "execution_count": 5,
   "id": "e6443bb7",
   "metadata": {},
   "outputs": [
    {
     "name": "stdout",
     "output_type": "stream",
     "text": [
      "88+/-6\n"
     ]
    }
   ],
   "source": [
    "x.std_dev = 0.1\n",
    "print(z)"
   ]
  },
  {
   "cell_type": "markdown",
   "id": "0475b165",
   "metadata": {},
   "source": [
    "We see that the uncertainty is updated instantly.\n",
    "\n",
    "If you define, say, x, y, and z as quantities with uncertainties, and based on these calculate some function values, say,\n",
    "u=f(x,y,z) and v=g(x,y,u), you can change the uncertaintites of x, y, and z, but not u and v as these are calculated quantities.\n",
    "When changing the uncertainties, the uncertainties of u and v are instantly updated."
   ]
  },
  {
   "cell_type": "markdown",
   "id": "4b0c4715",
   "metadata": {},
   "source": [
    "## Rounding of physical quantities with uncertainties\n"
   ]
  },
  {
   "cell_type": "code",
   "execution_count": 3,
   "id": "01b2bae8",
   "metadata": {},
   "outputs": [
    {
     "name": "stdout",
     "output_type": "stream",
     "text": [
      "3.00+/-0.15\n",
      "3.00+/-0.25\n",
      "3.00+/-0.35\n",
      "3.0+/-0.4\n",
      "3.0+/-0.5\n",
      "3.0+/-0.6\n"
     ]
    }
   ],
   "source": [
    "from uncertainties import *\n",
    "x = ufloat(3.0,0.15)\n",
    "print(x)\n",
    "x = ufloat(3.0,0.25)\n",
    "print(x)\n",
    "x = ufloat(3.0,0.35)\n",
    "print(x)\n",
    "x = ufloat(3.0,0.42)\n",
    "print(x)\n",
    "x = ufloat(3.0,0.45)\n",
    "print(x)\n",
    "x = ufloat(3.0,0.55)\n",
    "print(x)\n"
   ]
  },
  {
   "cell_type": "markdown",
   "id": "5a0ad633",
   "metadata": {},
   "source": [
    "## Physical calculations with uncertainties\n",
    "Most function inluding simple arithmetic, trigonometric functions, logarithmic and exponential functions can handle uncertainties. We can import thes with import \\* from uncertainties.umath.\\*, we will import them a litte later when we need them.\n",
    "\n",
    "Let us consider an example, where we calculate the energy of a particle.\n",
    "\n",
    "The total mechanical energy of a particle with mass, $m$, height, $h$, and speed, $v$, can be calculated with the formula\n",
    "$E=mgh+\\frac{1}{2}mv^2$. We introduce values and uncertainties below, all units are in SI units."
   ]
  },
  {
   "cell_type": "code",
   "execution_count": 6,
   "id": "aef76da8",
   "metadata": {},
   "outputs": [
    {
     "name": "stdout",
     "output_type": "stream",
     "text": [
      "14.81+/-0.32\n"
     ]
    }
   ],
   "source": [
    "m = ufloat(0.500,0.001)\n",
    "g = ufloat(9.820,0.005)\n",
    "h = ufloat(2.13,0.01)\n",
    "v = ufloat(4.17,0.15)\n",
    "E = m*g*h+1/2*m*v**2 # total mechanical energy, is the sum of the potential energy and the kinetic energy\n",
    "print(E)"
   ]
  },
  {
   "cell_type": "markdown",
   "id": "70133f20",
   "metadata": {},
   "source": [
    "If the value of, say, $h$ had a different uncertainty, you can update this and the value of the total energy, $E$, will instantly be updated."
   ]
  },
  {
   "cell_type": "code",
   "execution_count": 7,
   "id": "95e9f1b3",
   "metadata": {},
   "outputs": [
    {
     "name": "stdout",
     "output_type": "stream",
     "text": [
      "14.81+/-0.35\n"
     ]
    }
   ],
   "source": [
    "h.std_dev = 0.03\n",
    "print(E)"
   ]
  },
  {
   "cell_type": "markdown",
   "id": "8cb69177",
   "metadata": {},
   "source": [
    "The mathematical functions are in uncertainties.umath, here we compute the sine of a number with uncertainty, $36.0\\pm 0.3  ^\\text{o}$. Trigonometric functions should always be computer with arguments in radians."
   ]
  },
  {
   "cell_type": "code",
   "execution_count": 8,
   "id": "41fcb089",
   "metadata": {},
   "outputs": [
    {
     "name": "stdout",
     "output_type": "stream",
     "text": [
      "x = 0.628+/-0.005\n",
      "y = 0.588+/-0.004\n"
     ]
    }
   ],
   "source": [
    "from uncertainties.umath import *\n",
    "x = ufloat(36.0 * np.pi / 180.0, 0.3 * np.pi / 180.0)\n",
    "print('x =',x)\n",
    "y = sin(x)\n",
    "print('y =',y)"
   ]
  },
  {
   "cell_type": "markdown",
   "id": "c2b3bb60",
   "metadata": {},
   "source": [
    "## Printing quantities with uncertainty\n",
    "ufloats are usually printed automatically with print, often with many digits, most of which are not physically significant. \n",
    "To see them in a more readable manner you can use string formatting.\n",
    "\n",
    ">Print with one digit in the uncertainty.\n",
    ">```python\n",
    ">print('{:.1u}'.format(x))\n",
    ">```\n",
    ">Print with two digits in the uncertainty.\n",
    ">```python\n",
    ">print('{:.2u}'.format(x))\n",
    ">```\n",
    ">Print with three digits in the uncertainty.\n",
    ">```python\n",
    ">print('{:.3u}'.format(x))\n",
    ">```\n",
    "\n",
    "Note in the output below that rounding takes place for instance for two digits where 0.0126 is rounded to 0.013."
   ]
  },
  {
   "cell_type": "code",
   "execution_count": 24,
   "id": "88086f49",
   "metadata": {},
   "outputs": [
    {
     "name": "stdout",
     "output_type": "stream",
     "text": [
      "9.82+/-0.01\n",
      "9.820+/-0.013\n",
      "9.8200+/-0.0126\n"
     ]
    }
   ],
   "source": [
    "g = ufloat_fromstr(\"9.82+/-0.0126\")\n",
    "print('{:.1u}'.format(g))\n",
    "print('{:.2u}'.format(g))\n",
    "print('{:.3u}'.format(g))\n"
   ]
  },
  {
   "cell_type": "markdown",
   "id": "123bb6f1",
   "metadata": {},
   "source": [
    "## How to determine uncertainty from calculations - Error propagation\n",
    "Here is a brief review of how to calculate uncertainties in different expressions.\n",
    "It is assumed that the uncertainties are small. \n",
    "\n",
    "### Addition and subtraction\n",
    "If we add a number of variable, each with uncertainties,\n",
    "$y=x_0\\pm x_2\\pm \\ldots \\pm x_{N-1}$\n",
    "we can compute the uncertainty in the result by so-called addition in quadrature,\n",
    "where one compute the square root of the sum of the squares of the uceratinties.\n",
    "\n",
    ">$\\delta y=\\sqrt{\\delta x_0^2+\\delta x_1^2+\\ldots+\\delta x_{N-1}^2}$\n",
    "\n",
    "This formula is valid if the uncertainties are independent.\n",
    "In case of dependent uncertainties, which typically arise when doing calculations with already computed quantities,\n",
    "the uncertainty can be computed by\n",
    "\n",
    ">$\\delta y=\\delta x_0+\\delta x_1+\\ldots+\\delta x_{N-1}$\n",
    "\n",
    "### Multiplication and division\n",
    "If we multiply and divide a number of quantities with uncertainties like in\n",
    "\n",
    "$z=x_0\\cdot x_1\\cdot \\ldots \\cdot x_{N-1}\\cdot y_0^{-1}\\cdot y_1^{-1}\\cdot \\ldots \\cdot y_{M-1}^{-1}$\n",
    "\n",
    "the relative uncertainty in the result can be computed a addition in quadrature of the relative undertainties:\n",
    "\n",
    ">$\\frac{\\delta z}{\\left| z\\right|}=\\sqrt{\\left(\\frac{\\delta x_0}{x_0}\\right)^2+\\left(\\frac{\\delta x_1}{x_1}\\right)^2+\\ldots+\\left(\\frac{\\delta x_{N-1}}{x_{N-1}}\\right)^2+\\left(\\frac{\\delta y_0}{y_0}\\right)^2+\\left(\\frac{\\delta y_1}{y_1}\\right)^2+\\ldots +\\left(\\frac{\\delta y_{M-1}}{y_{M-1}}\\right)^2}$\n",
    "\n",
    "If we have dependent uncertainties we instead us the forumula \n",
    "\n",
    ">$\\frac{\\delta z}{\\left| z\\right|}=\\left|\\frac{\\delta x_0}{x_0}\\right|+\\left|\\frac{\\delta x_1}{x_1}\\right|+\\ldots+\\left|\\frac{\\delta x_{N-1}}{x_{N-1}}\\right|+\\left|\\frac{\\delta y_0}{y_0}\\right|+\\left|\\frac{\\delta y_1}{y_1}\\right|+\\ldots +\\left|\\frac{\\delta y_{M-1}}{y_{M-1}}\\right|$\n",
    "\n",
    "### Functions with uncertainty\n",
    "Consider a function $y=f(x)$ where $x$ has uncertainty, $\\delta x$.\n",
    "We can approximate the function near $x$ by \n",
    "\n",
    "$f(x+\\Delta x) \\approx f(x)+f'(x)\\Delta x$\n",
    "\n",
    "Sustracting $f(x)$ from both sides gives an expression for the uncertainty: \n",
    "\n",
    ">$\\delta y=\\left|f(x_0)\\right|\\delta x$\n",
    "\n",
    "For more than one independent variable, like in $z=f(x,y)$, we get\n",
    "\n",
    ">$\\delta z=\\sqrt{\\left(\\frac{\\partial f}{\\partial x}\\delta x\\right)^2+\\left(\\frac{\\partial f}{\\partial y}\\delta y\\right)^2}$\n",
    "\n",
    "and for dependent uncertaintites we get\n",
    "\n",
    ">$\\delta z=\\left|\\frac{\\partial f}{\\partial x}\\delta x\\right|+\\left|\\frac{\\partial f}{\\partial y}\\delta y\\right|$\n",
    "\n",
    "The formulas generalize to any number of variables.\n",
    "\n",
    "\n",
    "### Examples of error propagation\n",
    "We now use error propagation to compute the momentum, $p=mv$, and kinetic energy, $K=\\frac{1}{2}mv^2$, of an object.\n",
    "First we do the calculation with ufloat variables and then use the definition of error propagation using\n",
    "the *sympy* package."
   ]
  },
  {
   "cell_type": "code",
   "execution_count": 1,
   "id": "723172df",
   "metadata": {},
   "outputs": [
    {
     "name": "stdout",
     "output_type": "stream",
     "text": [
      "Calculation of momentum and kinetic energy using ufloat.\n",
      "p = 150+/-16\n",
      "E = (1.12+/-0.23)e+03\n",
      "Computing expressions for the uncertainties in momentum and kinetic energy usign sympy.\n"
     ]
    },
    {
     "data": {
      "text/latex": [
       "$\\displaystyle \\sqrt{dm^{2} v^{2} + dv^{2} m^{2}}$"
      ],
      "text/plain": [
       "sqrt(dm**2*v**2 + dv**2*m**2)"
      ]
     },
     "metadata": {},
     "output_type": "display_data"
    },
    {
     "data": {
      "text/latex": [
       "$\\displaystyle \\sqrt{\\frac{dm^{2} v^{4}}{4} + dv^{2} m^{2} v^{2}}$"
      ],
      "text/plain": [
       "sqrt(dm**2*v**4/4 + dv**2*m**2*v**2)"
      ]
     },
     "metadata": {},
     "output_type": "display_data"
    },
    {
     "name": "stdout",
     "output_type": "stream",
     "text": [
      "Inserting uncertaintities in the expression from error propagation.\n",
      "dp= 15.6604597633658\n",
      "dE= 227.517169681763\n"
     ]
    }
   ],
   "source": [
    "from uncertainties import *\n",
    "from uncertainties.umath import *\n",
    "print('Calculation of momentum and kinetic energy using ufloat.')\n",
    "m = ufloat(10.0,0.3)\n",
    "v = ufloat(15.0,1.5)\n",
    "p = m*v\n",
    "print('p =',p)\n",
    "E = 1/2*m*v**2\n",
    "print('E =',E)\n",
    "print('Computing expressions for the uncertainties in momentum and kinetic energy using sympy.')\n",
    "import sympy as sp\n",
    "m,v,dm,dv = sp.symbols('m,v,dm,dv')\n",
    "p = m*v\n",
    "dp = sp.sqrt((p.diff(m)*dm)**2+(p.diff(v)*dv)**2)\n",
    "E = sp.Rational(1,2)*m*v**2\n",
    "dE = sp.sqrt((E.diff(m)*dm)**2+(E.diff(v)*dv)**2)\n",
    "display(dp)\n",
    "display(dE)\n",
    "print('Inserting uncertaintities in the expression from error propagation.')\n",
    "print('dp=',dp.subs({m:10.0,v:15.0,dm:0.3,dv:1.5}))\n",
    "print('dE=',dE.subs({m:10.0,v:15.0,dm:0.3,dv:1.5}))"
   ]
  },
  {
   "cell_type": "markdown",
   "id": "b0307ad6",
   "metadata": {},
   "source": [
    "## Data statistics\n",
    "Let\n",
    "$x_0,x_1,\\ldots ,x_{N-1}$\n",
    "be a set of $N$ data points from the measurement of some physical quantity.\n",
    "\n",
    "The best value to represent the data set, in the least square sense, is the mean:\n",
    "\n",
    ">$\\bar x=\\frac{x_0+x_1+\\ldots +x_{N-1}}{N}$.\n",
    "\n",
    "The standard deviation for a sample (a measurement is usually a sample) is\n",
    "\n",
    ">$\\delta x=\\sqrt{\\frac{\\sum_{i=0}^{N-1}\\left(x_i-\\bar x\\right)^2}{N-1}}$.\n",
    "\n",
    "This quantity we interpret as the uncertainty in a single measruement, i.e. $x_0\\pm\\delta x$.\n",
    "\n",
    "When doing further calculations, or presenting a result, \n",
    "we will usually use the mean, $\\bar x$.\n",
    "The uncertainty of the mean, also called the standard deviation of the mean, is defined by\n",
    "\n",
    ">$\\delta\\bar x=\\frac{\\delta x}{\\sqrt{N}}$\n",
    "\n",
    "which we will refer to as uncertainty or standard uncertainty.\n",
    "The standard uncertainty is often referred to by the abbreviations sdom or SDOM.\n",
    "\n",
    "The best quantity to use in further calculations is usually the mean\n",
    ">$\\bar x \\pm \\delta\\bar x$.\n"
   ]
  },
  {
   "cell_type": "markdown",
   "id": "2c7cb7c8",
   "metadata": {},
   "source": [
    "## Read data from a csv file\n",
    "\n",
    "We are now going to import data from a csv file (comma separated file) that contains a temperature measurement over a period of one second.\n",
    "\n",
    "\n",
    "We first read the data with all columns, and then we will only read the relevation columns, that is the columns that contain time and temperature.\n",
    "Data is read from the data file to a so-called DataFrame.\n",
    "We use display to show the data, and call the head method to see the first five entries only. \n",
    "If you want to see all data leave out the head method call."
   ]
  },
  {
   "cell_type": "code",
   "execution_count": 11,
   "id": "bfbf2e31",
   "metadata": {},
   "outputs": [
    {
     "data": {
      "text/html": [
       "<div>\n",
       "<style scoped>\n",
       "    .dataframe tbody tr th:only-of-type {\n",
       "        vertical-align: middle;\n",
       "    }\n",
       "\n",
       "    .dataframe tbody tr th {\n",
       "        vertical-align: top;\n",
       "    }\n",
       "\n",
       "    .dataframe thead th {\n",
       "        text-align: right;\n",
       "    }\n",
       "</style>\n",
       "<table border=\"1\" class=\"dataframe\">\n",
       "  <thead>\n",
       "    <tr style=\"text-align: right;\">\n",
       "      <th></th>\n",
       "      <th>index</th>\n",
       "      <th>frame</th>\n",
       "      <th>sample</th>\n",
       "      <th>time</th>\n",
       "      <th>raw[0]</th>\n",
       "      <th>cal[0]</th>\n",
       "    </tr>\n",
       "  </thead>\n",
       "  <tbody>\n",
       "    <tr>\n",
       "      <th>0</th>\n",
       "      <td>0</td>\n",
       "      <td>10</td>\n",
       "      <td>0</td>\n",
       "      <td>0.019608</td>\n",
       "      <td>17237</td>\n",
       "      <td>25.8494</td>\n",
       "    </tr>\n",
       "    <tr>\n",
       "      <th>1</th>\n",
       "      <td>1</td>\n",
       "      <td>11</td>\n",
       "      <td>0</td>\n",
       "      <td>0.039216</td>\n",
       "      <td>17237</td>\n",
       "      <td>25.8494</td>\n",
       "    </tr>\n",
       "    <tr>\n",
       "      <th>2</th>\n",
       "      <td>2</td>\n",
       "      <td>13</td>\n",
       "      <td>0</td>\n",
       "      <td>0.058824</td>\n",
       "      <td>17248</td>\n",
       "      <td>26.0505</td>\n",
       "    </tr>\n",
       "    <tr>\n",
       "      <th>3</th>\n",
       "      <td>3</td>\n",
       "      <td>15</td>\n",
       "      <td>0</td>\n",
       "      <td>0.078431</td>\n",
       "      <td>17245</td>\n",
       "      <td>25.9957</td>\n",
       "    </tr>\n",
       "    <tr>\n",
       "      <th>4</th>\n",
       "      <td>4</td>\n",
       "      <td>17</td>\n",
       "      <td>0</td>\n",
       "      <td>0.098039</td>\n",
       "      <td>17275</td>\n",
       "      <td>26.5442</td>\n",
       "    </tr>\n",
       "  </tbody>\n",
       "</table>\n",
       "</div>"
      ],
      "text/plain": [
       "   index   frame   sample      time   raw[0]   cal[0]\n",
       "0      0      10        0  0.019608    17237  25.8494\n",
       "1      1      11        0  0.039216    17237  25.8494\n",
       "2      2      13        0  0.058824    17248  26.0505\n",
       "3      3      15        0  0.078431    17245  25.9957\n",
       "4      4      17        0  0.098039    17275  26.5442"
      ]
     },
     "metadata": {},
     "output_type": "display_data"
    }
   ],
   "source": [
    "import numpy as np\n",
    "import pandas as pd\n",
    "import matplotlib.pyplot as plt\n",
    "df = pd.read_csv(\"data/20230627-101440_Therm.csv\")\n",
    "display(df.head())"
   ]
  },
  {
   "cell_type": "markdown",
   "id": "828ae64e",
   "metadata": {},
   "source": [
    "If data is in an Excel file you can read in the same way with \n",
    "```python\n",
    "df = pd.read_excel(\"filename.xslx\")\n",
    "```"
   ]
  },
  {
   "cell_type": "markdown",
   "id": "51c8c768",
   "metadata": {},
   "source": [
    "### Extract the columns needed\n",
    "The first column with numbers 0,1,2,3,4 is from the display command, there is no column for that in the data.\n",
    "We see that there are six columns (which are numbered 0,1,2,3,4,5 - not shown).\n",
    "The time (in seconds) is in the fourth column and the temperature (in degrees celsius) is in the sixth column.\n",
    "The fifth columns is the raw measurement for the temperature (it has no units).\n",
    "To extract the fourth and sixth columns we add the parameter usecols=[3,5].\n",
    "\n",
    "Note: You can also read columns from their names, as shown on top, however, as these contain some spaces we just read numbered columns."
   ]
  },
  {
   "cell_type": "code",
   "execution_count": 12,
   "id": "c5afcb91",
   "metadata": {},
   "outputs": [
    {
     "data": {
      "text/html": [
       "<div>\n",
       "<style scoped>\n",
       "    .dataframe tbody tr th:only-of-type {\n",
       "        vertical-align: middle;\n",
       "    }\n",
       "\n",
       "    .dataframe tbody tr th {\n",
       "        vertical-align: top;\n",
       "    }\n",
       "\n",
       "    .dataframe thead th {\n",
       "        text-align: right;\n",
       "    }\n",
       "</style>\n",
       "<table border=\"1\" class=\"dataframe\">\n",
       "  <thead>\n",
       "    <tr style=\"text-align: right;\">\n",
       "      <th></th>\n",
       "      <th>time</th>\n",
       "      <th>cal[0]</th>\n",
       "    </tr>\n",
       "  </thead>\n",
       "  <tbody>\n",
       "    <tr>\n",
       "      <th>0</th>\n",
       "      <td>0.019608</td>\n",
       "      <td>25.8494</td>\n",
       "    </tr>\n",
       "    <tr>\n",
       "      <th>1</th>\n",
       "      <td>0.039216</td>\n",
       "      <td>25.8494</td>\n",
       "    </tr>\n",
       "    <tr>\n",
       "      <th>2</th>\n",
       "      <td>0.058824</td>\n",
       "      <td>26.0505</td>\n",
       "    </tr>\n",
       "    <tr>\n",
       "      <th>3</th>\n",
       "      <td>0.078431</td>\n",
       "      <td>25.9957</td>\n",
       "    </tr>\n",
       "    <tr>\n",
       "      <th>4</th>\n",
       "      <td>0.098039</td>\n",
       "      <td>26.5442</td>\n",
       "    </tr>\n",
       "  </tbody>\n",
       "</table>\n",
       "</div>"
      ],
      "text/plain": [
       "       time   cal[0]\n",
       "0  0.019608  25.8494\n",
       "1  0.039216  25.8494\n",
       "2  0.058824  26.0505\n",
       "3  0.078431  25.9957\n",
       "4  0.098039  26.5442"
      ]
     },
     "metadata": {},
     "output_type": "display_data"
    }
   ],
   "source": [
    "df = pd.read_csv(\"data/20230627-101440_Therm.csv\",usecols=[3,5])\n",
    "display(df.head())"
   ]
  },
  {
   "cell_type": "markdown",
   "id": "71dca3d8",
   "metadata": {},
   "source": [
    "### Extract columns to data vectors\n",
    "We now extrac the time and temperature measurements to two vectors so we can plot them and do calculataions with them.\n",
    "The strucure they are in is a matrix structure, m.\n",
    "To extract the time vector we get m[:,0], and to get the temperature vector we use m[:,1].\n",
    "Then we plot the temperature as a function of time twice, one with a graph (showing lines between data points) and with only data points."
   ]
  },
  {
   "cell_type": "code",
   "execution_count": 13,
   "id": "dbd36ef8",
   "metadata": {},
   "outputs": [
    {
     "data": {
      "image/png": "[encoded data removed]",
      "text/plain": [
       "<Figure size 1280x960 with 1 Axes>"
      ]
     },
     "metadata": {},
     "output_type": "display_data"
    },
    {
     "data": {
      "image/png": "[encoded data removed]",
      "text/plain": [
       "<Figure size 1280x960 with 1 Axes>"
      ]
     },
     "metadata": {},
     "output_type": "display_data"
    }
   ],
   "source": [
    "t = df.iloc[:,0]\n",
    "T = df.iloc[:,1]\n",
    "plt.figure(dpi=200)\n",
    "plt.xlabel('$t$ (s)')\n",
    "plt.ylabel('$T$ ($^o$C)')\n",
    "plt.xlim(0,1)\n",
    "plt.ylim(0,35)\n",
    "plt.grid(color='k',linestyle='--', linewidth=1)\n",
    "plt.plot(t,T,label='Temperature as a function of time')\n",
    "#plt.plot(t,T,'r+')\n",
    "plt.legend()\n",
    "plt.show()\n",
    "plt.figure(dpi=200)\n",
    "plt.xlabel('$t$ (s)')\n",
    "plt.ylabel('$T$ ($^o$C)')\n",
    "plt.xlim(0,1)\n",
    "plt.ylim(0,35)\n",
    "plt.grid(color='k',linestyle='--', linewidth=1)\n",
    "plt.plot(t,T,'r+',label='Temperature as a function of time')\n",
    "plt.legend()\n",
    "plt.show()\n",
    "plt.show()"
   ]
  },
  {
   "cell_type": "markdown",
   "id": "877f772b",
   "metadata": {},
   "source": [
    "There is clearly fluctuations in the temperature. We now want to quantify them by computing the mean, the standard deviation, and the standard deviation of the mean.\n",
    "\n",
    "\n",
    "We use numpy that has the methods mean and std to compute the mean and the standard devition. \n",
    "The std method has an extra argument ddof=1 that indicates that we have lost one degree of freedom in the\n",
    "data when computing the mean, which gives the $N-1$ in the denominater shown above.\n",
    "The standard deviation of the mean (sdom) we compute manually according the formula above.\n",
    "\n",
    "We print out the first measurement value with uncertainty (the standard deviation), \n",
    "and the mean and the standard uncertainty (sdom).\n",
    "Note that we print out with default format, and with one and two significant figures in the uncertainty."
   ]
  },
  {
   "cell_type": "code",
   "execution_count": 14,
   "id": "5c58f018",
   "metadata": {},
   "outputs": [
    {
     "name": "stdout",
     "output_type": "stream",
     "text": [
      "26.344160784313722 0.3558177719442535 0.04982445395967585\n",
      "25.8+/-0.4\n",
      "25.8+/-0.4\n",
      "25.85+/-0.36\n",
      "26.34+/-0.05\n",
      "26.34+/-0.05\n",
      "26.344+/-0.050\n"
     ]
    }
   ],
   "source": [
    "import numpy as np\n",
    "T_mean = np.mean(T)\n",
    "T_std = np.std(T,ddof=1)\n",
    "T_sdom = T_std / np.sqrt(np.size(T))\n",
    "print(T_mean,T_std,T_sdom)\n",
    "T0 = ufloat(T[0],T_std)\n",
    "print(T0)\n",
    "print('{:.1u}'.format(T0))\n",
    "print('{:.2u}'.format(T0))\n",
    "Tm = ufloat(T_mean,T_sdom)\n",
    "print(Tm)\n",
    "print('{:.1u}'.format(Tm))\n",
    "print('{:.2u}'.format(Tm))"
   ]
  },
  {
   "cell_type": "markdown",
   "id": "2506ae5d",
   "metadata": {},
   "source": [
    "## Comparing data\n",
    "An important application of measurements is determining values for physical quantities.\n",
    "These are naturally associated with uncertainties and an important question is\n",
    "whether the result can be said to be consistent with a, say, accepted value.\n",
    "Let us call the accepted value for a quantity\n",
    "$x_*$\n",
    "and the value we have determined we call\n",
    "$x\\pm\\delta x$.\n",
    "\n",
    "\n",
    "In order to quantify how close the measured and accepted value is we compute the standard score, which is the quantity\n",
    "$\\frac{x-x_*}{\\delta x}$\n",
    "that measures how many standard deviations the measured and accepted values from each other. \n",
    "A guide to what to conclude is given below.\n",
    "> For $0\\leq \\left|\\frac{x-x_*}{\\delta x}\\right|\\leq 1$ it is very likely that they are the same.\\\n",
    "> For $1< \\left|\\frac{x-x_*}{\\delta x}\\right|\\leq 2$ it is likely that they are the same.\\\n",
    "> For $2<\\left|\\frac{x-x_*}{\\delta x}\\right|\\leq 3$ is a grey-zone.\\\n",
    "> For $3<\\left|\\frac{x-x_*}{\\delta x}\\right|$ it is unlikely that they are the same.\n",
    "\n",
    "\n",
    "Is the measured value\n",
    "$g=9.820\\pm 0.005 \\text{m}/\\text{s}^2$\n",
    "consistent with an acceleration of gravity of $9.81 \\text{m}/\\text{s}^2$?"
   ]
  },
  {
   "cell_type": "code",
   "execution_count": 15,
   "id": "de96ea70",
   "metadata": {},
   "outputs": [
    {
     "data": {
      "text/plain": [
       "-1.9999999999999574"
      ]
     },
     "execution_count": 15,
     "metadata": {},
     "output_type": "execute_result"
    }
   ],
   "source": [
    "g = ufloat(9.82,0.005)\n",
    "g.std_score(9.81)"
   ]
  },
  {
   "cell_type": "markdown",
   "id": "06e66c2c",
   "metadata": {},
   "source": [
    "The method std_score computes the standard score.\n",
    "\n",
    "In this case the values are consistent, but it would be nice to have better aggreement, \n",
    "as the measaured value is almost exactly two standard deviations away."
   ]
  },
  {
   "cell_type": "markdown",
   "id": "a6ac7876",
   "metadata": {},
   "source": [
    "### Is the first temperature measurement (T[0]) 26 degrees celsius?"
   ]
  },
  {
   "cell_type": "code",
   "execution_count": 16,
   "id": "96e97d66",
   "metadata": {},
   "outputs": [
    {
     "name": "stdout",
     "output_type": "stream",
     "text": [
      "25.85+/-0.36\n",
      "0.42325035980382525\n"
     ]
    }
   ],
   "source": [
    "T0 = ufloat(T[0],T_std)\n",
    "print('{:.2u}'.format(T0))\n",
    "print(T0.std_score(26.0))"
   ]
  },
  {
   "cell_type": "markdown",
   "id": "10d55eaa",
   "metadata": {},
   "source": [
    "Probably, as the mean is less than half a standard deviation away from 26 $^\\text{o}$C."
   ]
  },
  {
   "cell_type": "markdown",
   "id": "495e13b0",
   "metadata": {},
   "source": [
    "### Is the mean temperature measurement 26.5 degrees celsius?"
   ]
  },
  {
   "cell_type": "code",
   "execution_count": 112,
   "id": "931f6bc7",
   "metadata": {},
   "outputs": [
    {
     "name": "stdout",
     "output_type": "stream",
     "text": [
      "26.344+/-0.050\n",
      "3.1277656512282603\n"
     ]
    }
   ],
   "source": [
    "Tm = ufloat(T_mean,T_sdom)\n",
    "print('{:.2u}'.format(Tm))\n",
    "print(Tm.std_score(26.5))"
   ]
  },
  {
   "cell_type": "markdown",
   "id": "ad1df587",
   "metadata": {},
   "source": [
    "It is very unlikely that the mean temperature is  26.5 $^\\text{o}$C, as the value is more than three standard deviations away."
   ]
  }
 ],
 "metadata": {
  "kernelspec": {
   "display_name": "Python 3 (ipykernel)",
   "language": "python",
   "name": "python3"
  },
  "language_info": {
   "codemirror_mode": {
    "name": "ipython",
    "version": 3
   },
   "file_extension": ".py",
   "mimetype": "text/x-python",
   "name": "python",
   "nbconvert_exporter": "python",
   "pygments_lexer": "ipython3",
   "version": "3.12.3"
  }
 },
 "nbformat": 4,
 "nbformat_minor": 5
}
