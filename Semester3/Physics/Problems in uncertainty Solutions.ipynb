{
 "cells": [
  {
   "cell_type": "markdown",
   "metadata": {},
   "source": [
    "#### Problem 1\n",
    "\n",
    "Two independent measurements, of two different pieces of wood, gives the results\n",
    "$x=95.8\\pm 0.1$ cm\n",
    "and\n",
    "$y=2.30\\pm 0.02$ cm.\n",
    "\n",
    ">a) Determine the diffence in length, $l=x-y$.\n",
    "\n",
    ">b) Determine the relative uncertainty in the difference in length, $l$.\n",
    "\n",
    "<details> <summary>Hint a) click here</summary> Do you add uncertaintites or add them in quadrature? </details>"
   ]
  },
  {
   "cell_type": "markdown",
   "metadata": {},
   "source": [
    "#### Solution\n",
    "\n",
    "Use addition in quadrature of the absolute uncertainties.\n",
    "\n",
    ">a) $\\delta l=\\sqrt{\\delta x^2+\\delta y^2}$\n",
    "\n",
    ">b) $\\frac{\\delta l}{l}=\\frac{\\sqrt{\\delta x^2+\\delta y^2}}{x-y}$"
   ]
  },
  {
   "cell_type": "code",
   "execution_count": 1,
   "metadata": {},
   "outputs": [
    {
     "name": "stdout",
     "output_type": "stream",
     "text": [
      "a)\n",
      "l = 93.50+/-0.10 cm\n",
      "\n",
      "b)\n",
      "The relative uncertainty is 0.0011\n",
      "The relative uncertainty is 0.11%\n"
     ]
    }
   ],
   "source": [
    "from uncertainties import *\n",
    "print('a)')\n",
    "x = ufloat(95.8,0.1)\n",
    "y = ufloat(2.30,0.02)\n",
    "l = x - y\n",
    "print('l = {} cm'.format(l))\n",
    "print('\\nb)')\n",
    "print('The relative uncertainty is {:.4f}'.format(l.std_dev/l.nominal_value))\n",
    "print('The relative uncertainty is {:.2f}%'.format(100*l.std_dev/l.nominal_value))"
   ]
  },
  {
   "cell_type": "markdown",
   "metadata": {},
   "source": [
    "#### Problem 2\n",
    "\n",
    "To determine the velocity of a cart on an air track we measure the distance travelled, $d$, and the time interval, $t$.\n",
    "The measurement values are $d=5.10\\pm 0.01$ m, and $t=6.02\\pm 0.02$ s.\n",
    "\n",
    ">a) Determine the velocity of the cart.\n",
    "\n",
    ">b) Determine the momentum, $p=m\\cdot v$, for the cart which has mass $0.711\\pm 0.002$ kg.\n",
    "\n",
    "<details> <summary>Hint a) click here</summary> Do you consider absolute or relative uncertainties here? </details>"
   ]
  },
  {
   "cell_type": "markdown",
   "metadata": {},
   "source": [
    "#### Solution\n",
    "\n",
    "Assume that the uncertainties are independent.\n",
    "Use addition in quadrature of the relative uncertainties.\n",
    "\n",
    ">a) $\\frac{\\delta v}{v}=\\sqrt{ \\left(\\frac{\\delta d}{d}\\right)^2 + \\left(\\frac{\\delta t}{t}\\right)^2 }$\n",
    "\n",
    ">b) $\\frac{\\delta p}{p}=\\sqrt{ \\left(\\frac{\\delta m}{m}\\right)^2 + \\left(\\frac{\\delta v}{v}\\right)^2 }$"
   ]
  },
  {
   "cell_type": "code",
   "execution_count": 2,
   "id": "0863e20f",
   "metadata": {},
   "outputs": [
    {
     "name": "stdout",
     "output_type": "stream",
     "text": [
      "a)\n",
      "d = 5.100+/-0.010 m\n",
      "t = 6.020+/-0.020 s\n",
      "v = 0.8472+/-0.0033 m/s\n",
      "\n",
      "b)\n",
      "m = 0.7110+/-0.0020 kg\n",
      "v = 0.8472+/-0.0033 m/s\n",
      "p = 0.6023+/-0.0029 kg m/s\n"
     ]
    }
   ],
   "source": [
    "from uncertainties import *\n",
    "print('a)')\n",
    "d = ufloat(5.10,0.01)\n",
    "t = ufloat(6.02,0.02)\n",
    "print('d = {} m'.format(d))\n",
    "print('t = {} s'.format(t))\n",
    "v = d / t\n",
    "print('v = {} m/s'.format(v))\n",
    "print('\\nb)')\n",
    "m = ufloat(0.711,0.002)\n",
    "print('m = {} kg'.format(m))\n",
    "print('v = {} m/s'.format(v))\n",
    "p = m * v\n",
    "print('p = {} kg m/s'.format(p))"
   ]
  },
  {
   "cell_type": "markdown",
   "metadata": {},
   "source": [
    "#### Problem 3\n",
    "\n",
    "A projectile motion starts with initial speed, $v_0=15.3\\pm 0.1 \\text{m/s}$, and initial angle, $30\\pm 1 \\degree$.\n",
    "Assume that the acceleration of gravity, $g=9.82 \\text{m/s}^2$, has no uncertainty.\n",
    "\n",
    "> a) What is the range of the projectile?\n",
    "\n",
    "> b) What is the range if the uncertainty in the initial speed is $0.2 \\text{m/s}$?\n",
    "\n",
    "> c) What is the relative contribution from uncertainties in initial speed and initial angle to the uncertainty in the range of the projectile?\n",
    "\n",
    "<details> <summary>Hint a) click here</summary> Is there a formula for the range of a projectile? </details>\n",
    "<details> <summary>Hint b) click here</summary> Can you make a small change without having to redo the calculations form a)? </details>\n",
    "<details> <summary>Hint c) click here</summary> ufloat have a method error_components() which may be useful </details>"
   ]
  },
  {
   "cell_type": "markdown",
   "metadata": {},
   "source": [
    "#### Solution\n",
    "\n",
    "Assume that the uncertainties are independent. Remember to express the angle in radians, not degrees. \n",
    "\n",
    ">a) The range of a projectile is given by the formula $R=\\frac{v_0^2\\sin\\left(2\\theta\\right)}{g}$.\n",
    "\n",
    ">b) The range of a projectile is given by the formula $R=\\frac{v_0^2\\sin\\left(2\\theta\\right)}{g}$, the uncertainty of the initial speed can be changed, and the result will automatically be updated with the new uncertainty, so you don't have to redo the calculations.\n",
    "\n",
    ">c) The method *error_components()* will return the individual contributions from the different uncertainties. It will be easier read if you name the *ufloat* like \n",
    "```python\n",
    "v_0 = unc.ufloat(15.3,0.1,'v_0')\n",
    "```"
   ]
  },
  {
   "cell_type": "code",
   "execution_count": 3,
   "metadata": {},
   "outputs": [
    {
     "name": "stdout",
     "output_type": "stream",
     "text": [
      "a)\n",
      "v_0 = 15.30+/-0.10 m/s\n",
      "theta = 0.524+/-0.017 rad\n",
      "The range is 20.6+/-0.5 m\n",
      "\n",
      "b)\n",
      "The range is 20.6+/-0.7 m\n",
      "\n",
      "c)\n",
      "{< theta = 30.0+/-1.0 >: 0.416053080040074, < v_0 = 15.3+/-0.2 >: 0.5397225530713609}\n",
      "or\n",
      "(< theta = 30.0+/-1.0 >, 0.416053080040074)\n",
      "(< v_0 = 15.3+/-0.2 >, 0.5397225530713609)\n"
     ]
    }
   ],
   "source": [
    "import numpy as np\n",
    "import uncertainties as unc\n",
    "from uncertainties.umath import sin\n",
    "print('a)')\n",
    "g = 9.82\n",
    "v_0 = unc.ufloat(15.3,0.1,'v_0')\n",
    "theta = unc.ufloat(30.,1.,'theta')*np.pi/180.0\n",
    "print('v_0 = {} m/s'.format(v_0))\n",
    "print('theta = {} rad'.format(theta))\n",
    "R = v_0**2*sin(2*theta)/g\n",
    "print('The range is',R,'m')\n",
    "print('\\nb)')\n",
    "v_0.std_dev = 0.2\n",
    "print('The range is',R,'m')\n",
    "print('\\nc)')\n",
    "print(R.error_components())\n",
    "print('or')\n",
    "for contribution in R.error_components().items():\n",
    "    print(contribution)"
   ]
  },
  {
   "cell_type": "markdown",
   "metadata": {},
   "source": [
    "#### Problem 4\n",
    "\n",
    "A car travels in a circular path with radius $R=45\\pm 1$ m. \n",
    "The car starts from rest, and moves with a tangential acceleration, $a_\\text{tan}=0.23\\pm 0.01 \\text{m/s}^2$.\n",
    "\n",
    ">a) Determine the magnitude of the acceleration of the car at time $t=10.0\\pm 0.5$ s.\n",
    "\n",
    ">b) Which quantity has the largest contribution to the uncertainty in the acceleration?\n",
    "\n",
    ">c) Does any quantity have no contribution to the uncertainty in the acceleration? Hint: Consider the properly rounded result.\n",
    "\n",
    "<details> <summary>Hint a) click here</summary> Remember that the acceleration in circular motion has two different components; there are formulas for both. </details>\n",
    "<details> <summary>Formula hint a) click here</summary> a(rad) = v**2/R, a(tan)=d|v|/dt </details>\n",
    "<details> <summary>Hint b+c) click here</summary> You can use the method error_components(). You may wish to label your ufloats, i.e. ufloat(2.0,0.1,'x').  </details>"
   ]
  },
  {
   "cell_type": "markdown",
   "metadata": {},
   "source": [
    "#### Solution\n",
    "\n",
    "\n",
    "We use the formulas for tangential and radial acceleration.\n",
    "\n",
    "$a_\\text{tan}=\\frac{dv}{dt}$\n",
    "\n",
    "$a_\\text{rad}=\\frac{v^2}{R}$\n",
    "\n",
    "The total acceleration is\n",
    "\n",
    "$a=\\sqrt{\\left(a_\\text{tan}\\right)^2+\\left(a_\\text{rad}\\right)^2}$"
   ]
  },
  {
   "cell_type": "code",
   "execution_count": 4,
   "metadata": {},
   "outputs": [
    {
     "name": "stdout",
     "output_type": "stream",
     "text": [
      "a)\n",
      "a = 0.258+/-0.015 m/s/s\n",
      "\n",
      "b)\n",
      "(< a_tan = 0.23+/-0.01 >, 0.013556593210916136)\n",
      "(< R = 45.0+/-1.0 >, 0.0011889074105108056)\n",
      "(< t = 10.0+/-0.5 >, 0.005350083347298626)\n",
      "The largest contribution to the uncertainty comes from the tangential acceleration\n",
      "\n",
      "c)\n",
      "Leaving out the contribution from the radius gives the uncertainty\n",
      "0.014574107564763598\n",
      "There is no contribution from the uncertainty in the radius as it would round to the same value.\n"
     ]
    }
   ],
   "source": [
    "from uncertainties import ufloat\n",
    "from uncertainties.umath import sqrt\n",
    "print('a)')\n",
    "R = ufloat(45.,1.,'R')\n",
    "a_tan = ufloat(0.23,0.01,'a_tan')\n",
    "t = ufloat(10.0,0.5,'t')\n",
    "v = a_tan * t\n",
    "a = sqrt((v**2/R)**2+(a_tan)**2)\n",
    "print('a = {} m/s/s'.format(a))\n",
    "print('\\nb)')\n",
    "for contribution in a.error_components().items():\n",
    "    print(contribution)\n",
    "print('The largest contribution to the uncertainty comes from the tangential acceleration')\n",
    "print('\\nc)')\n",
    "from math import sqrt\n",
    "print('Leaving out the contribution from the radius gives the uncertainty')\n",
    "print(sqrt(0.013556593210916136**2+0.005350083347298626**2))\n",
    "print('There is no contribution from the uncertainty in the radius as it would round to the same value.')"
   ]
  },
  {
   "cell_type": "markdown",
   "metadata": {},
   "source": [
    "#### Problem 5\n",
    "\n",
    "A box slides down an inclined plane. The inclined plane makes an angle of $\\theta=30\\pm 1 \\degree$ with horizontal.\n",
    "The coefficient of friction between the box and the inclined plane is $\\mu_\\text{k}=0.22\\pm 0.01$.\n",
    "Assume that the acceleration of gravity, $g=9.82 \\text{m/s}^2$ is exact.\n",
    "\n",
    "\n",
    ">a) Determine the acceleration of the box.\n",
    "\n",
    "<details> <summary> Formula hint a) click here</summary> a = g * (sin(theta) - mu * cos(theta)) </details>"
   ]
  },
  {
   "cell_type": "markdown",
   "metadata": {},
   "source": [
    "#### Solution"
   ]
  },
  {
   "cell_type": "markdown",
   "metadata": {},
   "source": [
    "The acceleration is given by $a=g\\left(\\sin(\\theta)-\\mu_\\text{k}\\cos(\\theta)\\right)$. Remember to conver the angle in degrees to radians."
   ]
  },
  {
   "cell_type": "code",
   "execution_count": 5,
   "metadata": {},
   "outputs": [
    {
     "name": "stdout",
     "output_type": "stream",
     "text": [
      "a)\n",
      "a = 3.04+/-0.19 m/s/s\n"
     ]
    }
   ],
   "source": [
    "import numpy as np\n",
    "from uncertainties import ufloat\n",
    "from uncertainties.umath import sin,cos\n",
    "print('a)')\n",
    "g = 9.82\n",
    "theta = ufloat(30.,1.)*np.pi/180.0\n",
    "mu_k = ufloat(0.22,0.01)\n",
    "a = g * (sin(theta) - mu_k * cos(theta))\n",
    "print('a = {} m/s/s'.format(a))"
   ]
  },
  {
   "cell_type": "markdown",
   "metadata": {},
   "source": [
    "#### Problem 6\n",
    "\n",
    "A free fall experiment with a basket ball is used to determine the value of the acceleration of gravity. The determined values for each experiment is found below in the array *g_values*.\n",
    "\n",
    ">a) Determine the value of $g$ with uncertainty?\n",
    "\n",
    ">b) Compare the found value of $g$ with uncertainty to the accepted value of $g=9.82 \\text{ m/s}^2$\n",
    "\n",
    ">c) Determine the speed (including uncertainty) of the basket ball if it is dropped a height $1.00\\pm 0.02$ m, and you use the largest value from the experiment with uncertainty.\n",
    "\n",
    "<details> <summary>Hint a) click here</summary> Remember to use the mean and the standard deviation of the mean. </details>\n",
    "<details> <summary>Hint b) click here</summary> The ufloat method standard_score(value) could be used here. </details>\n",
    "<details> <summary>Hint c) click here</summary> Remember to use the standard deviation as uncertainty, not the standard deviation of the mean. </details>"
   ]
  },
  {
   "cell_type": "code",
   "execution_count": 6,
   "metadata": {},
   "outputs": [],
   "source": [
    "import numpy as np\n",
    "import uncertainties as unc\n",
    "g_values = np.array([9.71,9.84,9.81,9.73,9.68,9.74])"
   ]
  },
  {
   "cell_type": "markdown",
   "metadata": {},
   "source": [
    "#### Solution"
   ]
  },
  {
   "cell_type": "markdown",
   "metadata": {},
   "source": [
    ">a) Remember to use mean of measurements with standard deviation of the mean.\n",
    "\n",
    ">b) The standard score is more than two, but less than three, standard deviations away, so we are in a grey zone. \n",
    "The value for $g$ is smaller than the expected value, so\n",
    "perhaps air resistance could be a source of error.\n",
    "\n",
    ">c) Remember to use *g_values[1]* with the standard deviation, not the standard deviation of the mean."
   ]
  },
  {
   "cell_type": "code",
   "execution_count": 7,
   "metadata": {},
   "outputs": [
    {
     "name": "stdout",
     "output_type": "stream",
     "text": [
      "a)\n",
      "9.752+/-0.025\n",
      "\n",
      "b)\n",
      "Standard score is\n",
      "2.7382055891312653\n",
      "\n",
      "c)\n",
      "4.44+/-0.05\n",
      "Wrong calculation, with wrong uncertainty (sdom used) gives\n",
      "4.44+/-0.04\n"
     ]
    }
   ],
   "source": [
    "import numpy as np\n",
    "import uncertainties as unc\n",
    "from uncertainties.umath import sqrt\n",
    "print('a)')\n",
    "g_values = np.array([9.71,9.84,9.81,9.73,9.68,9.74])\n",
    "g_mean = np.mean(g_values)\n",
    "g_std = np.std(g_values,ddof=1)\n",
    "g_sdom = g_std / np.sqrt(np.size(g_values))\n",
    "gm = unc.ufloat(g_mean,g_sdom)\n",
    "print(gm)\n",
    "print('\\nb)')\n",
    "print('Standard score is')\n",
    "print(gm.std_score(9.82))\n",
    "print('\\nc)')\n",
    "h = unc.ufloat(1.00,0.02)\n",
    "g0 = unc.ufloat(g_values[1],g_std)\n",
    "v = sqrt(2*g0*h)\n",
    "print(v)\n",
    "print('Wrong calculation, with wrong uncertainty (sdom used) gives')\n",
    "v = sqrt(2*unc.ufloat(g_values[1],g_sdom)*h)\n",
    "print(v)"
   ]
  },
  {
   "cell_type": "markdown",
   "metadata": {},
   "source": [
    "#### Problem 7\n",
    "\n",
    "The mechanical energy of a system consisting of a spring and a mass is given by\n",
    "\n",
    "$E=\\frac{1}{2}mv^2+\\frac{1}{2}kx^2$.\n",
    "\n",
    "Assume that all quanties have uncertainties: $m\\pm\\delta m$, $v\\pm\\delta v$, $k\\pm\\delta k$, and $x\\pm\\delta x$.\n",
    "\n",
    ">a) Derive a general formula for the uncertainty in the mechanical energy, $\\delta E$.\n",
    "\n",
    ">b) Determine the mechanical energy with uncertainty when $m=0.20\\pm 0.01$ kg, $v=5.24\\pm 0.02$ m/s, $k=30.0\\pm\\ 0.5$ N/m, and $x=0.231\\pm 0.005$ m.\n",
    "\n",
    "<details> <summary>Hint a) click here</summary> Use the formula for error propagation. First create a sympy variable with the expression for the energy. </details>\n",
    "<details> <summary>Hint b) click here</summary> You may use the method subs({variable:value}). </details>"
   ]
  },
  {
   "cell_type": "markdown",
   "metadata": {},
   "source": [
    "#### Solution\n",
    "\n",
    "Use error propagation for independent uncertainties.\n",
    "\n",
    "$\\delta E =\\sqrt{(\\frac{\\partial E}{\\partial m}\\delta m)^2+(\\frac{\\partial E}{\\partial v}\\delta v)^2+(\\frac{\\partial E}{\\partial k}\\delta k)^2+(\\frac{\\partial E}{\\partial x}\\delta x)^2}$\n",
    "\n",
    ">a) Use *sympy* to compute a symbolic expression for the uncertainty.\n",
    "\n",
    ">b) Use the method *subs()* to substitute values into the expressions for energy and uncertainty in energy."
   ]
  },
  {
   "cell_type": "code",
   "execution_count": 8,
   "metadata": {},
   "outputs": [
    {
     "name": "stdout",
     "output_type": "stream",
     "text": [
      "a)\n"
     ]
    },
    {
     "data": {
      "text/latex": [
       "$\\displaystyle \\delta_{E} = \\sqrt{\\frac{\\delta_{k}^{2} x^{4}}{4} + \\frac{\\delta_{m}^{2} v^{4}}{4} + \\delta_{v}^{2} m^{2} v^{2} + \\delta_{x}^{2} k^{2} x^{2}}$"
      ],
      "text/plain": [
       "Eq(delta_E, sqrt(delta_k**2*x**4/4 + delta_m**2*v**4/4 + delta_v**2*m**2*v**2 + delta_x**2*k**2*x**2))"
      ]
     },
     "metadata": {},
     "output_type": "display_data"
    },
    {
     "name": "stdout",
     "output_type": "stream",
     "text": [
      "or use a loop to go over all values and uncertainties\n"
     ]
    },
    {
     "data": {
      "text/latex": [
       "$\\displaystyle \\delta_{E} = \\sqrt{\\frac{\\delta_{k}^{2} x^{4}}{4} + \\frac{\\delta_{m}^{2} v^{4}}{4} + \\delta_{v}^{2} m^{2} v^{2} + \\delta_{x}^{2} m^{2} v^{2}}$"
      ],
      "text/plain": [
       "Eq(delta_E, sqrt(delta_k**2*x**4/4 + delta_m**2*v**4/4 + delta_v**2*m**2*v**2 + delta_x**2*m**2*v**2))"
      ]
     },
     "metadata": {},
     "output_type": "display_data"
    },
    {
     "name": "stdout",
     "output_type": "stream",
     "text": [
      "b)\n",
      "Values of E and dE are 3.54617500000000 0.143756395732720\n",
      "E=3.55+/-0.14 J\n"
     ]
    }
   ],
   "source": [
    "from sympy import symbols,Rational,sqrt,Eq\n",
    "print('a)')\n",
    "m,v,k,x = symbols('m,v,k,x')\n",
    "dm,dv,dk,dx,dE = symbols('delta_m,delta_v,delta_k,delta_x,delta_E')\n",
    "E = Rational(1,2)*m*v**2+Rational(1,2)*k*x**2\n",
    "expr = sqrt((E.diff(m)*dm)**2+(E.diff(v)*dv)**2+(E.diff(k)*dk)**2+(E.diff(x)*dx)**2)\n",
    "display(Eq(dE,expr))\n",
    "print('or use a loop to go over all values and uncertainties')\n",
    "values = [m,v,k,v]\n",
    "uncertainties = [dm,dv,dk,dx]\n",
    "sum = 0\n",
    "for value,uncertainty in zip(values,uncertainties):\n",
    "    sum += (E.diff(value)*uncertainty)**2\n",
    "display(Eq(dE,sqrt(sum)))\n",
    "print('b)')\n",
    "vals = {m:0.20,dm:0.01,v:5.24,dv:0.02,k:30.0,dk:0.5,x:0.231,dx:0.005}\n",
    "E_val = E.subs(vals)\n",
    "dE_val = expr.subs(vals)\n",
    "e = unc.ufloat(E_val,dE_val)\n",
    "print('Values of E and dE are',E_val,dE_val)\n",
    "print('E={} J'.format(e))"
   ]
  }
 ],
 "metadata": {
  "kernelspec": {
   "display_name": "Python 3 (ipykernel)",
   "language": "python",
   "name": "python3"
  },
  "language_info": {
   "codemirror_mode": {
    "name": "ipython",
    "version": 3
   },
   "file_extension": ".py",
   "mimetype": "text/x-python",
   "name": "python",
   "nbconvert_exporter": "python",
   "pygments_lexer": "ipython3",
   "version": "3.11.4"
  }
 },
 "nbformat": 4,
 "nbformat_minor": 5
}
