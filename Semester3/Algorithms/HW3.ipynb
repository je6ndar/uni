{
 "cells": [
  {
   "cell_type": "markdown",
   "id": "db393439-ad4c-4a18-a9aa-e544d481380e",
   "metadata": {},
   "source": [
    "# Homework Assignment 3\n",
    "\n",
    "Fedir Vasyliev s234542"
   ]
  },
  {
   "cell_type": "code",
   "execution_count": 1,
   "id": "a1712a42-ab0f-4578-9e6c-56f71679f7c4",
   "metadata": {},
   "outputs": [],
   "source": [
    "import numpy as np\n",
    "import matplotlib.pyplot as plt"
   ]
  },
  {
   "cell_type": "markdown",
   "id": "71308f05-149c-4d12-8a8b-6997dad9ad6f",
   "metadata": {},
   "source": [
    "# Section 1\n",
    "\n",
    "## A) 2"
   ]
  },
  {
   "cell_type": "markdown",
   "id": "522d775e-fae0-4e2f-a694-35cfd57f1185",
   "metadata": {},
   "source": [
    "## B) 3"
   ]
  },
  {
   "cell_type": "markdown",
   "id": "f156a2f2-8417-4fb4-a2a0-04d945192d78",
   "metadata": {},
   "source": [
    "## C) 2"
   ]
  },
  {
   "cell_type": "markdown",
   "id": "1ee3ed99-cb70-4321-866c-9208d1e69714",
   "metadata": {},
   "source": [
    "## D) 3"
   ]
  },
  {
   "cell_type": "markdown",
   "id": "95a53f81-6f66-48b0-a357-cbbd26dc4f11",
   "metadata": {},
   "source": [
    "# Section 2"
   ]
  },
  {
   "cell_type": "markdown",
   "id": "f033467d-2b1d-4e53-b00e-f4830f9f1927",
   "metadata": {},
   "source": [
    "## 1)\n",
    "\\begin{equation}\n",
    "\\frac{dx}{dt} = f(x)\n",
    "\\end{equation}\n",
    "The first equation we will need is taylor expansion of a function with 2 arguments.\n",
    "\\begin{equation}\n",
    "f(t+h,x+k) = f(t,x) + (hf_t(t,x) + kf_x(t,x))\n",
    "\\end{equation}\n",
    "Where $x$ and $t$ subscripts are the partial derivatives with respect to the given argument.\n",
    "\n",
    "The next step will be expanding x(t + h) expression.\n",
    "\\begin{gather}\n",
    "x(t+h) = x(t) + hx^{'}(t) + \\frac{1}{2}h^2x^{''}(t)\\\\\n",
    "x^{''}(t) = (x^{'}(t))^{'} = \\frac{d}{dt}f(x) = f^{'}(x)x^{'}(t) = f^{'}(x)f(t)\n",
    "x(t+h) = x(t) + hx^{'}(t) + \\frac{1}{2}h^2f^{'}(x)f(t)\n",
    "\\end{gather}\n",
    "$x(t+h)$ defined in Runge-Kutta method is\n",
    "\\begin{gather}\n",
    "x(t+h) = x(t) + h(\\frac{1}{2}K_1 + \\frac{1}{2}K_2)\\\\\n",
    "K_1 = f(t,x)\\\\\n",
    "K_2 = f(t+\\frac{h}{2}, x+hK_1)\n",
    "\\end{gather}\n",
    "$K_2$ can also be Taylor expanded by the equation given at the beginning. \n",
    "\\begin{gather}\n",
    "K_2 = f(t,x) + (\\frac{h}{2}f_t(t,x) + hK_1f_x(t,x)) = f(t,x) + \\frac{h}{2}f_t(t,x) + hf(t,x)f_x(t,x)\n",
    "\\end{gather}\n",
    "given that $f_t(t,x) = 0$ and $f(t,x) = f(x)$ for the same reason, we can rewrite the expression for $K_2$ as \n",
    "\\begin{gather}\n",
    "K_2 = f(x) + hf(x)f^{'}(x)\n",
    "\\end{gather}\n",
    "Finally, we can substitute $K_1$ and $K_2$ into Runge-Kutta and get\n",
    "\\begin{equation}\n",
    "x(t+h) = x(t) + \\frac{1}{2}h(f(x) + f(x) + hf(x)f^{'}(x)) = x(t) + hx^{'}(t) + \\frac{1}{2}h^2f^{'}(x)f(t)\n",
    "\\end{equation}\n",
    "We ended up with the Taylor expansion expression."
   ]
  },
  {
   "cell_type": "markdown",
   "id": "f64c6f97-8cd2-4f82-a1d5-7f9d58285fb2",
   "metadata": {},
   "source": [
    "## 2)\n",
    "\\begin{equation}\n",
    "\\frac{dx}{dt} = g(t)\n",
    "\\end{equation}\n",
    "We will do the same expansions as in the previous question.\n",
    "\\begin{gather}\n",
    "x(t+h) = x(t) + hx^{'}(t) + \\frac{1}{2}h^2x{''}(t)\\\\\n",
    "x{''}(t) = g^{'}(t)\n",
    "x(t+h) = x(t) + hg(t) + \\frac{1}{2}h^2g{'}(t)\\\\\n",
    "x(t+h) = x(t) + h(\\frac{1}{2}K_1 + \\frac{1}{2}K_2)\\\\\n",
    "K_1 = f(t)\\\\\n",
    "K_2 = f(t+\\frac{h}{2})\n",
    "\\end{gather}\n",
    "Taylor expand $K_2$\n",
    "\\begin{gather}\n",
    "K_2 = g(t+\\frac{h}{2}) = g(t) + \\frac{h}{2}g^{'}(t)\n",
    "\\end{gather}\n",
    "Now substitute $K_1$ and $K_2$ in Runge-Kutta.\n",
    "\\begin{gather}\n",
    "x(t+h) = x(t) + \\frac{1}{2}h(g(t) + g(t) + \\frac{1}{2}hg^{'}(t)) = x(t) +hg(t) + \\frac{1}{4}h^2g^{'}(t)\n",
    "\\end{gather}\n",
    "As we can see the term with $h^2$ has an additional $\\frac{1}{2}$ coefficient to it which makes the Runge-Kutta and Taylor expansion for $x(t+h)$ agree only up to and including the term with $h$."
   ]
  },
  {
   "cell_type": "markdown",
   "id": "37f24be1-419d-4430-9edf-10c216d2d3c4",
   "metadata": {},
   "source": [
    "# Section 3"
   ]
  },
  {
   "cell_type": "markdown",
   "id": "225b17fd-1051-41f1-a7e7-63baf9dceda9",
   "metadata": {},
   "source": [
    "## 1)\n",
    "\\begin{gather}\n",
    "x''(t) = x'(t) + x(t) - (2t - 1)e^t, \\quad 1 < t < 2\\\\\n",
    "x(1) = 3e, \\quad x(2) = 5e^2\\\\\n",
    "\\begin{pmatrix} z_1  \\\\ z_2 \\end{pmatrix} = \\begin{pmatrix} x\\\\x^{'} \\end{pmatrix}\n",
    "\\end{gather}\n",
    "\n",
    "\\begin{equation}\n",
    "\\begin{pmatrix} z_1^{'} \\\\ z_2^{'} \\end{pmatrix} = \\begin{pmatrix} z_2 \\\\ z2 + z1 -(2t-1)e^t \\end{pmatrix}\n",
    "\\end{equation}\n"
   ]
  },
  {
   "cell_type": "code",
   "execution_count": 2,
   "id": "bb0e4d7e-4a28-4260-bbe6-3a2610b13fd2",
   "metadata": {},
   "outputs": [],
   "source": [
    "def sys(t,z):\n",
    "    dz = np.zeros(2)\n",
    "    dz[0] = z[1]\n",
    "    dz[1] = z[1] + z[0] - (2*t-1)*np.exp(t)\n",
    "    return dz"
   ]
  },
  {
   "cell_type": "markdown",
   "id": "09a44ebd-5ef5-4675-b5c7-198896e4164d",
   "metadata": {},
   "source": [
    "## 2)"
   ]
  },
  {
   "cell_type": "code",
   "execution_count": 3,
   "id": "ec57932c-24fe-407d-84f2-1c31b0d76243",
   "metadata": {},
   "outputs": [],
   "source": [
    "n = 50\n",
    "tspan = [1,2]\n",
    "z0 = np.array([3*np.exp(1), 10])\n",
    "z1 = np.array([3*np.exp(1), 25])"
   ]
  },
  {
   "cell_type": "code",
   "execution_count": 6,
   "id": "abbfde02-3479-4094-9d07-6d9b90770265",
   "metadata": {},
   "outputs": [],
   "source": [
    "x0 = MyRK4System(sys, tspan, z0, n)\n",
    "x1 = MyRK4System(sys, tspan, z1, n)"
   ]
  },
  {
   "cell_type": "code",
   "execution_count": 7,
   "id": "9fa7d3c4-e18d-4c0e-b553-8ff5f1162be9",
   "metadata": {
    "scrolled": true
   },
   "outputs": [
    {
     "name": "stdout",
     "output_type": "stream",
     "text": [
      "z = 10 -> x(2) = 29.711023151333443\n",
      "z = 25 -> x(2) = 59.92586366582473\n"
     ]
    }
   ],
   "source": [
    "print(\"z = 10 -> x(2) =\", x0[1][50][0])\n",
    "print(\"z = 25 -> x(2) =\", x1[1][50][0])"
   ]
  },
  {
   "cell_type": "markdown",
   "id": "0fb42a17-8cd4-4f26-8373-5f04cb818e76",
   "metadata": {},
   "source": [
    "One iteration of secant method\n",
    "\\begin{equation}\n",
    "    \\mu_{k+1} = \\mu_k - \\frac{\\mu_{k-1} - \\mu_{k}}{\\psi(\\mu_{k-1}) - \\psi(\\mu_{k})}\\psi(\\mu_k)\n",
    "\\end{equation}\n",
    "Where $\\psi(\\mu) = x(2,\\mu) - 5e^2$\n",
    "\n",
    "$\\mu_{k-1} = 10,\\, \\mu_k = 25, \\, \\psi(\\mu_{k-1}) = 29.7 - 5e^2, \\, \\psi(\\mu_{k}) = 59.93 - 5e^2$"
   ]
  },
  {
   "cell_type": "code",
   "execution_count": 8,
   "id": "818b45d6-f2e4-4352-af7e-295125a5e7be",
   "metadata": {},
   "outputs": [],
   "source": [
    "def secant_update(mu_0, mu_1, x2_mu0, x2_mu1, target):\n",
    "    psi_mu0 = x2_mu0 - target\n",
    "    psi_mu1 = x2_mu1 - target\n",
    "    mu_2 = mu_1 - psi_mu1 * (mu_1 - mu_0) / (psi_mu1 - psi_mu0)\n",
    "    return mu_2"
   ]
  },
  {
   "cell_type": "code",
   "execution_count": 9,
   "id": "3d1a9323-2304-4010-ad7e-6f95d7dc89ca",
   "metadata": {},
   "outputs": [
    {
     "data": {
      "text/plain": [
       "13.591409330714589"
      ]
     },
     "execution_count": 9,
     "metadata": {},
     "output_type": "execute_result"
    }
   ],
   "source": [
    "desired_x = 5*np.exp(2)\n",
    "z_d = secant_update(10, 25, x0[1][50][0], x1[1][50][0], desired_x)\n",
    "z_d"
   ]
  },
  {
   "cell_type": "markdown",
   "id": "f7768f9c-6fb5-40cf-acd1-7672fec0d630",
   "metadata": {},
   "source": [
    "\\begin{equation}\n",
    "\\hat{z} = 13.6\n",
    "\\end{equation}"
   ]
  },
  {
   "cell_type": "markdown",
   "id": "c7064059-3fcf-4143-9943-0f843a458a92",
   "metadata": {},
   "source": [
    "## 3)"
   ]
  },
  {
   "cell_type": "code",
   "execution_count": 10,
   "id": "67f7675e-a8f1-4662-b6d5-0a3ca036b4a1",
   "metadata": {},
   "outputs": [],
   "source": [
    "z2 = np.array([3*np.exp(1), z_d])"
   ]
  },
  {
   "cell_type": "code",
   "execution_count": 11,
   "id": "8119a7ec-333d-4a88-98fb-bb5b28474684",
   "metadata": {},
   "outputs": [],
   "source": [
    "x2 = MyRK4System(sys, tspan, z2, n)"
   ]
  },
  {
   "cell_type": "code",
   "execution_count": 15,
   "id": "d5179455-c061-4987-aa9b-59dca10f14b0",
   "metadata": {},
   "outputs": [
    {
     "name": "stdout",
     "output_type": "stream",
     "text": [
      "z = 13.591409330714589 -> x(2) = 36.94528049465326\n",
      "desired value = 36.945280494653254\n"
     ]
    }
   ],
   "source": [
    "print(\"z =\", z_d, \"-> x(2) =\", x2[1][50][0])\n",
    "print(\"desired value =\", desired_x)"
   ]
  },
  {
   "cell_type": "code",
   "execution_count": 16,
   "id": "a95c0634-8f65-43ee-8616-b00c0650294b",
   "metadata": {},
   "outputs": [],
   "source": [
    "data_x = np.array(x2[1])[:,0]\n",
    "t = np.array(x2[0])"
   ]
  },
  {
   "cell_type": "code",
   "execution_count": 17,
   "id": "5ddfd726-4342-4af2-b146-2f940b6b439b",
   "metadata": {},
   "outputs": [
    {
     "data": {
      "text/plain": [
       "Text(0.5, 1.0, 'Shooting Method Result')"
      ]
     },
     "execution_count": 17,
     "metadata": {},
     "output_type": "execute_result"
    },
    {
     "data": {
      "image/png": "[encoded data removed]",
      "text/plain": [
       "<Figure size 640x480 with 1 Axes>"
      ]
     },
     "metadata": {},
     "output_type": "display_data"
    }
   ],
   "source": [
    "plt.plot(t,data_x)\n",
    "plt.xlabel('Time (t)')\n",
    "plt.ylabel('Position (x)')\n",
    "plt.title('Shooting Method Result')"
   ]
  },
  {
   "cell_type": "code",
   "execution_count": 5,
   "id": "a45a7d90-631a-42bf-b42a-9d138a67e4e3",
   "metadata": {},
   "outputs": [],
   "source": [
    "def MyRK4System(sys, tspan, x0, n):\n",
    "    if x0.shape[0] != sys(tspan[0],x0).shape[0]:\n",
    "        print(\"Wrong dimensions of x0 and system\")\n",
    "        return\n",
    "    t = tspan[0]\n",
    "    h = (tspan[1] - tspan[0])/n\n",
    "    x = x0\n",
    "    t_vec = []\n",
    "    MX = []\n",
    "    MX.append(x)\n",
    "    t_vec.append(t)\n",
    "    for i in range(1,n+1):\n",
    "        K1 = h*sys(t, x)\n",
    "        K2 = h*sys(t + 0.5*h, x + 0.5*K1)\n",
    "        K3 = h*sys(t + 0.5*h, x + 0.5*K2)\n",
    "        K4 = h*sys(t + h, x + K3)\n",
    "        x = x + 1/6*(K1+2*K2+2*K3+K4)\n",
    "        t = tspan[0] + i*h\n",
    "        MX.append(x)\n",
    "        t_vec.append(t)\n",
    "    return t_vec, MX"
   ]
  }
 ],
 "metadata": {
  "kernelspec": {
   "display_name": "Python 3 (ipykernel)",
   "language": "python",
   "name": "python3"
  },
  "language_info": {
   "codemirror_mode": {
    "name": "ipython",
    "version": 3
   },
   "file_extension": ".py",
   "mimetype": "text/x-python",
   "name": "python",
   "nbconvert_exporter": "python",
   "pygments_lexer": "ipython3",
   "version": "3.12.3"
  }
 },
 "nbformat": 4,
 "nbformat_minor": 5
}
