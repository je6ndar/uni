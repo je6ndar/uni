{
 "cells": [
  {
   "cell_type": "code",
   "execution_count": 1,
   "id": "175a43b9-a378-4319-b539-0a8a1aace7a9",
   "metadata": {},
   "outputs": [],
   "source": [
    "import numpy as np\n",
    "import matplotlib.pyplot as plt\n",
    "from sympy import *"
   ]
  },
  {
   "cell_type": "markdown",
   "id": "220fc4ac-995d-42c7-9257-3825d681ece9",
   "metadata": {},
   "source": [
    "# 1"
   ]
  },
  {
   "cell_type": "code",
   "execution_count": 2,
   "id": "ce7058c6-476f-4e05-9399-4653161d4947",
   "metadata": {},
   "outputs": [],
   "source": [
    "x = np.array([-1, 1, 3, 5, 7]).T\n",
    "y = np.array([-0.5, 2, 5, 11, 20]).T"
   ]
  },
  {
   "cell_type": "code",
   "execution_count": 3,
   "id": "e0e47017-424e-4ac5-a11f-08fbf2feb8a9",
   "metadata": {},
   "outputs": [],
   "source": [
    "A = np.array([np.cos(x), np.exp(x)]).T\n",
    "y = np.array([y]).T\n",
    "c = np.linalg.solve(A.T@A,A.T@y)"
   ]
  },
  {
   "cell_type": "code",
   "execution_count": 4,
   "id": "eeb116e8-dd5a-403e-9f6e-7d8e17e4d2d6",
   "metadata": {},
   "outputs": [
    {
     "data": {
      "text/plain": [
       "array([[-1.46575238],\n",
       "       [ 0.0203403 ]])"
      ]
     },
     "execution_count": 4,
     "metadata": {},
     "output_type": "execute_result"
    }
   ],
   "source": [
    "c"
   ]
  },
  {
   "cell_type": "markdown",
   "id": "972bc9de-4f33-457b-a7bd-afad7c1db0f3",
   "metadata": {},
   "source": [
    "# 2"
   ]
  },
  {
   "cell_type": "code",
   "execution_count": 4,
   "id": "6f203dce-8bd1-44c7-8eb3-069b5fd65596",
   "metadata": {},
   "outputs": [],
   "source": [
    "x = np.array([0, 1, 2, 3, 4]).T\n",
    "y = np.array([1, 2, 5, 10, 17]).T\n",
    "A = np.array([np.sin(x), x**2, np.ones(len(x))]).T\n",
    "y = np.array([y]).T\n",
    "c = np.linalg.solve(A.T@A,A.T@y)"
   ]
  },
  {
   "cell_type": "code",
   "execution_count": 11,
   "id": "f74a1e44-6f4d-4106-ad0b-9b95b93fe05d",
   "metadata": {},
   "outputs": [
    {
     "data": {
      "text/plain": [
       "array([[-0.],\n",
       "       [ 1.],\n",
       "       [ 1.]])"
      ]
     },
     "execution_count": 11,
     "metadata": {},
     "output_type": "execute_result"
    }
   ],
   "source": [
    "c"
   ]
  },
  {
   "cell_type": "code",
   "execution_count": 12,
   "id": "6bc46c6a-fc9e-427b-8da0-09bee0cf1c90",
   "metadata": {},
   "outputs": [
    {
     "data": {
      "text/plain": [
       "array([[  2.1275601 ,  -6.36009916,   1.13508592],\n",
       "       [ -6.36009916, 354.        ,  30.        ],\n",
       "       [  1.13508592,  30.        ,   5.        ]])"
      ]
     },
     "metadata": {},
     "output_type": "display_data"
    },
    {
     "data": {
      "text/plain": [
       "array([[ -5.22501324],\n",
       "       [384.        ],\n",
       "       [ 35.        ]])"
      ]
     },
     "metadata": {},
     "output_type": "display_data"
    }
   ],
   "source": [
    "display(A.T@A,A.T@y)"
   ]
  },
  {
   "cell_type": "code",
   "execution_count": 6,
   "id": "35161682-237b-481d-8afe-a79d1d551c63",
   "metadata": {},
   "outputs": [],
   "source": [
    "f = lambda x: c[0]*np.sin(x) + c[1]*x**2 + c[2]"
   ]
  },
  {
   "cell_type": "code",
   "execution_count": 7,
   "id": "4ad43705-a31a-4f74-a26f-67f6fb95d156",
   "metadata": {},
   "outputs": [],
   "source": [
    "xx = np.linspace(max(x), min(x), 10)\n",
    "yy = f(xx)"
   ]
  },
  {
   "cell_type": "code",
   "execution_count": 8,
   "id": "cd77eb1e-b510-4522-b99d-66d82cba4734",
   "metadata": {},
   "outputs": [
    {
     "data": {
      "text/plain": [
       "[<matplotlib.lines.Line2D at 0x736c3c050c80>]"
      ]
     },
     "execution_count": 8,
     "metadata": {},
     "output_type": "execute_result"
    },
    {
     "data": {
      "image/png": "[encoded data removed]",
      "text/plain": [
       "<Figure size 640x480 with 1 Axes>"
      ]
     },
     "metadata": {},
     "output_type": "display_data"
    }
   ],
   "source": [
    "plt.plot(x,y,'o')\n",
    "plt.plot(xx,yy)"
   ]
  },
  {
   "cell_type": "code",
   "execution_count": 9,
   "id": "b1159a98-6dd7-4fa4-9443-0d4cbf004f88",
   "metadata": {},
   "outputs": [],
   "source": [
    "s = np.abs(y.T-f(x))"
   ]
  },
  {
   "cell_type": "code",
   "execution_count": 10,
   "id": "79db667d-e885-4a50-92e0-74ccd310e60b",
   "metadata": {},
   "outputs": [
    {
     "data": {
      "text/plain": [
       "7.438494264988549e-15"
      ]
     },
     "execution_count": 10,
     "metadata": {},
     "output_type": "execute_result"
    }
   ],
   "source": [
    "sm = 0\n",
    "for i in range(5):\n",
    "    sm += s[0][i]\n",
    "sm"
   ]
  },
  {
   "cell_type": "markdown",
   "id": "f525f554-9aba-43f9-9583-3766fee4b72e",
   "metadata": {},
   "source": [
    "# 3)"
   ]
  },
  {
   "cell_type": "code",
   "execution_count": 22,
   "id": "08afeee8-2a1a-4cb1-bab8-60f67dd86ac7",
   "metadata": {},
   "outputs": [],
   "source": [
    "def newton_convergence(r, X):\n",
    "    error = [[abs(r-X[0]), None]]\n",
    "    for i in range(len(X)):\n",
    "        if i == 0: pass\n",
    "        en = abs(r-X[i])\n",
    "        error.append([en,abs(en/error[i-1][0]**2)])\n",
    "    return error"
   ]
  },
  {
   "cell_type": "code",
   "execution_count": 23,
   "id": "b7deb167-5b07-4ac3-8956-df638aaa7cf2",
   "metadata": {},
   "outputs": [],
   "source": [
    "def newton(f, df, x0, nmax):\n",
    "    x = x0\n",
    "    iterates = [x0]\n",
    "    for n in range(nmax):\n",
    "        x = x - f(x)/df(x)\n",
    "        iterates.append(x)\n",
    "    return iterates"
   ]
  },
  {
   "cell_type": "code",
   "execution_count": 32,
   "id": "43af8e26-afd6-409a-9b26-d24898320545",
   "metadata": {},
   "outputs": [],
   "source": [
    "f = lambda x: (x-2)**2*(x-8)\n",
    "df = lambda x: 2*(x-2)*(x-8) + (x-2)**2\n",
    "x0 = 4.6\n",
    "n_max = 12"
   ]
  },
  {
   "cell_type": "code",
   "execution_count": 33,
   "id": "b7ae8a28-ae3b-4bac-ab22-0209a2951b34",
   "metadata": {},
   "outputs": [
    {
     "data": {
      "text/plain": [
       "[4.6,\n",
       " 2.4952380952380957,\n",
       " 2.2359558316080057,\n",
       " 2.11551269701365,\n",
       " 2.0571838498246477,\n",
       " 2.0284536991469393,\n",
       " 2.0141928740161,\n",
       " 2.0070880138845992,\n",
       " 2.0035419098954574,\n",
       " 2.0017704317708964,\n",
       " 2.0008850852264235,\n",
       " 2.000442509965327,\n",
       " 2.0002212468227993]"
      ]
     },
     "execution_count": 33,
     "metadata": {},
     "output_type": "execute_result"
    }
   ],
   "source": [
    "X = newton(f, df, x0, n_max)\n",
    "X"
   ]
  },
  {
   "cell_type": "code",
   "execution_count": 34,
   "id": "46c23796-12b9-440c-bc30-e1061f63bd2a",
   "metadata": {},
   "outputs": [
    {
     "data": {
      "text/plain": [
       "[[2.5999999999999996, None],\n",
       " [2.5999999999999996, 0.3846153846153847],\n",
       " [0.4952380952380957, 0.07326007326007335],\n",
       " [0.2359558316080057, 0.03490470881775233],\n",
       " [0.11551269701365019, 0.47097909932525556],\n",
       " [0.05718384982464775, 1.027098179954577],\n",
       " [0.028453699146939293, 2.132452112925876],\n",
       " [0.014192874016099921, 4.340338160257631],\n",
       " [0.007088013884599231, 8.754817335082256],\n",
       " [0.00354190989545744, 17.583155353097872],\n",
       " [0.001770431770896419, 35.239527390130704],\n",
       " [0.0008850852264234987, 70.55212096372878],\n",
       " [0.00044250996532690934, 141.17723323025163],\n",
       " [0.00022124682279933694, 282.4274204145546]]"
      ]
     },
     "execution_count": 34,
     "metadata": {},
     "output_type": "execute_result"
    }
   ],
   "source": [
    "newton_convergence(2,X)"
   ]
  },
  {
   "cell_type": "code",
   "execution_count": 35,
   "id": "a75b1e51-0606-4adc-9e23-f46f2fe9478a",
   "metadata": {},
   "outputs": [],
   "source": [
    "def newton_modified(f, df, x0, nmax):\n",
    "    x = x0\n",
    "    iterates = [x0]\n",
    "    for n in range(nmax):\n",
    "        x = x - 2*f(x)/df(x)\n",
    "        iterates.append(x)\n",
    "    return iterates"
   ]
  },
  {
   "cell_type": "code",
   "execution_count": 37,
   "id": "b3a344cb-a8f8-4a7f-bbb7-e08e1cf89f89",
   "metadata": {},
   "outputs": [
    {
     "data": {
      "text/plain": [
       "[4.6,\n",
       " 0.39047619047619175,\n",
       " 1.8460613900342255,\n",
       " 1.9980984235394217,\n",
       " 1.9999996988104307,\n",
       " 1.9999999999999925]"
      ]
     },
     "execution_count": 37,
     "metadata": {},
     "output_type": "execute_result"
    }
   ],
   "source": [
    "X = newton_modified(f, df, x0, 5)\n",
    "X"
   ]
  },
  {
   "cell_type": "code",
   "execution_count": 38,
   "id": "43299d02-d970-477d-94e1-07d0ea920e5e",
   "metadata": {},
   "outputs": [
    {
     "data": {
      "text/plain": [
       "[[2.5999999999999996, None],\n",
       " [2.5999999999999996, 0.3846153846153847],\n",
       " [1.6095238095238082, 0.23809523809523797],\n",
       " [0.15393860996577446, 0.022771983722747708],\n",
       " [0.0019015764605783136, 0.0007340387408660741],\n",
       " [3.0118956928504304e-07, 1.2709978213515224e-05],\n",
       " [7.549516567451064e-15, 2.087812806465376e-09]]"
      ]
     },
     "execution_count": 38,
     "metadata": {},
     "output_type": "execute_result"
    }
   ],
   "source": [
    "newton_convergence(2,X)"
   ]
  },
  {
   "cell_type": "code",
   "execution_count": null,
   "id": "2e7ac83d-90ce-4bfb-b57e-6015f48f86f8",
   "metadata": {},
   "outputs": [],
   "source": []
  }
 ],
 "metadata": {
  "kernelspec": {
   "display_name": "Python 3 (ipykernel)",
   "language": "python",
   "name": "python3"
  },
  "language_info": {
   "codemirror_mode": {
    "name": "ipython",
    "version": 3
   },
   "file_extension": ".py",
   "mimetype": "text/x-python",
   "name": "python",
   "nbconvert_exporter": "python",
   "pygments_lexer": "ipython3",
   "version": "3.12.3"
  }
 },
 "nbformat": 4,
 "nbformat_minor": 5
}
