{
 "cells": [
  {
   "cell_type": "code",
   "execution_count": 2,
   "id": "ac01dd4d-81f5-46f2-8985-79f8cd6ef6ef",
   "metadata": {},
   "outputs": [],
   "source": [
    "import numpy as np\n",
    "from sympy import*\n",
    "import matplotlib.pyplot as plt\n",
    "from dtumathtools import *"
   ]
  },
  {
   "cell_type": "code",
   "execution_count": 5,
   "id": "c74a6fa7-ae9f-4485-87f9-bfadabadb3e2",
   "metadata": {},
   "outputs": [],
   "source": [
    "a, t, n, lmb, c1, c2= symbols('a, t, n, lmb, c1, c2')"
   ]
  },
  {
   "cell_type": "code",
   "execution_count": 8,
   "id": "bd93ba14-2f4a-48ba-bf5f-6d132d8949c3",
   "metadata": {},
   "outputs": [],
   "source": [
    "F = Matrix([[-exp(-2*t),exp(-t)],[exp(-2*t),0]])\n",
    "c = Matrix([c1, c2])\n",
    "u = Matrix([sin(3*t),0])"
   ]
  },
  {
   "cell_type": "code",
   "execution_count": 9,
   "id": "804c0531-a57c-47ed-b17f-e3cc41e8423b",
   "metadata": {},
   "outputs": [
    {
     "data": {
      "text/latex": [
       "$\\displaystyle \\left[\\begin{matrix}- c_{1} e^{- 2 t} + c_{2} e^{- t} + \\left(\\frac{e^{a} \\sin{\\left(3 a \\right)}}{10} - \\frac{3 e^{a} \\cos{\\left(3 a \\right)}}{10} + \\frac{3}{10}\\right) e^{- t}\\\\c_{1} e^{- 2 t}\\end{matrix}\\right]$"
      ],
      "text/plain": [
       "Matrix([\n",
       "[-c1*exp(-2*t) + c2*exp(-t) + (exp(a)*sin(3*a)/10 - 3*exp(a)*cos(3*a)/10 + 3/10)*exp(-t)],\n",
       "[                                                                           c1*exp(-2*t)]])"
      ]
     },
     "execution_count": 9,
     "metadata": {},
     "output_type": "execute_result"
    }
   ],
   "source": [
    "F*c+F*integrate(F**(-1)*u, (t, 0, a))"
   ]
  },
  {
   "cell_type": "code",
   "execution_count": null,
   "id": "fbce807e-6c14-42ba-a55b-059287e64ca2",
   "metadata": {},
   "outputs": [],
   "source": []
  }
 ],
 "metadata": {
  "kernelspec": {
   "display_name": "Python 3 (ipykernel)",
   "language": "python",
   "name": "python3"
  },
  "language_info": {
   "codemirror_mode": {
    "name": "ipython",
    "version": 3
   },
   "file_extension": ".py",
   "mimetype": "text/x-python",
   "name": "python",
   "nbconvert_exporter": "python",
   "pygments_lexer": "ipython3",
   "version": "3.12.3"
  }
 },
 "nbformat": 4,
 "nbformat_minor": 5
}
