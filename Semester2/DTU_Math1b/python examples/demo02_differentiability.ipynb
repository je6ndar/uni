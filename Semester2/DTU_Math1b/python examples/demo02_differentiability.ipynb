{
 "cells": [
  {
   "cell_type": "markdown",
   "metadata": {},
   "source": [
    "# Week 2: Differentiability \n",
    "Demo by Christian Mikkelstrup, Hans Henrik Hermansen, Karl Johan Måstrup Kristensen and Magnus Troen"
   ]
  },
  {
   "cell_type": "code",
   "execution_count": null,
   "metadata": {},
   "outputs": [],
   "source": [
    "from sympy import *\n",
    "from dtumathtools import *\n",
    "init_printing()"
   ]
  },
  {
   "cell_type": "markdown",
   "metadata": {},
   "source": [
    "When it comes to Python/CAS and differentiability, we face the same difficulties as with continuity. Python/CAS is not very suitable for proving differentiability. It can, however, be a powerful tool once differentiability is proven/assumed. In this demo we will show how CAS/python can be used when working with differentiable functions.\n"
   ]
  },
  {
   "cell_type": "markdown",
   "metadata": {},
   "source": [
    "# Vector Functions"
   ]
  },
  {
   "cell_type": "markdown",
   "metadata": {},
   "source": [
    "Vector functions of multiple variables are defined by def 1.3.1 and can be writen as\n",
    "\n",
    "$$\\boldsymbol{f}(\\boldsymbol{x}) = \\begin{bmatrix} f_1(\\boldsymbol{x}) \\\\ \\vdots \\\\ f_k(\\boldsymbol{x}) \\end{bmatrix}$$\n",
    "\n",
    "We already know examples of vector functions of several variables from linear algebra, namely linear mappings from $\\mathbb R^n$ to\n",
    "$\\mathbb R^k$. Which for an arbitrary $k \\times n$ matrix $A$ and a vector $\\boldsymbol{x} \\in \\mathbb R^n$ will have the form\n",
    "\n",
    "$$\\boldsymbol{f}(\\boldsymbol{x}) = A\\boldsymbol{x} = \\begin{bmatrix} f_1(\\boldsymbol{x}) \\\\ \\vdots \\\\ f_k(\\boldsymbol{x}) \\end{bmatrix}.$$\n",
    "\n",
    "Here, the functions $f_1, f_2, \\ldots, f_k$ are determined by the matrix-vector multiplication you know from Mat1a. \n",
    "\n",
    "We now extend the concept to general vector functions of several variables, where the coordinate functions $f_1, f_2, \\ldots, f_k$ are not limited by the rules of matrix-vector multiplication, $f_i(x_1,x_2,x_3) = c_1x_1 + c_2x_2 + c_3x_3$ .\n",
    "A coordinate function $f_i$ could, for example, have the formula $f_i(x_1,x_2,x_3) = x_1 \\sin(x_2) + x_3^2$.\n",
    "\n",
    "I SymPy vector functions can be constructed using Matrix-objects or callable functions:"
   ]
  },
  {
   "cell_type": "code",
   "execution_count": null,
   "metadata": {},
   "outputs": [],
   "source": [
    "# Example of a vector function using the Matrix class\n",
    "x1, x2, x3 = symbols('x1:4')\n",
    "\n",
    "f_expr = Matrix([\n",
    "    x1 * sin(x2) + x3**2,\n",
    "    x1*x2*x3,\n",
    "    x1**2 + 4*x2 * x3\n",
    "])\n",
    "f_expr"
   ]
  },
  {
   "cell_type": "markdown",
   "metadata": {},
   "source": [
    "Which can be evaluated with $\\verb|.subs()|$"
   ]
  },
  {
   "cell_type": "code",
   "execution_count": null,
   "metadata": {},
   "outputs": [],
   "source": [
    "f_expr.subs({x1: 1, x2: 2, x3: 3})"
   ]
  },
  {
   "cell_type": "markdown",
   "metadata": {},
   "source": [
    "If you prefere functions, the same can be achieved with"
   ]
  },
  {
   "cell_type": "code",
   "execution_count": null,
   "metadata": {},
   "outputs": [],
   "source": [
    "def f(x1, x2, x3):\n",
    "    return Matrix([\n",
    "        x1 * sin(x2) + x3**2,\n",
    "        x1*x2*x3,\n",
    "        x1**2 + 4 * x2 * x3\n",
    "    ])\n",
    "\n",
    "f(x1,x2,x3)"
   ]
  },
  {
   "cell_type": "code",
   "execution_count": null,
   "metadata": {},
   "outputs": [],
   "source": [
    "f(1,2,3)"
   ]
  },
  {
   "cell_type": "markdown",
   "metadata": {},
   "source": [
    "\n",
    "Both approches yields the same results. Which method you chose is up to personal preference."
   ]
  },
  {
   "cell_type": "markdown",
   "metadata": {},
   "source": [
    "## Gradient Vector"
   ]
  },
  {
   "cell_type": "markdown",
   "metadata": {},
   "source": [
    "An example of a vector function is the gradient vector, as introduced last week:\n",
    "\n",
    "$$\\nabla f(\\boldsymbol{x}):=\\left(\\frac{\\partial f}{\\partial x_1}(\\boldsymbol{x}),\\frac{\\partial f}{\\partial x_2}(\\boldsymbol{x}),\\ldots, \\frac{\\partial f}{\\partial x_n}(\\boldsymbol{x})\\right).$$\n",
    "\n",
    "This can be considered as the map $\\nabla f: \\mathbb R^n \\to \\mathbb R^n$.\n",
    "\n",
    "As an example we will consider the gradient of the function $f: \\mathbb{R}^2 \\to \\mathbb{R}$, defined by $f(\\boldsymbol{x}) = 1 - \\frac{x_1^2}{2} -\\frac{x_2^2}{2}$"
   ]
  },
  {
   "cell_type": "code",
   "execution_count": null,
   "metadata": {},
   "outputs": [],
   "source": [
    "x1, x2 = symbols('x1:3')\n",
    "f = 1 - x1**2 / 2 - x2**2 / 2\n",
    "\n",
    "Nabla = dtutools.gradient(f)\n",
    "\n",
    "f, Nabla"
   ]
  },
  {
   "cell_type": "markdown",
   "metadata": {},
   "source": [
    "This gives us a vector function $\\nabla f: \\mathbb R^2 \\to \\mathbb R^2$ defined by $\\nabla f(x_1, x_2) = (-x_1, -x_2)$. Which for example can be evaluated in $\\boldsymbol{x}_0 = (1, -1)$ which yields:"
   ]
  },
  {
   "cell_type": "code",
   "execution_count": null,
   "metadata": {},
   "outputs": [],
   "source": [
    "Nabla.subs({x1: 1, x2: -1})"
   ]
  },
  {
   "cell_type": "markdown",
   "metadata": {},
   "source": [
    "### Directional Derivatives\n",
    "\n",
    "Consider the same function $f: \\mathbb{R}^2 \\to \\mathbb{R}$, med forskriften $f(\\boldsymbol{x}) = 1 - \\frac{x_1^2}{2} -\\frac{x_2^2}{2}$ "
   ]
  },
  {
   "cell_type": "markdown",
   "metadata": {},
   "source": [
    "We wish to find the directional derivative of $f$ in the point $\\boldsymbol{x_0} = (1,-1)$ in the direction of the unit vector $\\boldsymbol{e}$"
   ]
  },
  {
   "cell_type": "code",
   "execution_count": null,
   "metadata": {},
   "outputs": [],
   "source": [
    "x0 = Matrix([1,-1])\n",
    "e = Matrix([-1,-2]).normalized()\n",
    "e, N(e)"
   ]
  },
  {
   "cell_type": "code",
   "execution_count": null,
   "metadata": {},
   "outputs": [],
   "source": [
    "p1 = dtuplot.scatter(x0, rendering_kw={\"markersize\":10,\"color\":'r'}, xlim=[-2,2],ylim=[-2,2],show=False)\n",
    "p1.extend(dtuplot.quiver(x0,e,show=False))\n",
    "p1.show()"
   ]
  },
  {
   "cell_type": "markdown",
   "metadata": {},
   "source": [
    "We compute the gradient in $\\boldsymbol{x_0}$:"
   ]
  },
  {
   "cell_type": "code",
   "execution_count": null,
   "metadata": {},
   "outputs": [],
   "source": [
    "Nabla = Matrix([diff(f,x1),diff(f,x2)]).subs({x1:x0[0],x2:x0[1]})\n",
    "Nabla"
   ]
  },
  {
   "cell_type": "markdown",
   "metadata": {},
   "source": [
    "Now the directional derivative is given by $\\nabla_{\\boldsymbol{e}} f(\\boldsymbol{x_0}) = \\braket{\\boldsymbol{e},f(\\boldsymbol{x_0})}$."
   ]
  },
  {
   "cell_type": "code",
   "execution_count": null,
   "metadata": {},
   "outputs": [],
   "source": [
    "a = e.dot(Nabla)\n",
    "a"
   ]
  },
  {
   "cell_type": "markdown",
   "metadata": {},
   "source": [
    "# The Hessian Matrix"
   ]
  },
  {
   "cell_type": "markdown",
   "metadata": {},
   "source": [
    "When we have to use a concept of the curvature of multivariate scalar functions (relevant later for extrema analysis and Taylor expansion), we have to start with second-order partial derivatives. The information about these second-order derivatives is collected in the Hessian matrix described in definition 3.5.1.\n",
    "\n",
    "It can be constructed manually in SymPy from a given function with its associated second-order partial derivative."
   ]
  },
  {
   "cell_type": "code",
   "execution_count": null,
   "metadata": {},
   "outputs": [],
   "source": [
    "f = 1-x1**2/2-x2**3/2*x3 + x1*x3\n",
    "f"
   ]
  },
  {
   "cell_type": "code",
   "execution_count": null,
   "metadata": {},
   "outputs": [],
   "source": [
    "fx1x1 = f.diff(x1,2)\n",
    "fx1x2 = f.diff(x1,x2)\n",
    "fx1x3 = f.diff(x1,x3)\n",
    "fx2x2 = f.diff(x2,2)\n",
    "fx2x3 = f.diff(x2,x3)\n",
    "fx3x3 = f.diff(x3,2)\n",
    "\n",
    "H1 = Matrix([\n",
    "    [fx1x1, fx1x2, fx1x3],\n",
    "    [fx1x2, fx2x2, fx2x3],\n",
    "    [fx1x3, fx2x3, fx3x3]\n",
    "])\n",
    "\n",
    "H1"
   ]
  },
  {
   "cell_type": "markdown",
   "metadata": {},
   "source": [
    "Which ofcourse has an equivalent function implemented in $\\verb|dtumathtools|$"
   ]
  },
  {
   "cell_type": "code",
   "execution_count": null,
   "metadata": {},
   "outputs": [],
   "source": [
    "H2 = dtutools.hessian(f)\n",
    "H2"
   ]
  },
  {
   "cell_type": "markdown",
   "metadata": {},
   "source": [
    "Which in both cases can be evaluated with $\\verb|.subs()|$"
   ]
  },
  {
   "cell_type": "code",
   "execution_count": null,
   "metadata": {},
   "outputs": [],
   "source": [
    "H1.subs({x1:1,x2:2,x3:3}), H2.subs({x1:1,x2:2,x3:3})"
   ]
  },
  {
   "cell_type": "markdown",
   "metadata": {},
   "source": [
    "# The Jacobian Matrix\n"
   ]
  },
  {
   "cell_type": "markdown",
   "metadata": {},
   "source": [
    "Definition 3.8.1 allows us to also differentiate multivariate vector functions in the form of the Jacobian matrix. To illustrate this, we define the function $\\boldsymbol{f}: \\mathbb{R}^4 \\to \\mathbb{R}^3$:\n",
    "\n",
    "$$\n",
    "\\boldsymbol{f} (\\boldsymbol{x}) = \\begin{bmatrix} f_1(\\boldsymbol{x})\\\\ f_2(\\boldsymbol{x})\\\\ f_3(\\boldsymbol{x}) \\end{bmatrix} = \n",
    "\\left[\\begin{matrix}x_{1}^{2} + x_{2}^{2} x_{3}^{2} + x_{4}^{2} - 1\\\\x_{1} + \\frac{x_{2}^{2}}{2} - x_{3} x_{4}\\\\x_{1} x_{3} + x_{2} x_{4}\\end{matrix}\\right]\n",
    "$$\n"
   ]
  },
  {
   "cell_type": "code",
   "execution_count": null,
   "metadata": {},
   "outputs": [],
   "source": [
    "x1,x2,x3,x4 = symbols('x1:5', real = True)\n",
    "\n",
    "f = Matrix([\n",
    "    x1**2 + x2**2 * x3**2 + x4**2 - 1,\n",
    "    x1 + x2**2/2 - x3 * x4,\n",
    "    x1 * x3 + x2 * x4\n",
    "])\n",
    "\n",
    "f"
   ]
  },
  {
   "cell_type": "markdown",
   "metadata": {},
   "source": [
    "Note that $f_1, f_2, f_3$ are differentiable for all $\\boldsymbol{x} \\in \\mathbb R^4$, and we can compute the Jacobian matrix as \n",
    "$$\n",
    "\\boldsymbol{J_f} = \\begin{bmatrix} \\nabla f_1^T\\\\ \\nabla f_2^T \\\\ \\nabla f_3^T\\end{bmatrix}\n",
    "$$\n",
    "\n",
    "This can be done manually:"
   ]
  },
  {
   "cell_type": "code",
   "execution_count": null,
   "metadata": {},
   "outputs": [],
   "source": [
    "J_f = Matrix.vstack(dtutools.gradient(f[0]).T, dtutools.gradient(f[1]).T, dtutools.gradient(f[2]).T)\n",
    "J_f"
   ]
  },
  {
   "cell_type": "markdown",
   "metadata": {},
   "source": [
    "It can also be done using SymPy's command $\\verb|jacobian|$:"
   ]
  },
  {
   "cell_type": "code",
   "execution_count": null,
   "metadata": {},
   "outputs": [],
   "source": [
    "J = f.jacobian([x1,x2,x3,x4])\n",
    "J"
   ]
  },
  {
   "cell_type": "markdown",
   "metadata": {},
   "source": [
    "# Parametric Curves in the (x,y) Plane and their Tangents\n",
    "\n",
    "Consider the spiral with the given parametric representation,"
   ]
  },
  {
   "cell_type": "code",
   "execution_count": null,
   "metadata": {},
   "outputs": [],
   "source": [
    "u, t = symbols('u t', real=True)\n",
    "r = Matrix([u*cos(u), u*sin(u)])\n",
    "r"
   ]
  },
  {
   "cell_type": "markdown",
   "metadata": {},
   "source": [
    "The tangent vector in a given point is given by"
   ]
  },
  {
   "cell_type": "code",
   "execution_count": null,
   "metadata": {},
   "outputs": [],
   "source": [
    "rd = diff(r,u)\n",
    "rd"
   ]
  },
  {
   "cell_type": "markdown",
   "metadata": {},
   "source": [
    "We will now find the parametric representation of the tangent of the spiral at $((0,-\\frac{3\\pi}{2}))$, corresponding to the parametric value $u_0 = \\frac{3\\pi}{2}$, which is seen by"
   ]
  },
  {
   "cell_type": "code",
   "execution_count": null,
   "metadata": {},
   "outputs": [],
   "source": [
    "u0 = 3*pi/2\n",
    "rdu0 = rd.subs(u,u0)\n",
    "ru0 = r.subs(u,u0)\n",
    "ru0"
   ]
  },
  {
   "cell_type": "markdown",
   "metadata": {},
   "source": [
    "The parametric representation for the tangent in $u_0$ is found by"
   ]
  },
  {
   "cell_type": "code",
   "execution_count": null,
   "metadata": {},
   "outputs": [],
   "source": [
    "T = ru0 + t*rdu0\n",
    "T"
   ]
  },
  {
   "cell_type": "markdown",
   "metadata": {},
   "source": [
    "Which we can now visualize as"
   ]
  },
  {
   "cell_type": "code",
   "execution_count": null,
   "metadata": {},
   "outputs": [],
   "source": [
    "p = dtuplot.plot_parametric(r[0], r[1],(u,0,4*pi),rendering_kw={\"color\":\"red\"},use_cm=False,show=False)\n",
    "p.extend(dtuplot.plot_parametric(T[0],T[1],(t,-1.5,1.5),rendering_kw={\"color\":\"royalblue\"},use_cm=False,show=False))\n",
    "p.extend(dtuplot.scatter(ru0,rendering_kw={\"markersize\":10,\"color\":'black'}, show=False))\n",
    "p.extend(dtuplot.quiver(ru0,rdu0,rendering_kw={\"color\":\"black\"},show=False))\n",
    "p.xlim = [-11,15]\n",
    "p.ylim = [-12,9]\n",
    "\n",
    "p.show()"
   ]
  }
 ],
 "metadata": {
  "kernelspec": {
   "display_name": "stdenv",
   "language": "python",
   "name": "python3"
  },
  "language_info": {
   "codemirror_mode": {
    "name": "ipython",
    "version": 3
   },
   "file_extension": ".py",
   "mimetype": "text/x-python",
   "name": "python",
   "nbconvert_exporter": "python",
   "pygments_lexer": "ipython3",
   "version": "3.11.5"
  }
 },
 "nbformat": 4,
 "nbformat_minor": 2
}
