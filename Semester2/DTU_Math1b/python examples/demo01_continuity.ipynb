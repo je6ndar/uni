{
 "cells": [
  {
   "cell_type": "markdown",
   "metadata": {},
   "source": [
    "# Week 1: Continuity, Plotting, and Partial Derivatives\n",
    "\n",
    "Demo by Christian Mikkelstrup, Hans Henrik Hermansen, Jakob Lemvig, Karl Johan Måstrup Kristensen og Magnus Troen"
   ]
  },
  {
   "cell_type": "code",
   "execution_count": null,
   "metadata": {},
   "outputs": [],
   "source": [
    "from sympy import *\n",
    "from dtumathtools import *\n",
    "init_printing()"
   ]
  },
  {
   "cell_type": "markdown",
   "metadata": {},
   "source": [
    "Welcome back after Christmas and January, and welcome to spring in mat1. There will be a whole lot of new curriculum, and among other things a whole lot of 3D plots! For this we have developed ``dtumathtools``, which will accompany you during the spring. It contains ``dtuplot`` which should be used for plotting, as well as several good helper functions. You should have dtumathtools installed from mat1a, if not, please run the command\n",
    "\n",
    "```bash\n",
    "pip install -U dtumathtools \n",
    "```\n",
    "in your terminal."
   ]
  },
  {
   "cell_type": "markdown",
   "metadata": {},
   "source": [
    "## Functions (of One Variable)"
   ]
  },
  {
   "cell_type": "markdown",
   "metadata": {},
   "source": [
    "We can define the function $f: \\mathbb{R} \\to \\mathbb{R}$, $f(x)=x \\mathrm{e}^x$  as a python function using the familiar command:"
   ]
  },
  {
   "cell_type": "code",
   "execution_count": 1,
   "metadata": {},
   "outputs": [],
   "source": [
    "def f(x):  \n",
    "    return x * exp(x)"
   ]
  },
  {
   "cell_type": "markdown",
   "metadata": {},
   "source": [
    "The function is evaluated in the point $x = -2$ with the command:"
   ]
  },
  {
   "cell_type": "code",
   "execution_count": null,
   "metadata": {},
   "outputs": [],
   "source": [
    "f(-2)"
   ]
  },
  {
   "cell_type": "markdown",
   "metadata": {},
   "source": [
    "Which has the nummerical value:"
   ]
  },
  {
   "cell_type": "code",
   "execution_count": null,
   "metadata": {},
   "outputs": [],
   "source": [
    "f(-2).evalf()"
   ]
  },
  {
   "cell_type": "markdown",
   "metadata": {},
   "source": [
    "It is, however, rarely necessary to define functions with the `def`-command, and we wil often work directly with the function expression:"
   ]
  },
  {
   "cell_type": "code",
   "execution_count": null,
   "metadata": {},
   "outputs": [],
   "source": [
    "x = symbols('x', real = True)          # necessary to use x as a symbolic variable (note the real=True, since R -> R)\n",
    "f_expr = x * exp(x)\n",
    "f_expr"
   ]
  },
  {
   "cell_type": "markdown",
   "metadata": {},
   "source": [
    "Which is evaluated by:"
   ]
  },
  {
   "cell_type": "code",
   "execution_count": null,
   "metadata": {},
   "outputs": [],
   "source": [
    "f_expr.subs(x, -2)"
   ]
  },
  {
   "cell_type": "markdown",
   "metadata": {},
   "source": [
    "The function can be differentiated by:"
   ]
  },
  {
   "cell_type": "code",
   "execution_count": null,
   "metadata": {},
   "outputs": [],
   "source": [
    "f_maerke = f_expr.diff(x)\n",
    "f_maerke"
   ]
  },
  {
   "cell_type": "markdown",
   "metadata": {},
   "source": [
    "We can also investigate the limits for $x \\to -\\infty$, $x \\to \\infty$ and $x \\to -2$ with the commands:"
   ]
  },
  {
   "cell_type": "code",
   "execution_count": null,
   "metadata": {},
   "outputs": [],
   "source": [
    "f_expr.limit(x, -oo), f_expr.limit(x, oo), f_expr.limit(x, -2)"
   ]
  },
  {
   "cell_type": "markdown",
   "metadata": {},
   "source": [
    "It should be no surprise that $\\lim_{x \\to -2} f(x) = f(-2)$, since the function is continuous everywhere."
   ]
  },
  {
   "cell_type": "markdown",
   "metadata": {},
   "source": [
    "We can plot the function and its derivative by:"
   ]
  },
  {
   "cell_type": "code",
   "execution_count": null,
   "metadata": {},
   "outputs": [],
   "source": [
    "plot(f_expr, f_maerke, (x, -5, 1))"
   ]
  },
  {
   "cell_type": "markdown",
   "metadata": {},
   "source": [
    "A little more complicated example could be the piecewise defined function $g: \\mathbb{R} \\to \\mathbb{R}$:\n",
    "\\begin{equation*}\n",
    "    g(x) = \n",
    "    \\begin{cases} \n",
    "        -x & x <0 \\\\\n",
    "        \\mathrm{e}^x & x \\ge 0 \n",
    "    \\end{cases}\n",
    "\\end{equation*}"
   ]
  },
  {
   "cell_type": "markdown",
   "metadata": {},
   "source": [
    "Which in pyhton would be defined by:"
   ]
  },
  {
   "cell_type": "code",
   "execution_count": null,
   "metadata": {},
   "outputs": [],
   "source": [
    "def g(x):\n",
    "    if x < 0:\n",
    "        return -x\n",
    "    else:\n",
    "        return exp(x)"
   ]
  },
  {
   "cell_type": "markdown",
   "metadata": {},
   "source": [
    "Which again is preferable to define using Sympy:"
   ]
  },
  {
   "cell_type": "code",
   "execution_count": null,
   "metadata": {},
   "outputs": [],
   "source": [
    "g_expr = Piecewise((-x, x < 0), (exp(x), x >= 0))\n",
    "g_expr"
   ]
  },
  {
   "cell_type": "markdown",
   "metadata": {},
   "source": [
    "Which is evaluated as expected:"
   ]
  },
  {
   "cell_type": "code",
   "execution_count": null,
   "metadata": {},
   "outputs": [],
   "source": [
    "g_expr.subs(x, -2)"
   ]
  },
  {
   "cell_type": "markdown",
   "metadata": {},
   "source": [
    "And plotted using:"
   ]
  },
  {
   "cell_type": "code",
   "execution_count": null,
   "metadata": {},
   "outputs": [],
   "source": [
    "plot(g_expr,(x,-5,2), ylabel='g(x)')"
   ]
  },
  {
   "cell_type": "markdown",
   "metadata": {},
   "source": [
    "Notice the function is discontinuous in $x = 0$. Note that Python/CAS cannot be used to **prove** discontinuity in $x = 0$. This would require a so called *epsilon-delta*-argument, which Python/CAS cannot help us with. Sympy will, for example, differentiate the function without raising any suspicion of discontinuity.  "
   ]
  },
  {
   "cell_type": "code",
   "execution_count": null,
   "metadata": {},
   "outputs": [],
   "source": [
    "g_expr.diff(x)"
   ]
  },
  {
   "cell_type": "markdown",
   "metadata": {},
   "source": [
    "We should, however, note that the function isn't differentiable in $x = 0$, since it isn't continuous in this point."
   ]
  },
  {
   "cell_type": "markdown",
   "metadata": {},
   "source": [
    "## Partial Derivatives using ``diff``\n",
    "\n",
    "For functions of multiple variables we will introdue the partial derivative, aswell as how they can be used. To showcase the partial derivatives we will consider the function:"
   ]
  },
  {
   "cell_type": "code",
   "execution_count": null,
   "metadata": {},
   "outputs": [],
   "source": [
    "x, y = symbols('x y')\n",
    "f = x*y**2+x\n",
    "f"
   ]
  },
  {
   "cell_type": "markdown",
   "metadata": {},
   "source": [
    "which can be differentiated using ``diff``"
   ]
  },
  {
   "cell_type": "code",
   "execution_count": null,
   "metadata": {},
   "outputs": [],
   "source": [
    "f.diff(x), f.diff(y)"
   ]
  },
  {
   "cell_type": "markdown",
   "metadata": {},
   "source": [
    "Each of these expression can be differentiated w.r.t $x$ and $y$. Which yields these four functions."
   ]
  },
  {
   "cell_type": "code",
   "execution_count": null,
   "metadata": {},
   "outputs": [],
   "source": [
    "f.diff(x).diff(x), f.diff(x).diff(y), f.diff(y).diff(x), f.diff(y).diff(y)"
   ]
  },
  {
   "cell_type": "markdown",
   "metadata": {},
   "source": [
    "These are called the *second order* derivatives and can be computed directly by:"
   ]
  },
  {
   "cell_type": "code",
   "execution_count": null,
   "metadata": {},
   "outputs": [],
   "source": [
    "f.diff(x,2), f.diff(y,2), f.diff(x,y), f.diff(y,x)"
   ]
  },
  {
   "cell_type": "markdown",
   "metadata": {},
   "source": [
    "As last semester we can input values for x and y. For example $\\frac{\\partial}{\\partial x}f(x,y)$ evaluated in $(-2,3)$"
   ]
  },
  {
   "cell_type": "code",
   "execution_count": null,
   "metadata": {},
   "outputs": [],
   "source": [
    "f.diff(x).subs({x:-2,y:3})"
   ]
  },
  {
   "cell_type": "markdown",
   "metadata": {},
   "source": [
    "or $\\frac{\\partial}{\\partial x\\partial y}f(x,y)$, evaluated in $(5,-13)$"
   ]
  },
  {
   "cell_type": "code",
   "execution_count": null,
   "metadata": {},
   "outputs": [],
   "source": [
    "f.diff(x,y).subs({x:5,y:-13})"
   ]
  },
  {
   "cell_type": "markdown",
   "metadata": {},
   "source": [
    "# Plots "
   ]
  },
  {
   "cell_type": "markdown",
   "metadata": {},
   "source": [
    "## Orienting Graphs"
   ]
  },
  {
   "cell_type": "markdown",
   "metadata": {},
   "source": [
    "We will now consider functions of multiple variables, hence plotting in 3D! This leaves us a decission to make, since we need to chose which angle we want to see the graphs from. If we don't do anything dtuplot, will chose an angle for us, but if we wish to inspect the graph from a certain angle, then ``camera`` can be used. Try changing the values for ``elev`` and ``azim``."
   ]
  },
  {
   "cell_type": "code",
   "execution_count": null,
   "metadata": {},
   "outputs": [],
   "source": [
    "f = 4-x**2-y**2\n",
    "\n",
    "p=dtuplot.plot3d(f, (x,-3,3),(y,-3,3), camera = {\"elev\": 25, \"azim\": 45})"
   ]
  },
  {
   "cell_type": "markdown",
   "metadata": {},
   "source": [
    "The plot above was generated as a **static** PNG-file, which is greate if you wish to print or export the Notebook as a PDF. All plots will be static if we don't do anything or if we use the command ``%matplotlib inline``.\n",
    "\n",
    "If we intead run the command ``%matplotlib qt`` (which in the following block has been commented out, try running the block after removing #), then we enable **interactive** plots. All subsequent plots, will now \"pop out\" of VS Code, where we now can rotate the graph."
   ]
  },
  {
   "cell_type": "code",
   "execution_count": null,
   "metadata": {},
   "outputs": [],
   "source": [
    "#%matplotlib qt"
   ]
  },
  {
   "cell_type": "markdown",
   "metadata": {},
   "source": [
    "### About Interactive Plots"
   ]
  },
  {
   "cell_type": "markdown",
   "metadata": {},
   "source": [
    "Note: ``%matplotlib qt`` only works when running python on your own computer. It will, for instance, not work if you run Python on an online server like Google Colab. In such cases, widgets can be used instead ``%matplotlib ipympl``. This does, however, require you to intall the package ``ipympl``.\n",
    "\n",
    "Overview of commands:"
   ]
  },
  {
   "cell_type": "code",
   "execution_count": null,
   "metadata": {},
   "outputs": [],
   "source": [
    "# %matplotlib inline        # static plots\n",
    "# %matplotlib qt            # QT (cute) interactive pop-out plots\n",
    "# %matplotlib ipympl        # Widget/ipynpl interactive inline plots (not as stable as QT, may require a restart of the kernel)\n",
    "# %matplotlib --list        # list of all backends"
   ]
  },
  {
   "cell_type": "markdown",
   "metadata": {},
   "source": [
    "## Aesthetics "
   ]
  },
  {
   "cell_type": "markdown",
   "metadata": {},
   "source": [
    "When we wish to change the aesthetics of our plots, we'll need to use ``redering_kw={...}`` which may look intimidating. It just tells which rendering settings to use, for example ``color``, ``alpha`` etc. In most cases it's adequate to just write `` {...}``, which dtuplot will know means aesthetics."
   ]
  },
  {
   "cell_type": "code",
   "execution_count": null,
   "metadata": {},
   "outputs": [],
   "source": [
    "dtuplot.plot3d(f, (x,-3,3),(y,-3,3), wireframe = True, rendering_kw = {\"color\": \"red\", \"alpha\": 0.5})"
   ]
  },
  {
   "cell_type": "markdown",
   "metadata": {},
   "source": [
    "\n",
    "\n",
    "Some aesthetic choices are special enough to be outside of redering_kw, for example ``wireframe`` as seen above, or ``use_cm`` which denotes each value with a color, as seen below."
   ]
  },
  {
   "cell_type": "code",
   "execution_count": null,
   "metadata": {},
   "outputs": [],
   "source": [
    "p=dtuplot.plot3d(f, (x,-3,3),(y,-3,3), use_cm=True, legend=True)"
   ]
  },
  {
   "cell_type": "markdown",
   "metadata": {},
   "source": [
    "## Contours"
   ]
  },
  {
   "cell_type": "markdown",
   "metadata": {},
   "source": [
    "We can also plot contours, i.e. a 2D plot of a 3D structure by:"
   ]
  },
  {
   "cell_type": "code",
   "execution_count": null,
   "metadata": {},
   "outputs": [],
   "source": [
    "dtuplot.plot_contour(f, (x,-3,3),(y,-3,3), is_filled=False)"
   ]
  },
  {
   "cell_type": "markdown",
   "metadata": {},
   "source": [
    "And if we wish to chose the exact values shown:"
   ]
  },
  {
   "cell_type": "code",
   "execution_count": null,
   "metadata": {},
   "outputs": [],
   "source": [
    "zvals = [-2,-1,0,1]\n",
    "dtuplot.plot_contour(f, (x,-3,3),(y,-3,3), rendering_kw={\"levels\":zvals, \"alpha\":0.5}, is_filled=False)"
   ]
  },
  {
   "cell_type": "markdown",
   "metadata": {},
   "source": [
    "## Gradient Vector Fields\n",
    "\n",
    "Consider the vector field\n",
    "\n",
    "\\begin{equation}\n",
    "f(x,y)=\\cos(x)+\\sin(y).\n",
    "\\end{equation}\n",
    "\n",
    "The gradient of $f$ can be computed as:"
   ]
  },
  {
   "cell_type": "code",
   "execution_count": null,
   "metadata": {},
   "outputs": [],
   "source": [
    "f = cos(x)+sin(y)\n",
    "nf = Matrix([f.diff(x), f.diff(y)])\n",
    "nf"
   ]
  },
  {
   "cell_type": "markdown",
   "metadata": {},
   "source": [
    "The gradient can also be computed using ``dtutools.gradient``. Note that this function doesn't tell us in which order the variables are differentiated."
   ]
  },
  {
   "cell_type": "code",
   "execution_count": null,
   "metadata": {},
   "outputs": [],
   "source": [
    "dtutools.gradient(f)"
   ]
  },
  {
   "cell_type": "markdown",
   "metadata": {},
   "source": [
    "The gradient vector field can be plotted as shown:"
   ]
  },
  {
   "cell_type": "code",
   "execution_count": null,
   "metadata": {},
   "outputs": [],
   "source": [
    "dtuplot.plot_vector(nf, (x,-pi/2,3/2*pi),(y,0,2*pi),scalar=False)"
   ]
  },
  {
   "cell_type": "markdown",
   "metadata": {},
   "source": [
    "\n",
    "Or if we want to get fancy (note that ``rendering_kw`` has been split, such that the arrows and contours have their own list of aethetics)."
   ]
  },
  {
   "cell_type": "code",
   "execution_count": null,
   "metadata": {},
   "outputs": [],
   "source": [
    "dtuplot.plot_vector(nf, (x,-pi/2,3/2*pi),(y,0,2*pi),\n",
    "    quiver_kw={\"color\":\"black\"},\n",
    "    contour_kw={\"cmap\": \"Blues_r\", \"levels\": 20},\n",
    "    grid=False, xlabel=\"x\", ylabel=\"y\",n=15)"
   ]
  },
  {
   "cell_type": "markdown",
   "metadata": {},
   "source": [
    "Which in 3D can be visualised as "
   ]
  },
  {
   "cell_type": "code",
   "execution_count": null,
   "metadata": {},
   "outputs": [],
   "source": [
    "p = dtuplot.plot3d(f, (x,-pi/2,3/2*pi),(y,0,2*pi),use_cm=True, camera={\"elev\":45, \"azim\":-65}, legend=True)"
   ]
  }
 ],
 "metadata": {
  "language_info": {
   "codemirror_mode": {
    "name": "ipython",
    "version": 3
   },
   "file_extension": ".py",
   "mimetype": "text/x-python",
   "name": "python",
   "nbconvert_exporter": "python",
   "pygments_lexer": "ipython3",
   "version": "3.11.5"
  }
 },
 "nbformat": 4,
 "nbformat_minor": 2
}
