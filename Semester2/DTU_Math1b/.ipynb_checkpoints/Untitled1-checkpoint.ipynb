{
 "cells": [
  {
   "cell_type": "code",
   "execution_count": 5,
   "id": "b947db4d-cc44-4cf7-9b36-06b0631b9039",
   "metadata": {},
   "outputs": [],
   "source": [
    "from sympy import *"
   ]
  },
  {
   "cell_type": "code",
   "execution_count": 10,
   "id": "ef69a55e-2b09-4356-aec6-15ef2498f120",
   "metadata": {},
   "outputs": [],
   "source": [
    "A = Matrix.diag(1, 2, 3)\n",
    "B = Matrix([[1, 2, 3], [3, 1, 2], [2, 3, 1]])\n",
    "C = Matrix([[1, 2 + I, 3*I], [2 - I, 1, 2], [-3*I, 2, 1]]) \n",
    "D = Matrix([[I, 2, 3], [2, I, 2], [3, 2, I]])"
   ]
  },
  {
   "cell_type": "code",
   "execution_count": 14,
   "id": "ac596aea-1bdd-487f-b9fe-b36149caa8ec",
   "metadata": {},
   "outputs": [
    {
     "data": {
      "text/plain": [
       "True"
      ]
     },
     "execution_count": 14,
     "metadata": {},
     "output_type": "execute_result"
    }
   ],
   "source": [
    "D.adjoint()*D == D*D.adjoint()"
   ]
  },
  {
   "cell_type": "code",
   "execution_count": 8,
   "id": "6f018b20-07aa-4629-a042-bc82f69d55c4",
   "metadata": {},
   "outputs": [
    {
     "data": {
      "text/latex": [
       "$\\displaystyle \\left[\\begin{matrix}14 & 11 & 11\\\\11 & 14 & 11\\\\11 & 11 & 14\\end{matrix}\\right]$"
      ],
      "text/plain": [
       "Matrix([\n",
       "[14, 11, 11],\n",
       "[11, 14, 11],\n",
       "[11, 11, 14]])"
      ]
     },
     "execution_count": 8,
     "metadata": {},
     "output_type": "execute_result"
    }
   ],
   "source": [
    "B.T*B"
   ]
  },
  {
   "cell_type": "code",
   "execution_count": 15,
   "id": "5c8af333-ea1c-4fba-a29d-25e5fcc70233",
   "metadata": {},
   "outputs": [
    {
     "data": {
      "text/plain": [
       "(Matrix([\n",
       " [-sqrt(2)*I/2, sqrt(2)*I/2],\n",
       " [   sqrt(2)/2,   sqrt(2)/2]]),\n",
       " Matrix([\n",
       " [-1, 0],\n",
       " [ 0, 1]]))"
      ]
     },
     "execution_count": 15,
     "metadata": {},
     "output_type": "execute_result"
    }
   ],
   "source": [
    "A = Matrix([[0, I], [-I, 0]])\n",
    "A.diagonalize(normalize = True)"
   ]
  },
  {
   "cell_type": "code",
   "execution_count": 18,
   "id": "2ae33969-2a04-41c1-a7cc-6eccf9de7a3a",
   "metadata": {},
   "outputs": [
    {
     "data": {
      "text/latex": [
       "$\\displaystyle \\left[\\begin{matrix}0 & i\\\\- i & 0\\end{matrix}\\right]$"
      ],
      "text/plain": [
       "Matrix([\n",
       "[ 0, I],\n",
       "[-I, 0]])"
      ]
     },
     "execution_count": 18,
     "metadata": {},
     "output_type": "execute_result"
    }
   ],
   "source": [
    "U = Matrix([[1/sqrt(2), 1/sqrt(2)],[-I/sqrt(2), I/sqrt(2)]])\n",
    "L = Matrix([[1,0],[0,-1]])\n",
    "U*L*U.adjoint()"
   ]
  },
  {
   "cell_type": "code",
   "execution_count": 23,
   "id": "69b63e69-76c2-4931-8d4a-ff1563ed734a",
   "metadata": {},
   "outputs": [],
   "source": [
    "l = symbols('l')\n",
    "A = Matrix([[-2,1,1],[1,-2,-1],[1,-1,-2]])"
   ]
  },
  {
   "cell_type": "code",
   "execution_count": 25,
   "id": "23b808db-c819-4484-8a9f-56a223829513",
   "metadata": {},
   "outputs": [
    {
     "data": {
      "text/plain": [
       "(Matrix([\n",
       " [-sqrt(3)/3, sqrt(2)/2, sqrt(2)/2],\n",
       " [ sqrt(3)/3, sqrt(2)/2,         0],\n",
       " [ sqrt(3)/3,         0, sqrt(2)/2]]),\n",
       " Matrix([\n",
       " [-4,  0,  0],\n",
       " [ 0, -1,  0],\n",
       " [ 0,  0, -1]]))"
      ]
     },
     "execution_count": 25,
     "metadata": {},
     "output_type": "execute_result"
    }
   ],
   "source": [
    "A.diagonalize(normalize = True)"
   ]
  },
  {
   "cell_type": "code",
   "execution_count": 26,
   "id": "5b198477-0f57-4753-850b-63ed7f24a8d2",
   "metadata": {},
   "outputs": [
    {
     "data": {
      "text/plain": [
       "(Matrix([\n",
       " [ 1, -1,  0,  0],\n",
       " [ 0,  1, -1,  0],\n",
       " [ 0,  0,  1, -1],\n",
       " [-1,  0,  0,  1]]),\n",
       " Matrix([\n",
       " [1, 2, 3, 4],\n",
       " [4, 1, 2, 3],\n",
       " [3, 4, 1, 2],\n",
       " [2, 3, 4, 1]]))"
      ]
     },
     "execution_count": 26,
     "metadata": {},
     "output_type": "execute_result"
    }
   ],
   "source": [
    "A = Matrix([[1, -1, 0, 0], [0, 1, -1, 0], [0, 0, 1, -1], [-1, 0, 0, 1]])\n",
    "B = Matrix([[1, 2, 3, 4], [4, 1, 2, 3], [3, 4, 1, 2], [2, 3, 4, 1]])\n",
    "A, B"
   ]
  },
  {
   "cell_type": "code",
   "execution_count": 27,
   "id": "72719dcc-5aa1-4200-9504-c45d96356018",
   "metadata": {},
   "outputs": [
    {
     "data": {
      "text/plain": [
       "([0, 2, 1 + I, 1 - I], [-2, 10, -2 - 2*I, -2 + 2*I])"
      ]
     },
     "execution_count": 27,
     "metadata": {},
     "output_type": "execute_result"
    }
   ],
   "source": [
    "A.eigenvals(multiple=True), B.eigenvals(multiple=True)"
   ]
  },
  {
   "cell_type": "code",
   "execution_count": 36,
   "id": "f7a09d61-8435-4358-af83-c0c7d11d32d0",
   "metadata": {},
   "outputs": [
    {
     "data": {
      "text/latex": [
       "$\\displaystyle \\left[\\begin{matrix}- i\\\\-1\\\\i\\\\1\\end{matrix}\\right]$"
      ],
      "text/plain": [
       "Matrix([\n",
       "[-I],\n",
       "[-1],\n",
       "[ I],\n",
       "[ 1]])"
      ]
     },
     "execution_count": 36,
     "metadata": {},
     "output_type": "execute_result"
    }
   ],
   "source": [
    "A.diagonalize(normalize = False)[0][:,3] - A.diagonalize(normalize = False)[0][:,3].adjoint().dot(A.diagonalize(normalize = True)[0][:,2]) * A.diagonalize(normalize = False)[0][:,3]"
   ]
  },
  {
   "cell_type": "code",
   "execution_count": 43,
   "id": "80078b4f-9225-4c47-baba-2271bc6f86e2",
   "metadata": {},
   "outputs": [
    {
     "data": {
      "text/latex": [
       "$\\displaystyle \\left[\\begin{matrix}\\frac{\\sqrt{2}}{2} & - \\frac{\\sqrt{6}}{6} & - \\frac{\\sqrt{3}}{3}\\\\\\frac{\\sqrt{2}}{2} & \\frac{\\sqrt{6}}{6} & \\frac{\\sqrt{3}}{3}\\\\0 & - \\frac{\\sqrt{6}}{3} & \\frac{\\sqrt{3}}{3}\\end{matrix}\\right]$"
      ],
      "text/plain": [
       "Matrix([\n",
       "[sqrt(2)/2, -sqrt(6)/6, -sqrt(3)/3],\n",
       "[sqrt(2)/2,  sqrt(6)/6,  sqrt(3)/3],\n",
       "[        0, -sqrt(6)/3,  sqrt(3)/3]])"
      ]
     },
     "execution_count": 43,
     "metadata": {},
     "output_type": "execute_result"
    }
   ],
   "source": [
    "Q = Matrix([[1/sqrt(2), -1/sqrt(6),-1/sqrt(3)],[1/sqrt(2), 1/sqrt(6),1/sqrt(3)],[0, -2/sqrt(6), 1/sqrt(3)]])\n",
    "Q"
   ]
  },
  {
   "cell_type": "code",
   "execution_count": 57,
   "id": "bd7c3157-688b-45e7-94ce-c0c2eb5bf32c",
   "metadata": {},
   "outputs": [
    {
     "data": {
      "text/plain": [
       "(Matrix([\n",
       " [1, 0, -2],\n",
       " [0, 1,  1],\n",
       " [0, 0,  0]]),\n",
       " (0, 1))"
      ]
     },
     "execution_count": 57,
     "metadata": {},
     "output_type": "execute_result"
    }
   ],
   "source": [
    "L = Matrix([[4,4,-4],[4,10,2],[-4,2,10]])\n",
    "L.rref()"
   ]
  },
  {
   "cell_type": "code",
   "execution_count": null,
   "id": "c42a2106-b8d7-4d47-b6d3-be391cd2498f",
   "metadata": {},
   "outputs": [],
   "source": []
  },
  {
   "cell_type": "code",
   "execution_count": null,
   "id": "40cb1ace-f5b1-496b-aa01-bc433f20579c",
   "metadata": {},
   "outputs": [],
   "source": []
  }
 ],
 "metadata": {
  "kernelspec": {
   "display_name": "Python 3 (ipykernel)",
   "language": "python",
   "name": "python3"
  },
  "language_info": {
   "codemirror_mode": {
    "name": "ipython",
    "version": 3
   },
   "file_extension": ".py",
   "mimetype": "text/x-python",
   "name": "python",
   "nbconvert_exporter": "python",
   "pygments_lexer": "ipython3",
   "version": "3.11.4"
  }
 },
 "nbformat": 4,
 "nbformat_minor": 5
}
