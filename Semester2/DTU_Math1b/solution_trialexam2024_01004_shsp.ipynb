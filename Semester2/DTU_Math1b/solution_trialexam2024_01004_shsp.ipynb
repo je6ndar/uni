{
 "cells": [
  {
   "cell_type": "markdown",
   "id": "c72d46e9-c4a6-415e-b367-33d0ab549ab5",
   "metadata": {},
   "source": [
    "# Written (Trial) Exam for 01002/01004 Mathematics 1b, Suggested Solutions"
   ]
  },
  {
   "cell_type": "markdown",
   "id": "fb2736c5-e34c-4886-8a07-92cdc384a52d",
   "metadata": {},
   "source": [
    "By shsp@dtu.dk, 05/05-2024"
   ]
  },
  {
   "cell_type": "code",
   "execution_count": 18,
   "id": "3632632c-d188-4ecc-a5a6-3b86a1fff3cc",
   "metadata": {},
   "outputs": [],
   "source": [
    "from sympy import *\n",
    "from dtumathtools import *\n",
    "\n",
    "init_printing()"
   ]
  },
  {
   "cell_type": "markdown",
   "id": "84751f2c-1d88-4d63-b955-ae9c830fe8a0",
   "metadata": {},
   "source": [
    "## Exercise 1"
   ]
  },
  {
   "cell_type": "markdown",
   "id": "23b67366-4bc1-43df-92fd-9bee8d19fabb",
   "metadata": {},
   "source": [
    "We are given the two partial derivatives, so the following gradient, of a function $f:\\mathbb R^2\\to\\mathbb R$:"
   ]
  },
  {
   "cell_type": "code",
   "execution_count": 19,
   "id": "9c3c3de0-2252-4629-b83c-08f8a0a15966",
   "metadata": {},
   "outputs": [
    {
     "data": {
      "image/png": "[encoded data removed]",
      "text/latex": [
       "$\\displaystyle \\left( 6 x - 6 y, \\  - 6 x + 6 y^{2}\\right)$"
      ],
      "text/plain": [
       "⎛                     2⎞\n",
       "⎝6⋅x - 6⋅y, -6⋅x + 6⋅y ⎠"
      ]
     },
     "execution_count": 19,
     "metadata": {},
     "output_type": "execute_result"
    }
   ],
   "source": [
    "x, y = symbols(\"x y\")\n",
    "fx = 6 * x - 6 * y\n",
    "fy = 6 * y**2 - 6 * x\n",
    "fx, fy"
   ]
  },
  {
   "cell_type": "markdown",
   "id": "945bdf58-9c9b-46d5-8dbe-a1acce6376c2",
   "metadata": {},
   "source": [
    "### (a)"
   ]
  },
  {
   "cell_type": "markdown",
   "id": "6b57d6d7-7956-4b60-9f0a-85013b349d60",
   "metadata": {},
   "source": [
    "Setting them equal to zero and solving for all solutions results in all stationary points:"
   ]
  },
  {
   "cell_type": "code",
   "execution_count": 20,
   "id": "cbb53fe3-4aa8-4022-bd1c-a65f901a9ca4",
   "metadata": {},
   "outputs": [
    {
     "data": {
      "image/png": "[encoded data removed]",
      "text/latex": [
       "$\\displaystyle \\left[ \\left\\{ x : 0, \\  y : 0\\right\\}, \\  \\left\\{ x : 1, \\  y : 1\\right\\}\\right]$"
      ],
      "text/plain": [
       "[{x: 0, y: 0}, {x: 1, y: 1}]"
      ]
     },
     "execution_count": 20,
     "metadata": {},
     "output_type": "execute_result"
    }
   ],
   "source": [
    "statpt = solve([Eq(fx, 0), Eq(fy, 0)])\n",
    "statpt"
   ]
  },
  {
   "cell_type": "markdown",
   "id": "acde2418-0093-4e5d-9d59-a51a0bbd7298",
   "metadata": {},
   "source": [
    "So, $f$ has the two stationary points, $(0,0)$ and $(1,1)$."
   ]
  },
  {
   "cell_type": "markdown",
   "id": "b2f75345-0893-4631-9fdc-410b29b23cdd",
   "metadata": {},
   "source": [
    "### (b)"
   ]
  },
  {
   "cell_type": "markdown",
   "id": "159c1d31-8d22-46b0-a036-e184d0733a35",
   "metadata": {},
   "source": [
    "Second-order partial derivatives:"
   ]
  },
  {
   "cell_type": "code",
   "execution_count": 21,
   "id": "9fa82081-cec2-4c01-a54a-4d8066111fb3",
   "metadata": {},
   "outputs": [
    {
     "data": {
      "image/png": "[encoded data removed]",
      "text/latex": [
       "$\\displaystyle \\left( 6, \\  -6, \\  -6, \\  12 y\\right)$"
      ],
      "text/plain": [
       "(6, -6, -6, 12⋅y)"
      ]
     },
     "execution_count": 21,
     "metadata": {},
     "output_type": "execute_result"
    }
   ],
   "source": [
    "fxx = diff(fx, x)\n",
    "fxy = diff(fx, y)\n",
    "fyx = diff(fy, x)\n",
    "fyy = diff(fy, y)\n",
    "fxx, fxy, fyx, fyy"
   ]
  },
  {
   "cell_type": "markdown",
   "id": "dfcb8723-6ede-4cc3-81fc-aa1c4bb75878",
   "metadata": {},
   "source": [
    "We see that the two partial mixed double derivatives are equal. Since $f$ also is defined on all of $\\mathbb R^2$, then $f$ is two-time differentiable (smooth).\n",
    "\n",
    "The Hessian matrix $H_f(x,y)$:"
   ]
  },
  {
   "cell_type": "code",
   "execution_count": 22,
   "id": "94c8a80e-9a2f-4570-9de3-663df2545d57",
   "metadata": {},
   "outputs": [
    {
     "data": {
      "image/png": "[encoded data removed]",
      "text/latex": [
       "$\\displaystyle \\left[\\begin{matrix}6 & -6\\\\-6 & 12 y\\end{matrix}\\right]$"
      ],
      "text/plain": [
       "⎡6    -6 ⎤\n",
       "⎢        ⎥\n",
       "⎣-6  12⋅y⎦"
      ]
     },
     "execution_count": 22,
     "metadata": {},
     "output_type": "execute_result"
    }
   ],
   "source": [
    "H = Lambda(tuple([x, y]), Matrix([[fxx, fxy], [fyx, fyy]]))\n",
    "H(x, y)"
   ]
  },
  {
   "cell_type": "markdown",
   "id": "a4d571b4-31bd-4b21-987a-e2d07750dda7",
   "metadata": {},
   "source": [
    "With no boundary given, extrema can only be found at stationary points or execptional points. Since $f$ is smooth and defined on all of $\\mathbb R^2$, there are no exceptional points. So, we investigate the eigenvalues of the Hessian matrix at the stationary points:"
   ]
  },
  {
   "cell_type": "code",
   "execution_count": 23,
   "id": "61ad6d63-7574-4150-9c7f-861e323277a1",
   "metadata": {},
   "outputs": [
    {
     "data": {
      "image/png": "[encoded data removed]",
      "text/latex": [
       "$\\displaystyle \\left\\{ 3 - 3 \\sqrt{5} : 1, \\  3 + 3 \\sqrt{5} : 1\\right\\}$"
      ],
      "text/plain": [
       "{3 - 3⋅√5: 1, 3 + 3⋅√5: 1}"
      ]
     },
     "execution_count": 23,
     "metadata": {},
     "output_type": "execute_result"
    }
   ],
   "source": [
    "H(0, 0).eigenvals()"
   ]
  },
  {
   "cell_type": "markdown",
   "id": "122154ed-cbcc-4020-84c1-fea24823b601",
   "metadata": {},
   "source": [
    "The eigenvalues have different signs, so according to Theorem 5.2.4, $(0,0)$ is a saddel point."
   ]
  },
  {
   "cell_type": "code",
   "execution_count": 31,
   "id": "0c9eaabb-6877-4bba-865b-b878eb303084",
   "metadata": {},
   "outputs": [
    {
     "data": {
      "image/png": "[encoded data removed]",
      "text/latex": [
       "$\\displaystyle \\left( 2.29179606750063, \\  15.7082039324994\\right)$"
      ],
      "text/plain": [
       "(2.29179606750063, 15.7082039324994)"
      ]
     },
     "execution_count": 31,
     "metadata": {},
     "output_type": "execute_result"
    }
   ],
   "source": [
    "lambdas = H(1, 1).eigenvals(multiple=True)\n",
    "lambdas[0].evalf(), lambdas[1].evalf()"
   ]
  },
  {
   "cell_type": "markdown",
   "id": "e86553af-6a3e-4bdf-ac67-6279fe33076e",
   "metadata": {},
   "source": [
    "The eigenvalues are both positive, indicating a local minimum at $(1,1)$."
   ]
  },
  {
   "cell_type": "markdown",
   "id": "00061ed5-db3f-4235-b5f5-b10cefc4a310",
   "metadata": {},
   "source": [
    "There are no more possible extremum points, so $f$ has no maximum."
   ]
  },
  {
   "cell_type": "markdown",
   "id": "3fe3a58b-089f-493b-b16d-557db8a19211",
   "metadata": {},
   "source": [
    "### (c)"
   ]
  },
  {
   "cell_type": "markdown",
   "id": "3f6ce452-e63a-4861-ba2b-2e6e29a5d14c",
   "metadata": {},
   "source": [
    "We are now informed that $f(0,0)=1$. For the 2nd-degree Taylor approximating expanded from $x_0=(0,0)$, we need the 1st-order and 2nd-order partial derivatives evaluated at $(0,0)$:"
   ]
  },
  {
   "cell_type": "markdown",
   "id": "a97fd622-85ea-4a61-8013-eac3f3baef7b",
   "metadata": {},
   "source": [
    "$$\\frac{\\partial f(0,0)}{\\partial x}=0,\\frac{\\partial f(0,0)}{\\partial y}=0,\\frac{\\partial^2 f(0,0)}{\\partial x^2}=6,\\frac{\\partial^2 f(0,0)}{\\partial y^2}=0,\\frac{\\partial^2 f(0,0)}{\\partial x\\partial y}=\\frac{\\partial^2 f(0,0)}{\\partial y\\partial x}=-6$$"
   ]
  },
  {
   "cell_type": "markdown",
   "id": "5d140f41-fa68-40ec-8e7f-3b91fd3128b9",
   "metadata": {},
   "source": [
    "Setting up the approximation:"
   ]
  },
  {
   "cell_type": "markdown",
   "id": "5639ed38-4b98-46f0-9ab4-0445b9159b6f",
   "metadata": {},
   "source": [
    "$$P_2(x,y)=f(0,0)+\\frac{\\partial f(0,0)}{\\partial x}(x-0)+\\frac{\\partial f(0,0)}{\\partial y}(y-0)+\\frac12\\frac{\\partial^2 f(0,0)}{\\partial x^2}(x-0)^2+\\frac12\\frac{\\partial^2 f(0,0)}{\\partial y^2}(x-0)^2+\\frac{\\partial^2 f(0,0)}{\\partial x\\partial y}(x-0)(y-0)$$\n",
    "$$=1+0+0+\\frac126x^2+0-6xy$$\n",
    "$$=3x^2-6xy+1$$"
   ]
  },
  {
   "cell_type": "markdown",
   "id": "a9c6d483-5d8b-421f-98e3-9fb6c2a6e2c4",
   "metadata": {},
   "source": [
    "## Exercise 2"
   ]
  },
  {
   "cell_type": "markdown",
   "id": "8ae7d17b-d182-4cb5-969b-4b7f446f0645",
   "metadata": {},
   "source": [
    "A function $f:\\mathbb R\\to \\mathbb R$ is given by $f(0)=1$ and $f(x)=\\sin(x)/x$ when $x\\neq 0$."
   ]
  },
  {
   "cell_type": "markdown",
   "id": "7f0ad411-104c-46c4-b7a9-e74608f8c80a",
   "metadata": {},
   "source": [
    "### (a)"
   ]
  },
  {
   "cell_type": "markdown",
   "id": "e08b0409-10c3-49df-a94e-3f334cb984db",
   "metadata": {},
   "source": [
    "3rd-degree Taylor polynomial of $\\sin(x)$ expanded from $x_0=0$:"
   ]
  },
  {
   "cell_type": "code",
   "execution_count": 32,
   "id": "c147d58e-714e-4f49-822d-630a51f6ecf6",
   "metadata": {},
   "outputs": [
    {
     "data": {
      "image/png": "[encoded data removed]",
      "text/latex": [
       "$\\displaystyle x - \\frac{x^{3}}{6} + O\\left(x^{4}\\right)$"
      ],
      "text/plain": [
       "     3        \n",
       "    x     ⎛ 4⎞\n",
       "x - ── + O⎝x ⎠\n",
       "    6         "
      ]
     },
     "execution_count": 32,
     "metadata": {},
     "output_type": "execute_result"
    }
   ],
   "source": [
    "sin(x).series(x, 0, 4)"
   ]
  },
  {
   "cell_type": "markdown",
   "id": "6530ba10-5cdd-4003-82e7-938e26cbdef7",
   "metadata": {},
   "source": [
    "So, the Taylor polynomial of degree 3 is $P_3(x)=x-\\frac{x^3}6.$"
   ]
  },
  {
   "cell_type": "code",
   "execution_count": 35,
   "id": "1b8ef42f-c4c3-476d-aa56-333526ee6a8f",
   "metadata": {},
   "outputs": [
    {
     "data": {
      "image/png": "[encoded data removed]",
      "text/latex": [
       "$\\displaystyle \\left( - \\frac{x^{3}}{6} + x, \\  - \\frac{x^{3}}{6} + x\\right)$"
      ],
      "text/plain": [
       "⎛   3         3    ⎞\n",
       "⎜  x         x     ⎟\n",
       "⎜- ── + x, - ── + x⎟\n",
       "⎝  6         6     ⎠"
      ]
     },
     "execution_count": 35,
     "metadata": {},
     "output_type": "execute_result"
    }
   ],
   "source": [
    "P3 = x - x**3 / 6\n",
    "P3, sin(x).series(x, 0, 4).removeO()"
   ]
  },
  {
   "cell_type": "markdown",
   "id": "a86edbf6-5165-4892-9210-f85210471717",
   "metadata": {},
   "source": [
    "### (b)"
   ]
  },
  {
   "cell_type": "markdown",
   "id": "5b4e58d4-5d0e-492f-9c11-f24bf4607ef5",
   "metadata": {},
   "source": [
    "The Taylor expansion (Taylor's limit formula) of $\\sin(x)$ is:"
   ]
  },
  {
   "cell_type": "markdown",
   "id": "88835237-d641-4652-b788-e3bb3004a64b",
   "metadata": {},
   "source": [
    "$$\\sin(x)=x-\\frac{x^3}6+\\varepsilon(x)x^3$$"
   ]
  },
  {
   "cell_type": "markdown",
   "id": "5404f4fb-ed76-4980-8b24-d324e9e4d56a",
   "metadata": {},
   "source": [
    "where $\\varepsilon(x)$ is an epsilon function."
   ]
  },
  {
   "cell_type": "markdown",
   "id": "36de7a96-544a-47ae-baca-5801b3b9191d",
   "metadata": {},
   "source": [
    "We find the following limit value:"
   ]
  },
  {
   "cell_type": "markdown",
   "id": "7460d54e-733d-47a2-956c-9703ecaf7d93",
   "metadata": {},
   "source": [
    "$$\\lim_{x\\to 0}\\frac{\\sin(x)}{x}=\\lim_{x\\to 0}\\frac{x-\\frac{x^3}6+\\varepsilon(x)x^3}{x}=\\lim_{x\\to 0}\\left(1-\\frac{x^2}6+\\varepsilon(x)x^2\\right)=1.$$"
   ]
  },
  {
   "cell_type": "markdown",
   "id": "07f416ef-e71c-42f8-9c37-5615faee784b",
   "metadata": {},
   "source": [
    "### (c)"
   ]
  },
  {
   "cell_type": "markdown",
   "id": "d955c5fb-2aaf-46c4-a33b-ac31c68f1121",
   "metadata": {},
   "source": [
    "According to remark to theorem 3.1.1 in the note, $f$ is continuous in all points in the interval $\\mathbb R \\setminus \\{0\\}$. In (b) we showed that $\\sin(x)/x$ converges towards $1$ for $x\\to 0$. By the given definition, $f(0)=1$, and thus $f(x)\\to f(0)$ for $x\\to 0$, so f is also continuous in $x=0$."
   ]
  },
  {
   "cell_type": "markdown",
   "id": "286829a8-67d1-4b7c-86c7-54c23c1295e1",
   "metadata": {},
   "source": [
    "### (d)"
   ]
  },
  {
   "cell_type": "markdown",
   "id": "46a41ef9-2d3d-4750-abc4-b97baffc5f44",
   "metadata": {},
   "source": [
    "Defining the function for $]0,1]:$"
   ]
  },
  {
   "cell_type": "code",
   "execution_count": 36,
   "id": "ccdddff7-afaf-4985-9669-c5d178a2a980",
   "metadata": {},
   "outputs": [
    {
     "data": {
      "image/png": "[encoded data removed]",
      "text/latex": [
       "$\\displaystyle \\frac{\\sin{\\left(x \\right)}}{x}$"
      ],
      "text/plain": [
       "sin(x)\n",
       "──────\n",
       "  x   "
      ]
     },
     "execution_count": 36,
     "metadata": {},
     "output_type": "execute_result"
    }
   ],
   "source": [
    "def f(x):\n",
    "    return sin(x) / x\n",
    "\n",
    "\n",
    "f(x)"
   ]
  },
  {
   "cell_type": "markdown",
   "id": "de379d41-73fc-494a-a0ff-6ed91b8e4f0f",
   "metadata": {},
   "source": [
    "Computing a decimal approximation of $\\int_0^1f(x)\\,\\mathrm dx$ using SymPy:"
   ]
  },
  {
   "cell_type": "code",
   "execution_count": 37,
   "id": "6d15ebb2-c980-40d4-ba6f-3f8afdf1972e",
   "metadata": {},
   "outputs": [
    {
     "data": {
      "image/png": "[encoded data removed]",
      "text/latex": [
       "$\\displaystyle 0.946083070367183$"
      ],
      "text/plain": [
       "0.946083070367183"
      ]
     },
     "execution_count": 37,
     "metadata": {},
     "output_type": "execute_result"
    }
   ],
   "source": [
    "integrate(f(x), (x, 0, 1)).evalf()"
   ]
  },
  {
   "cell_type": "markdown",
   "id": "efdb2100-d620-4840-8b5a-67b71f94b2e2",
   "metadata": {},
   "source": [
    "### (e)"
   ]
  },
  {
   "cell_type": "markdown",
   "id": "3f74bc38-0ca2-472f-90e8-495864ede10a",
   "metadata": {},
   "source": [
    "We will compute a Riemann sum as an approximation of the area under the graph of $f$ by subdividing the interval $[0,1]$ into $J=30$ subintervals with equal widths of $\\Delta x_j=1/30$ and finding the right-sum. For such a sum, $x_j=j/J$ for $j=1,\\ldots,J$: "
   ]
  },
  {
   "cell_type": "code",
   "execution_count": 38,
   "id": "50f55d1f",
   "metadata": {},
   "outputs": [
    {
     "data": {
      "image/png": "[encoded data removed]",
      "text/latex": [
       "$\\displaystyle 0.943413033821518$"
      ],
      "text/plain": [
       "0.943413033821518"
      ]
     },
     "execution_count": 38,
     "metadata": {},
     "output_type": "execute_result"
    }
   ],
   "source": [
    "j = symbols(\"j\")\n",
    "\n",
    "delta_xj = 1 / 30\n",
    "J = 30\n",
    "xj = j / J\n",
    "\n",
    "Sum(f(xj) * delta_xj, (j, 1, 30)).evalf()"
   ]
  },
  {
   "cell_type": "markdown",
   "id": "ec20d62f",
   "metadata": {},
   "source": [
    "Alternatively, using at for loop:"
   ]
  },
  {
   "cell_type": "code",
   "execution_count": 44,
   "id": "b7d498d3",
   "metadata": {},
   "outputs": [
    {
     "data": {
      "image/png": "[encoded data removed]",
      "text/latex": [
       "$\\displaystyle 0.943413033821518$"
      ],
      "text/plain": [
       "0.943413033821518"
      ]
     },
     "execution_count": 44,
     "metadata": {},
     "output_type": "execute_result"
    }
   ],
   "source": [
    "riemann_sum = 0\n",
    "N = 30\n",
    "for i in range(1, N + 1):\n",
    "    riemann_sum += sin(i / N) / (i / N) * 1 / N\n",
    "\n",
    "riemann_sum"
   ]
  },
  {
   "cell_type": "markdown",
   "id": "b7691c6b-19a1-44c5-bd41-a542b3291806",
   "metadata": {},
   "source": [
    "### (f)"
   ]
  },
  {
   "cell_type": "markdown",
   "id": "f6ffe08a-ee14-4f48-8904-a4a1b60dae3e",
   "metadata": {},
   "source": [
    "Computing $\\int_0^1P_3(x)\\,\\mathrm dx$:"
   ]
  },
  {
   "cell_type": "code",
   "execution_count": 45,
   "id": "3c480891-d143-46ae-912c-3e172935ede7",
   "metadata": {},
   "outputs": [
    {
     "data": {
      "image/png": "[encoded data removed]",
      "text/latex": [
       "$\\displaystyle 0.458333333333333$"
      ],
      "text/plain": [
       "0.458333333333333"
      ]
     },
     "execution_count": 45,
     "metadata": {},
     "output_type": "execute_result"
    }
   ],
   "source": [
    "integrate(P3, (x, 0, 1)).evalf()"
   ]
  },
  {
   "cell_type": "markdown",
   "id": "ef11d061",
   "metadata": {},
   "source": [
    "This approximation of the integral is worse than the approximation using a Riemann sum in the previous question, since a Taylor polynomial of $\\sin(x)$ does not approximate $f$ very well. However, it would have been sensible to use: "
   ]
  },
  {
   "cell_type": "code",
   "execution_count": 46,
   "id": "1ce91234",
   "metadata": {},
   "outputs": [
    {
     "data": {
      "image/png": "[encoded data removed]",
      "text/latex": [
       "$\\displaystyle 0.944444444444444$"
      ],
      "text/plain": [
       "0.944444444444444"
      ]
     },
     "execution_count": 46,
     "metadata": {},
     "output_type": "execute_result"
    }
   ],
   "source": [
    "integrate(P3 / x, (x, 0, 1)).evalf()"
   ]
  },
  {
   "cell_type": "markdown",
   "id": "5e3e9ffe-df5a-4840-80d3-a1e4a28cd9d3",
   "metadata": {},
   "source": [
    "## Exercise 3"
   ]
  },
  {
   "cell_type": "markdown",
   "id": "a5943ea1-afe9-492a-a3f0-3506959db7aa",
   "metadata": {},
   "source": [
    "Given matrix $C_t$ where $t\\in\\mathbb R$:"
   ]
  },
  {
   "cell_type": "code",
   "execution_count": 48,
   "id": "096a937d-cc36-408d-95d6-ba56776712de",
   "metadata": {},
   "outputs": [
    {
     "data": {
      "image/png": "[encoded data removed]",
      "text/latex": [
       "$\\displaystyle \\left[\\begin{matrix}1 & 2 & 3 & 4\\\\4 & 1 & 2 & 3\\\\3 & 4 & 1 & 2\\\\t & 3 & 4 & 1\\end{matrix}\\right]$"
      ],
      "text/plain": [
       "⎡1  2  3  4⎤\n",
       "⎢          ⎥\n",
       "⎢4  1  2  3⎥\n",
       "⎢          ⎥\n",
       "⎢3  4  1  2⎥\n",
       "⎢          ⎥\n",
       "⎣t  3  4  1⎦"
      ]
     },
     "execution_count": 48,
     "metadata": {},
     "output_type": "execute_result"
    }
   ],
   "source": [
    "t = symbols(\"t\")\n",
    "Ct = Matrix([[1, 2, 3, 4], [4, 1, 2, 3], [3, 4, 1, 2], [t, 3, 4, 1]])\n",
    "Ct"
   ]
  },
  {
   "cell_type": "markdown",
   "id": "c2ce76c6-317a-4d26-a1c6-1116e5906e6f",
   "metadata": {},
   "source": [
    "### (a)"
   ]
  },
  {
   "cell_type": "markdown",
   "id": "c2a7cd0f-ce3b-4a14-9d77-999528a299aa",
   "metadata": {},
   "source": [
    "The unitary matrix $C_t^*$ is the transposed and conjugated matrix. Since $t\\in\\mathbb R$, there are no non-real numbers involved, and the conjugation can be ignored. The unitary matrix is thus the transposed matrix, $C_t^*=C_t^T$:"
   ]
  },
  {
   "cell_type": "code",
   "execution_count": 49,
   "id": "d78ec11e-0ad2-4867-8cd9-38ada6b615f2",
   "metadata": {},
   "outputs": [
    {
     "data": {
      "image/png": "[encoded data removed]",
      "text/latex": [
       "$\\displaystyle \\left[\\begin{matrix}1 & 4 & 3 & t\\\\2 & 1 & 4 & 3\\\\3 & 2 & 1 & 4\\\\4 & 3 & 2 & 1\\end{matrix}\\right]$"
      ],
      "text/plain": [
       "⎡1  4  3  t⎤\n",
       "⎢          ⎥\n",
       "⎢2  1  4  3⎥\n",
       "⎢          ⎥\n",
       "⎢3  2  1  4⎥\n",
       "⎢          ⎥\n",
       "⎣4  3  2  1⎦"
      ]
     },
     "execution_count": 49,
     "metadata": {},
     "output_type": "execute_result"
    }
   ],
   "source": [
    "Ct_uni = Ct.T\n",
    "Ct_uni"
   ]
  },
  {
   "cell_type": "markdown",
   "id": "646b3dd0-01c3-4f12-b4aa-b843f5543db0",
   "metadata": {},
   "source": [
    "$C_t$ is a normal matrix if $C_tC_t^*=C_t^*C_t,$ so if $C_tC_t^T=C_t^TC_t$, which is solved for $t$:"
   ]
  },
  {
   "cell_type": "code",
   "execution_count": 50,
   "id": "d1bef5df-8115-4bf9-9099-198ee6cc111b",
   "metadata": {},
   "outputs": [
    {
     "data": {
      "image/png": "[encoded data removed]",
      "text/latex": [
       "$\\displaystyle \\left[\\begin{matrix}t^{2} + 26 & 3 t + 18 & 4 t + 14 & t + 22\\\\3 t + 18 & 30 & 24 & 22\\\\4 t + 14 & 24 & 30 & 24\\\\t + 22 & 22 & 24 & 30\\end{matrix}\\right]$"
      ],
      "text/plain": [
       "⎡ 2                                  ⎤\n",
       "⎢t  + 26   3⋅t + 18  4⋅t + 14  t + 22⎥\n",
       "⎢                                    ⎥\n",
       "⎢3⋅t + 18     30        24       22  ⎥\n",
       "⎢                                    ⎥\n",
       "⎢4⋅t + 14     24        30       24  ⎥\n",
       "⎢                                    ⎥\n",
       "⎣ t + 22      22        24       30  ⎦"
      ]
     },
     "execution_count": 50,
     "metadata": {},
     "output_type": "execute_result"
    }
   ],
   "source": [
    "Ct_uni * Ct"
   ]
  },
  {
   "cell_type": "code",
   "execution_count": 51,
   "id": "808ea8e9-0e4c-4062-a3fc-177ef3e6356b",
   "metadata": {},
   "outputs": [
    {
     "data": {
      "image/png": "[encoded data removed]",
      "text/latex": [
       "$\\displaystyle \\left[\\begin{matrix}30 & 24 & 22 & t + 22\\\\24 & 30 & 24 & 4 t + 14\\\\22 & 24 & 30 & 3 t + 18\\\\t + 22 & 4 t + 14 & 3 t + 18 & t^{2} + 26\\end{matrix}\\right]$"
      ],
      "text/plain": [
       "⎡  30       24        22      t + 22 ⎤\n",
       "⎢                                    ⎥\n",
       "⎢  24       30        24     4⋅t + 14⎥\n",
       "⎢                                    ⎥\n",
       "⎢  22       24        30     3⋅t + 18⎥\n",
       "⎢                                    ⎥\n",
       "⎢                             2      ⎥\n",
       "⎣t + 22  4⋅t + 14  3⋅t + 18  t  + 26 ⎦"
      ]
     },
     "execution_count": 51,
     "metadata": {},
     "output_type": "execute_result"
    }
   ],
   "source": [
    "Ct * Ct_uni"
   ]
  },
  {
   "cell_type": "code",
   "execution_count": 52,
   "id": "e27f802c-50cc-4ac4-95aa-ca4074d4bab0",
   "metadata": {},
   "outputs": [
    {
     "data": {
      "image/png": "[encoded data removed]",
      "text/latex": [
       "$\\displaystyle \\left[ \\left\\{ t : 2\\right\\}\\right]$"
      ],
      "text/plain": [
       "[{t: 2}]"
      ]
     },
     "execution_count": 52,
     "metadata": {},
     "output_type": "execute_result"
    }
   ],
   "source": [
    "solve(Eq(Ct * Ct_uni, Ct_uni * Ct))"
   ]
  },
  {
   "cell_type": "markdown",
   "id": "55c5e861-f9fa-47a7-8a1f-3839bb9a3bbd",
   "metadata": {},
   "source": [
    "So, only for $t=2$ is $C_t$ normal."
   ]
  },
  {
   "cell_type": "markdown",
   "id": "fad248f5-3381-4294-8580-eda5a4cd3bba",
   "metadata": {},
   "source": [
    "### (b) and (c)"
   ]
  },
  {
   "cell_type": "markdown",
   "id": "4f9ae4ef-b966-4044-b2ec-bfacdcb24989",
   "metadata": {},
   "source": [
    "Defining $A=C_2$:"
   ]
  },
  {
   "cell_type": "code",
   "execution_count": 53,
   "id": "9cd996ab-8933-4260-9522-58c832eefdc3",
   "metadata": {},
   "outputs": [
    {
     "data": {
      "image/png": "[encoded data removed]",
      "text/latex": [
       "$\\displaystyle \\left[\\begin{matrix}1 & 2 & 3 & 4\\\\4 & 1 & 2 & 3\\\\3 & 4 & 1 & 2\\\\2 & 3 & 4 & 1\\end{matrix}\\right]$"
      ],
      "text/plain": [
       "⎡1  2  3  4⎤\n",
       "⎢          ⎥\n",
       "⎢4  1  2  3⎥\n",
       "⎢          ⎥\n",
       "⎢3  4  1  2⎥\n",
       "⎢          ⎥\n",
       "⎣2  3  4  1⎦"
      ]
     },
     "execution_count": 53,
     "metadata": {},
     "output_type": "execute_result"
    }
   ],
   "source": [
    "A = Ct.subs(t, 2)\n",
    "A"
   ]
  },
  {
   "cell_type": "markdown",
   "id": "3dc766cb-8d9c-4ece-b03d-673ff26251e9",
   "metadata": {},
   "source": [
    "Given eigenvectors:"
   ]
  },
  {
   "cell_type": "code",
   "execution_count": 54,
   "id": "af0b31f8-781d-41a4-8cd4-375878263250",
   "metadata": {},
   "outputs": [],
   "source": [
    "v1 = Matrix([1, 1, 1, 1])\n",
    "v2 = Matrix([1, I, -1, -I])"
   ]
  },
  {
   "cell_type": "markdown",
   "id": "204959ef-b3e2-44a7-b3b7-83be2477e6e5",
   "metadata": {},
   "source": [
    "Treating $A$ as a mapping matrix and mapping the eigenvectors:"
   ]
  },
  {
   "cell_type": "code",
   "execution_count": 55,
   "id": "ee3f7be6-64f1-40f8-93ab-2c7a15a32a00",
   "metadata": {},
   "outputs": [
    {
     "data": {
      "image/png": "[encoded data removed]",
      "text/latex": [
       "$\\displaystyle \\left( \\left[\\begin{matrix}10\\\\10\\\\10\\\\10\\end{matrix}\\right], \\  \\left[\\begin{matrix}-2 - 2 i\\\\2 - 2 i\\\\2 + 2 i\\\\-2 + 2 i\\end{matrix}\\right]\\right)$"
      ],
      "text/plain": [
       "⎛⎡10⎤  ⎡-2 - 2⋅ⅈ⎤⎞\n",
       "⎜⎢  ⎥  ⎢        ⎥⎟\n",
       "⎜⎢10⎥  ⎢2 - 2⋅ⅈ ⎥⎟\n",
       "⎜⎢  ⎥, ⎢        ⎥⎟\n",
       "⎜⎢10⎥  ⎢2 + 2⋅ⅈ ⎥⎟\n",
       "⎜⎢  ⎥  ⎢        ⎥⎟\n",
       "⎝⎣10⎦  ⎣-2 + 2⋅ⅈ⎦⎠"
      ]
     },
     "execution_count": 55,
     "metadata": {},
     "output_type": "execute_result"
    }
   ],
   "source": [
    "A * v1, A * v2"
   ]
  },
  {
   "cell_type": "markdown",
   "id": "e25d7297-8691-49ad-a8e4-25ab50147557",
   "metadata": {},
   "source": [
    "From this we read the scaling factors, which are the eigenvalues corresponding to the given eigenvectors, to be $\\lambda_1=10$ and $\\lambda_2=-2-2i$: "
   ]
  },
  {
   "cell_type": "code",
   "execution_count": 56,
   "id": "372ff628-cef9-48c1-bf55-da9842872d91",
   "metadata": {},
   "outputs": [],
   "source": [
    "lambda1 = 10\n",
    "lambda2 = -2 - 2 * I"
   ]
  },
  {
   "cell_type": "markdown",
   "id": "31e70b0a-d20e-46e6-a763-c84433d2b2e7",
   "metadata": {},
   "source": [
    "Check:"
   ]
  },
  {
   "cell_type": "code",
   "execution_count": 57,
   "id": "ddb110ec-2210-44f4-8f0b-c15a7489d374",
   "metadata": {},
   "outputs": [
    {
     "data": {
      "text/plain": [
       "(True, True)"
      ]
     },
     "execution_count": 57,
     "metadata": {},
     "output_type": "execute_result"
    }
   ],
   "source": [
    "A * v1 == lambda1 * v1, A * v2 == simplify(lambda2 * v2)"
   ]
  },
  {
   "cell_type": "markdown",
   "id": "eb4ac930-fe2b-4fd3-b0f8-d43a53c06b56",
   "metadata": {},
   "source": [
    "### (d)"
   ]
  },
  {
   "cell_type": "markdown",
   "id": "a504add2-5a8f-419b-a47e-d81e5868a80e",
   "metadata": {},
   "source": [
    "Orthogonality is equivalent to an inner product of zero. The inner product of two complex vectors from $\\mathbb C^4$ is a dot product with one vector complex conjugated, $\\langle v_1,v_2\\rangle = v_1\\cdot \\overline{v_2}$:"
   ]
  },
  {
   "cell_type": "code",
   "execution_count": 59,
   "id": "d8e074e9-5a30-431e-9bec-c9c1ac41f916",
   "metadata": {},
   "outputs": [
    {
     "data": {
      "image/png": "[encoded data removed]",
      "text/latex": [
       "$\\displaystyle 0$"
      ],
      "text/plain": [
       "0"
      ]
     },
     "execution_count": 59,
     "metadata": {},
     "output_type": "execute_result"
    }
   ],
   "source": [
    "v1.dot(v2.conjugate())"
   ]
  },
  {
   "cell_type": "markdown",
   "id": "1e1741a2-a086-4a09-9395-cdbf341311ea",
   "metadata": {},
   "source": [
    "We conclude that they are orthogonal, $v_1\\perp v_2$."
   ]
  },
  {
   "cell_type": "markdown",
   "id": "d80bc6a9-e11a-4924-b3f4-fe7b2106af91",
   "metadata": {},
   "source": [
    "### (e)"
   ]
  },
  {
   "cell_type": "markdown",
   "id": "03a0ee8c-4586-4a87-a330-1da61ec7c03b",
   "metadata": {},
   "source": [
    "The norm is the root of the inner product of a vector with itself, e.g. $||v_1||=\\sqrt{<v_1,v_1>}$. Since $v_1\\in\\mathbb R^4$ we can use the usual dot product without conjugation as the inner product for that one. We compute the norms of both eigenvectors:"
   ]
  },
  {
   "cell_type": "code",
   "execution_count": 60,
   "id": "46903877-fd30-4953-886e-d1647c3f2e92",
   "metadata": {},
   "outputs": [
    {
     "data": {
      "image/png": "[encoded data removed]",
      "text/latex": [
       "$\\displaystyle 2$"
      ],
      "text/plain": [
       "2"
      ]
     },
     "execution_count": 60,
     "metadata": {},
     "output_type": "execute_result"
    }
   ],
   "source": [
    "sqrt(v1.dot(v1))"
   ]
  },
  {
   "cell_type": "code",
   "execution_count": 61,
   "id": "f91e14d0-63d7-4096-b87c-58d213aeb5eb",
   "metadata": {},
   "outputs": [
    {
     "data": {
      "image/png": "[encoded data removed]",
      "text/latex": [
       "$\\displaystyle 2$"
      ],
      "text/plain": [
       "2"
      ]
     },
     "execution_count": 61,
     "metadata": {},
     "output_type": "execute_result"
    }
   ],
   "source": [
    "sqrt(v2.dot(v2.conjugate()))"
   ]
  },
  {
   "cell_type": "markdown",
   "id": "6da25bbe-51fb-4edb-a04a-69daebc6ee1c",
   "metadata": {},
   "source": [
    "As their norms are not 1, they are not normalized. The list $v_1,v_2$ is hence orthogonal but *not* orthonormal."
   ]
  },
  {
   "cell_type": "markdown",
   "id": "4af1d35f-4c4d-402c-b250-154ed60e1eab",
   "metadata": {},
   "source": [
    "## Exercise 4"
   ]
  },
  {
   "cell_type": "markdown",
   "id": "2b312ee4-d4e6-42b0-a1d3-e4c6ec77c39f",
   "metadata": {},
   "source": [
    "Given quadratic form $q:\\mathbb R^2\\to\\mathbb R$:"
   ]
  },
  {
   "cell_type": "code",
   "execution_count": 62,
   "id": "d6b39fc1-cb92-41dc-b622-2420f1c2f0ef",
   "metadata": {},
   "outputs": [
    {
     "data": {
      "image/png": "[encoded data removed]",
      "text/latex": [
       "$\\displaystyle 2 x_{1}^{2} - 2 x_{1} x_{2} - 4 x_{1} + 2 x_{2}^{2} + 2 x_{2} + 2$"
      ],
      "text/plain": [
       "    2                        2           \n",
       "2⋅x₁  - 2⋅x₁⋅x₂ - 4⋅x₁ + 2⋅x₂  + 2⋅x₂ + 2"
      ]
     },
     "execution_count": 62,
     "metadata": {},
     "output_type": "execute_result"
    }
   ],
   "source": [
    "def q(x1, x2):\n",
    "    return 2 * x1**2 - 2 * x1 * x2 + 2 * x2**2 - 4 * x1 + 2 * x2 + 2\n",
    "\n",
    "\n",
    "x1, x2 = symbols(\"x1,x2\")\n",
    "q(x1, x2)"
   ]
  },
  {
   "cell_type": "markdown",
   "id": "e3db474e-f298-4fc9-bab5-7a6a6c55b70d",
   "metadata": {},
   "source": [
    "### (a)"
   ]
  },
  {
   "cell_type": "markdown",
   "id": "1e9fba5c-91ee-4202-9055-0ce8061a4040",
   "metadata": {},
   "source": [
    "For rewriting to matrix form $q(x_1,x_2)=x^TAx+x^Tb+c$, then $A$, $b$ and $c$ can be as follows:"
   ]
  },
  {
   "cell_type": "code",
   "execution_count": 63,
   "id": "6ba300d2-431a-4536-ba0c-fed0562ca6ce",
   "metadata": {},
   "outputs": [
    {
     "data": {
      "image/png": "[encoded data removed]",
      "text/latex": [
       "$\\displaystyle \\left( \\left[\\begin{matrix}2 & -1\\\\-1 & 2\\end{matrix}\\right], \\  \\left[\\begin{matrix}-4\\\\2\\end{matrix}\\right], \\  2\\right)$"
      ],
      "text/plain": [
       "⎛⎡2   -1⎤  ⎡-4⎤   ⎞\n",
       "⎜⎢      ⎥, ⎢  ⎥, 2⎟\n",
       "⎝⎣-1  2 ⎦  ⎣2 ⎦   ⎠"
      ]
     },
     "execution_count": 63,
     "metadata": {},
     "output_type": "execute_result"
    }
   ],
   "source": [
    "A = Matrix([[2, -1], [-1, 2]])\n",
    "b = Matrix([-4, 2])\n",
    "c = 2\n",
    "A, b, c"
   ]
  },
  {
   "cell_type": "markdown",
   "id": "b3cb5a4b-9512-44b9-b002-ea52ff61c196",
   "metadata": {},
   "source": [
    "Checking:"
   ]
  },
  {
   "cell_type": "code",
   "execution_count": 64,
   "id": "e1e39e06-cf75-4217-8073-4afdc40b3e93",
   "metadata": {},
   "outputs": [
    {
     "data": {
      "image/png": "[encoded data removed]",
      "text/latex": [
       "$\\displaystyle 2 x_{1}^{2} - 2 x_{1} x_{2} - 4 x_{1} + 2 x_{2}^{2} + 2 x_{2} + 2$"
      ],
      "text/plain": [
       "    2                        2           \n",
       "2⋅x₁  - 2⋅x₁⋅x₂ - 4⋅x₁ + 2⋅x₂  + 2⋅x₂ + 2"
      ]
     },
     "execution_count": 64,
     "metadata": {},
     "output_type": "execute_result"
    }
   ],
   "source": [
    "x = Matrix([x1, x2])\n",
    "\n",
    "simplify(list(x.T * A * x + x.T * b)[0] + c)"
   ]
  },
  {
   "cell_type": "code",
   "execution_count": 65,
   "id": "ddb9ce09-4395-4963-8dc6-b8ccef709eaa",
   "metadata": {},
   "outputs": [
    {
     "data": {
      "text/plain": [
       "True"
      ]
     },
     "execution_count": 65,
     "metadata": {},
     "output_type": "execute_result"
    }
   ],
   "source": [
    "simplify(list(x.T * A * x + x.T * b)[0] + c) == q(x1, x2)"
   ]
  },
  {
   "cell_type": "markdown",
   "id": "90b026a9-9261-487a-a3d5-70bff21262d9",
   "metadata": {},
   "source": [
    "### (b)"
   ]
  },
  {
   "cell_type": "markdown",
   "id": "0b4eb094-e3e3-4015-a32f-bbd6984ca597",
   "metadata": {},
   "source": [
    "We will now reduce the quadratic form $q$ to new form called $q_1$ without \"mixed double terms\" by changing the basis using an orthogonal change-of-basis matrix $Q$ that changes from new to original coordinates, meaning $\\tilde x=Q^Tx$. Such $Q$ consists of orthonormalized eigenvectors of $A$ as columns."
   ]
  },
  {
   "cell_type": "code",
   "execution_count": 66,
   "id": "0b500387-f3f1-4e89-b1f0-b2b05f7ee9e7",
   "metadata": {},
   "outputs": [
    {
     "data": {
      "image/png": "[encoded data removed]",
      "text/latex": [
       "$\\displaystyle \\left[ \\left( 1, \\  1, \\  \\left[ \\left[\\begin{matrix}1\\\\1\\end{matrix}\\right]\\right]\\right), \\  \\left( 3, \\  1, \\  \\left[ \\left[\\begin{matrix}-1\\\\1\\end{matrix}\\right]\\right]\\right)\\right]$"
      ],
      "text/plain": [
       "⎡⎛      ⎡⎡1⎤⎤⎞  ⎛      ⎡⎡-1⎤⎤⎞⎤\n",
       "⎢⎜1, 1, ⎢⎢ ⎥⎥⎟, ⎜3, 1, ⎢⎢  ⎥⎥⎟⎥\n",
       "⎣⎝      ⎣⎣1⎦⎦⎠  ⎝      ⎣⎣1 ⎦⎦⎠⎦"
      ]
     },
     "execution_count": 66,
     "metadata": {},
     "output_type": "execute_result"
    }
   ],
   "source": [
    "A.eigenvects()"
   ]
  },
  {
   "cell_type": "markdown",
   "id": "d7fac6de-67b4-4161-848c-38bdcd3d67a6",
   "metadata": {},
   "source": [
    "$A$ has the two linearly independent eigenvectors:"
   ]
  },
  {
   "cell_type": "code",
   "execution_count": 67,
   "id": "d4850c7f-252d-4a23-acfe-df1f412f8fa6",
   "metadata": {},
   "outputs": [
    {
     "data": {
      "image/png": "[encoded data removed]",
      "text/latex": [
       "$\\displaystyle \\left( \\left[\\begin{matrix}1\\\\1\\end{matrix}\\right], \\  \\left[\\begin{matrix}-1\\\\1\\end{matrix}\\right]\\right)$"
      ],
      "text/plain": [
       "⎛⎡1⎤  ⎡-1⎤⎞\n",
       "⎜⎢ ⎥, ⎢  ⎥⎟\n",
       "⎝⎣1⎦  ⎣1 ⎦⎠"
      ]
     },
     "execution_count": 67,
     "metadata": {},
     "output_type": "execute_result"
    }
   ],
   "source": [
    "v1 = Matrix([1, 1])\n",
    "v2 = Matrix([-1, 1])\n",
    "v1, v2"
   ]
  },
  {
   "cell_type": "markdown",
   "id": "518e133c-a882-46a0-b62c-65d090ce80a0",
   "metadata": {},
   "source": [
    "Also, $A$ has a corresponding eigenvalue to each eigenvector:"
   ]
  },
  {
   "cell_type": "code",
   "execution_count": 68,
   "id": "e2c64755-6e42-4206-a799-69206cd06687",
   "metadata": {},
   "outputs": [
    {
     "data": {
      "image/png": "[encoded data removed]",
      "text/latex": [
       "$\\displaystyle \\left( 1, \\  3\\right)$"
      ],
      "text/plain": [
       "(1, 3)"
      ]
     },
     "execution_count": 68,
     "metadata": {},
     "output_type": "execute_result"
    }
   ],
   "source": [
    "lambda1 = 1\n",
    "lambda2 = 3\n",
    "lambda1, lambda2"
   ]
  },
  {
   "cell_type": "markdown",
   "id": "cc395000-14fc-44a7-ab64-1a909237b168",
   "metadata": {},
   "source": [
    "Since $A$ is symmetric, then $v_1$ and $v_2$ are orthogonal, according to Theorem xx. We normalize them:"
   ]
  },
  {
   "cell_type": "code",
   "execution_count": 69,
   "id": "ad80f9e3-6366-4337-b45a-15433321d70a",
   "metadata": {},
   "outputs": [
    {
     "data": {
      "image/png": "[encoded data removed]",
      "text/latex": [
       "$\\displaystyle \\left( \\left[\\begin{matrix}\\frac{\\sqrt{2}}{2}\\\\\\frac{\\sqrt{2}}{2}\\end{matrix}\\right], \\  \\left[\\begin{matrix}- \\frac{\\sqrt{2}}{2}\\\\\\frac{\\sqrt{2}}{2}\\end{matrix}\\right]\\right)$"
      ],
      "text/plain": [
       "⎛⎡√2⎤  ⎡-√2 ⎤⎞\n",
       "⎜⎢──⎥  ⎢────⎥⎟\n",
       "⎜⎢2 ⎥  ⎢ 2  ⎥⎟\n",
       "⎜⎢  ⎥, ⎢    ⎥⎟\n",
       "⎜⎢√2⎥  ⎢ √2 ⎥⎟\n",
       "⎜⎢──⎥  ⎢ ── ⎥⎟\n",
       "⎝⎣2 ⎦  ⎣ 2  ⎦⎠"
      ]
     },
     "execution_count": 69,
     "metadata": {},
     "output_type": "execute_result"
    }
   ],
   "source": [
    "q1 = v1.normalized()\n",
    "q2 = v2.normalized()\n",
    "q1, q2"
   ]
  },
  {
   "cell_type": "markdown",
   "id": "3f45c011-7b6c-4ae5-813f-4b29541fc22a",
   "metadata": {},
   "source": [
    "A change-of-basis matrix $Q$ is then:"
   ]
  },
  {
   "cell_type": "code",
   "execution_count": 70,
   "id": "5a1141f6-cb2e-4af6-9ff4-e95fdc87d727",
   "metadata": {},
   "outputs": [
    {
     "data": {
      "image/png": "[encoded data removed]",
      "text/latex": [
       "$\\displaystyle \\left[\\begin{matrix}\\frac{\\sqrt{2}}{2} & - \\frac{\\sqrt{2}}{2}\\\\\\frac{\\sqrt{2}}{2} & \\frac{\\sqrt{2}}{2}\\end{matrix}\\right]$"
      ],
      "text/plain": [
       "⎡√2  -√2 ⎤\n",
       "⎢──  ────⎥\n",
       "⎢2    2  ⎥\n",
       "⎢        ⎥\n",
       "⎢√2   √2 ⎥\n",
       "⎢──   ── ⎥\n",
       "⎣2    2  ⎦"
      ]
     },
     "execution_count": 70,
     "metadata": {},
     "output_type": "execute_result"
    }
   ],
   "source": [
    "Q = Matrix.hstack(q1, q2)\n",
    "Q"
   ]
  },
  {
   "cell_type": "markdown",
   "id": "c4b27e04",
   "metadata": {},
   "source": [
    "This can also be found directly by"
   ]
  },
  {
   "cell_type": "code",
   "execution_count": 75,
   "id": "63fb5330",
   "metadata": {},
   "outputs": [
    {
     "data": {
      "image/png": "[encoded data removed]",
      "text/latex": [
       "$\\displaystyle \\left[\\begin{matrix}\\frac{\\sqrt{2}}{2} & - \\frac{\\sqrt{2}}{2}\\\\\\frac{\\sqrt{2}}{2} & \\frac{\\sqrt{2}}{2}\\end{matrix}\\right]$"
      ],
      "text/plain": [
       "⎡√2  -√2 ⎤\n",
       "⎢──  ────⎥\n",
       "⎢2    2  ⎥\n",
       "⎢        ⎥\n",
       "⎢√2   √2 ⎥\n",
       "⎢──   ── ⎥\n",
       "⎣2    2  ⎦"
      ]
     },
     "execution_count": 75,
     "metadata": {},
     "output_type": "execute_result"
    }
   ],
   "source": [
    "Qmat, Lamda = A.diagonalize(normalize=True)\n",
    "Qmat"
   ]
  },
  {
   "cell_type": "markdown",
   "id": "bff4f8d7-0282-4ca7-b6fe-969c5a2fba0c",
   "metadata": {},
   "source": [
    "### (c)"
   ]
  },
  {
   "cell_type": "markdown",
   "id": "bab822e5-692b-47d6-996b-684381735795",
   "metadata": {},
   "source": [
    "The new coordinates $\\tilde x$ are in code denoted by $k$:"
   ]
  },
  {
   "cell_type": "code",
   "execution_count": 76,
   "id": "f099252d-c5de-471f-8c54-488bf05c9912",
   "metadata": {},
   "outputs": [
    {
     "data": {
      "image/png": "[encoded data removed]",
      "text/latex": [
       "$\\displaystyle \\left[\\begin{matrix}k_{1}\\\\k_{2}\\end{matrix}\\right]$"
      ],
      "text/plain": [
       "⎡k₁⎤\n",
       "⎢  ⎥\n",
       "⎣k₂⎦"
      ]
     },
     "execution_count": 76,
     "metadata": {},
     "output_type": "execute_result"
    }
   ],
   "source": [
    "k1, k2 = symbols(\"k1 k2\")\n",
    "k = Matrix([k1, k2])\n",
    "k"
   ]
  },
  {
   "cell_type": "markdown",
   "id": "f5e671be-4484-4d36-8b76-59e8ee229019",
   "metadata": {},
   "source": [
    "In the new coordinates, the squared terms have coefficients equal to the eigenvalues of $A$ that correspond to the eigenvectors in $Q$, which were found above, in the same order. We set up the new form $q_1$ in the new coordinates, where the original linear terms from $x^Tb$ are changed to the new basis by performing $\\tilde x^TQ^Tb$:"
   ]
  },
  {
   "cell_type": "code",
   "execution_count": 77,
   "id": "25398f61-0974-46b1-962c-9e24531295eb",
   "metadata": {},
   "outputs": [
    {
     "data": {
      "image/png": "[encoded data removed]",
      "text/latex": [
       "$\\displaystyle k_{1}^{2} - \\sqrt{2} k_{1} + 3 k_{2}^{2} + 3 \\sqrt{2} k_{2} + 2$"
      ],
      "text/plain": [
       "  2               2              \n",
       "k₁  - √2⋅k₁ + 3⋅k₂  + 3⋅√2⋅k₂ + 2"
      ]
     },
     "execution_count": 77,
     "metadata": {},
     "output_type": "execute_result"
    }
   ],
   "source": [
    "q1 = lambda1 * k1**2 + lambda2 * k2**2 + list(k.T * Q.T * b)[0] + c\n",
    "q1"
   ]
  },
  {
   "cell_type": "markdown",
   "id": "b59d2e39-bb86-422d-acc3-293187c627f1",
   "metadata": {},
   "source": [
    "Check:"
   ]
  },
  {
   "cell_type": "code",
   "execution_count": 78,
   "id": "72aab036-040f-4ff8-83fb-d1bb978a9b98",
   "metadata": {},
   "outputs": [
    {
     "data": {
      "image/png": "[encoded data removed]",
      "text/latex": [
       "$\\displaystyle k_{1}^{2} - \\sqrt{2} k_{1} + 3 k_{2}^{2} + 3 \\sqrt{2} k_{2} + 2$"
      ],
      "text/plain": [
       "  2               2              \n",
       "k₁  - √2⋅k₁ + 3⋅k₂  + 3⋅√2⋅k₂ + 2"
      ]
     },
     "execution_count": 78,
     "metadata": {},
     "output_type": "execute_result"
    }
   ],
   "source": [
    "simplify(list(k.T * Q.T * A * Q * k + k.T * Q.T * b)[0] + c)"
   ]
  },
  {
   "cell_type": "markdown",
   "id": "be162873-f480-4cdd-a538-8315c82b0a38",
   "metadata": {},
   "source": [
    "Factorizing by completing the square gives us the following suggestions to the constants:"
   ]
  },
  {
   "cell_type": "code",
   "execution_count": 79,
   "id": "7526e382-04be-4166-89e0-6f5efb77c643",
   "metadata": {},
   "outputs": [
    {
     "data": {
      "image/png": "[encoded data removed]",
      "text/latex": [
       "$\\displaystyle \\left( 1, \\  \\frac{\\sqrt{2}}{2}, \\  3, \\  - \\frac{\\sqrt{2}}{2}\\right)$"
      ],
      "text/plain": [
       "⎛   √2     -√2 ⎞\n",
       "⎜1, ──, 3, ────⎟\n",
       "⎝   2       2  ⎠"
      ]
     },
     "execution_count": 79,
     "metadata": {},
     "output_type": "execute_result"
    }
   ],
   "source": [
    "alpha = 1\n",
    "gamma = sqrt(2) / 2\n",
    "beta = 3\n",
    "delta = -sqrt(2) / 2\n",
    "alpha, gamma, beta, delta"
   ]
  },
  {
   "cell_type": "markdown",
   "id": "1c968d28-f7c7-4b47-8d01-938acaadffee",
   "metadata": {},
   "source": [
    "Setting up the suggested factorized form of $q_1$ to see if it fits:"
   ]
  },
  {
   "cell_type": "code",
   "execution_count": 80,
   "id": "4699eb9b-67c2-4a9d-89d4-4875c52bede7",
   "metadata": {},
   "outputs": [
    {
     "data": {
      "image/png": "[encoded data removed]",
      "text/latex": [
       "$\\displaystyle \\left(k_{1} - \\frac{\\sqrt{2}}{2}\\right)^{2} + 3 \\left(k_{2} + \\frac{\\sqrt{2}}{2}\\right)^{2}$"
      ],
      "text/plain": [
       "         2              2\n",
       "⎛     √2⎞      ⎛     √2⎞ \n",
       "⎜k₁ - ──⎟  + 3⋅⎜k₂ + ──⎟ \n",
       "⎝     2 ⎠      ⎝     2 ⎠ "
      ]
     },
     "execution_count": 80,
     "metadata": {},
     "output_type": "execute_result"
    }
   ],
   "source": [
    "q1_fact = (\n",
    "    alpha * (k1 - gamma) ** 2\n",
    "    - alpha * gamma**2\n",
    "    + beta * (k2 - delta) ** 2\n",
    "    - beta * delta**2\n",
    "    + 2\n",
    ")\n",
    "q1_fact"
   ]
  },
  {
   "cell_type": "code",
   "execution_count": 81,
   "id": "aba3538f-7ec4-467d-be5f-4832f008f8f4",
   "metadata": {},
   "outputs": [
    {
     "data": {
      "image/png": "[encoded data removed]",
      "text/latex": [
       "$\\displaystyle k_{1}^{2} - \\sqrt{2} k_{1} + 3 k_{2}^{2} + 3 \\sqrt{2} k_{2} + 2$"
      ],
      "text/plain": [
       "  2               2              \n",
       "k₁  - √2⋅k₁ + 3⋅k₂  + 3⋅√2⋅k₂ + 2"
      ]
     },
     "execution_count": 81,
     "metadata": {},
     "output_type": "execute_result"
    }
   ],
   "source": [
    "expand(q1_fact)"
   ]
  },
  {
   "cell_type": "code",
   "execution_count": 82,
   "id": "22a08b41-c64a-4ab4-a780-113d0379ed2c",
   "metadata": {},
   "outputs": [
    {
     "data": {
      "text/plain": [
       "True"
      ]
     },
     "execution_count": 82,
     "metadata": {},
     "output_type": "execute_result"
    }
   ],
   "source": [
    "expand(q1_fact) == q1"
   ]
  },
  {
   "cell_type": "markdown",
   "id": "ea325e77-7989-45fc-9976-a08a8caf8747",
   "metadata": {},
   "source": [
    "We see that the above listed four constants give us the wanted factorized form from the problem text, which is a correct factorization of $q_1$."
   ]
  },
  {
   "cell_type": "markdown",
   "id": "098f6ba6-bb53-448b-ae10-412c5cad918a",
   "metadata": {},
   "source": [
    "### (d)"
   ]
  },
  {
   "cell_type": "markdown",
   "id": "19a52064-f68e-4839-8d1c-ee354eaa180f",
   "metadata": {},
   "source": [
    "We are informed that $q_1$ in the new coordinates has a stationary point at $(\\gamma,\\delta)$ with the values of the constants found in (c):"
   ]
  },
  {
   "cell_type": "code",
   "execution_count": 83,
   "id": "75b8e382-2c4d-4a8a-828d-d4bca2b3d950",
   "metadata": {},
   "outputs": [
    {
     "data": {
      "image/png": "[encoded data removed]",
      "text/latex": [
       "$\\displaystyle \\left[\\begin{matrix}\\frac{\\sqrt{2}}{2}\\\\- \\frac{\\sqrt{2}}{2}\\end{matrix}\\right]$"
      ],
      "text/plain": [
       "⎡ √2 ⎤\n",
       "⎢ ── ⎥\n",
       "⎢ 2  ⎥\n",
       "⎢    ⎥\n",
       "⎢-√2 ⎥\n",
       "⎢────⎥\n",
       "⎣ 2  ⎦"
      ]
     },
     "execution_count": 83,
     "metadata": {},
     "output_type": "execute_result"
    }
   ],
   "source": [
    "k_statpt = Matrix([gamma, delta])\n",
    "k_statpt"
   ]
  },
  {
   "cell_type": "markdown",
   "id": "f39b1bff-d766-43e3-8df9-931b222d9630",
   "metadata": {},
   "source": [
    "The point written in the original coordinates:"
   ]
  },
  {
   "cell_type": "code",
   "execution_count": 84,
   "id": "c2f5b2bb-bfa1-40ed-8a3a-a8e43816edfa",
   "metadata": {},
   "outputs": [
    {
     "data": {
      "image/png": "[encoded data removed]",
      "text/latex": [
       "$\\displaystyle \\left[\\begin{matrix}1\\\\0\\end{matrix}\\right]$"
      ],
      "text/plain": [
       "⎡1⎤\n",
       "⎢ ⎥\n",
       "⎣0⎦"
      ]
     },
     "execution_count": 84,
     "metadata": {},
     "output_type": "execute_result"
    }
   ],
   "source": [
    "x_statpt = Q * k_statpt\n",
    "x_statpt"
   ]
  },
  {
   "cell_type": "markdown",
   "id": "7dc0931b-5429-4b18-81f4-d6462d91262f",
   "metadata": {},
   "source": [
    "The Hessian matrix of $q$ is by definition $H_q=2A$. Since the eigenvalues of $A$ are positive at all points, then the eigenvalues of $H_q$ are also positive at all points. Thus, also positive at any stationary points. According to Theorem 5.2.4, if the point $(1,0)$ is a stationary point, then two positive eigenvalues indicate that it is a local minimum."
   ]
  },
  {
   "cell_type": "markdown",
   "id": "ac504812-fa77-4d8d-abda-091e09a7fc5c",
   "metadata": {},
   "source": [
    "## Exercise 5"
   ]
  },
  {
   "cell_type": "markdown",
   "id": "782c24f1-94e4-4da5-8573-b69ea5bc2655",
   "metadata": {},
   "source": [
    "Given parametrization of a solid region, for $u\\in[0,1],v\\in[0,1],w\\in[0,\\pi/2]$:"
   ]
  },
  {
   "cell_type": "code",
   "execution_count": 85,
   "id": "0e2d23bc-516f-43d9-83fc-95326d464b82",
   "metadata": {},
   "outputs": [
    {
     "data": {
      "image/png": "[encoded data removed]",
      "text/latex": [
       "$\\displaystyle \\left[\\begin{matrix}u^{2} v \\cos{\\left(w \\right)}\\\\u^{2} v \\sin{\\left(w \\right)}\\\\u\\end{matrix}\\right]$"
      ],
      "text/plain": [
       "⎡ 2         ⎤\n",
       "⎢u ⋅v⋅cos(w)⎥\n",
       "⎢           ⎥\n",
       "⎢ 2         ⎥\n",
       "⎢u ⋅v⋅sin(w)⎥\n",
       "⎢           ⎥\n",
       "⎣     u     ⎦"
      ]
     },
     "execution_count": 85,
     "metadata": {},
     "output_type": "execute_result"
    }
   ],
   "source": [
    "def r(u, v, w):\n",
    "    return Matrix([v * u**2 * cos(w), v * u**2 * sin(w), u])\n",
    "\n",
    "\n",
    "u, v, w = symbols(\"u v w\")\n",
    "r(u, v, w)"
   ]
  },
  {
   "cell_type": "markdown",
   "id": "f460ba2c-d7f8-4d83-b985-fe25e0a40b8c",
   "metadata": {},
   "source": [
    "We note that $r$ is injective within the interior of the given parameter intervals."
   ]
  },
  {
   "cell_type": "markdown",
   "id": "80664803-f833-4957-835e-20958c4bec70",
   "metadata": {},
   "source": [
    "### (a)"
   ]
  },
  {
   "cell_type": "markdown",
   "id": "b936cb9c-1c8f-4236-82fb-6f6d193ad574",
   "metadata": {},
   "source": [
    "Plotting the region:"
   ]
  },
  {
   "cell_type": "code",
   "execution_count": 86,
   "id": "e97028b5-cb62-4877-ab14-dab0b499c4bd",
   "metadata": {},
   "outputs": [
    {
     "data": {
      "image/png": "[encoded data removed]",
      "text/plain": [
       "<Figure size 432x288 with 1 Axes>"
      ]
     },
     "metadata": {
      "needs_background": "light"
     },
     "output_type": "display_data"
    }
   ],
   "source": [
    "from sympy.plotting import *\n",
    "\n",
    "pa = dtuplot.plot3d_parametric_surface(\n",
    "    *r(u, v, w).subs(v, 1), (u, 0, 1), (w, 0, pi / 2), show=False\n",
    ")\n",
    "pb = dtuplot.plot3d_parametric_surface(\n",
    "    *r(u, v, w).subs(w, pi / 2), (u, 0, 1), (v, 0, 1), show=False\n",
    ")\n",
    "pc = dtuplot.plot3d_parametric_surface(\n",
    "    *r(u, v, w).subs(w, 0), (u, 0, 1), (v, 0, 1), show=False\n",
    ")\n",
    "pd = dtuplot.plot3d_parametric_surface(\n",
    "    *r(u, v, w).subs(u, 1),\n",
    "    (v, 0, 1),\n",
    "    (w, 0, pi / 2),\n",
    "    {\"color\": \"royalblue\", \"alpha\": 0.7},\n",
    "    show=False\n",
    ")\n",
    "(pa + pb + pc + pd).show()"
   ]
  },
  {
   "cell_type": "markdown",
   "id": "ba8a7843-8443-494f-897d-a9e77192e541",
   "metadata": {},
   "source": [
    "The Jacobian matrix:"
   ]
  },
  {
   "cell_type": "code",
   "execution_count": 87,
   "id": "fbc2dd34-0b17-4cef-b98a-f54384e5141d",
   "metadata": {},
   "outputs": [
    {
     "data": {
      "image/png": "[encoded data removed]",
      "text/latex": [
       "$\\displaystyle \\left[\\begin{matrix}2 u v \\cos{\\left(w \\right)} & u^{2} \\cos{\\left(w \\right)} & - u^{2} v \\sin{\\left(w \\right)}\\\\2 u v \\sin{\\left(w \\right)} & u^{2} \\sin{\\left(w \\right)} & u^{2} v \\cos{\\left(w \\right)}\\\\1 & 0 & 0\\end{matrix}\\right]$"
      ],
      "text/plain": [
       "⎡               2           2         ⎤\n",
       "⎢2⋅u⋅v⋅cos(w)  u ⋅cos(w)  -u ⋅v⋅sin(w)⎥\n",
       "⎢                                     ⎥\n",
       "⎢               2          2          ⎥\n",
       "⎢2⋅u⋅v⋅sin(w)  u ⋅sin(w)  u ⋅v⋅cos(w) ⎥\n",
       "⎢                                     ⎥\n",
       "⎣     1            0           0      ⎦"
      ]
     },
     "execution_count": 87,
     "metadata": {},
     "output_type": "execute_result"
    }
   ],
   "source": [
    "Jac_mat = Matrix.hstack(diff(r(u, v, w), u), diff(\n",
    "    r(u, v, w), v), diff(r(u, v, w), w))\n",
    "Jac_mat"
   ]
  },
  {
   "cell_type": "markdown",
   "id": "aa1d6475-51a8-4aaf-a1b6-39e5867744ae",
   "metadata": {},
   "source": [
    "The Jacobian determinant:"
   ]
  },
  {
   "cell_type": "code",
   "execution_count": 88,
   "id": "cd6599ff-1bc5-45cb-83cd-1a2fe8e2de67",
   "metadata": {},
   "outputs": [
    {
     "data": {
      "image/png": "[encoded data removed]",
      "text/latex": [
       "$\\displaystyle u^{4} v$"
      ],
      "text/plain": [
       " 4  \n",
       "u ⋅v"
      ]
     },
     "execution_count": 88,
     "metadata": {},
     "output_type": "execute_result"
    }
   ],
   "source": [
    "Jac_det = simplify(Jac_mat.det())\n",
    "Jac_det"
   ]
  },
  {
   "cell_type": "markdown",
   "id": "519131f5-5d52-458f-8d1c-6015813b5a6a",
   "metadata": {},
   "source": [
    "### (b)"
   ]
  },
  {
   "cell_type": "markdown",
   "id": "63423b01-7dc1-4476-8308-19c4518827f7",
   "metadata": {},
   "source": [
    "Given vector field:"
   ]
  },
  {
   "cell_type": "code",
   "execution_count": 89,
   "id": "57b72ac2-b014-4258-848c-55503afe4406",
   "metadata": {},
   "outputs": [
    {
     "data": {
      "image/png": "[encoded data removed]",
      "text/latex": [
       "$\\displaystyle \\left[\\begin{matrix}x + e^{y z}\\\\2 y - e^{x z}\\\\3 z + e^{x y}\\end{matrix}\\right]$"
      ],
      "text/plain": [
       "⎡      y⋅z ⎤\n",
       "⎢ x + ℯ    ⎥\n",
       "⎢          ⎥\n",
       "⎢       x⋅z⎥\n",
       "⎢2⋅y - ℯ   ⎥\n",
       "⎢          ⎥\n",
       "⎢       x⋅y⎥\n",
       "⎣3⋅z + ℯ   ⎦"
      ]
     },
     "execution_count": 89,
     "metadata": {},
     "output_type": "execute_result"
    }
   ],
   "source": [
    "x, y, z = symbols(\"x y z\")\n",
    "V = Matrix([x + exp(y * z), 2 * y - exp(x * z), 3 * z + exp(x * y)])\n",
    "V"
   ]
  },
  {
   "cell_type": "markdown",
   "id": "849fd39b-9ad2-4786-89df-604178a64abc",
   "metadata": {},
   "source": [
    "Given function:"
   ]
  },
  {
   "cell_type": "code",
   "execution_count": 91,
   "id": "488540c9-1d34-401e-9181-47ac3500bae7",
   "metadata": {},
   "outputs": [
    {
     "data": {
      "image/png": "[encoded data removed]",
      "text/latex": [
       "$\\displaystyle 6$"
      ],
      "text/plain": [
       "6"
      ]
     },
     "execution_count": 91,
     "metadata": {},
     "output_type": "execute_result"
    }
   ],
   "source": [
    "f = Lambda(tuple((x, y, z)), diff(V[0], x) + diff(V[1], y) + diff(V[2], z))\n",
    "f(x, y, z)"
   ]
  },
  {
   "cell_type": "markdown",
   "id": "a6ae0745-3129-4a0c-be1c-3b30b0bad965",
   "metadata": {},
   "source": [
    "### (c)"
   ]
  },
  {
   "cell_type": "markdown",
   "id": "1ea5556c-1b9c-4851-b00d-8fa5f69f0ca9",
   "metadata": {},
   "source": [
    "We see above that $f$ is a constant and thus continuous function.\n",
    "A continuous function satisfying the conditions (I) and (II) on page 140,are guaranteed to be Riemann integrable, according to the remark after definition 6.3.1."
   ]
  },
  {
   "cell_type": "markdown",
   "id": "58a1c0af-8791-42a2-9959-143b30caae57",
   "metadata": {},
   "source": [
    "### (d)"
   ]
  },
  {
   "cell_type": "markdown",
   "id": "d3e0d4d2-3fe2-4c56-a7f1-7e380a2a88ff",
   "metadata": {},
   "source": [
    "Since $r$ is injective and since the Jacobian determinant is non-zero within the interior of the parameter intervals, then we can compute the volume integral of $f$ over the solid region by integrating along the axis-parallel $u,v,w$ region and adjusted by the Jacobian function, which is the absolute value of the Jacobian determinant in this case:"
   ]
  },
  {
   "cell_type": "code",
   "execution_count": 92,
   "id": "4b331a07-ad90-45c7-a7dd-399128913da1",
   "metadata": {},
   "outputs": [
    {
     "data": {
      "image/png": "[encoded data removed]",
      "text/latex": [
       "$\\displaystyle \\frac{3 \\pi}{10}$"
      ],
      "text/plain": [
       "3⋅π\n",
       "───\n",
       " 10"
      ]
     },
     "execution_count": 92,
     "metadata": {},
     "output_type": "execute_result"
    }
   ],
   "source": [
    "integrate(f(*r(u, v, w)) * abs(Jac_det), (u, 0, 1), (v, 0, 1), (w, 0, pi / 2))"
   ]
  },
  {
   "cell_type": "markdown",
   "id": "4eaaef66-e480-4b5b-a755-cec82940c738",
   "metadata": {},
   "source": [
    "## Exercise 6"
   ]
  },
  {
   "cell_type": "markdown",
   "id": "eba417c8-ccc1-461a-a24c-9029be757c4e",
   "metadata": {},
   "source": [
    "Given elevated surface: $G=\\{(x,y,h(x,y))|0\\leq x\\leq2,0\\leq y\\leq1\\}$, where $h$ is given as:"
   ]
  },
  {
   "cell_type": "code",
   "execution_count": 93,
   "id": "263dc4d3-f92b-467c-b334-6aef03ac9c67",
   "metadata": {},
   "outputs": [
    {
     "data": {
      "image/png": "[encoded data removed]",
      "text/latex": [
       "$\\displaystyle 2 x - y + 1$"
      ],
      "text/plain": [
       "2⋅x - y + 1"
      ]
     },
     "execution_count": 93,
     "metadata": {},
     "output_type": "execute_result"
    }
   ],
   "source": [
    "def h(x, y):\n",
    "    return 2 * x - y + 1\n",
    "\n",
    "\n",
    "x, y = symbols(\"x y\")\n",
    "h(x, y)"
   ]
  },
  {
   "cell_type": "markdown",
   "id": "f6897516-12b7-4fa6-96cd-4bd58eeb3523",
   "metadata": {},
   "source": [
    "### (a)"
   ]
  },
  {
   "cell_type": "markdown",
   "id": "1e7b7e38-0cb6-4a3d-b08f-d85d182e5ee9",
   "metadata": {},
   "source": [
    "Parametrisation of $G$:"
   ]
  },
  {
   "cell_type": "code",
   "execution_count": 94,
   "id": "c5d27e64-e713-4d99-8db1-3494ffde61a7",
   "metadata": {},
   "outputs": [
    {
     "data": {
      "image/png": "[encoded data removed]",
      "text/latex": [
       "$\\displaystyle \\left[\\begin{matrix}u\\\\v\\\\2 u - v + 1\\end{matrix}\\right]$"
      ],
      "text/plain": [
       "⎡     u     ⎤\n",
       "⎢           ⎥\n",
       "⎢     v     ⎥\n",
       "⎢           ⎥\n",
       "⎣2⋅u - v + 1⎦"
      ]
     },
     "execution_count": 94,
     "metadata": {},
     "output_type": "execute_result"
    }
   ],
   "source": [
    "r = Lambda(tuple((u, v)), Matrix([u, v, h(u, v)]))\n",
    "\n",
    "u, v = symbols(\"u v\")\n",
    "r(u, v)"
   ]
  },
  {
   "cell_type": "markdown",
   "id": "5aed9e41-4ded-435d-ba7f-8ff8d5e0dc90",
   "metadata": {},
   "source": [
    "wich parameter intervals $u\\in[0,2],v\\in[0,1]$. This parametrization is injective in the interior. Plot:"
   ]
  },
  {
   "cell_type": "code",
   "execution_count": 95,
   "id": "30099976-eb55-4899-a0b8-1026db216738",
   "metadata": {},
   "outputs": [
    {
     "data": {
      "image/png": "[encoded data removed]",
      "text/plain": [
       "<Figure size 432x288 with 1 Axes>"
      ]
     },
     "metadata": {
      "needs_background": "light"
     },
     "output_type": "display_data"
    },
    {
     "data": {
      "text/plain": [
       "<sympy.plotting.plot.Plot at 0x78d3fc04ba90>"
      ]
     },
     "execution_count": 95,
     "metadata": {},
     "output_type": "execute_result"
    }
   ],
   "source": [
    "plot3d_parametric_surface(*r(u, v), (u, 0, 2), (v, 0, 1))"
   ]
  },
  {
   "cell_type": "markdown",
   "id": "07202d12-cebd-473e-88af-36ecfc976574",
   "metadata": {},
   "source": [
    "Normal vector to the surface:"
   ]
  },
  {
   "cell_type": "code",
   "execution_count": 96,
   "id": "04f4b702-3087-4d8a-977a-b9f35feab427",
   "metadata": {},
   "outputs": [
    {
     "data": {
      "image/png": "[encoded data removed]",
      "text/latex": [
       "$\\displaystyle \\left[\\begin{matrix}-2\\\\1\\\\1\\end{matrix}\\right]$"
      ],
      "text/plain": [
       "⎡-2⎤\n",
       "⎢  ⎥\n",
       "⎢1 ⎥\n",
       "⎢  ⎥\n",
       "⎣1 ⎦"
      ]
     },
     "execution_count": 96,
     "metadata": {},
     "output_type": "execute_result"
    }
   ],
   "source": [
    "N = diff(r(u, v), u).cross(diff(r(u, v), v))\n",
    "N"
   ]
  },
  {
   "cell_type": "markdown",
   "id": "e30fe5b4-ca1d-4b06-b04c-ac9f37987977",
   "metadata": {},
   "source": [
    "The Jacobian function in case of surface integrals is the length (norm) of the normal vector:"
   ]
  },
  {
   "cell_type": "code",
   "execution_count": 97,
   "id": "471913bb-7c9c-4253-8220-8e3c9425fd87",
   "metadata": {},
   "outputs": [
    {
     "data": {
      "image/png": "[encoded data removed]",
      "text/latex": [
       "$\\displaystyle \\sqrt{6}$"
      ],
      "text/plain": [
       "√6"
      ]
     },
     "execution_count": 97,
     "metadata": {},
     "output_type": "execute_result"
    }
   ],
   "source": [
    "Jac = N.norm()\n",
    "Jac"
   ]
  },
  {
   "cell_type": "markdown",
   "id": "2867f07f-dc10-4d98-9540-871dd03b3761",
   "metadata": {},
   "source": [
    "The area of $G$ is found as a surface integral of the scalar 1 over the surface. Since $r$ is injective and the Jacobian function is non-zero on the interior, then we will carry out the surface integral along $u$ and $v$ and adjust by the Jacobian:"
   ]
  },
  {
   "cell_type": "code",
   "execution_count": 98,
   "id": "d6bfbeeb-b866-49e8-821b-b41676244652",
   "metadata": {},
   "outputs": [
    {
     "data": {
      "image/png": "[encoded data removed]",
      "text/latex": [
       "$\\displaystyle 2 \\sqrt{6}$"
      ],
      "text/plain": [
       "2⋅√6"
      ]
     },
     "execution_count": 98,
     "metadata": {},
     "output_type": "execute_result"
    }
   ],
   "source": [
    "integrate(Jac, (u, 0, 2), (v, 0, 1))"
   ]
  },
  {
   "cell_type": "markdown",
   "id": "a6febd7c-c53a-4f7a-9d50-fa713255c34f",
   "metadata": {},
   "source": [
    "### (b)"
   ]
  },
  {
   "cell_type": "markdown",
   "id": "619666e9-0dc3-43ae-8dfd-f91f96532c89",
   "metadata": {},
   "source": [
    "The region is now cut in two by a vertical plane through the points $(0,1)$ and $(2,0)$. This cuts the region in the $(x,y)$ plane into two triangles, of which we denote the \"lower\" triangle by $\\Gamma_1$. Parametrized, where $u\\in[0,2],v\\in[0,1]$:"
   ]
  },
  {
   "cell_type": "code",
   "execution_count": 99,
   "id": "0a0e9f8d-dd5f-4b92-a9d7-22584c88b809",
   "metadata": {},
   "outputs": [
    {
     "data": {
      "image/png": "[encoded data removed]",
      "text/latex": [
       "$\\displaystyle \\left[\\begin{matrix}u\\\\v \\left(2 - u\\right)\\end{matrix}\\right]$"
      ],
      "text/plain": [
       "⎡    u    ⎤\n",
       "⎢         ⎥\n",
       "⎣v⋅(2 - u)⎦"
      ]
     },
     "execution_count": 99,
     "metadata": {},
     "output_type": "execute_result"
    }
   ],
   "source": [
    "s = Matrix([u, (2 - u) * v])\n",
    "s"
   ]
  },
  {
   "cell_type": "markdown",
   "id": "ef195720-a5a8-45ab-a3ac-a82af6cacad9",
   "metadata": {},
   "source": [
    "The elevated surface above $\\Gamma_1$ is denoted $G_1$. A parametrization of $G_1$, where $u\\in[0,2],v\\in[0,1]$:"
   ]
  },
  {
   "cell_type": "code",
   "execution_count": 100,
   "id": "9e58f797-67c5-44c6-b95d-ea4069d375bc",
   "metadata": {},
   "outputs": [
    {
     "data": {
      "image/png": "[encoded data removed]",
      "text/latex": [
       "$\\displaystyle \\left[\\begin{matrix}u\\\\v \\left(2 - u\\right)\\\\2 u - v \\left(2 - u\\right) + 1\\end{matrix}\\right]$"
      ],
      "text/plain": [
       "⎡         u         ⎤\n",
       "⎢                   ⎥\n",
       "⎢     v⋅(2 - u)     ⎥\n",
       "⎢                   ⎥\n",
       "⎣2⋅u - v⋅(2 - u) + 1⎦"
      ]
     },
     "execution_count": 100,
     "metadata": {},
     "output_type": "execute_result"
    }
   ],
   "source": [
    "r1 = Lambda(tuple((u, v)), Matrix([*s, h(*s)]))\n",
    "r1(u, v)"
   ]
  },
  {
   "cell_type": "markdown",
   "id": "022ef91a",
   "metadata": {},
   "source": [
    "Plot:"
   ]
  },
  {
   "cell_type": "code",
   "execution_count": 101,
   "id": "6a50f759",
   "metadata": {},
   "outputs": [
    {
     "data": {
      "image/png": "[encoded data removed]",
      "text/plain": [
       "<Figure size 432x288 with 1 Axes>"
      ]
     },
     "metadata": {
      "needs_background": "light"
     },
     "output_type": "display_data"
    },
    {
     "data": {
      "text/plain": [
       "<sympy.plotting.plot.Plot at 0x78d4164a6bf0>"
      ]
     },
     "execution_count": 101,
     "metadata": {},
     "output_type": "execute_result"
    }
   ],
   "source": [
    "plot3d_parametric_surface(*r1(u, v), (u, 0, 2), (v, 0, 1))"
   ]
  },
  {
   "cell_type": "markdown",
   "id": "631a1759-440b-4459-a523-52194e1ecccb",
   "metadata": {},
   "source": [
    "Normal vector:"
   ]
  },
  {
   "cell_type": "code",
   "execution_count": 102,
   "id": "134860fd-a226-4968-b8d8-52fdb5ab73ff",
   "metadata": {},
   "outputs": [
    {
     "data": {
      "image/png": "[encoded data removed]",
      "text/latex": [
       "$\\displaystyle \\left[\\begin{matrix}2 u - 4\\\\2 - u\\\\2 - u\\end{matrix}\\right]$"
      ],
      "text/plain": [
       "⎡2⋅u - 4⎤\n",
       "⎢       ⎥\n",
       "⎢ 2 - u ⎥\n",
       "⎢       ⎥\n",
       "⎣ 2 - u ⎦"
      ]
     },
     "execution_count": 102,
     "metadata": {},
     "output_type": "execute_result"
    }
   ],
   "source": [
    "N1 = simplify(diff(r1(u, v), u).cross(diff(r1(u, v), v)))\n",
    "N1"
   ]
  },
  {
   "cell_type": "markdown",
   "id": "6c62fbac-0f85-44c3-8d0e-b13f845d320b",
   "metadata": {},
   "source": [
    "The Jacobian function:"
   ]
  },
  {
   "cell_type": "code",
   "execution_count": 103,
   "id": "29749742-9eb8-4600-b6b6-b1d50b0f2ec2",
   "metadata": {},
   "outputs": [
    {
     "data": {
      "image/png": "[encoded data removed]",
      "text/latex": [
       "$\\displaystyle \\sqrt{6} \\left|{u - 2}\\right|$"
      ],
      "text/plain": [
       "√6⋅│u - 2│"
      ]
     },
     "execution_count": 103,
     "metadata": {},
     "output_type": "execute_result"
    }
   ],
   "source": [
    "simplify(N1.norm())"
   ]
  },
  {
   "cell_type": "markdown",
   "id": "e500398c-ed89-4b23-b2e8-f54e04513333",
   "metadata": {},
   "source": [
    "Since $u\\leq2$, we simplify to:"
   ]
  },
  {
   "cell_type": "code",
   "execution_count": 104,
   "id": "a34b54a7-b928-41b7-b092-03961a2185b1",
   "metadata": {},
   "outputs": [
    {
     "data": {
      "image/png": "[encoded data removed]",
      "text/latex": [
       "$\\displaystyle - \\sqrt{6} \\left(u - 2\\right)$"
      ],
      "text/plain": [
       "-√6⋅(u - 2)"
      ]
     },
     "execution_count": 104,
     "metadata": {},
     "output_type": "execute_result"
    }
   ],
   "source": [
    "Jac1 = -sqrt(6) * (u - 2)\n",
    "Jac1"
   ]
  },
  {
   "cell_type": "markdown",
   "id": "f9707f4d-9224-4768-af10-168ff8c6a8c4",
   "metadata": {},
   "source": [
    "### (c)"
   ]
  },
  {
   "cell_type": "markdown",
   "id": "272d8627-09f9-47c2-bfd0-81fdcf519ada",
   "metadata": {},
   "source": [
    "Given function"
   ]
  },
  {
   "cell_type": "code",
   "execution_count": 105,
   "id": "82a79d3c-bd93-4ac2-9177-053b0d481700",
   "metadata": {},
   "outputs": [
    {
     "data": {
      "image/png": "[encoded data removed]",
      "text/latex": [
       "$\\displaystyle x + y + z - 1$"
      ],
      "text/plain": [
       "x + y + z - 1"
      ]
     },
     "execution_count": 105,
     "metadata": {},
     "output_type": "execute_result"
    }
   ],
   "source": [
    "def f(x, y, z):\n",
    "    return x + y + z - 1\n",
    "\n",
    "\n",
    "f(x, y, z)"
   ]
  },
  {
   "cell_type": "markdown",
   "id": "339f8006-7dd6-4849-b155-82d00f8c919c",
   "metadata": {},
   "source": [
    "Surface integral of $f$ over $G_1$ is performed over the parameter region since $r_1$ is injective and the Jacobian function non-zero on the interior of $\\Gamma_1$:"
   ]
  },
  {
   "cell_type": "code",
   "execution_count": 106,
   "id": "8212b063-c64c-4e88-8acc-9f522cbd2781",
   "metadata": {},
   "outputs": [
    {
     "data": {
      "image/png": "[encoded data removed]",
      "text/latex": [
       "$\\displaystyle 4 \\sqrt{6}$"
      ],
      "text/plain": [
       "4⋅√6"
      ]
     },
     "execution_count": 106,
     "metadata": {},
     "output_type": "execute_result"
    }
   ],
   "source": [
    "integrate(f(*r1(u, v)) * Jac1, (u, 0, 2), (v, 0, 1))"
   ]
  }
 ],
 "metadata": {
  "kernelspec": {
   "display_name": "Python 3 (ipykernel)",
   "language": "python",
   "name": "python3"
  },
  "language_info": {
   "codemirror_mode": {
    "name": "ipython",
    "version": 3
   },
   "file_extension": ".py",
   "mimetype": "text/x-python",
   "name": "python",
   "nbconvert_exporter": "python",
   "pygments_lexer": "ipython3",
   "version": "3.10.12"
  }
 },
 "nbformat": 4,
 "nbformat_minor": 5
}
