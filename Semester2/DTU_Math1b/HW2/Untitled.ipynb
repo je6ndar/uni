{
 "cells": [
  {
   "cell_type": "code",
   "execution_count": 1,
   "id": "7187b3c5-1468-4288-91c8-651ba9ecb0b7",
   "metadata": {},
   "outputs": [],
   "source": [
    "from sympy import*"
   ]
  },
  {
   "cell_type": "code",
   "execution_count": 2,
   "id": "4bbe1e5a-6e7a-4b46-b041-39fd27b6aa9a",
   "metadata": {},
   "outputs": [],
   "source": [
    "x1, x2 = symbols(\"x1, x2\")"
   ]
  },
  {
   "cell_type": "code",
   "execution_count": 5,
   "id": "3ea69222-d951-4269-9c04-988589f21b0d",
   "metadata": {},
   "outputs": [],
   "source": [
    "f = x1**2 *x2/(x1**4 + x2**2)\n",
    "f1 = diff(f, x1)\n",
    "f2 = diff(f, x2)"
   ]
  },
  {
   "cell_type": "code",
   "execution_count": 7,
   "id": "b947cafa-c78e-4c31-bfb6-eb10c97349fa",
   "metadata": {},
   "outputs": [
    {
     "data": {
      "text/latex": [
       "$\\displaystyle - \\frac{4 x_{1}^{5} x_{2}}{\\left(x_{1}^{4} + x_{2}^{2}\\right)^{2}} + \\frac{2 x_{1} x_{2}}{x_{1}^{4} + x_{2}^{2}}$"
      ],
      "text/plain": [
       "-4*x1**5*x2/(x1**4 + x2**2)**2 + 2*x1*x2/(x1**4 + x2**2)"
      ]
     },
     "metadata": {},
     "output_type": "display_data"
    },
    {
     "data": {
      "text/latex": [
       "$\\displaystyle - \\frac{2 x_{1}^{2} x_{2}^{2}}{\\left(x_{1}^{4} + x_{2}^{2}\\right)^{2}} + \\frac{x_{1}^{2}}{x_{1}^{4} + x_{2}^{2}}$"
      ],
      "text/plain": [
       "-2*x1**2*x2**2/(x1**4 + x2**2)**2 + x1**2/(x1**4 + x2**2)"
      ]
     },
     "metadata": {},
     "output_type": "display_data"
    }
   ],
   "source": [
    "display(f1, f2)"
   ]
  },
  {
   "cell_type": "code",
   "execution_count": 8,
   "id": "5e925ad1-96c6-4fb8-b429-dbf369722d06",
   "metadata": {},
   "outputs": [
    {
     "data": {
      "text/latex": [
       "$\\displaystyle 0$"
      ],
      "text/plain": [
       "0"
      ]
     },
     "execution_count": 8,
     "metadata": {},
     "output_type": "execute_result"
    }
   ],
   "source": [
    "f1.subs(x1,0)"
   ]
  },
  {
   "cell_type": "code",
   "execution_count": 9,
   "id": "90c1b542-7b28-4664-8436-86f3fa3433bd",
   "metadata": {},
   "outputs": [
    {
     "data": {
      "text/latex": [
       "$\\displaystyle \\frac{1}{x_{1}^{2}}$"
      ],
      "text/plain": [
       "x1**(-2)"
      ]
     },
     "execution_count": 9,
     "metadata": {},
     "output_type": "execute_result"
    }
   ],
   "source": [
    "f2.subs(x2,0)"
   ]
  },
  {
   "cell_type": "code",
   "execution_count": null,
   "id": "e712f97f-e3e9-4894-b35e-24bddb5db3e8",
   "metadata": {},
   "outputs": [],
   "source": []
  }
 ],
 "metadata": {
  "kernelspec": {
   "display_name": "Python 3 (ipykernel)",
   "language": "python",
   "name": "python3"
  },
  "language_info": {
   "codemirror_mode": {
    "name": "ipython",
    "version": 3
   },
   "file_extension": ".py",
   "mimetype": "text/x-python",
   "name": "python",
   "nbconvert_exporter": "python",
   "pygments_lexer": "ipython3",
   "version": "3.10.12"
  }
 },
 "nbformat": 4,
 "nbformat_minor": 5
}
