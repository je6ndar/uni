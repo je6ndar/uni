{
 "cells": [
  {
   "cell_type": "code",
   "execution_count": 9,
   "metadata": {},
   "outputs": [],
   "source": [
    "from sympy import symbols, ln, sin, simplify, Matrix\n",
    "\n",
    "# Define symbols\n",
    "R_i, R_o, R_c, R_e, B_rem, p, θ, μ_r = symbols('R_i R_o R_c R_e B_rem p θ μ_r', real=True, positive=True)\n",
    "a, b, c1, c2, c3, d1, d2, d3 = symbols('a bc c1 c2 c3 d1 d2 d3', real=True, positive=True)\n",
    "Ri, Ro, Rc, Re, Brem, mu_r = symbols(\"Ri, Ro, Rc, Re, Brem, mu_r\")\n",
    "\n",
    "lhs_matrix = Matrix([\n",
    "    [1,-1, 0, Ri**(-2), -Ri**(-2), 0],\n",
    "    [0, -1, 1, 0, -Ro**(-2), Ro**(-2)],\n",
    "    [mu_r, -1, 0, -Ri**(-2) * mu_r, Ri**(-2), 0],\n",
    "    [0, -1, mu_r, 0, Ro**(-2), -Ro**(-2) * mu_r],\n",
    "    [1, 0, 0, -Rc**(-2), 0, 0],\n",
    "    [0, 0, 1, 0, 0, -Re**(-2)]\n",
    "])\n",
    "\n",
    "# Define right-hand side expressions\n",
    "rhs_matrix = Matrix([\n",
    "    -B_rem * ln(R_i),\n",
    "    -B_rem * ln(R_o),\n",
    "    -B_rem * (1 + ln(R_i) - (sin(θ)*p/sin(θ))),\n",
    "    -B_rem * (1 + ln(R_o) - (sin(θ)*p/sin(θ))),\n",
    "    0,\n",
    "    0\n",
    "])\n",
    "\n",
    "solution = simplify(lhs_matrix**(-1)*rhs_matrix)"
   ]
  },
  {
   "cell_type": "code",
   "execution_count": 10,
   "metadata": {},
   "outputs": [],
   "source": [
    "\n",
    "a_eq = (Re**2 - Ro**2)/(Re**2 + Ro**2) \n",
    "b_eq = -(Ri**2 - Rc**2)/(Ri**2 + Rc**2)"
   ]
  },
  {
   "cell_type": "code",
   "execution_count": 11,
   "metadata": {},
   "outputs": [],
   "source": [
    "a, b, c1, c2, c3, d1, d2, d3 = symbols('a bc c1 c2 c3 d1 d2 d3', real=True, positive=True)"
   ]
  },
  {
   "cell_type": "code",
   "execution_count": 12,
   "metadata": {},
   "outputs": [],
   "source": [
    "d2_eq = -((mu_r*a-1)/(mu_r*a+1)*Ro**(-2) - (mu_r*b-1)/(mu_r*b+1)*Ri**(-2))**(-1) * Brem * ln(Ri/Ro)\n",
    "c1_eq = (d2/(Ri**2+Rc**2))*(1-((mu_r*b-1)/(mu_r*b+1)))\n",
    "d1_eq = c1*Rc**2\n",
    "c2_eq = -d2*((mu_r*a-1)/(mu_r*a+1))*Ro**(-2) + Brem*ln(Ro)\n",
    "c3_eq = (d2/(Ro**2+Re**2))*(1-((mu_r*a-1)/(mu_r*a+1)))\n",
    "d3_eq = c3*Re**2"
   ]
  },
  {
   "cell_type": "code",
   "execution_count": 13,
   "metadata": {},
   "outputs": [],
   "source": [
    "d2_eq = d2_eq.subs([(a, a_eq), (b, b_eq), (c1, c1_eq), (c2, c2_eq), (c3, c3_eq), (d1, d1_eq), (d2, d2_eq), (d3, d3_eq)])\n",
    "c1_eq = c1_eq.subs([(a, a_eq), (b, b_eq), (c1, c1_eq), (c2, c2_eq), (c3, c3_eq), (d1, d1_eq), (d2, d2_eq), (d3, d3_eq)])\n",
    "d1_eq = d1_eq.subs([(a, a_eq), (b, b_eq), (c1, c1_eq), (c2, c2_eq), (c3, c3_eq), (d1, d1_eq), (d2, d2_eq), (d3, d3_eq)])\n",
    "c2_eq = c2_eq.subs([(a, a_eq), (b, b_eq), (c1, c1_eq), (c2, c2_eq), (c3, c3_eq), (d1, d1_eq), (d2, d2_eq), (d3, d3_eq)])\n",
    "c3_eq = c3_eq.subs([(a, a_eq), (b, b_eq), (c1, c1_eq), (c2, c2_eq), (c3, c3_eq), (d1, d1_eq), (d2, d2_eq), (d3, d3_eq)])\n",
    "d3_eq = d3_eq.subs([(a, a_eq), (b, b_eq), (c1, c1_eq), (c2, c2_eq), (c3, c3_eq), (d1, d1_eq), (d2, d2_eq), (d3, d3_eq)])"
   ]
  },
  {
   "cell_type": "code",
   "execution_count": 14,
   "metadata": {},
   "outputs": [
    {
     "data": {
      "text/latex": [
       "$\\displaystyle \\left[\\begin{matrix}\\frac{B_{rem} Ri^{2} \\cdot \\left(2 Ro^{2} \\mu_{r} \\left(Re^{2} - Ro^{2}\\right) \\log{\\left(R_{o} \\right)} + 2 Ro^{2} \\left(Re^{2} + Ro^{2}\\right) \\log{\\left(R_{o} \\right)} - \\left(- Re^{2} Ri^{2} \\mu_{r} + Re^{2} Ri^{2} + Re^{2} Ro^{2} \\mu_{r} + Re^{2} Ro^{2} + Ri^{2} Ro^{2} \\mu_{r} + Ri^{2} Ro^{2} - Ro^{4} \\mu_{r} + Ro^{4}\\right) \\log{\\left(R_{i} \\right)} - \\left(Re^{2} Ri^{2} \\mu_{r} - Re^{2} Ri^{2} + Re^{2} Ro^{2} \\mu_{r} + Re^{2} Ro^{2} - Ri^{2} Ro^{2} \\mu_{r} - Ri^{2} Ro^{2} - Ro^{4} \\mu_{r} + Ro^{4}\\right) \\log{\\left(R_{i} \\right)}\\right)}{Rc^{2} Re^{2} Ri^{2} \\mu_{r}^{2} - Rc^{2} Re^{2} Ri^{2} - Rc^{2} Re^{2} Ro^{2} \\mu_{r}^{2} + Rc^{2} Re^{2} Ro^{2} - Rc^{2} Ri^{2} Ro^{2} \\mu_{r}^{2} - 2 Rc^{2} Ri^{2} Ro^{2} \\mu_{r} - Rc^{2} Ri^{2} Ro^{2} + Rc^{2} Ro^{4} \\mu_{r}^{2} - 2 Rc^{2} Ro^{4} \\mu_{r} + Rc^{2} Ro^{4} - Re^{2} Ri^{4} \\mu_{r}^{2} + 2 Re^{2} Ri^{4} \\mu_{r} - Re^{2} Ri^{4} + Re^{2} Ri^{2} Ro^{2} \\mu_{r}^{2} + 2 Re^{2} Ri^{2} Ro^{2} \\mu_{r} + Re^{2} Ri^{2} Ro^{2} + Ri^{4} Ro^{2} \\mu_{r}^{2} - Ri^{4} Ro^{2} - Ri^{2} Ro^{4} \\mu_{r}^{2} + Ri^{2} Ro^{4}}\\\\\\frac{B_{rem} \\left(Ri^{2} \\mu_{r} \\left(Rc^{2} Re^{2} \\mu_{r} - Rc^{2} Re^{2} - Rc^{2} Ro^{2} \\mu_{r} - Rc^{2} Ro^{2} - Re^{2} Ri^{2} \\mu_{r} + Re^{2} Ri^{2} + Ri^{2} Ro^{2} \\mu_{r} + Ri^{2} Ro^{2}\\right) \\log{\\left(R_{i} \\right)} - Ri^{2} \\left(- Rc^{2} Re^{2} \\mu_{r} + Rc^{2} Re^{2} + Rc^{2} Ro^{2} \\mu_{r} + Rc^{2} Ro^{2} - Re^{2} Ri^{2} \\mu_{r} + Re^{2} Ri^{2} + Ri^{2} Ro^{2} \\mu_{r} + Ri^{2} Ro^{2}\\right) \\log{\\left(R_{i} \\right)} - Ro^{2} \\mu_{r} \\left(Rc^{2} Re^{2} \\mu_{r} - Rc^{2} Re^{2} - Rc^{2} Ro^{2} \\mu_{r} + Rc^{2} Ro^{2} - Re^{2} Ri^{2} \\mu_{r} - Re^{2} Ri^{2} + Ri^{2} Ro^{2} \\mu_{r} + Ri^{2} Ro^{2}\\right) \\log{\\left(R_{o} \\right)} + Ro^{2} \\left(- Rc^{2} Re^{2} \\mu_{r} + Rc^{2} Re^{2} - Rc^{2} Ro^{2} \\mu_{r} + Rc^{2} Ro^{2} + Re^{2} Ri^{2} \\mu_{r} + Re^{2} Ri^{2} + Ri^{2} Ro^{2} \\mu_{r} + Ri^{2} Ro^{2}\\right) \\log{\\left(R_{o} \\right)}\\right)}{Rc^{2} Re^{2} Ri^{2} \\mu_{r}^{2} - Rc^{2} Re^{2} Ri^{2} - Rc^{2} Re^{2} Ro^{2} \\mu_{r}^{2} + Rc^{2} Re^{2} Ro^{2} - Rc^{2} Ri^{2} Ro^{2} \\mu_{r}^{2} - 2 Rc^{2} Ri^{2} Ro^{2} \\mu_{r} - Rc^{2} Ri^{2} Ro^{2} + Rc^{2} Ro^{4} \\mu_{r}^{2} - 2 Rc^{2} Ro^{4} \\mu_{r} + Rc^{2} Ro^{4} - Re^{2} Ri^{4} \\mu_{r}^{2} + 2 Re^{2} Ri^{4} \\mu_{r} - Re^{2} Ri^{4} + Re^{2} Ri^{2} Ro^{2} \\mu_{r}^{2} + 2 Re^{2} Ri^{2} Ro^{2} \\mu_{r} + Re^{2} Ri^{2} Ro^{2} + Ri^{4} Ro^{2} \\mu_{r}^{2} - Ri^{4} Ro^{2} - Ri^{2} Ro^{4} \\mu_{r}^{2} + Ri^{2} Ro^{4}}\\\\\\frac{B_{rem} Ro^{2} \\left(- 2 Ri^{2} \\mu_{r} \\left(Rc^{2} - Ri^{2}\\right) \\log{\\left(R_{i} \\right)} - 2 Ri^{2} \\left(Rc^{2} + Ri^{2}\\right) \\log{\\left(R_{i} \\right)} + \\left(Rc^{2} Ri^{2} \\mu_{r} + Rc^{2} Ri^{2} - Rc^{2} Ro^{2} \\mu_{r} + Rc^{2} Ro^{2} - Ri^{4} \\mu_{r} + Ri^{4} + Ri^{2} Ro^{2} \\mu_{r} + Ri^{2} Ro^{2}\\right) \\log{\\left(R_{o} \\right)} + \\left(Rc^{2} Ri^{2} \\mu_{r} + Rc^{2} Ri^{2} + Rc^{2} Ro^{2} \\mu_{r} - Rc^{2} Ro^{2} - Ri^{4} \\mu_{r} + Ri^{4} - Ri^{2} Ro^{2} \\mu_{r} - Ri^{2} Ro^{2}\\right) \\log{\\left(R_{o} \\right)}\\right)}{Rc^{2} Re^{2} Ri^{2} \\mu_{r}^{2} - Rc^{2} Re^{2} Ri^{2} - Rc^{2} Re^{2} Ro^{2} \\mu_{r}^{2} + Rc^{2} Re^{2} Ro^{2} - Rc^{2} Ri^{2} Ro^{2} \\mu_{r}^{2} - 2 Rc^{2} Ri^{2} Ro^{2} \\mu_{r} - Rc^{2} Ri^{2} Ro^{2} + Rc^{2} Ro^{4} \\mu_{r}^{2} - 2 Rc^{2} Ro^{4} \\mu_{r} + Rc^{2} Ro^{4} - Re^{2} Ri^{4} \\mu_{r}^{2} + 2 Re^{2} Ri^{4} \\mu_{r} - Re^{2} Ri^{4} + Re^{2} Ri^{2} Ro^{2} \\mu_{r}^{2} + 2 Re^{2} Ri^{2} Ro^{2} \\mu_{r} + Re^{2} Ri^{2} Ro^{2} + Ri^{4} Ro^{2} \\mu_{r}^{2} - Ri^{4} Ro^{2} - Ri^{2} Ro^{4} \\mu_{r}^{2} + Ri^{2} Ro^{4}}\\\\\\frac{B_{rem} Rc^{2} Ri^{2} \\cdot \\left(2 Ro^{2} \\mu_{r} \\left(Re^{2} - Ro^{2}\\right) \\log{\\left(R_{o} \\right)} + 2 Ro^{2} \\left(Re^{2} + Ro^{2}\\right) \\log{\\left(R_{o} \\right)} - \\left(- Re^{2} Ri^{2} \\mu_{r} + Re^{2} Ri^{2} + Re^{2} Ro^{2} \\mu_{r} + Re^{2} Ro^{2} + Ri^{2} Ro^{2} \\mu_{r} + Ri^{2} Ro^{2} - Ro^{4} \\mu_{r} + Ro^{4}\\right) \\log{\\left(R_{i} \\right)} - \\left(Re^{2} Ri^{2} \\mu_{r} - Re^{2} Ri^{2} + Re^{2} Ro^{2} \\mu_{r} + Re^{2} Ro^{2} - Ri^{2} Ro^{2} \\mu_{r} - Ri^{2} Ro^{2} - Ro^{4} \\mu_{r} + Ro^{4}\\right) \\log{\\left(R_{i} \\right)}\\right)}{Rc^{2} Re^{2} Ri^{2} \\mu_{r}^{2} - Rc^{2} Re^{2} Ri^{2} - Rc^{2} Re^{2} Ro^{2} \\mu_{r}^{2} + Rc^{2} Re^{2} Ro^{2} - Rc^{2} Ri^{2} Ro^{2} \\mu_{r}^{2} - 2 Rc^{2} Ri^{2} Ro^{2} \\mu_{r} - Rc^{2} Ri^{2} Ro^{2} + Rc^{2} Ro^{4} \\mu_{r}^{2} - 2 Rc^{2} Ro^{4} \\mu_{r} + Rc^{2} Ro^{4} - Re^{2} Ri^{4} \\mu_{r}^{2} + 2 Re^{2} Ri^{4} \\mu_{r} - Re^{2} Ri^{4} + Re^{2} Ri^{2} Ro^{2} \\mu_{r}^{2} + 2 Re^{2} Ri^{2} Ro^{2} \\mu_{r} + Re^{2} Ri^{2} Ro^{2} + Ri^{4} Ro^{2} \\mu_{r}^{2} - Ri^{4} Ro^{2} - Ri^{2} Ro^{4} \\mu_{r}^{2} + Ri^{2} Ro^{4}}\\\\\\frac{B_{rem} Ri^{2} Ro^{2} \\left(\\mu_{r} \\left(Rc^{2} Re^{2} \\mu_{r} + Rc^{2} Re^{2} - Rc^{2} Ro^{2} \\mu_{r} - Rc^{2} Ro^{2} - Re^{2} Ri^{2} \\mu_{r} + Re^{2} Ri^{2} + Ri^{2} Ro^{2} \\mu_{r} - Ri^{2} Ro^{2}\\right) \\log{\\left(R_{o} \\right)} - \\mu_{r} \\left(Rc^{2} Re^{2} \\mu_{r} + Rc^{2} Re^{2} - Rc^{2} Ro^{2} \\mu_{r} + Rc^{2} Ro^{2} - Re^{2} Ri^{2} \\mu_{r} - Re^{2} Ri^{2} + Ri^{2} Ro^{2} \\mu_{r} - Ri^{2} Ro^{2}\\right) \\log{\\left(R_{i} \\right)} - \\left(Rc^{2} Re^{2} \\mu_{r} + Rc^{2} Re^{2} - Rc^{2} Ro^{2} \\mu_{r} + Rc^{2} Ro^{2} + Re^{2} Ri^{2} \\mu_{r} + Re^{2} Ri^{2} - Ri^{2} Ro^{2} \\mu_{r} + Ri^{2} Ro^{2}\\right) \\log{\\left(R_{i} \\right)} + \\left(Rc^{2} Re^{2} \\mu_{r} + Rc^{2} Re^{2} + Rc^{2} Ro^{2} \\mu_{r} + Rc^{2} Ro^{2} - Re^{2} Ri^{2} \\mu_{r} + Re^{2} Ri^{2} - Ri^{2} Ro^{2} \\mu_{r} + Ri^{2} Ro^{2}\\right) \\log{\\left(R_{o} \\right)}\\right)}{Rc^{2} Re^{2} Ri^{2} \\mu_{r}^{2} - Rc^{2} Re^{2} Ri^{2} - Rc^{2} Re^{2} Ro^{2} \\mu_{r}^{2} + Rc^{2} Re^{2} Ro^{2} - Rc^{2} Ri^{2} Ro^{2} \\mu_{r}^{2} - 2 Rc^{2} Ri^{2} Ro^{2} \\mu_{r} - Rc^{2} Ri^{2} Ro^{2} + Rc^{2} Ro^{4} \\mu_{r}^{2} - 2 Rc^{2} Ro^{4} \\mu_{r} + Rc^{2} Ro^{4} - Re^{2} Ri^{4} \\mu_{r}^{2} + 2 Re^{2} Ri^{4} \\mu_{r} - Re^{2} Ri^{4} + Re^{2} Ri^{2} Ro^{2} \\mu_{r}^{2} + 2 Re^{2} Ri^{2} Ro^{2} \\mu_{r} + Re^{2} Ri^{2} Ro^{2} + Ri^{4} Ro^{2} \\mu_{r}^{2} - Ri^{4} Ro^{2} - Ri^{2} Ro^{4} \\mu_{r}^{2} + Ri^{2} Ro^{4}}\\\\\\frac{B_{rem} Re^{2} Ro^{2} \\left(- 2 Ri^{2} \\mu_{r} \\left(Rc^{2} - Ri^{2}\\right) \\log{\\left(R_{i} \\right)} - 2 Ri^{2} \\left(Rc^{2} + Ri^{2}\\right) \\log{\\left(R_{i} \\right)} + \\left(Rc^{2} Ri^{2} \\mu_{r} + Rc^{2} Ri^{2} - Rc^{2} Ro^{2} \\mu_{r} + Rc^{2} Ro^{2} - Ri^{4} \\mu_{r} + Ri^{4} + Ri^{2} Ro^{2} \\mu_{r} + Ri^{2} Ro^{2}\\right) \\log{\\left(R_{o} \\right)} + \\left(Rc^{2} Ri^{2} \\mu_{r} + Rc^{2} Ri^{2} + Rc^{2} Ro^{2} \\mu_{r} - Rc^{2} Ro^{2} - Ri^{4} \\mu_{r} + Ri^{4} - Ri^{2} Ro^{2} \\mu_{r} - Ri^{2} Ro^{2}\\right) \\log{\\left(R_{o} \\right)}\\right)}{Rc^{2} Re^{2} Ri^{2} \\mu_{r}^{2} - Rc^{2} Re^{2} Ri^{2} - Rc^{2} Re^{2} Ro^{2} \\mu_{r}^{2} + Rc^{2} Re^{2} Ro^{2} - Rc^{2} Ri^{2} Ro^{2} \\mu_{r}^{2} - 2 Rc^{2} Ri^{2} Ro^{2} \\mu_{r} - Rc^{2} Ri^{2} Ro^{2} + Rc^{2} Ro^{4} \\mu_{r}^{2} - 2 Rc^{2} Ro^{4} \\mu_{r} + Rc^{2} Ro^{4} - Re^{2} Ri^{4} \\mu_{r}^{2} + 2 Re^{2} Ri^{4} \\mu_{r} - Re^{2} Ri^{4} + Re^{2} Ri^{2} Ro^{2} \\mu_{r}^{2} + 2 Re^{2} Ri^{2} Ro^{2} \\mu_{r} + Re^{2} Ri^{2} Ro^{2} + Ri^{4} Ro^{2} \\mu_{r}^{2} - Ri^{4} Ro^{2} - Ri^{2} Ro^{4} \\mu_{r}^{2} + Ri^{2} Ro^{4}}\\end{matrix}\\right]$"
      ],
      "text/plain": [
       "Matrix([\n",
       "[                                                                                                                                                                                                                                                                        B_rem*Ri**2*(2*Ro**2*mu_r*(Re**2 - Ro**2)*log(R_o) + 2*Ro**2*(Re**2 + Ro**2)*log(R_o) - (-Re**2*Ri**2*mu_r + Re**2*Ri**2 + Re**2*Ro**2*mu_r + Re**2*Ro**2 + Ri**2*Ro**2*mu_r + Ri**2*Ro**2 - Ro**4*mu_r + Ro**4)*log(R_i) - (Re**2*Ri**2*mu_r - Re**2*Ri**2 + Re**2*Ro**2*mu_r + Re**2*Ro**2 - Ri**2*Ro**2*mu_r - Ri**2*Ro**2 - Ro**4*mu_r + Ro**4)*log(R_i))/(Rc**2*Re**2*Ri**2*mu_r**2 - Rc**2*Re**2*Ri**2 - Rc**2*Re**2*Ro**2*mu_r**2 + Rc**2*Re**2*Ro**2 - Rc**2*Ri**2*Ro**2*mu_r**2 - 2*Rc**2*Ri**2*Ro**2*mu_r - Rc**2*Ri**2*Ro**2 + Rc**2*Ro**4*mu_r**2 - 2*Rc**2*Ro**4*mu_r + Rc**2*Ro**4 - Re**2*Ri**4*mu_r**2 + 2*Re**2*Ri**4*mu_r - Re**2*Ri**4 + Re**2*Ri**2*Ro**2*mu_r**2 + 2*Re**2*Ri**2*Ro**2*mu_r + Re**2*Ri**2*Ro**2 + Ri**4*Ro**2*mu_r**2 - Ri**4*Ro**2 - Ri**2*Ro**4*mu_r**2 + Ri**2*Ro**4)],\n",
       "[B_rem*(Ri**2*mu_r*(Rc**2*Re**2*mu_r - Rc**2*Re**2 - Rc**2*Ro**2*mu_r - Rc**2*Ro**2 - Re**2*Ri**2*mu_r + Re**2*Ri**2 + Ri**2*Ro**2*mu_r + Ri**2*Ro**2)*log(R_i) - Ri**2*(-Rc**2*Re**2*mu_r + Rc**2*Re**2 + Rc**2*Ro**2*mu_r + Rc**2*Ro**2 - Re**2*Ri**2*mu_r + Re**2*Ri**2 + Ri**2*Ro**2*mu_r + Ri**2*Ro**2)*log(R_i) - Ro**2*mu_r*(Rc**2*Re**2*mu_r - Rc**2*Re**2 - Rc**2*Ro**2*mu_r + Rc**2*Ro**2 - Re**2*Ri**2*mu_r - Re**2*Ri**2 + Ri**2*Ro**2*mu_r + Ri**2*Ro**2)*log(R_o) + Ro**2*(-Rc**2*Re**2*mu_r + Rc**2*Re**2 - Rc**2*Ro**2*mu_r + Rc**2*Ro**2 + Re**2*Ri**2*mu_r + Re**2*Ri**2 + Ri**2*Ro**2*mu_r + Ri**2*Ro**2)*log(R_o))/(Rc**2*Re**2*Ri**2*mu_r**2 - Rc**2*Re**2*Ri**2 - Rc**2*Re**2*Ro**2*mu_r**2 + Rc**2*Re**2*Ro**2 - Rc**2*Ri**2*Ro**2*mu_r**2 - 2*Rc**2*Ri**2*Ro**2*mu_r - Rc**2*Ri**2*Ro**2 + Rc**2*Ro**4*mu_r**2 - 2*Rc**2*Ro**4*mu_r + Rc**2*Ro**4 - Re**2*Ri**4*mu_r**2 + 2*Re**2*Ri**4*mu_r - Re**2*Ri**4 + Re**2*Ri**2*Ro**2*mu_r**2 + 2*Re**2*Ri**2*Ro**2*mu_r + Re**2*Ri**2*Ro**2 + Ri**4*Ro**2*mu_r**2 - Ri**4*Ro**2 - Ri**2*Ro**4*mu_r**2 + Ri**2*Ro**4)],\n",
       "[                                                                                                                                                                                                                                                                        B_rem*Ro**2*(-2*Ri**2*mu_r*(Rc**2 - Ri**2)*log(R_i) - 2*Ri**2*(Rc**2 + Ri**2)*log(R_i) + (Rc**2*Ri**2*mu_r + Rc**2*Ri**2 - Rc**2*Ro**2*mu_r + Rc**2*Ro**2 - Ri**4*mu_r + Ri**4 + Ri**2*Ro**2*mu_r + Ri**2*Ro**2)*log(R_o) + (Rc**2*Ri**2*mu_r + Rc**2*Ri**2 + Rc**2*Ro**2*mu_r - Rc**2*Ro**2 - Ri**4*mu_r + Ri**4 - Ri**2*Ro**2*mu_r - Ri**2*Ro**2)*log(R_o))/(Rc**2*Re**2*Ri**2*mu_r**2 - Rc**2*Re**2*Ri**2 - Rc**2*Re**2*Ro**2*mu_r**2 + Rc**2*Re**2*Ro**2 - Rc**2*Ri**2*Ro**2*mu_r**2 - 2*Rc**2*Ri**2*Ro**2*mu_r - Rc**2*Ri**2*Ro**2 + Rc**2*Ro**4*mu_r**2 - 2*Rc**2*Ro**4*mu_r + Rc**2*Ro**4 - Re**2*Ri**4*mu_r**2 + 2*Re**2*Ri**4*mu_r - Re**2*Ri**4 + Re**2*Ri**2*Ro**2*mu_r**2 + 2*Re**2*Ri**2*Ro**2*mu_r + Re**2*Ri**2*Ro**2 + Ri**4*Ro**2*mu_r**2 - Ri**4*Ro**2 - Ri**2*Ro**4*mu_r**2 + Ri**2*Ro**4)],\n",
       "[                                                                                                                                                                                                                                                                  B_rem*Rc**2*Ri**2*(2*Ro**2*mu_r*(Re**2 - Ro**2)*log(R_o) + 2*Ro**2*(Re**2 + Ro**2)*log(R_o) - (-Re**2*Ri**2*mu_r + Re**2*Ri**2 + Re**2*Ro**2*mu_r + Re**2*Ro**2 + Ri**2*Ro**2*mu_r + Ri**2*Ro**2 - Ro**4*mu_r + Ro**4)*log(R_i) - (Re**2*Ri**2*mu_r - Re**2*Ri**2 + Re**2*Ro**2*mu_r + Re**2*Ro**2 - Ri**2*Ro**2*mu_r - Ri**2*Ro**2 - Ro**4*mu_r + Ro**4)*log(R_i))/(Rc**2*Re**2*Ri**2*mu_r**2 - Rc**2*Re**2*Ri**2 - Rc**2*Re**2*Ro**2*mu_r**2 + Rc**2*Re**2*Ro**2 - Rc**2*Ri**2*Ro**2*mu_r**2 - 2*Rc**2*Ri**2*Ro**2*mu_r - Rc**2*Ri**2*Ro**2 + Rc**2*Ro**4*mu_r**2 - 2*Rc**2*Ro**4*mu_r + Rc**2*Ro**4 - Re**2*Ri**4*mu_r**2 + 2*Re**2*Ri**4*mu_r - Re**2*Ri**4 + Re**2*Ri**2*Ro**2*mu_r**2 + 2*Re**2*Ri**2*Ro**2*mu_r + Re**2*Ri**2*Ro**2 + Ri**4*Ro**2*mu_r**2 - Ri**4*Ro**2 - Ri**2*Ro**4*mu_r**2 + Ri**2*Ro**4)],\n",
       "[              B_rem*Ri**2*Ro**2*(mu_r*(Rc**2*Re**2*mu_r + Rc**2*Re**2 - Rc**2*Ro**2*mu_r - Rc**2*Ro**2 - Re**2*Ri**2*mu_r + Re**2*Ri**2 + Ri**2*Ro**2*mu_r - Ri**2*Ro**2)*log(R_o) - mu_r*(Rc**2*Re**2*mu_r + Rc**2*Re**2 - Rc**2*Ro**2*mu_r + Rc**2*Ro**2 - Re**2*Ri**2*mu_r - Re**2*Ri**2 + Ri**2*Ro**2*mu_r - Ri**2*Ro**2)*log(R_i) - (Rc**2*Re**2*mu_r + Rc**2*Re**2 - Rc**2*Ro**2*mu_r + Rc**2*Ro**2 + Re**2*Ri**2*mu_r + Re**2*Ri**2 - Ri**2*Ro**2*mu_r + Ri**2*Ro**2)*log(R_i) + (Rc**2*Re**2*mu_r + Rc**2*Re**2 + Rc**2*Ro**2*mu_r + Rc**2*Ro**2 - Re**2*Ri**2*mu_r + Re**2*Ri**2 - Ri**2*Ro**2*mu_r + Ri**2*Ro**2)*log(R_o))/(Rc**2*Re**2*Ri**2*mu_r**2 - Rc**2*Re**2*Ri**2 - Rc**2*Re**2*Ro**2*mu_r**2 + Rc**2*Re**2*Ro**2 - Rc**2*Ri**2*Ro**2*mu_r**2 - 2*Rc**2*Ri**2*Ro**2*mu_r - Rc**2*Ri**2*Ro**2 + Rc**2*Ro**4*mu_r**2 - 2*Rc**2*Ro**4*mu_r + Rc**2*Ro**4 - Re**2*Ri**4*mu_r**2 + 2*Re**2*Ri**4*mu_r - Re**2*Ri**4 + Re**2*Ri**2*Ro**2*mu_r**2 + 2*Re**2*Ri**2*Ro**2*mu_r + Re**2*Ri**2*Ro**2 + Ri**4*Ro**2*mu_r**2 - Ri**4*Ro**2 - Ri**2*Ro**4*mu_r**2 + Ri**2*Ro**4)],\n",
       "[                                                                                                                                                                                                                                                                  B_rem*Re**2*Ro**2*(-2*Ri**2*mu_r*(Rc**2 - Ri**2)*log(R_i) - 2*Ri**2*(Rc**2 + Ri**2)*log(R_i) + (Rc**2*Ri**2*mu_r + Rc**2*Ri**2 - Rc**2*Ro**2*mu_r + Rc**2*Ro**2 - Ri**4*mu_r + Ri**4 + Ri**2*Ro**2*mu_r + Ri**2*Ro**2)*log(R_o) + (Rc**2*Ri**2*mu_r + Rc**2*Ri**2 + Rc**2*Ro**2*mu_r - Rc**2*Ro**2 - Ri**4*mu_r + Ri**4 - Ri**2*Ro**2*mu_r - Ri**2*Ro**2)*log(R_o))/(Rc**2*Re**2*Ri**2*mu_r**2 - Rc**2*Re**2*Ri**2 - Rc**2*Re**2*Ro**2*mu_r**2 + Rc**2*Re**2*Ro**2 - Rc**2*Ri**2*Ro**2*mu_r**2 - 2*Rc**2*Ri**2*Ro**2*mu_r - Rc**2*Ri**2*Ro**2 + Rc**2*Ro**4*mu_r**2 - 2*Rc**2*Ro**4*mu_r + Rc**2*Ro**4 - Re**2*Ri**4*mu_r**2 + 2*Re**2*Ri**4*mu_r - Re**2*Ri**4 + Re**2*Ri**2*Ro**2*mu_r**2 + 2*Re**2*Ri**2*Ro**2*mu_r + Re**2*Ri**2*Ro**2 + Ri**4*Ro**2*mu_r**2 - Ri**4*Ro**2 - Ri**2*Ro**4*mu_r**2 + Ri**2*Ro**4)]])"
      ]
     },
     "metadata": {},
     "output_type": "display_data"
    },
    {
     "data": {
      "text/latex": [
       "$\\displaystyle \\frac{2 Ri^{2} Ro^{2} \\left(Brem Re^{2} \\mu_{r} \\log{\\left(\\frac{Ri}{Ro} \\right)} + Brem Re^{2} \\log{\\left(\\frac{Ri}{Ro} \\right)} - Brem Ro^{2} \\mu_{r} \\log{\\left(\\frac{Ri}{Ro} \\right)} + Brem Ro^{2} \\log{\\left(\\frac{Ri}{Ro} \\right)} + Re^{2} \\mu_{r} \\log{\\left(R_{i}^{- B_{rem}} R_{o}^{B_{rem}} \\right)} + Re^{2} \\log{\\left(R_{i}^{- B_{rem}} R_{o}^{B_{rem}} \\right)} + Ro^{2} \\mu_{r} \\log{\\left(R_{i}^{B_{rem}} R_{o}^{- B_{rem}} \\right)} + Ro^{2} \\log{\\left(R_{i}^{- B_{rem}} R_{o}^{B_{rem}} \\right)}\\right)}{Rc^{2} Re^{2} Ri^{2} \\mu_{r}^{2} - Rc^{2} Re^{2} Ri^{2} - Rc^{2} Re^{2} Ro^{2} \\mu_{r}^{2} + Rc^{2} Re^{2} Ro^{2} - Rc^{2} Ri^{2} Ro^{2} \\mu_{r}^{2} - 2 Rc^{2} Ri^{2} Ro^{2} \\mu_{r} - Rc^{2} Ri^{2} Ro^{2} + Rc^{2} Ro^{4} \\mu_{r}^{2} - 2 Rc^{2} Ro^{4} \\mu_{r} + Rc^{2} Ro^{4} - Re^{2} Ri^{4} \\mu_{r}^{2} + 2 Re^{2} Ri^{4} \\mu_{r} - Re^{2} Ri^{4} + Re^{2} Ri^{2} Ro^{2} \\mu_{r}^{2} + 2 Re^{2} Ri^{2} Ro^{2} \\mu_{r} + Re^{2} Ri^{2} Ro^{2} + Ri^{4} Ro^{2} \\mu_{r}^{2} - Ri^{4} Ro^{2} - Ri^{2} Ro^{4} \\mu_{r}^{2} + Ri^{2} Ro^{4}}$"
      ],
      "text/plain": [
       "2*Ri**2*Ro**2*(Brem*Re**2*mu_r*log(Ri/Ro) + Brem*Re**2*log(Ri/Ro) - Brem*Ro**2*mu_r*log(Ri/Ro) + Brem*Ro**2*log(Ri/Ro) + Re**2*mu_r*log(R_o**B_rem/R_i**B_rem) + Re**2*log(R_o**B_rem/R_i**B_rem) + Ro**2*mu_r*log(R_i**B_rem/R_o**B_rem) + Ro**2*log(R_o**B_rem/R_i**B_rem))/(Rc**2*Re**2*Ri**2*mu_r**2 - Rc**2*Re**2*Ri**2 - Rc**2*Re**2*Ro**2*mu_r**2 + Rc**2*Re**2*Ro**2 - Rc**2*Ri**2*Ro**2*mu_r**2 - 2*Rc**2*Ri**2*Ro**2*mu_r - Rc**2*Ri**2*Ro**2 + Rc**2*Ro**4*mu_r**2 - 2*Rc**2*Ro**4*mu_r + Rc**2*Ro**4 - Re**2*Ri**4*mu_r**2 + 2*Re**2*Ri**4*mu_r - Re**2*Ri**4 + Re**2*Ri**2*Ro**2*mu_r**2 + 2*Re**2*Ri**2*Ro**2*mu_r + Re**2*Ri**2*Ro**2 + Ri**4*Ro**2*mu_r**2 - Ri**4*Ro**2 - Ri**2*Ro**4*mu_r**2 + Ri**2*Ro**4)"
      ]
     },
     "metadata": {},
     "output_type": "display_data"
    },
    {
     "data": {
      "text/latex": [
       "$\\displaystyle \\frac{B_{rem} Rc^{2} Re^{2} Ri^{2} \\mu_{r}^{2} \\log{\\left(R_{i} \\right)} - B_{rem} Rc^{2} Re^{2} Ri^{2} \\log{\\left(R_{i} \\right)} - B_{rem} Rc^{2} Re^{2} Ro^{2} \\mu_{r}^{2} \\log{\\left(R_{o} \\right)} + B_{rem} Rc^{2} Re^{2} Ro^{2} \\log{\\left(R_{o} \\right)} - B_{rem} Rc^{2} Ri^{2} Ro^{2} \\mu_{r}^{2} \\log{\\left(R_{i} \\right)} - 2 B_{rem} Rc^{2} Ri^{2} Ro^{2} \\mu_{r} \\log{\\left(R_{i} \\right)} - B_{rem} Rc^{2} Ri^{2} Ro^{2} \\log{\\left(R_{i} \\right)} + B_{rem} Rc^{2} Ro^{4} \\mu_{r}^{2} \\log{\\left(R_{o} \\right)} - 2 B_{rem} Rc^{2} Ro^{4} \\mu_{r} \\log{\\left(R_{o} \\right)} + B_{rem} Rc^{2} Ro^{4} \\log{\\left(R_{o} \\right)} - B_{rem} Re^{2} Ri^{4} \\mu_{r}^{2} \\log{\\left(R_{i} \\right)} + 2 B_{rem} Re^{2} Ri^{4} \\mu_{r} \\log{\\left(R_{i} \\right)} - B_{rem} Re^{2} Ri^{4} \\log{\\left(R_{i} \\right)} + B_{rem} Re^{2} Ri^{2} Ro^{2} \\mu_{r}^{2} \\log{\\left(R_{o} \\right)} + 2 B_{rem} Re^{2} Ri^{2} Ro^{2} \\mu_{r} \\log{\\left(R_{o} \\right)} + B_{rem} Re^{2} Ri^{2} Ro^{2} \\log{\\left(R_{o} \\right)} + B_{rem} Ri^{4} Ro^{2} \\mu_{r}^{2} \\log{\\left(R_{i} \\right)} - B_{rem} Ri^{4} Ro^{2} \\log{\\left(R_{i} \\right)} - B_{rem} Ri^{2} Ro^{4} \\mu_{r}^{2} \\log{\\left(R_{o} \\right)} + B_{rem} Ri^{2} Ro^{4} \\log{\\left(R_{o} \\right)} - Brem Rc^{2} Re^{2} Ri^{2} \\mu_{r}^{2} \\log{\\left(Ro \\right)} - Brem Rc^{2} Re^{2} Ri^{2} \\mu_{r}^{2} \\log{\\left(\\frac{Ri}{Ro} \\right)} + Brem Rc^{2} Re^{2} Ri^{2} \\log{\\left(Ro \\right)} + Brem Rc^{2} Re^{2} Ri^{2} \\log{\\left(\\frac{Ri}{Ro} \\right)} + Brem Rc^{2} Re^{2} Ro^{2} \\mu_{r}^{2} \\log{\\left(Ro \\right)} - Brem Rc^{2} Re^{2} Ro^{2} \\log{\\left(Ro \\right)} + Brem Rc^{2} Ri^{2} Ro^{2} \\mu_{r}^{2} \\log{\\left(Ro \\right)} + Brem Rc^{2} Ri^{2} Ro^{2} \\mu_{r}^{2} \\log{\\left(\\frac{Ri}{Ro} \\right)} + 2 Brem Rc^{2} Ri^{2} Ro^{2} \\mu_{r} \\log{\\left(Ro \\right)} + 2 Brem Rc^{2} Ri^{2} Ro^{2} \\mu_{r} \\log{\\left(\\frac{Ri}{Ro} \\right)} + Brem Rc^{2} Ri^{2} Ro^{2} \\log{\\left(Ro \\right)} + Brem Rc^{2} Ri^{2} Ro^{2} \\log{\\left(\\frac{Ri}{Ro} \\right)} - Brem Rc^{2} Ro^{4} \\mu_{r}^{2} \\log{\\left(Ro \\right)} + 2 Brem Rc^{2} Ro^{4} \\mu_{r} \\log{\\left(Ro \\right)} - Brem Rc^{2} Ro^{4} \\log{\\left(Ro \\right)} + Brem Re^{2} Ri^{4} \\mu_{r}^{2} \\log{\\left(Ro \\right)} + Brem Re^{2} Ri^{4} \\mu_{r}^{2} \\log{\\left(\\frac{Ri}{Ro} \\right)} - 2 Brem Re^{2} Ri^{4} \\mu_{r} \\log{\\left(Ro \\right)} - 2 Brem Re^{2} Ri^{4} \\mu_{r} \\log{\\left(\\frac{Ri}{Ro} \\right)} + Brem Re^{2} Ri^{4} \\log{\\left(Ro \\right)} + Brem Re^{2} Ri^{4} \\log{\\left(\\frac{Ri}{Ro} \\right)} - Brem Re^{2} Ri^{2} Ro^{2} \\mu_{r}^{2} \\log{\\left(Ro \\right)} - 2 Brem Re^{2} Ri^{2} Ro^{2} \\mu_{r} \\log{\\left(Ro \\right)} - Brem Re^{2} Ri^{2} Ro^{2} \\log{\\left(Ro \\right)} - Brem Ri^{4} Ro^{2} \\mu_{r}^{2} \\log{\\left(Ro \\right)} - Brem Ri^{4} Ro^{2} \\mu_{r}^{2} \\log{\\left(\\frac{Ri}{Ro} \\right)} + Brem Ri^{4} Ro^{2} \\log{\\left(Ro \\right)} + Brem Ri^{4} Ro^{2} \\log{\\left(\\frac{Ri}{Ro} \\right)} + Brem Ri^{2} Ro^{4} \\mu_{r}^{2} \\log{\\left(Ro \\right)} - Brem Ri^{2} Ro^{4} \\log{\\left(Ro \\right)}}{Rc^{2} Re^{2} Ri^{2} \\mu_{r}^{2} - Rc^{2} Re^{2} Ri^{2} - Rc^{2} Re^{2} Ro^{2} \\mu_{r}^{2} + Rc^{2} Re^{2} Ro^{2} - Rc^{2} Ri^{2} Ro^{2} \\mu_{r}^{2} - 2 Rc^{2} Ri^{2} Ro^{2} \\mu_{r} - Rc^{2} Ri^{2} Ro^{2} + Rc^{2} Ro^{4} \\mu_{r}^{2} - 2 Rc^{2} Ro^{4} \\mu_{r} + Rc^{2} Ro^{4} - Re^{2} Ri^{4} \\mu_{r}^{2} + 2 Re^{2} Ri^{4} \\mu_{r} - Re^{2} Ri^{4} + Re^{2} Ri^{2} Ro^{2} \\mu_{r}^{2} + 2 Re^{2} Ri^{2} Ro^{2} \\mu_{r} + Re^{2} Ri^{2} Ro^{2} + Ri^{4} Ro^{2} \\mu_{r}^{2} - Ri^{4} Ro^{2} - Ri^{2} Ro^{4} \\mu_{r}^{2} + Ri^{2} Ro^{4}}$"
      ],
      "text/plain": [
       "(B_rem*Rc**2*Re**2*Ri**2*mu_r**2*log(R_i) - B_rem*Rc**2*Re**2*Ri**2*log(R_i) - B_rem*Rc**2*Re**2*Ro**2*mu_r**2*log(R_o) + B_rem*Rc**2*Re**2*Ro**2*log(R_o) - B_rem*Rc**2*Ri**2*Ro**2*mu_r**2*log(R_i) - 2*B_rem*Rc**2*Ri**2*Ro**2*mu_r*log(R_i) - B_rem*Rc**2*Ri**2*Ro**2*log(R_i) + B_rem*Rc**2*Ro**4*mu_r**2*log(R_o) - 2*B_rem*Rc**2*Ro**4*mu_r*log(R_o) + B_rem*Rc**2*Ro**4*log(R_o) - B_rem*Re**2*Ri**4*mu_r**2*log(R_i) + 2*B_rem*Re**2*Ri**4*mu_r*log(R_i) - B_rem*Re**2*Ri**4*log(R_i) + B_rem*Re**2*Ri**2*Ro**2*mu_r**2*log(R_o) + 2*B_rem*Re**2*Ri**2*Ro**2*mu_r*log(R_o) + B_rem*Re**2*Ri**2*Ro**2*log(R_o) + B_rem*Ri**4*Ro**2*mu_r**2*log(R_i) - B_rem*Ri**4*Ro**2*log(R_i) - B_rem*Ri**2*Ro**4*mu_r**2*log(R_o) + B_rem*Ri**2*Ro**4*log(R_o) - Brem*Rc**2*Re**2*Ri**2*mu_r**2*log(Ro) - Brem*Rc**2*Re**2*Ri**2*mu_r**2*log(Ri/Ro) + Brem*Rc**2*Re**2*Ri**2*log(Ro) + Brem*Rc**2*Re**2*Ri**2*log(Ri/Ro) + Brem*Rc**2*Re**2*Ro**2*mu_r**2*log(Ro) - Brem*Rc**2*Re**2*Ro**2*log(Ro) + Brem*Rc**2*Ri**2*Ro**2*mu_r**2*log(Ro) + Brem*Rc**2*Ri**2*Ro**2*mu_r**2*log(Ri/Ro) + 2*Brem*Rc**2*Ri**2*Ro**2*mu_r*log(Ro) + 2*Brem*Rc**2*Ri**2*Ro**2*mu_r*log(Ri/Ro) + Brem*Rc**2*Ri**2*Ro**2*log(Ro) + Brem*Rc**2*Ri**2*Ro**2*log(Ri/Ro) - Brem*Rc**2*Ro**4*mu_r**2*log(Ro) + 2*Brem*Rc**2*Ro**4*mu_r*log(Ro) - Brem*Rc**2*Ro**4*log(Ro) + Brem*Re**2*Ri**4*mu_r**2*log(Ro) + Brem*Re**2*Ri**4*mu_r**2*log(Ri/Ro) - 2*Brem*Re**2*Ri**4*mu_r*log(Ro) - 2*Brem*Re**2*Ri**4*mu_r*log(Ri/Ro) + Brem*Re**2*Ri**4*log(Ro) + Brem*Re**2*Ri**4*log(Ri/Ro) - Brem*Re**2*Ri**2*Ro**2*mu_r**2*log(Ro) - 2*Brem*Re**2*Ri**2*Ro**2*mu_r*log(Ro) - Brem*Re**2*Ri**2*Ro**2*log(Ro) - Brem*Ri**4*Ro**2*mu_r**2*log(Ro) - Brem*Ri**4*Ro**2*mu_r**2*log(Ri/Ro) + Brem*Ri**4*Ro**2*log(Ro) + Brem*Ri**4*Ro**2*log(Ri/Ro) + Brem*Ri**2*Ro**4*mu_r**2*log(Ro) - Brem*Ri**2*Ro**4*log(Ro))/(Rc**2*Re**2*Ri**2*mu_r**2 - Rc**2*Re**2*Ri**2 - Rc**2*Re**2*Ro**2*mu_r**2 + Rc**2*Re**2*Ro**2 - Rc**2*Ri**2*Ro**2*mu_r**2 - 2*Rc**2*Ri**2*Ro**2*mu_r - Rc**2*Ri**2*Ro**2 + Rc**2*Ro**4*mu_r**2 - 2*Rc**2*Ro**4*mu_r + Rc**2*Ro**4 - Re**2*Ri**4*mu_r**2 + 2*Re**2*Ri**4*mu_r - Re**2*Ri**4 + Re**2*Ri**2*Ro**2*mu_r**2 + 2*Re**2*Ri**2*Ro**2*mu_r + Re**2*Ri**2*Ro**2 + Ri**4*Ro**2*mu_r**2 - Ri**4*Ro**2 - Ri**2*Ro**4*mu_r**2 + Ri**2*Ro**4)"
      ]
     },
     "metadata": {},
     "output_type": "display_data"
    },
    {
     "data": {
      "text/latex": [
       "$\\displaystyle \\frac{2 Ri^{2} Ro^{2} \\left(Brem Rc^{2} \\mu_{r} \\log{\\left(\\frac{Ri}{Ro} \\right)} + Brem Rc^{2} \\log{\\left(\\frac{Ri}{Ro} \\right)} - Brem Ri^{2} \\mu_{r} \\log{\\left(\\frac{Ri}{Ro} \\right)} + Brem Ri^{2} \\log{\\left(\\frac{Ri}{Ro} \\right)} + Rc^{2} \\mu_{r} \\log{\\left(R_{i}^{- B_{rem}} R_{o}^{B_{rem}} \\right)} + Rc^{2} \\log{\\left(R_{i}^{- B_{rem}} R_{o}^{B_{rem}} \\right)} + Ri^{2} \\mu_{r} \\log{\\left(R_{i}^{B_{rem}} R_{o}^{- B_{rem}} \\right)} + Ri^{2} \\log{\\left(R_{i}^{- B_{rem}} R_{o}^{B_{rem}} \\right)}\\right)}{Rc^{2} Re^{2} Ri^{2} \\mu_{r}^{2} - Rc^{2} Re^{2} Ri^{2} - Rc^{2} Re^{2} Ro^{2} \\mu_{r}^{2} + Rc^{2} Re^{2} Ro^{2} - Rc^{2} Ri^{2} Ro^{2} \\mu_{r}^{2} - 2 Rc^{2} Ri^{2} Ro^{2} \\mu_{r} - Rc^{2} Ri^{2} Ro^{2} + Rc^{2} Ro^{4} \\mu_{r}^{2} - 2 Rc^{2} Ro^{4} \\mu_{r} + Rc^{2} Ro^{4} - Re^{2} Ri^{4} \\mu_{r}^{2} + 2 Re^{2} Ri^{4} \\mu_{r} - Re^{2} Ri^{4} + Re^{2} Ri^{2} Ro^{2} \\mu_{r}^{2} + 2 Re^{2} Ri^{2} Ro^{2} \\mu_{r} + Re^{2} Ri^{2} Ro^{2} + Ri^{4} Ro^{2} \\mu_{r}^{2} - Ri^{4} Ro^{2} - Ri^{2} Ro^{4} \\mu_{r}^{2} + Ri^{2} Ro^{4}}$"
      ],
      "text/plain": [
       "2*Ri**2*Ro**2*(Brem*Rc**2*mu_r*log(Ri/Ro) + Brem*Rc**2*log(Ri/Ro) - Brem*Ri**2*mu_r*log(Ri/Ro) + Brem*Ri**2*log(Ri/Ro) + Rc**2*mu_r*log(R_o**B_rem/R_i**B_rem) + Rc**2*log(R_o**B_rem/R_i**B_rem) + Ri**2*mu_r*log(R_i**B_rem/R_o**B_rem) + Ri**2*log(R_o**B_rem/R_i**B_rem))/(Rc**2*Re**2*Ri**2*mu_r**2 - Rc**2*Re**2*Ri**2 - Rc**2*Re**2*Ro**2*mu_r**2 + Rc**2*Re**2*Ro**2 - Rc**2*Ri**2*Ro**2*mu_r**2 - 2*Rc**2*Ri**2*Ro**2*mu_r - Rc**2*Ri**2*Ro**2 + Rc**2*Ro**4*mu_r**2 - 2*Rc**2*Ro**4*mu_r + Rc**2*Ro**4 - Re**2*Ri**4*mu_r**2 + 2*Re**2*Ri**4*mu_r - Re**2*Ri**4 + Re**2*Ri**2*Ro**2*mu_r**2 + 2*Re**2*Ri**2*Ro**2*mu_r + Re**2*Ri**2*Ro**2 + Ri**4*Ro**2*mu_r**2 - Ri**4*Ro**2 - Ri**2*Ro**4*mu_r**2 + Ri**2*Ro**4)"
      ]
     },
     "metadata": {},
     "output_type": "display_data"
    },
    {
     "data": {
      "text/latex": [
       "$\\displaystyle \\frac{2 Rc^{2} Ri^{2} Ro^{2} \\left(Brem Re^{2} \\mu_{r} \\log{\\left(\\frac{Ri}{Ro} \\right)} + Brem Re^{2} \\log{\\left(\\frac{Ri}{Ro} \\right)} - Brem Ro^{2} \\mu_{r} \\log{\\left(\\frac{Ri}{Ro} \\right)} + Brem Ro^{2} \\log{\\left(\\frac{Ri}{Ro} \\right)} + Re^{2} \\mu_{r} \\log{\\left(R_{i}^{- B_{rem}} R_{o}^{B_{rem}} \\right)} + Re^{2} \\log{\\left(R_{i}^{- B_{rem}} R_{o}^{B_{rem}} \\right)} + Ro^{2} \\mu_{r} \\log{\\left(R_{i}^{B_{rem}} R_{o}^{- B_{rem}} \\right)} + Ro^{2} \\log{\\left(R_{i}^{- B_{rem}} R_{o}^{B_{rem}} \\right)}\\right)}{Rc^{2} Re^{2} Ri^{2} \\mu_{r}^{2} - Rc^{2} Re^{2} Ri^{2} - Rc^{2} Re^{2} Ro^{2} \\mu_{r}^{2} + Rc^{2} Re^{2} Ro^{2} - Rc^{2} Ri^{2} Ro^{2} \\mu_{r}^{2} - 2 Rc^{2} Ri^{2} Ro^{2} \\mu_{r} - Rc^{2} Ri^{2} Ro^{2} + Rc^{2} Ro^{4} \\mu_{r}^{2} - 2 Rc^{2} Ro^{4} \\mu_{r} + Rc^{2} Ro^{4} - Re^{2} Ri^{4} \\mu_{r}^{2} + 2 Re^{2} Ri^{4} \\mu_{r} - Re^{2} Ri^{4} + Re^{2} Ri^{2} Ro^{2} \\mu_{r}^{2} + 2 Re^{2} Ri^{2} Ro^{2} \\mu_{r} + Re^{2} Ri^{2} Ro^{2} + Ri^{4} Ro^{2} \\mu_{r}^{2} - Ri^{4} Ro^{2} - Ri^{2} Ro^{4} \\mu_{r}^{2} + Ri^{2} Ro^{4}}$"
      ],
      "text/plain": [
       "2*Rc**2*Ri**2*Ro**2*(Brem*Re**2*mu_r*log(Ri/Ro) + Brem*Re**2*log(Ri/Ro) - Brem*Ro**2*mu_r*log(Ri/Ro) + Brem*Ro**2*log(Ri/Ro) + Re**2*mu_r*log(R_o**B_rem/R_i**B_rem) + Re**2*log(R_o**B_rem/R_i**B_rem) + Ro**2*mu_r*log(R_i**B_rem/R_o**B_rem) + Ro**2*log(R_o**B_rem/R_i**B_rem))/(Rc**2*Re**2*Ri**2*mu_r**2 - Rc**2*Re**2*Ri**2 - Rc**2*Re**2*Ro**2*mu_r**2 + Rc**2*Re**2*Ro**2 - Rc**2*Ri**2*Ro**2*mu_r**2 - 2*Rc**2*Ri**2*Ro**2*mu_r - Rc**2*Ri**2*Ro**2 + Rc**2*Ro**4*mu_r**2 - 2*Rc**2*Ro**4*mu_r + Rc**2*Ro**4 - Re**2*Ri**4*mu_r**2 + 2*Re**2*Ri**4*mu_r - Re**2*Ri**4 + Re**2*Ri**2*Ro**2*mu_r**2 + 2*Re**2*Ri**2*Ro**2*mu_r + Re**2*Ri**2*Ro**2 + Ri**4*Ro**2*mu_r**2 - Ri**4*Ro**2 - Ri**2*Ro**4*mu_r**2 + Ri**2*Ro**4)"
      ]
     },
     "metadata": {},
     "output_type": "display_data"
    },
    {
     "data": {
      "text/latex": [
       "$\\displaystyle \\frac{Ri^{2} Ro^{2} \\left(Brem Rc^{2} Re^{2} \\mu_{r}^{2} \\log{\\left(\\frac{Ri}{Ro} \\right)} + 2 Brem Rc^{2} Re^{2} \\mu_{r} \\log{\\left(\\frac{Ri}{Ro} \\right)} + Brem Rc^{2} Re^{2} \\log{\\left(\\frac{Ri}{Ro} \\right)} - Brem Rc^{2} Ro^{2} \\mu_{r}^{2} \\log{\\left(\\frac{Ri}{Ro} \\right)} + Brem Rc^{2} Ro^{2} \\log{\\left(\\frac{Ri}{Ro} \\right)} - Brem Re^{2} Ri^{2} \\mu_{r}^{2} \\log{\\left(\\frac{Ri}{Ro} \\right)} + Brem Re^{2} Ri^{2} \\log{\\left(\\frac{Ri}{Ro} \\right)} + Brem Ri^{2} Ro^{2} \\mu_{r}^{2} \\log{\\left(\\frac{Ri}{Ro} \\right)} - 2 Brem Ri^{2} Ro^{2} \\mu_{r} \\log{\\left(\\frac{Ri}{Ro} \\right)} + Brem Ri^{2} Ro^{2} \\log{\\left(\\frac{Ri}{Ro} \\right)} + Rc^{2} Re^{2} \\mu_{r}^{2} \\log{\\left(R_{i}^{- B_{rem}} R_{o}^{B_{rem}} \\right)} + Rc^{2} Re^{2} \\mu_{r} \\log{\\left(R_{i}^{- 2 B_{rem}} R_{o}^{2 B_{rem}} \\right)} + Rc^{2} Re^{2} \\log{\\left(R_{i}^{- B_{rem}} R_{o}^{B_{rem}} \\right)} + Rc^{2} Ro^{2} \\mu_{r}^{2} \\log{\\left(R_{i}^{B_{rem}} R_{o}^{- B_{rem}} \\right)} + Rc^{2} Ro^{2} \\log{\\left(R_{i}^{- B_{rem}} R_{o}^{B_{rem}} \\right)} + Re^{2} Ri^{2} \\mu_{r}^{2} \\log{\\left(R_{i}^{B_{rem}} R_{o}^{- B_{rem}} \\right)} + Re^{2} Ri^{2} \\log{\\left(R_{i}^{- B_{rem}} R_{o}^{B_{rem}} \\right)} + Ri^{2} Ro^{2} \\mu_{r}^{2} \\log{\\left(R_{i}^{- B_{rem}} R_{o}^{B_{rem}} \\right)} + Ri^{2} Ro^{2} \\mu_{r} \\log{\\left(R_{i}^{2 B_{rem}} R_{o}^{- 2 B_{rem}} \\right)} + Ri^{2} Ro^{2} \\log{\\left(R_{i}^{- B_{rem}} R_{o}^{B_{rem}} \\right)}\\right)}{Rc^{2} Re^{2} Ri^{2} \\mu_{r}^{2} - Rc^{2} Re^{2} Ri^{2} - Rc^{2} Re^{2} Ro^{2} \\mu_{r}^{2} + Rc^{2} Re^{2} Ro^{2} - Rc^{2} Ri^{2} Ro^{2} \\mu_{r}^{2} - 2 Rc^{2} Ri^{2} Ro^{2} \\mu_{r} - Rc^{2} Ri^{2} Ro^{2} + Rc^{2} Ro^{4} \\mu_{r}^{2} - 2 Rc^{2} Ro^{4} \\mu_{r} + Rc^{2} Ro^{4} - Re^{2} Ri^{4} \\mu_{r}^{2} + 2 Re^{2} Ri^{4} \\mu_{r} - Re^{2} Ri^{4} + Re^{2} Ri^{2} Ro^{2} \\mu_{r}^{2} + 2 Re^{2} Ri^{2} Ro^{2} \\mu_{r} + Re^{2} Ri^{2} Ro^{2} + Ri^{4} Ro^{2} \\mu_{r}^{2} - Ri^{4} Ro^{2} - Ri^{2} Ro^{4} \\mu_{r}^{2} + Ri^{2} Ro^{4}}$"
      ],
      "text/plain": [
       "Ri**2*Ro**2*(Brem*Rc**2*Re**2*mu_r**2*log(Ri/Ro) + 2*Brem*Rc**2*Re**2*mu_r*log(Ri/Ro) + Brem*Rc**2*Re**2*log(Ri/Ro) - Brem*Rc**2*Ro**2*mu_r**2*log(Ri/Ro) + Brem*Rc**2*Ro**2*log(Ri/Ro) - Brem*Re**2*Ri**2*mu_r**2*log(Ri/Ro) + Brem*Re**2*Ri**2*log(Ri/Ro) + Brem*Ri**2*Ro**2*mu_r**2*log(Ri/Ro) - 2*Brem*Ri**2*Ro**2*mu_r*log(Ri/Ro) + Brem*Ri**2*Ro**2*log(Ri/Ro) + Rc**2*Re**2*mu_r**2*log(R_o**B_rem/R_i**B_rem) + Rc**2*Re**2*mu_r*log(R_o**(2*B_rem)/R_i**(2*B_rem)) + Rc**2*Re**2*log(R_o**B_rem/R_i**B_rem) + Rc**2*Ro**2*mu_r**2*log(R_i**B_rem/R_o**B_rem) + Rc**2*Ro**2*log(R_o**B_rem/R_i**B_rem) + Re**2*Ri**2*mu_r**2*log(R_i**B_rem/R_o**B_rem) + Re**2*Ri**2*log(R_o**B_rem/R_i**B_rem) + Ri**2*Ro**2*mu_r**2*log(R_o**B_rem/R_i**B_rem) + Ri**2*Ro**2*mu_r*log(R_i**(2*B_rem)/R_o**(2*B_rem)) + Ri**2*Ro**2*log(R_o**B_rem/R_i**B_rem))/(Rc**2*Re**2*Ri**2*mu_r**2 - Rc**2*Re**2*Ri**2 - Rc**2*Re**2*Ro**2*mu_r**2 + Rc**2*Re**2*Ro**2 - Rc**2*Ri**2*Ro**2*mu_r**2 - 2*Rc**2*Ri**2*Ro**2*mu_r - Rc**2*Ri**2*Ro**2 + Rc**2*Ro**4*mu_r**2 - 2*Rc**2*Ro**4*mu_r + Rc**2*Ro**4 - Re**2*Ri**4*mu_r**2 + 2*Re**2*Ri**4*mu_r - Re**2*Ri**4 + Re**2*Ri**2*Ro**2*mu_r**2 + 2*Re**2*Ri**2*Ro**2*mu_r + Re**2*Ri**2*Ro**2 + Ri**4*Ro**2*mu_r**2 - Ri**4*Ro**2 - Ri**2*Ro**4*mu_r**2 + Ri**2*Ro**4)"
      ]
     },
     "metadata": {},
     "output_type": "display_data"
    },
    {
     "data": {
      "text/latex": [
       "$\\displaystyle \\frac{2 Re^{2} Ri^{2} Ro^{2} \\left(Brem Rc^{2} \\mu_{r} \\log{\\left(\\frac{Ri}{Ro} \\right)} + Brem Rc^{2} \\log{\\left(\\frac{Ri}{Ro} \\right)} - Brem Ri^{2} \\mu_{r} \\log{\\left(\\frac{Ri}{Ro} \\right)} + Brem Ri^{2} \\log{\\left(\\frac{Ri}{Ro} \\right)} + Rc^{2} \\mu_{r} \\log{\\left(R_{i}^{- B_{rem}} R_{o}^{B_{rem}} \\right)} + Rc^{2} \\log{\\left(R_{i}^{- B_{rem}} R_{o}^{B_{rem}} \\right)} + Ri^{2} \\mu_{r} \\log{\\left(R_{i}^{B_{rem}} R_{o}^{- B_{rem}} \\right)} + Ri^{2} \\log{\\left(R_{i}^{- B_{rem}} R_{o}^{B_{rem}} \\right)}\\right)}{Rc^{2} Re^{2} Ri^{2} \\mu_{r}^{2} - Rc^{2} Re^{2} Ri^{2} - Rc^{2} Re^{2} Ro^{2} \\mu_{r}^{2} + Rc^{2} Re^{2} Ro^{2} - Rc^{2} Ri^{2} Ro^{2} \\mu_{r}^{2} - 2 Rc^{2} Ri^{2} Ro^{2} \\mu_{r} - Rc^{2} Ri^{2} Ro^{2} + Rc^{2} Ro^{4} \\mu_{r}^{2} - 2 Rc^{2} Ro^{4} \\mu_{r} + Rc^{2} Ro^{4} - Re^{2} Ri^{4} \\mu_{r}^{2} + 2 Re^{2} Ri^{4} \\mu_{r} - Re^{2} Ri^{4} + Re^{2} Ri^{2} Ro^{2} \\mu_{r}^{2} + 2 Re^{2} Ri^{2} Ro^{2} \\mu_{r} + Re^{2} Ri^{2} Ro^{2} + Ri^{4} Ro^{2} \\mu_{r}^{2} - Ri^{4} Ro^{2} - Ri^{2} Ro^{4} \\mu_{r}^{2} + Ri^{2} Ro^{4}}$"
      ],
      "text/plain": [
       "2*Re**2*Ri**2*Ro**2*(Brem*Rc**2*mu_r*log(Ri/Ro) + Brem*Rc**2*log(Ri/Ro) - Brem*Ri**2*mu_r*log(Ri/Ro) + Brem*Ri**2*log(Ri/Ro) + Rc**2*mu_r*log(R_o**B_rem/R_i**B_rem) + Rc**2*log(R_o**B_rem/R_i**B_rem) + Ri**2*mu_r*log(R_i**B_rem/R_o**B_rem) + Ri**2*log(R_o**B_rem/R_i**B_rem))/(Rc**2*Re**2*Ri**2*mu_r**2 - Rc**2*Re**2*Ri**2 - Rc**2*Re**2*Ro**2*mu_r**2 + Rc**2*Re**2*Ro**2 - Rc**2*Ri**2*Ro**2*mu_r**2 - 2*Rc**2*Ri**2*Ro**2*mu_r - Rc**2*Ri**2*Ro**2 + Rc**2*Ro**4*mu_r**2 - 2*Rc**2*Ro**4*mu_r + Rc**2*Ro**4 - Re**2*Ri**4*mu_r**2 + 2*Re**2*Ri**4*mu_r - Re**2*Ri**4 + Re**2*Ri**2*Ro**2*mu_r**2 + 2*Re**2*Ri**2*Ro**2*mu_r + Re**2*Ri**2*Ro**2 + Ri**4*Ro**2*mu_r**2 - Ri**4*Ro**2 - Ri**2*Ro**4*mu_r**2 + Ri**2*Ro**4)"
      ]
     },
     "metadata": {},
     "output_type": "display_data"
    }
   ],
   "source": [
    "solution_p_1 = solution.subs(p,1)\n",
    "display(solution_p_1)\n",
    "\n",
    "display(simplify(solution_p_1[0]-c1_eq))\n",
    "display(simplify(solution_p_1[1]-c2_eq))\n",
    "display(simplify(solution_p_1[2]-c3_eq))\n",
    "display(simplify(solution_p_1[3]-d1_eq))\n",
    "display(simplify(solution_p_1[4]-d2_eq))\n",
    "display(simplify(solution_p_1[5]-d3_eq))"
   ]
  },
  {
   "cell_type": "code",
   "execution_count": null,
   "metadata": {},
   "outputs": [],
   "source": []
  }
 ],
 "metadata": {
  "kernelspec": {
   "display_name": "Python 3 (ipykernel)",
   "language": "python",
   "name": "python3"
  },
  "language_info": {
   "codemirror_mode": {
    "name": "ipython",
    "version": 3
   },
   "file_extension": ".py",
   "mimetype": "text/x-python",
   "name": "python",
   "nbconvert_exporter": "python",
   "pygments_lexer": "ipython3",
   "version": "3.10.12"
  }
 },
 "nbformat": 4,
 "nbformat_minor": 4
}
