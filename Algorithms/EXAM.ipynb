{
 "cells": [
  {
   "cell_type": "code",
   "execution_count": 56,
   "id": "1539ad86-86d4-4597-8f1d-ca2b2abf4eed",
   "metadata": {},
   "outputs": [],
   "source": [
    "import numpy as np\n",
    "import matplotlib.pyplot as plt\n",
    "from time import time\n",
    "import scipy as sp\n",
    "from MySimpson import MySimpson\n",
    "from Newtonsys import Newtonsys"
   ]
  },
  {
   "cell_type": "markdown",
   "id": "5e7d92ca-072d-467a-822f-026602b05f2a",
   "metadata": {},
   "source": [
    "# Part A"
   ]
  },
  {
   "cell_type": "markdown",
   "id": "774fb47a-f2f8-465b-abc9-8dd2f603950c",
   "metadata": {},
   "source": [
    "## A) 4"
   ]
  },
  {
   "cell_type": "markdown",
   "id": "0e74a2f6-32b5-4bd7-b07d-bb0d0fa421ed",
   "metadata": {},
   "source": [
    "## B) 3"
   ]
  },
  {
   "cell_type": "markdown",
   "id": "0dd9c2b9-d720-406f-b557-fb7976972c2d",
   "metadata": {},
   "source": [
    "## C) 4"
   ]
  },
  {
   "cell_type": "markdown",
   "id": "4b6e0137-8485-4cbe-9c61-5097d632bf15",
   "metadata": {},
   "source": [
    "## D) 3"
   ]
  },
  {
   "cell_type": "markdown",
   "id": "2f975add-35a0-4ce4-86e0-b7f58a6c3ddc",
   "metadata": {},
   "source": [
    "## E) 1"
   ]
  },
  {
   "cell_type": "markdown",
   "id": "98e6e9de-7acb-40d3-add8-ee1e741d9946",
   "metadata": {},
   "source": [
    "## F) 4"
   ]
  },
  {
   "cell_type": "markdown",
   "id": "f65ec399-1db3-4443-be6a-5859667a4e48",
   "metadata": {},
   "source": [
    "# Part B"
   ]
  },
  {
   "cell_type": "markdown",
   "id": "8ce7f10f-95dd-415f-a324-750afef4a330",
   "metadata": {},
   "source": [
    "# Question 1"
   ]
  },
  {
   "cell_type": "markdown",
   "id": "5b77de51-a083-4a34-9a7e-d429b2b88595",
   "metadata": {},
   "source": [
    "## 1.1)"
   ]
  },
  {
   "cell_type": "code",
   "execution_count": 24,
   "id": "1a4043da-cfb6-494e-b211-cf1d2887ac44",
   "metadata": {},
   "outputs": [
    {
     "data": {
      "text/plain": [
       "np.float64(2.0300784692790597)"
      ]
     },
     "execution_count": 24,
     "metadata": {},
     "output_type": "execute_result"
    }
   ],
   "source": [
    "f = lambda x: np.exp(1-x**2)\n",
    "a = 0\n",
    "b = 1\n",
    "n = 500\n",
    "S_true = MySimpson(f, a, b, n) #f,a,b,n\n",
    "S_true"
   ]
  },
  {
   "cell_type": "code",
   "execution_count": 26,
   "id": "46e49934-8848-4dbb-9423-fe1c5703f346",
   "metadata": {},
   "outputs": [
    {
     "data": {
      "text/plain": [
       "[np.float64(1.388045967054552e-07),\n",
       " np.float64(8.67890337374888e-09),\n",
       " np.float64(1.7142087749277835e-09),\n",
       " np.float64(5.421605386857209e-10),\n",
       " np.float64(2.2186297243820263e-10)]"
      ]
     },
     "execution_count": 26,
     "metadata": {},
     "output_type": "execute_result"
    }
   ],
   "source": [
    "N = [20, 40, 60, 80, 100]\n",
    "e = []\n",
    "for n in N:\n",
    "    S = MySimpson(f, a, b, n)\n",
    "    dS = np.abs(S-S_true)\n",
    "    e.append(dS)\n",
    "e"
   ]
  },
  {
   "cell_type": "code",
   "execution_count": 28,
   "id": "9059d563-aa26-4c6b-bc78-47ae7740cbc8",
   "metadata": {},
   "outputs": [
    {
     "data": {
      "text/plain": [
       "array([1.39e-07, 8.68e-09, 1.71e-09, 5.42e-10, 5.22e-10])"
      ]
     },
     "execution_count": 28,
     "metadata": {},
     "output_type": "execute_result"
    }
   ],
   "source": [
    "e = np.array([1.39*10**(-7), 8.68*10**(-9), 1.71*10**(-9), 5.42*10**(-10), 5.22*10**(-10)])\n",
    "e"
   ]
  },
  {
   "cell_type": "code",
   "execution_count": 40,
   "id": "09a0c37d-f3dd-493a-a420-e9184d0ab6ab",
   "metadata": {},
   "outputs": [
    {
     "data": {
      "text/plain": [
       "array([[2.00e+01, 4.00e+01, 6.00e+01, 8.00e+01, 1.00e+02],\n",
       "       [1.39e-07, 8.68e-09, 1.71e-09, 5.42e-10, 5.22e-10]])"
      ]
     },
     "execution_count": 40,
     "metadata": {},
     "output_type": "execute_result"
    }
   ],
   "source": [
    "err_table = np.array([N, e])\n",
    "err_table"
   ]
  },
  {
   "cell_type": "markdown",
   "id": "6e4138b0-97e0-4b49-85d3-b302da497217",
   "metadata": {},
   "source": [
    "## 1.2,3,4)"
   ]
  },
  {
   "cell_type": "markdown",
   "id": "bbca9d48-9c08-4639-beb1-40e6ca0e1fca",
   "metadata": {},
   "source": [
    "The normal equation can be written like $(A^TA)c=A^Ty$"
   ]
  },
  {
   "cell_type": "code",
   "execution_count": 48,
   "id": "fef13cce-0300-4505-bbcb-4a301c4d5e5d",
   "metadata": {},
   "outputs": [
    {
     "data": {
      "text/plain": [
       "(array([[ 1.        , -2.99573227],\n",
       "        [ 1.        , -3.68887945],\n",
       "        [ 1.        , -4.09434456],\n",
       "        [ 1.        , -4.38202663],\n",
       "        [ 1.        , -4.60517019]]),\n",
       " array([-15.7887919 , -18.56224431, -20.18677247, -21.33575511,\n",
       "        -21.37335353]))"
      ]
     },
     "execution_count": 48,
     "metadata": {},
     "output_type": "execute_result"
    }
   ],
   "source": [
    "A = np.array([np.ones(5), -np.log(N)]).T #System matrix\n",
    "y = np.log(e)                            #right hand side\n",
    "A, y"
   ]
  },
  {
   "cell_type": "code",
   "execution_count": 49,
   "id": "cbfd952d-bdbe-4ca2-beee-da95d7c35a65",
   "metadata": {},
   "outputs": [],
   "source": [
    "c = np.linalg.solve(A.T@A,A.T@y)  #solution for beta and alpha"
   ]
  },
  {
   "cell_type": "code",
   "execution_count": 51,
   "id": "50f5d52c-25a8-414d-80ad-9711b19a661d",
   "metadata": {},
   "outputs": [
    {
     "name": "stdout",
     "output_type": "stream",
     "text": [
      "beta = -4.995061596805749\n",
      "alpha = 3.656331554896546\n"
     ]
    }
   ],
   "source": [
    "print(\"beta =\", c[0])\n",
    "print(\"alpha =\", c[1])"
   ]
  },
  {
   "cell_type": "markdown",
   "id": "a0dbe04f-deed-402d-8619-6eb6e3b837e5",
   "metadata": {},
   "source": [
    "\\begin{equation}\n",
    "    log(e_n)\\approx -5.00 - 3.65 \\cdot log(n)\n",
    "\\end{equation}"
   ]
  },
  {
   "cell_type": "markdown",
   "id": "64eb4542-84ff-4886-b41b-766326a87678",
   "metadata": {},
   "source": [
    "# Question 2"
   ]
  },
  {
   "cell_type": "markdown",
   "id": "bd3f0329-25fb-424d-ae0c-c33c1f6af257",
   "metadata": {},
   "source": [
    "\\begin{equation}\n",
    "\\mathbf{F(X)} = \\begin{bmatrix} -x^2 - x +2y - 18 \\\\ (x-1)^2 + (y-6)^2 - 25 \\end{bmatrix} = \\mathbf{0}\n",
    "\\end{equation}\n",
    "\\begin{equation}\n",
    "\\mathbf{F^{'}(X)} = \\begin{bmatrix} -2x -1 && 2 \\\\ 2x-2 && 2y-12 \\end{bmatrix}\n",
    "\\end{equation}"
   ]
  },
  {
   "cell_type": "code",
   "execution_count": 55,
   "id": "ea04cf6d-2bf6-484b-83b1-8c8f08ca9998",
   "metadata": {},
   "outputs": [],
   "source": [
    "def FdF(xy):\n",
    "    x, y = xy\n",
    "    F = np.array([-x**2 - x + 2*y - 18, (x-1)**2 + (y-6)**2 - 25])\n",
    "    dF = np.array([[-2*x-1,2],[2*x-2, 2*y - 12]])\n",
    "    return F, dF"
   ]
  },
  {
   "cell_type": "markdown",
   "id": "ad8e64ae-c506-4673-a964-6058e5b10188",
   "metadata": {},
   "source": [
    "## 2.2) \n",
    "I would choose points near the actual solution because Newton's method is sensitive to how close to the real solution you choose the starting point. We can see that the system has 2 solution at the points approximately $[-2,10]$ and $[1.5,11]$. So any point near those two is a good guess for the starting point. "
   ]
  },
  {
   "cell_type": "markdown",
   "id": "b93f35d2-c914-4821-9393-434600491f90",
   "metadata": {},
   "source": [
    "## 2.3)"
   ]
  },
  {
   "cell_type": "code",
   "execution_count": 57,
   "id": "e35c9085-eb86-47d8-8896-db79ba1082e3",
   "metadata": {},
   "outputs": [
    {
     "data": {
      "text/plain": [
       "array([-2., 10.])"
      ]
     },
     "metadata": {},
     "output_type": "display_data"
    },
    {
     "data": {
      "text/plain": [
       "array([ 1.54694647, 10.96999493])"
      ]
     },
     "metadata": {},
     "output_type": "display_data"
    }
   ],
   "source": [
    "x1 = [-1.7,10.5]\n",
    "x2 = [1.6, 10]\n",
    "X1 = Newtonsys(FdF,x1,50)\n",
    "X2 = Newtonsys(FdF,x2,50)\n",
    "display(X1[-1], X2[-1])"
   ]
  },
  {
   "cell_type": "markdown",
   "id": "d19475a7-e2c6-41d5-ac32-2e423765b517",
   "metadata": {},
   "source": [
    "I run 50 iterations with the starting points $[-1.7,10.5]$ and $[1.6, 10]$ with the results $[-2., 10.]$ and $[ 1.547, 10.97]$. The result is consistent with what we see on the graph."
   ]
  },
  {
   "cell_type": "markdown",
   "id": "fd26925b-dd0f-4c9a-aaef-e248e39ac0e0",
   "metadata": {},
   "source": [
    "# Question 3\n",
    "## 3.1)"
   ]
  },
  {
   "cell_type": "markdown",
   "id": "11cc4f0c-6902-4d5c-9b64-489292bac1ca",
   "metadata": {},
   "source": [
    "\\begin{gather}\n",
    "P_k(x_i) = y_i \\Rightarrow P(x) = p_k + c(x-x_0)(x-x_1)...(x-x_k)\n",
    "\\end{gather}\n",
    "$P(x)$ is of degree at most $k+1$, $c$ can be determined by\n",
    "\\begin{gather}\n",
    "P(x_{k+1}) = p_k(x_{k+1}) + c(x_{k+1}-x_0)(x_{k+1}-x_1)...(x_{k+1}-x_k)\n",
    "\\end{gather}"
   ]
  },
  {
   "cell_type": "markdown",
   "id": "8eb98907-10cb-4832-a951-ca1800acfcee",
   "metadata": {},
   "source": [
    "\\begin{gather}\n",
    "p_0(x) = y_0 = 1\\\\\n",
    "p_1(x) = p_0(x) + c(x - 0) = 1 + cx \\Rightarrow p_1(0.05) = 1 + c \\cdot 0.05 = 1.105 \\Rightarrow c = 2.1\\\\\n",
    "p_2(x) = p_1(x) + c(x-0)(x-0.05) = 1 + 2.1(x-0) + c(x-0)(x-0.05 \\Rightarrow \\\\\n",
    "p_2(0.1) = 1 + 2.1(0.1) + c(0.1)(0.1 - 0.05) = 1.221 \\Rightarrow c = 2.2 \\\\\n",
    "p_2(x) = 1 + 2.1(x-0) + 2.2(x-0)(x-0.05)\n",
    "\\end{gather}\n",
    "Nested form\n",
    "\\begin{equation}\n",
    "p(x) = 1 + (x-0)(2.1 + 2.2(x-0.05))\n",
    "\\end{equation}"
   ]
  },
  {
   "cell_type": "markdown",
   "id": "4fd80cd3-5636-49b6-95a5-b51cde6db44c",
   "metadata": {},
   "source": [
    "## 3.2)"
   ]
  },
  {
   "cell_type": "markdown",
   "id": "ebda538f-51ae-4615-853f-4c234c2a9709",
   "metadata": {},
   "source": [
    "\\begin{equation}\n",
    "|f(x) - p(x)| \\leq \\frac{1}{4(n+1)}Mh^{n+1}, \\, \\, |f^{(n+1)}(x) \\leq M|\n",
    "\\end{equation}\n",
    "\\begin{equation}\n",
    "f^{(n+1)}(x) = 2^{n+1}e^{2x}\n",
    "\\end{equation}\n",
    "On the interval I the largest value this derivative can take is at the point $x = 0.1$.\n",
    "\\begin{equation}\n",
    "f^{(n+1)}(0.1) = 2^{n+1}e^{0.2}\n",
    "\\end{equation}\n",
    "Now we can substitute it in the error inequality with $h = \\frac{0.1}{n}$\n",
    "\\begin{equation}\n",
    "|f(x) - p(x)| \\leq \\frac{1}{4(n+1)} 2^{n+1}e^{0.2} (\\frac{0.1}{n})^{n+1} \\leq 10^{-5} \n",
    "\\end{equation}\n",
    "\\begin{gather}\n",
    "\\frac{1}{4(n+1)} e^{0.2} (\\frac{0.2}{n})^{n+1} \\leq 10^{-5}\n",
    "\\end{gather}"
   ]
  },
  {
   "cell_type": "markdown",
   "id": "3560834e-f124-459b-a79f-e2a3bd835c4a",
   "metadata": {},
   "source": [
    "I will use sympy to find derivative and use it in newton algorithm to find n"
   ]
  },
  {
   "cell_type": "code",
   "execution_count": 63,
   "id": "352ef367-60e5-470f-b5d4-df5fc2f5928b",
   "metadata": {},
   "outputs": [
    {
     "data": {
      "text/latex": [
       "$\\displaystyle \\frac{0.305350689540042 \\left(\\frac{0.2}{n}\\right)^{n + 1} \\left(\\log{\\left(\\frac{0.2}{n} \\right)} - \\frac{1.0 \\left(n + 1\\right)}{n}\\right)}{n + 1} - \\frac{0.305350689540042 \\left(\\frac{0.2}{n}\\right)^{n + 1}}{\\left(n + 1\\right)^{2}}$"
      ],
      "text/plain": [
       "0.305350689540042*(0.2/n)**(n + 1)*(log(0.2/n) - 1.0*(n + 1)/n)/(n + 1) - 0.305350689540042*(0.2/n)**(n + 1)/(n + 1)**2"
      ]
     },
     "execution_count": 63,
     "metadata": {},
     "output_type": "execute_result"
    }
   ],
   "source": [
    "from sympy import *\n",
    "n = symbols('n') \n",
    "diff(exp(0.2)/4/(n+1)*(0.2/n)**(n+1))"
   ]
  },
  {
   "cell_type": "code",
   "execution_count": 64,
   "id": "c2bccf86-54ca-4c64-9aa7-6eace8c16aa1",
   "metadata": {},
   "outputs": [],
   "source": [
    "f = lambda n: np.exp(0.2)/4/(n+1)*(0.2/n)**(n+1) - 10**(-5)\n",
    "df = lambda n: np.exp(0.2)/4*(0.2/n)**(n+1)/(n+1)*(np.log(0.2/n) - (n+1)/n) - np.exp(0.2)/4/(n+1)**2*(0.2/n)**(n+1)"
   ]
  },
  {
   "cell_type": "code",
   "execution_count": 65,
   "id": "bda47361-bb0c-4349-8d11-4500cc8eb9b3",
   "metadata": {},
   "outputs": [],
   "source": [
    "def newton(f, df, x0, nmax):\n",
    "    x = x0\n",
    "    iterates = [x0]\n",
    "    for n in range(nmax):\n",
    "        x = x - f(x)/df(x)\n",
    "        iterates.append(x)\n",
    "    return iterates"
   ]
  },
  {
   "cell_type": "code",
   "execution_count": 76,
   "id": "158fd3d0-0918-4bb2-9ced-0af7b5cecce0",
   "metadata": {},
   "outputs": [
    {
     "data": {
      "text/plain": [
       "np.float64(2.5554617321607407)"
      ]
     },
     "execution_count": 76,
     "metadata": {},
     "output_type": "execute_result"
    }
   ],
   "source": [
    "n = newton(f, df, 2, 100)\n",
    "n[-1]"
   ]
  },
  {
   "cell_type": "markdown",
   "id": "7cf96750-4252-4635-add5-4c07e3946c7d",
   "metadata": {},
   "source": [
    "Check if it is the correct result "
   ]
  },
  {
   "cell_type": "code",
   "execution_count": 77,
   "id": "1b393d7a-ca4b-4e62-ae2d-9c740d38dd7d",
   "metadata": {},
   "outputs": [
    {
     "data": {
      "text/plain": [
       "(np.float64(-8.492095360296087e-06), np.float64(9.178356318001418e-05))"
      ]
     },
     "execution_count": 77,
     "metadata": {},
     "output_type": "execute_result"
    }
   ],
   "source": [
    "f(3), f(2)"
   ]
  },
  {
   "cell_type": "markdown",
   "id": "98f38728-0992-41bd-8ec9-52643ee725fa",
   "metadata": {},
   "source": [
    "### The smallest n is 3."
   ]
  },
  {
   "cell_type": "markdown",
   "id": "7b21cd03-8c7e-4388-abeb-f009033c0c7b",
   "metadata": {},
   "source": [
    "# Question 4"
   ]
  },
  {
   "cell_type": "markdown",
   "id": "60e5970e-acf8-40aa-9673-5e5f2085a5e3",
   "metadata": {},
   "source": [
    "## 4.1)"
   ]
  },
  {
   "attachments": {
    "0ebe8cfc-1db3-487d-88a6-2b146972aef6.png": {
     "image/png": "[encoded data removed]"
    }
   },
   "cell_type": "markdown",
   "id": "292d290e-beeb-4663-bafc-24d5b9b93b41",
   "metadata": {},
   "source": [
    "![image.png](attachment:0ebe8cfc-1db3-487d-88a6-2b146972aef6.png)"
   ]
  },
  {
   "cell_type": "markdown",
   "id": "58b34e38-d4fa-4028-9978-7cf7f0b883b0",
   "metadata": {},
   "source": [
    "\\begin{gather}\n",
    "x = z_1\\\\\n",
    "x^{'} = z_1^{'} = z_2\\\\\n",
    "x^{''} = z_2^{'} = z_3\\\\\n",
    "x^{'''} = z_3^{'}\n",
    "\\end{gather}\n",
    "\\begin{equation}\n",
    "\\begin{bmatrix} z_1^{'}\\\\ z_2^{'} \\\\ z_3^{'}\\end{bmatrix} = \\begin{bmatrix} z_2 \\\\ z_3 \\\\ -z_1\\end{bmatrix}\n",
    "\\end{equation}"
   ]
  },
  {
   "cell_type": "code",
   "execution_count": 106,
   "id": "e069daee-2f89-4051-aff3-ecabaa305fcd",
   "metadata": {},
   "outputs": [],
   "source": [
    "def sys(_,z):\n",
    "    #z[0] = x\n",
    "    #z[1] = dx/dt\n",
    "    #z[2] = dx^2/d^2t\n",
    "    \n",
    "    M = np.array([z[1], z[2], -z[0]])\n",
    "    return M"
   ]
  },
  {
   "cell_type": "code",
   "execution_count": 107,
   "id": "5bd2240d-f2dc-4561-8dda-9d3aa1d2f2b4",
   "metadata": {},
   "outputs": [],
   "source": [
    "def MyRK4System(sys, tspan, x0, n):\n",
    "    if x0.shape[0] != sys(tspan[0],x0).shape[0]:\n",
    "        print(\"Wrong dimensions of x0 and system\")\n",
    "        return\n",
    "    t = tspan[0]\n",
    "    h = (tspan[1] - tspan[0])/n\n",
    "    x = x0\n",
    "    t_vec = []\n",
    "    MX = []\n",
    "    MX.append(x)\n",
    "    t_vec.append(t)\n",
    "    for i in range(1,n+1):\n",
    "        K1 = h*sys(t, x)\n",
    "        K2 = h*sys(t + 0.5*h, x + 0.5*K1)\n",
    "        K3 = h*sys(t + 0.5*h, x + 0.5*K2)\n",
    "        K4 = h*sys(t + h, x + K3)\n",
    "        x = x + 1/6*(K1+2*K2+2*K3+K4)\n",
    "        t = tspan[0] + i*h\n",
    "        MX.append(x)\n",
    "        t_vec.append(t)\n",
    "    return t_vec, MX"
   ]
  },
  {
   "cell_type": "markdown",
   "id": "7d3d210a-478c-4e94-90dc-cbffd665b6cf",
   "metadata": {},
   "source": [
    "## 4.2)"
   ]
  },
  {
   "cell_type": "code",
   "execution_count": 108,
   "id": "9901f160-b467-49a0-ae2f-81c5a5a410d1",
   "metadata": {},
   "outputs": [],
   "source": [
    "x0 = np.array([0,1,0]) #given\n",
    "tspan = [0,4] #interval\n",
    "h1 = 0.5\n",
    "h2 = 0.25\n",
    "\n",
    "#number of points(number of function evaluations) is I//h + 1, where I is the interval finish-start, we have finish = 4 and start = 0\n",
    "#number of steps is I//h \n",
    "\n",
    "I = tspan[1] - tspan[0]\n",
    "n1 = int(I//h1 + 1) #number of points for k1\n",
    "n2 = int(I//h2 + 1) #number of points for k2"
   ]
  },
  {
   "cell_type": "code",
   "execution_count": 109,
   "id": "9c0f7a2d-f12d-4018-8eb4-d67be8fdddab",
   "metadata": {},
   "outputs": [],
   "source": [
    "X1 = MyRK4System(sys,tspan,x0,n1)\n",
    "X2 = MyRK4System(sys,tspan,x0,n2)"
   ]
  },
  {
   "cell_type": "code",
   "execution_count": 110,
   "id": "5c0e586c-7426-4a72-b288-bfca159229ca",
   "metadata": {},
   "outputs": [
    {
     "data": {
      "text/plain": [
       "(np.float64(-3.6969107800702625), np.float64(-3.6944243176387186))"
      ]
     },
     "execution_count": 110,
     "metadata": {},
     "output_type": "execute_result"
    }
   ],
   "source": [
    "x_n1 = X1[1][-1][0] #x at t=4 for k = 2\n",
    "x_n2 = X2[1][-1][0] #x at t=4 for k = 2\n",
    "x_n1, x_n2"
   ]
  },
  {
   "cell_type": "code",
   "execution_count": 111,
   "id": "7f0b1924-a0f0-4ed4-bf31-65517b5016fb",
   "metadata": {},
   "outputs": [
    {
     "name": "stdout",
     "output_type": "stream",
     "text": [
      "x(4) at t = 4 for k = 1 is -3.6969107800702625\n",
      "x(4) at t = 4 for k = 2 is -3.6944243176387186\n"
     ]
    }
   ],
   "source": [
    "print(\"x(4) at t = 4 for k = 1 is\", x_n1)\n",
    "print(\"x(4) at t = 4 for k = 2 is\", x_n2)"
   ]
  }
 ],
 "metadata": {
  "kernelspec": {
   "display_name": "Python 3 (ipykernel)",
   "language": "python",
   "name": "python3"
  },
  "language_info": {
   "codemirror_mode": {
    "name": "ipython",
    "version": 3
   },
   "file_extension": ".py",
   "mimetype": "text/x-python",
   "name": "python",
   "nbconvert_exporter": "python",
   "pygments_lexer": "ipython3",
   "version": "3.12.3"
  }
 },
 "nbformat": 4,
 "nbformat_minor": 5
}
