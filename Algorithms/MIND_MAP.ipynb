{
 "cells": [
  {
   "cell_type": "code",
   "execution_count": 1,
   "id": "6bdffb6f-ad98-4a75-8951-f2612cfaf6b6",
   "metadata": {},
   "outputs": [],
   "source": [
    "import numpy as np\n",
    "import matplotlib.pyplot as plt\n",
    "from time import time\n",
    "import scipy as sp"
   ]
  },
  {
   "cell_type": "markdown",
   "id": "c41208da-be4c-4022-8aa6-95e8221e8f43",
   "metadata": {},
   "source": [
    "# Roots"
   ]
  },
  {
   "cell_type": "code",
   "execution_count": 29,
   "id": "5f4bc0b9-60aa-459c-8571-1fdbb3bab758",
   "metadata": {},
   "outputs": [],
   "source": [
    "def horner(a, x):\n",
    "    p = a[-1]\n",
    "    for i in a[-2::-1]:\n",
    "        p = i + x*p\n",
    "    return p"
   ]
  },
  {
   "cell_type": "code",
   "execution_count": 30,
   "id": "d553dfd6-5c98-4c47-89e7-c62d53c65ce3",
   "metadata": {},
   "outputs": [],
   "source": [
    "def newton(f, df, x0, nmax):\n",
    "    x = x0\n",
    "    iterates = [x0]\n",
    "    for n in range(nmax):\n",
    "        x = x - f(x)/df(x)\n",
    "        iterates.append(x)\n",
    "    return iterates"
   ]
  },
  {
   "cell_type": "code",
   "execution_count": 31,
   "id": "4a15320c-76ab-4e59-a8f2-6d6ee08fafec",
   "metadata": {},
   "outputs": [],
   "source": [
    "def secant(f, x0, x1, n_max):\n",
    "    a = x0\n",
    "    b = x1\n",
    "    f_a = f(a)\n",
    "    f_b = f(b)\n",
    "    X = [a, b]\n",
    "    for n in range(1,n_max, 1):\n",
    "        d = f_b * (b-a)/(f_b - f_a)\n",
    "        a = b\n",
    "        f_a = f_b\n",
    "        b = b - d\n",
    "        f_b = f(b)\n",
    "        X.append(b)\n",
    "    return X"
   ]
  },
  {
   "cell_type": "markdown",
   "id": "e8c246fc-f07f-412f-b62b-f7a508372177",
   "metadata": {},
   "source": [
    "# Data Fitting"
   ]
  },
  {
   "cell_type": "code",
   "execution_count": 4,
   "id": "d91a0881-c328-40af-b080-7a3958e00c8d",
   "metadata": {},
   "outputs": [],
   "source": [
    "xy = np.load('FitData.npy')\n",
    "x = xy[:,0]\n",
    "y = xy[:,1]"
   ]
  },
  {
   "cell_type": "code",
   "execution_count": 5,
   "id": "2383ce8a-89d6-4988-a43b-a54deb739ed4",
   "metadata": {},
   "outputs": [],
   "source": [
    "A = np.array([np.ones(len(x)), x, np.sin(x), np.cos(x), np.sin(2*x), np.cos(2*x)]).T\n",
    "y = np.array([y]).T\n",
    "c = np.linalg.solve(A.T@A,A.T@y)"
   ]
  },
  {
   "cell_type": "code",
   "execution_count": 6,
   "id": "cdb3d3b2-ce13-410c-abf9-48895d1a580c",
   "metadata": {},
   "outputs": [],
   "source": [
    "xx = np.linspace(min(x), max(x), 100)\n",
    "yy = c[0] + c[1]*xx + c[2]*np.sin(xx) + c[3]*np.cos(xx) + c[4]*np.sin(2*xx) + c[5]*np.cos(2*xx)"
   ]
  },
  {
   "cell_type": "code",
   "execution_count": 7,
   "id": "a93af735-653c-4f3e-9e60-d72b5aa1983d",
   "metadata": {},
   "outputs": [
    {
     "data": {
      "text/plain": [
       "[<matplotlib.lines.Line2D at 0x73a1cd68f560>]"
      ]
     },
     "execution_count": 7,
     "metadata": {},
     "output_type": "execute_result"
    },
    {
     "data": {
      "image/png": "[encoded data removed]",
      "text/plain": [
       "<Figure size 640x480 with 1 Axes>"
      ]
     },
     "metadata": {},
     "output_type": "display_data"
    }
   ],
   "source": [
    "plt.plot(x,y,'o')\n",
    "plt.plot(xx,yy)"
   ]
  },
  {
   "cell_type": "markdown",
   "id": "1f9743c8-f8e0-4775-8842-9a794c9b988f",
   "metadata": {},
   "source": [
    "# Interpolation"
   ]
  },
  {
   "cell_type": "code",
   "execution_count": 18,
   "id": "ad397ece-342a-4c3f-a817-df6c59e3ba7c",
   "metadata": {},
   "outputs": [],
   "source": [
    "def CardinalPolynomial(nodes, i, t):\n",
    "    cardinals = []\n",
    "    #loop that calculates ith polynomial\n",
    "    for arg in t: \n",
    "        l = 1\n",
    "        for index in range(len(nodes)):\n",
    "            if index == i:              #skips ith node \n",
    "                continue\n",
    "            else:\n",
    "                l*=(arg-nodes[index])/(nodes[i]-nodes[index])  #calculates multipliers for the polynomial l_arg, l_arg = lmb(1)lmb(2)...lmb(index)...\n",
    "        cardinals.append(l)\n",
    "    return cardinals\n",
    "\n",
    "def InterpolerLagrangeForm(nodes, ydata, t):\n",
    "    ydata = np.r_[*ydata].reshape(-1, 1)\n",
    "    nodes = np.r_[*nodes]\n",
    "    cardinals_matrix = []\n",
    "\n",
    "    for i in range(len(nodes)):\n",
    "        cardinals = np.array(CardinalPolynomial(nodes, i, t)).T   #adds column to the matrix [l_i(t_0), l_i(t_1), ..., l_i(t_n)]\n",
    "        cardinals_matrix.append(cardinals)\n",
    "\n",
    "    cardinals_matrix = np.column_stack(cardinals_matrix)\n",
    "    langrange = cardinals_matrix @ ydata\n",
    "\n",
    "    return langrange"
   ]
  },
  {
   "cell_type": "code",
   "execution_count": 17,
   "id": "11caada6-55a6-459b-a789-81cf2678a545",
   "metadata": {},
   "outputs": [],
   "source": [
    "x = [1,2.5,3,5]\n",
    "y = [1,2,3,4]\n",
    "t = np.linspace(0.5,5.5,200)\n",
    "#InterpolerLagrangeForm(x, y, t)"
   ]
  },
  {
   "cell_type": "markdown",
   "id": "a607e481-b44d-4f5a-a98f-5a622622b607",
   "metadata": {},
   "source": [
    "# Integration"
   ]
  },
  {
   "cell_type": "code",
   "execution_count": 22,
   "id": "b654ec02-cb7c-436c-a242-513f4e351007",
   "metadata": {},
   "outputs": [],
   "source": [
    "def MinTrapez(f, a, b, n):\n",
    "    if b > a:\n",
    "        h = (b-a)/n\n",
    "    else:\n",
    "        h = (a-b)/n\n",
    "    boundry_sum = f(a) + f(b)\n",
    "    mid_sum = 0\n",
    "    for i in range(1,n, 1):\n",
    "        mid_sum += 2*f(a+h*i)\n",
    "    integral = h/2 * (mid_sum + boundry_sum)\n",
    "    return integral"
   ]
  },
  {
   "cell_type": "markdown",
   "id": "4109eecb-c77e-460c-8205-802af0b62b03",
   "metadata": {},
   "source": [
    "### Trapezoid rule error \n",
    "\\begin{equation}\n",
    "|E_t| \\leq \\frac{1}{12} h^3 \\max_{a \\leq \\xi \\leq b} |f''(\\xi)|.\n",
    "\\end{equation}\n",
    "\\begin{gather}\n",
    "E_t = -\\frac{(b-a)h^2}{12} \\left( \\frac{1}{n} \\sum_{i=1}^n f''(\\xi_i) \\right) = -\\frac{(b-a)h^2}{12} f''(\\zeta), \n",
    "\\text{with } a < \\zeta < b.\n",
    "\\end{gather}\n",
    "The error is $\\mathcal{O}(h^2)$, i.e., it is proportional to $h^2$ and $\\frac{1}{n^2}$.\n"
   ]
  },
  {
   "cell_type": "code",
   "execution_count": 21,
   "id": "93760e73-5d86-4901-895d-080b7a1467d1",
   "metadata": {},
   "outputs": [],
   "source": [
    "def Simpson(f, interval, n):\n",
    "    if n%2 != 0:\n",
    "        print(\"Error!!! n must be even!!!\")\n",
    "        return 0\n",
    "    a = interval[0]\n",
    "    b = interval[1]\n",
    "    h = (b-a)/2\n",
    "    Area = 0\n",
    "    for i in range(n-1):\n",
    "        #Area += h/3*(f(a+(i-1)*h) + 4*f(a+(2*i-1)*h/2)+f(a+i*h))   if i goes from 0, but more multiplications\n",
    "        Area += h/3*(f(a) + 4*f(a+h/2) + f(a+h)) \n",
    "        a = a + h\n",
    "    return Area"
   ]
  },
  {
   "cell_type": "markdown",
   "id": "da21ba98-51db-4d55-9322-86e5f3562ae5",
   "metadata": {},
   "source": [
    "### Simpson rule error\n",
    "\\begin{equation}\n",
    "E_t = -\\frac{h^5}{90} f^{(4)}(\\xi) \\text{ for a } \\xi \\in (a, b).\n",
    "\\end{equation}\n",
    "\n",
    "Composite Simpson Rule error\n",
    "\\begin{equation}\n",
    "E_t = -\\frac{(b-a)^5}{180n^4} f^{(4)}(\\xi) \\text{ for a } \\xi \\in (a, b).\n",
    "\\end{equation}"
   ]
  },
  {
   "cell_type": "markdown",
   "id": "63180baf-694f-4812-a21f-c382d0f15e72",
   "metadata": {},
   "source": [
    "# Diff Eqautions"
   ]
  },
  {
   "cell_type": "code",
   "execution_count": 24,
   "id": "0ec92a3e-e4af-4877-99f1-3945067d9501",
   "metadata": {},
   "outputs": [],
   "source": [
    "def MyTaylor2(a,b,x0,n,der): #der- list of derivatives\n",
    "    t = a\n",
    "    h = (b-a)/n\n",
    "    res = [(0, t, x0)]\n",
    "    x= x0 \n",
    "    for i in range(1,n+1,1):\n",
    "        x = x + h*(der[0](x,t) + 0.5*h*der[1](x,t))\n",
    "        t = a + i*h\n",
    "        res.append((i,t,x))\n",
    "    return res"
   ]
  },
  {
   "cell_type": "markdown",
   "id": "2740af01-82ef-4c91-81ed-f968a4c491a1",
   "metadata": {},
   "source": [
    "### Local Truncation Error\n",
    "\n",
    "\\begin{equation}\n",
    "\\frac{1}{(k+1)!} x^{(k+1)}(\\xi) h^{k+1}, \\quad \\text{some } \\xi \\in (a, b)\n",
    "\\end{equation}"
   ]
  },
  {
   "cell_type": "code",
   "execution_count": 25,
   "id": "22be6fb6-8845-4d75-bea5-933be687a07b",
   "metadata": {},
   "outputs": [],
   "source": [
    "def MyRK4(dxdt, tspan, x0, n):\n",
    "    t = tspan[0]\n",
    "    h = (tspan[1] - tspan[0])/n\n",
    "    x = x0\n",
    "    res = [(0,t,x)]\n",
    "    for i in range(1,n+1,1):\n",
    "        K1 = h*dxdt(x, t)\n",
    "        K2 = h*dxdt(x + 0.5*K1, t + 0.5*h)\n",
    "        K3 = h*dxdt(x + 0.5*K2, t + 0.5*h)\n",
    "        K4 = h*dxdt(x + K3, t + h)\n",
    "        x = x + 1/6*(K1+2*K2+2*K3+K4)\n",
    "        t = tspan[0] + i*h\n",
    "        res.append((i,t,x))\n",
    "    return res"
   ]
  },
  {
   "cell_type": "code",
   "execution_count": 26,
   "id": "ca1216e3-f9f4-4aec-926f-e54bee93de04",
   "metadata": {},
   "outputs": [],
   "source": [
    "def MyRK4System(sys, tspan, x0, n):\n",
    "    if x0.shape[0] != sys(tspan[0],x0).shape[0]:\n",
    "        print(\"Wrong dimensions of x0 and system\")\n",
    "        return\n",
    "    t = tspan[0]\n",
    "    h = (tspan[1] - tspan[0])/n\n",
    "    x = x0\n",
    "    t_vec = []\n",
    "    MX = []\n",
    "    MX.append(x)\n",
    "    t_vec.append(t)\n",
    "    for i in range(1,n+1):\n",
    "        K1 = h*sys(t, x)\n",
    "        K2 = h*sys(t + 0.5*h, x + 0.5*K1)\n",
    "        K3 = h*sys(t + 0.5*h, x + 0.5*K2)\n",
    "        K4 = h*sys(t + h, x + K3)\n",
    "        x = x + 1/6*(K1+2*K2+2*K3+K4)\n",
    "        t = tspan[0] + i*h\n",
    "        MX.append(x)\n",
    "        t_vec.append(t)\n",
    "    return t_vec, MX"
   ]
  },
  {
   "cell_type": "code",
   "execution_count": 28,
   "id": "004ecf85-d485-4bd2-857e-b356559f3bf9",
   "metadata": {},
   "outputs": [],
   "source": [
    "def secant_update(mu_0, mu_1, x2_mu0, x2_mu1, target):\n",
    "    psi_mu0 = x2_mu0 - target\n",
    "    psi_mu1 = x2_mu1 - target\n",
    "    mu_2 = mu_1 - psi_mu1 * (mu_1 - mu_0) / (psi_mu1 - psi_mu0)\n",
    "    return mu_2"
   ]
  },
  {
   "cell_type": "markdown",
   "id": "3db8e73e-278a-49e8-9067-e6f8e0236686",
   "metadata": {},
   "source": [
    "\\begin{equation}\n",
    "    \\mu_{k+1} = \\mu_k - \\frac{\\mu_{k-1} - \\mu_{k}}{\\psi(\\mu_{k-1}) - \\psi(\\mu_{k})}\\psi(\\mu_k)\n",
    "\\end{equation}\n",
    "Where $\\psi(\\mu) = \\mu_k - desired $\n"
   ]
  },
  {
   "cell_type": "markdown",
   "id": "c8b6644d-304c-4b0f-842d-c2d350e0d12d",
   "metadata": {},
   "source": [
    "# System of Equations"
   ]
  },
  {
   "cell_type": "markdown",
   "id": "12efc441-7dc6-4bee-9c18-4859a3b004d8",
   "metadata": {},
   "source": [
    "### Newton Method"
   ]
  },
  {
   "cell_type": "code",
   "execution_count": 34,
   "id": "c41c18ed-125b-44e9-9f31-39cb819766fc",
   "metadata": {},
   "outputs": [],
   "source": [
    "from Newtonsys import Newtonsys\n",
    "def FdF201(X):\n",
    "    x1, x2, x3 = X\n",
    "    F1 = x1 + x2 + x3\n",
    "    F2 = x1**2 + x2**2 + x3**2 - 2\n",
    "    F3 = x1*(x2+x3) + 1\n",
    "\n",
    "    F = np.array([F1, F2, F3])\n",
    "    dF = np.array([[1,1,1],[2*x1, 2*x2, 2*x3],[x2+x3,x1,x1]])\n",
    "    \n",
    "    return F, dF\n",
    "X0 = np.array([3/4, 1/2, -1/2])\n",
    "Xiter = Newtonsys(FdF201,X0,10)"
   ]
  },
  {
   "cell_type": "code",
   "execution_count": 35,
   "id": "2a3c40a3-b2a1-446d-b749-a9cf757b40fe",
   "metadata": {},
   "outputs": [],
   "source": [
    "A = np.array([[3,12,13],[12,0,12],[0,2,30]])\n",
    "P, L, U = sp.linalg.lu(A)\n",
    "#display(P, L, U)"
   ]
  },
  {
   "cell_type": "code",
   "execution_count": null,
   "id": "caab04fb-09cc-454c-926d-4a81dc833fa4",
   "metadata": {},
   "outputs": [],
   "source": []
  }
 ],
 "metadata": {
  "kernelspec": {
   "display_name": "Python 3 (ipykernel)",
   "language": "python",
   "name": "python3"
  },
  "language_info": {
   "codemirror_mode": {
    "name": "ipython",
    "version": 3
   },
   "file_extension": ".py",
   "mimetype": "text/x-python",
   "name": "python",
   "nbconvert_exporter": "python",
   "pygments_lexer": "ipython3",
   "version": "3.12.3"
  }
 },
 "nbformat": 4,
 "nbformat_minor": 5
}
