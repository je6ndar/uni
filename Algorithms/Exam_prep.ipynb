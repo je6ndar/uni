{
 "cells": [
  {
   "cell_type": "code",
   "execution_count": 1,
   "id": "946ef7b6-390f-466f-9ca0-63a2e8349d9c",
   "metadata": {},
   "outputs": [],
   "source": [
    "import numpy as np\n",
    "import matplotlib.pyplot as plt\n",
    "from time import time\n",
    "import scipy as sp"
   ]
  },
  {
   "cell_type": "code",
   "execution_count": 5,
   "id": "8bccaf07-c354-468f-8489-4ff4d046a83d",
   "metadata": {},
   "outputs": [],
   "source": [
    "# returns \n",
    "Newton_Interpol(x, y, t): #x,y - known data,   t - points of interest\n",
    "    "
   ]
  },
  {
   "cell_type": "code",
   "execution_count": 16,
   "id": "bb34a9d6-1d65-4f3f-99e7-b3fc40311057",
   "metadata": {},
   "outputs": [],
   "source": [
    "def Simpson(f, interval, n):\n",
    "    if n%2 != 0:\n",
    "        print(\"Error!!! n must be even!!!\")\n",
    "        return 0\n",
    "    a = interval[0]\n",
    "    b = interval[1]\n",
    "    h = (b-a)/2\n",
    "    Area = 0\n",
    "    for i in range(n-1):\n",
    "        #Area += h/3*(f(a+(i-1)*h) + 4*f(a+(2*i-1)*h/2)+f(a+i*h))   if i goes from 0, but more multiplications\n",
    "        Area += h/3*(f(a) + 4*f(a+h/2) + f(a+h)) \n",
    "        a = a + h\n",
    "    return Area"
   ]
  },
  {
   "cell_type": "code",
   "execution_count": 13,
   "id": "1c4461ef-4976-4f50-be1a-7725153404bc",
   "metadata": {},
   "outputs": [],
   "source": [
    "f = lambda x: np.cos(x)"
   ]
  },
  {
   "cell_type": "code",
   "execution_count": 14,
   "id": "5e5ded54-704f-40db-8d36-f9fd8c441f12",
   "metadata": {},
   "outputs": [
    {
     "data": {
      "text/plain": [
       "np.float64(2.00455975498442)"
      ]
     },
     "execution_count": 14,
     "metadata": {},
     "output_type": "execute_result"
    }
   ],
   "source": [
    "Simpson(f, [-np.pi/2, np.pi/2], 10)"
   ]
  },
  {
   "cell_type": "code",
   "execution_count": 17,
   "id": "a338bc59-226d-4a9a-8821-1553572f5ca6",
   "metadata": {},
   "outputs": [
    {
     "data": {
      "text/plain": [
       "0.9425"
      ]
     },
     "execution_count": 17,
     "metadata": {},
     "output_type": "execute_result"
    }
   ],
   "source": [
    "3.77/4"
   ]
  },
  {
   "cell_type": "code",
   "execution_count": 19,
   "id": "15a6ac0a-9449-47f0-998f-0f605ac461d7",
   "metadata": {},
   "outputs": [
    {
     "data": {
      "text/plain": [
       "0.07516133567438456"
      ]
     },
     "execution_count": 19,
     "metadata": {},
     "output_type": "execute_result"
    }
   ],
   "source": [
    "(np.pi/6)**4"
   ]
  },
  {
   "cell_type": "code",
   "execution_count": 28,
   "id": "6e6ef9da-d8c8-4867-aa1a-4980709f0c82",
   "metadata": {},
   "outputs": [
    {
     "data": {
      "text/plain": [
       "np.float64(70.60311159357109)"
      ]
     },
     "execution_count": 28,
     "metadata": {},
     "output_type": "execute_result"
    }
   ],
   "source": [
    "40*np.exp(1)*(4*8/180)**(1/4)"
   ]
  },
  {
   "cell_type": "code",
   "execution_count": null,
   "id": "cf2e612e-3e1d-44db-812d-7b1932dab21e",
   "metadata": {},
   "outputs": [],
   "source": []
  }
 ],
 "metadata": {
  "kernelspec": {
   "display_name": "Python 3 (ipykernel)",
   "language": "python",
   "name": "python3"
  },
  "language_info": {
   "codemirror_mode": {
    "name": "ipython",
    "version": 3
   },
   "file_extension": ".py",
   "mimetype": "text/x-python",
   "name": "python",
   "nbconvert_exporter": "python",
   "pygments_lexer": "ipython3",
   "version": "3.12.3"
  }
 },
 "nbformat": 4,
 "nbformat_minor": 5
}
