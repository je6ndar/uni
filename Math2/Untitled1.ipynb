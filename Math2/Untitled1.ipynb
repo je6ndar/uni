{
 "cells": [
  {
   "cell_type": "code",
   "execution_count": 1,
   "id": "144594b5-8377-4a41-b9ea-84bc93391116",
   "metadata": {},
   "outputs": [],
   "source": [
    "import numpy as np\n",
    "from sympy import*"
   ]
  },
  {
   "cell_type": "code",
   "execution_count": 7,
   "id": "a4cb159b-638e-425b-ac2f-bd56398f3579",
   "metadata": {},
   "outputs": [],
   "source": [
    "N = symbols('N')"
   ]
  },
  {
   "cell_type": "code",
   "execution_count": 20,
   "id": "09b3d58c-e046-4f03-9965-994ed58c1d01",
   "metadata": {},
   "outputs": [
    {
     "data": {
      "text/plain": [
       "0.5819767068693262"
      ]
     },
     "execution_count": 20,
     "metadata": {},
     "output_type": "execute_result"
    }
   ],
   "source": [
    "sum = 0\n",
    "for i in range(1, 45, 1):\n",
    "    sum +=np.e**(-i)\n",
    "sum"
   ]
  },
  {
   "cell_type": "code",
   "execution_count": 17,
   "id": "3a2dce2e-dd7a-4d3e-8ea9-f534fdd98a2f",
   "metadata": {},
   "outputs": [
    {
     "data": {
      "text/plain": [
       "2.554364774645177"
      ]
     },
     "execution_count": 17,
     "metadata": {},
     "output_type": "execute_result"
    }
   ],
   "source": [
    "(50/3)**(1/3)"
   ]
  },
  {
   "cell_type": "code",
   "execution_count": 13,
   "id": "2470ec43-eee0-4548-a5b1-9d5f5b57b33d",
   "metadata": {},
   "outputs": [
    {
     "data": {
      "text/plain": [
       "1.6591479484724942"
      ]
     },
     "execution_count": 13,
     "metadata": {},
     "output_type": "execute_result"
    }
   ],
   "source": [
    "50**(1/4)-1"
   ]
  },
  {
   "cell_type": "code",
   "execution_count": 16,
   "id": "9aa89471-6c85-4f12-85b6-ded8e4e84325",
   "metadata": {},
   "outputs": [
    {
     "data": {
      "text/plain": [
       "1.0748456790123457"
      ]
     },
     "execution_count": 16,
     "metadata": {},
     "output_type": "execute_result"
    }
   ],
   "source": [
    "1.0625 + 1/3**4"
   ]
  },
  {
   "cell_type": "code",
   "execution_count": 29,
   "id": "81caf236-c9a9-4d34-8296-e853cec7277d",
   "metadata": {},
   "outputs": [
    {
     "data": {
      "text/plain": [
       "0.698172179310195"
      ]
     },
     "execution_count": 29,
     "metadata": {},
     "output_type": "execute_result"
    }
   ],
   "source": [
    "sum = 0\n",
    "for i in range(1, 100, 1):\n",
    "    sum +=(-1)**(i-1)*1/i\n",
    "sum"
   ]
  },
  {
   "cell_type": "code",
   "execution_count": 28,
   "id": "b77815ba-de7a-4691-abe3-2cc998d822c9",
   "metadata": {},
   "outputs": [
    {
     "data": {
      "text/plain": [
       "0.6982231945127254"
      ]
     },
     "execution_count": 28,
     "metadata": {},
     "output_type": "execute_result"
    }
   ],
   "source": [
    "sum + 1/(2*99**2)"
   ]
  },
  {
   "cell_type": "code",
   "execution_count": 22,
   "id": "c9a9b085-61bd-414d-8da0-8b32a5095543",
   "metadata": {},
   "outputs": [
    {
     "data": {
      "text/plain": [
       "0.000660828748511579"
      ]
     },
     "execution_count": 22,
     "metadata": {},
     "output_type": "execute_result"
    }
   ],
   "source": [
    "1/(5*71*np.log(71))"
   ]
  },
  {
   "cell_type": "code",
   "execution_count": 21,
   "id": "8961c59b-e6a9-4646-b115-079f3986d176",
   "metadata": {},
   "outputs": [
    {
     "data": {
      "text/plain": [
       "[9.59254503944904]"
      ]
     },
     "execution_count": 21,
     "metadata": {},
     "output_type": "execute_result"
    }
   ],
   "source": [
    "eq = Eq(1/(5*(N+1)*log(N+1)), 1/125)\n",
    "solve(eq,N)"
   ]
  },
  {
   "cell_type": "code",
   "execution_count": 11,
   "id": "2a2eaced-ee72-4748-9362-88d1849db830",
   "metadata": {},
   "outputs": [
    {
     "data": {
      "text/plain": [
       "0.3125"
      ]
     },
     "execution_count": 11,
     "metadata": {},
     "output_type": "execute_result"
    }
   ],
   "source": [
    "1/4 + 1/16"
   ]
  },
  {
   "cell_type": "code",
   "execution_count": 12,
   "id": "1df7f30e-d4d4-4e9f-8d10-adf14ab11e2b",
   "metadata": {},
   "outputs": [
    {
     "data": {
      "text/plain": [
       "0.1511111111111111"
      ]
     },
     "execution_count": 12,
     "metadata": {},
     "output_type": "execute_result"
    }
   ],
   "source": [
    "1/9 + 1/25"
   ]
  },
  {
   "cell_type": "code",
   "execution_count": 19,
   "id": "4432470b-f024-4e26-9980-8dbe4b67d6ab",
   "metadata": {},
   "outputs": [
    {
     "data": {
      "text/plain": [
       "43.74911676688687"
      ]
     },
     "execution_count": 19,
     "metadata": {},
     "output_type": "execute_result"
    }
   ],
   "source": [
    "19*np.log(10)"
   ]
  },
  {
   "cell_type": "code",
   "execution_count": 16,
   "id": "1fc3ae95-5700-4fa1-9d7a-9b549022f8ea",
   "metadata": {},
   "outputs": [
    {
     "data": {
      "text/plain": [
       "2.718281828459045"
      ]
     },
     "execution_count": 16,
     "metadata": {},
     "output_type": "execute_result"
    }
   ],
   "source": [
    "np.e"
   ]
  },
  {
   "cell_type": "code",
   "execution_count": 17,
   "id": "eac5e3fd-6669-447d-a22f-6e9386a94f99",
   "metadata": {},
   "outputs": [
    {
     "data": {
      "text/plain": [
       "0.5819767068693265"
      ]
     },
     "execution_count": 17,
     "metadata": {},
     "output_type": "execute_result"
    }
   ],
   "source": [
    "1/(np.e-1)"
   ]
  },
  {
   "cell_type": "code",
   "execution_count": 18,
   "id": "14e287ec-2933-45c7-adc4-c909c453bdad",
   "metadata": {},
   "outputs": [
    {
     "data": {
      "text/plain": [
       "[4.00000000000000]"
      ]
     },
     "execution_count": 18,
     "metadata": {},
     "output_type": "execute_result"
    }
   ],
   "source": [
    "eq = Eq(7-1/2+5*(1/N/(1-1/N)), 49/6)\n",
    "solve(eq,N)"
   ]
  },
  {
   "cell_type": "code",
   "execution_count": 23,
   "id": "776a371a-c7a1-4ae2-bf50-d184fc88ad04",
   "metadata": {},
   "outputs": [
    {
     "data": {
      "text/plain": [
       "0.008"
      ]
     },
     "execution_count": 23,
     "metadata": {},
     "output_type": "execute_result"
    }
   ],
   "source": [
    "1/125"
   ]
  },
  {
   "cell_type": "code",
   "execution_count": 3,
   "id": "8e1cb294-15d8-498f-89ff-42a7533a1ae4",
   "metadata": {},
   "outputs": [],
   "source": [
    "k,x,n = symbols(\"k,x,n\")"
   ]
  },
  {
   "cell_type": "code",
   "execution_count": 4,
   "id": "32d24ed0-8876-49a7-a227-c6a559a4f332",
   "metadata": {},
   "outputs": [],
   "source": [
    "a = 7*k**4*x**k/(k**5+1)/8**k"
   ]
  },
  {
   "cell_type": "code",
   "execution_count": 9,
   "id": "09833f0c-7c4a-47a0-ad0e-ecdcf1ca72c6",
   "metadata": {},
   "outputs": [
    {
     "data": {
      "text/latex": [
       "$\\displaystyle \\left|{\\frac{n^{9}}{n^{9} + 5 n^{8} + 10 n^{7} + 10 n^{6} + 5 n^{5} + 2 n^{4}} + \\frac{4 n^{8}}{n^{9} + 5 n^{8} + 10 n^{7} + 10 n^{6} + 5 n^{5} + 2 n^{4}} + \\frac{6 n^{7}}{n^{9} + 5 n^{8} + 10 n^{7} + 10 n^{6} + 5 n^{5} + 2 n^{4}} + \\frac{4 n^{6}}{n^{9} + 5 n^{8} + 10 n^{7} + 10 n^{6} + 5 n^{5} + 2 n^{4}} + \\frac{n^{5}}{n^{9} + 5 n^{8} + 10 n^{7} + 10 n^{6} + 5 n^{5} + 2 n^{4}} + \\frac{n^{4}}{n^{9} + 5 n^{8} + 10 n^{7} + 10 n^{6} + 5 n^{5} + 2 n^{4}} + \\frac{4 n^{3}}{n^{9} + 5 n^{8} + 10 n^{7} + 10 n^{6} + 5 n^{5} + 2 n^{4}} + \\frac{6 n^{2}}{n^{9} + 5 n^{8} + 10 n^{7} + 10 n^{6} + 5 n^{5} + 2 n^{4}} + \\frac{4 n}{n^{9} + 5 n^{8} + 10 n^{7} + 10 n^{6} + 5 n^{5} + 2 n^{4}} + \\frac{1}{n^{9} + 5 n^{8} + 10 n^{7} + 10 n^{6} + 5 n^{5} + 2 n^{4}}}\\right|$"
      ],
      "text/plain": [
       "Abs(n**9/(n**9 + 5*n**8 + 10*n**7 + 10*n**6 + 5*n**5 + 2*n**4) + 4*n**8/(n**9 + 5*n**8 + 10*n**7 + 10*n**6 + 5*n**5 + 2*n**4) + 6*n**7/(n**9 + 5*n**8 + 10*n**7 + 10*n**6 + 5*n**5 + 2*n**4) + 4*n**6/(n**9 + 5*n**8 + 10*n**7 + 10*n**6 + 5*n**5 + 2*n**4) + n**5/(n**9 + 5*n**8 + 10*n**7 + 10*n**6 + 5*n**5 + 2*n**4) + n**4/(n**9 + 5*n**8 + 10*n**7 + 10*n**6 + 5*n**5 + 2*n**4) + 4*n**3/(n**9 + 5*n**8 + 10*n**7 + 10*n**6 + 5*n**5 + 2*n**4) + 6*n**2/(n**9 + 5*n**8 + 10*n**7 + 10*n**6 + 5*n**5 + 2*n**4) + 4*n/(n**9 + 5*n**8 + 10*n**7 + 10*n**6 + 5*n**5 + 2*n**4) + 1/(n**9 + 5*n**8 + 10*n**7 + 10*n**6 + 5*n**5 + 2*n**4))"
      ]
     },
     "execution_count": 9,
     "metadata": {},
     "output_type": "execute_result"
    }
   ],
   "source": [
    "dev = abs(a.subs({k:n+1, x:8})/a.subs({k:n,x:8})).expand()\n",
    "dev"
   ]
  },
  {
   "cell_type": "code",
   "execution_count": 2,
   "id": "96961688-54cc-4f78-8b9f-03a816533427",
   "metadata": {},
   "outputs": [],
   "source": [
    "t = symbols('t')"
   ]
  },
  {
   "cell_type": "code",
   "execution_count": 5,
   "id": "82df5b1d-1c71-4bbe-9875-71f3c0c180b1",
   "metadata": {},
   "outputs": [],
   "source": [
    "x1 = t*exp(-3*t) + 1/100*(8-6*I)*exp(I*t)\n",
    "x2 = exp(-3*t) - 3*t*exp(-3*t) + 1/100*(6+8*I)*exp(I*t)"
   ]
  },
  {
   "cell_type": "code",
   "execution_count": 6,
   "id": "7d3eae0c-ccdd-4db1-9f8d-d7e4f6c681e0",
   "metadata": {},
   "outputs": [
    {
     "data": {
      "text/latex": [
       "$\\displaystyle - 3 t e^{- 3 t} + 0.06 e^{i t} + 0.08 i e^{i t} + e^{- 3 t}$"
      ],
      "text/plain": [
       "-3*t*exp(-3*t) + 0.06*exp(I*t) + 0.08*I*exp(I*t) + exp(-3*t)"
      ]
     },
     "execution_count": 6,
     "metadata": {},
     "output_type": "execute_result"
    }
   ],
   "source": [
    "diff(x1,t).expand()"
   ]
  },
  {
   "cell_type": "code",
   "execution_count": 9,
   "id": "0d56515d-0878-4dd5-9615-9c8b8c6800b3",
   "metadata": {},
   "outputs": [
    {
     "data": {
      "text/latex": [
       "$\\displaystyle - 3 t e^{- 3 t} + \\left(0.06 + 0.08 i\\right) e^{i t} + e^{- 3 t}$"
      ],
      "text/plain": [
       "-3*t*exp(-3*t) + (0.06 + 0.08*I)*exp(I*t) + exp(-3*t)"
      ]
     },
     "execution_count": 9,
     "metadata": {},
     "output_type": "execute_result"
    }
   ],
   "source": [
    "x2"
   ]
  },
  {
   "cell_type": "code",
   "execution_count": 7,
   "id": "9b0ac214-b25b-4d5b-a1fc-784981a8a125",
   "metadata": {},
   "outputs": [
    {
     "data": {
      "text/latex": [
       "$\\displaystyle 9 t e^{- 3 t} + i \\left(0.06 + 0.08 i\\right) e^{i t} - 6 e^{- 3 t}$"
      ],
      "text/plain": [
       "9*t*exp(-3*t) + I*(0.06 + 0.08*I)*exp(I*t) - 6*exp(-3*t)"
      ]
     },
     "execution_count": 7,
     "metadata": {},
     "output_type": "execute_result"
    }
   ],
   "source": [
    "\n",
    "diff(x2,t)"
   ]
  },
  {
   "cell_type": "code",
   "execution_count": 8,
   "id": "09ab6bb9-2b54-447a-889c-d69836d4f067",
   "metadata": {},
   "outputs": [
    {
     "data": {
      "text/latex": [
       "$\\displaystyle 9 t e^{- 3 t} - 0.08 e^{i t} + 0.0600000000000001 i e^{i t} - 6 e^{- 3 t}$"
      ],
      "text/plain": [
       "9*t*exp(-3*t) - 0.08*exp(I*t) + 0.0600000000000001*I*exp(I*t) - 6*exp(-3*t)"
      ]
     },
     "execution_count": 8,
     "metadata": {},
     "output_type": "execute_result"
    }
   ],
   "source": [
    "(-9*x1 -6*x2 + exp(I*t)).expand()"
   ]
  },
  {
   "cell_type": "code",
   "execution_count": 13,
   "id": "6254928e-322b-4efc-a0de-720cd0ccc938",
   "metadata": {},
   "outputs": [
    {
     "data": {
      "text/latex": [
       "$\\displaystyle 2.0137937550497$"
      ],
      "text/plain": [
       "2.01379375504970"
      ]
     },
     "execution_count": 13,
     "metadata": {},
     "output_type": "execute_result"
    }
   ],
   "source": [
    "(1+sqrt(37)/6).evalf()"
   ]
  },
  {
   "cell_type": "code",
   "execution_count": 7,
   "id": "2061abcd-e347-47a5-b9fd-495d13b7a275",
   "metadata": {},
   "outputs": [
    {
     "data": {
      "text/plain": [
       "20148786.7876"
      ]
     },
     "execution_count": 7,
     "metadata": {},
     "output_type": "execute_result"
    }
   ],
   "source": [
    "(2*4.48874/(2*10**(-3)))**2"
   ]
  },
  {
   "cell_type": "code",
   "execution_count": 6,
   "id": "fee4ebbb-d0dd-4835-99ce-41bd4e806fa8",
   "metadata": {},
   "outputs": [
    {
     "data": {
      "text/latex": [
       "$\\displaystyle 3.60555127546399$"
      ],
      "text/plain": [
       "3.60555127546399"
      ]
     },
     "execution_count": 6,
     "metadata": {},
     "output_type": "execute_result"
    }
   ],
   "source": [
    "sqrt(13).evalf()"
   ]
  },
  {
   "cell_type": "code",
   "execution_count": null,
   "id": "d0c6ae76-0b93-4842-908b-b5fbd47624b9",
   "metadata": {},
   "outputs": [],
   "source": []
  }
 ],
 "metadata": {
  "kernelspec": {
   "display_name": "Python 3 (ipykernel)",
   "language": "python",
   "name": "python3"
  },
  "language_info": {
   "codemirror_mode": {
    "name": "ipython",
    "version": 3
   },
   "file_extension": ".py",
   "mimetype": "text/x-python",
   "name": "python",
   "nbconvert_exporter": "python",
   "pygments_lexer": "ipython3",
   "version": "3.12.3"
  }
 },
 "nbformat": 4,
 "nbformat_minor": 5
}
