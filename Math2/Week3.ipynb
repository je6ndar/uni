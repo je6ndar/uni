{
 "cells": [
  {
   "cell_type": "code",
   "execution_count": 1,
   "id": "96859414-95cd-4e76-bbe0-47ddfc0ca53e",
   "metadata": {},
   "outputs": [],
   "source": [
    "from sympy import*"
   ]
  },
  {
   "cell_type": "code",
   "execution_count": 54,
   "id": "891c90f2-8f3a-4dd3-82fa-236a0d9e8102",
   "metadata": {},
   "outputs": [
    {
     "data": {
      "text/latex": [
       "$\\displaystyle 75$"
      ],
      "text/plain": [
       "75"
      ]
     },
     "execution_count": 54,
     "metadata": {},
     "output_type": "execute_result"
    }
   ],
   "source": [
    "A = Matrix([[5,5,0],[1,5,1],[0,5,5]])\n",
    "det(A)"
   ]
  },
  {
   "cell_type": "code",
   "execution_count": 27,
   "id": "05ed6d60-2529-4bad-b9f9-f871ba8026e1",
   "metadata": {},
   "outputs": [
    {
     "data": {
      "text/latex": [
       "$\\displaystyle \\left[\\begin{matrix}-5 & 4 & 0\\\\-4 & -5 & 0\\\\10 & -4 & 5\\end{matrix}\\right]$"
      ],
      "text/plain": [
       "Matrix([\n",
       "[-5,  4, 0],\n",
       "[-4, -5, 0],\n",
       "[10, -4, 5]])"
      ]
     },
     "execution_count": 27,
     "metadata": {},
     "output_type": "execute_result"
    }
   ],
   "source": [
    "A"
   ]
  },
  {
   "cell_type": "code",
   "execution_count": 23,
   "id": "726ab5d2-d542-4170-86c9-29411f164497",
   "metadata": {},
   "outputs": [],
   "source": [
    "def get_transfer_func(A, b, d):\n",
    "    s = symbols('s')\n",
    "    I = eye(A.shape[0])\n",
    "    return -d.transpose() * (A -s*I)**(-1) * b"
   ]
  },
  {
   "cell_type": "code",
   "execution_count": 31,
   "id": "58c3f0ae-90e4-4491-a37e-d12662289cee",
   "metadata": {},
   "outputs": [],
   "source": [
    "A = Matrix([[0, 1],[-34, -10]])\n",
    "b = Matrix([0, 2])\n",
    "d = Matrix([1,0])\n",
    "H = get_transfer_func(A, b, d)\n",
    "H.simplify()"
   ]
  },
  {
   "cell_type": "code",
   "execution_count": 10,
   "id": "8f52dc0f-6fc0-4f09-93b9-0c864c0423c3",
   "metadata": {},
   "outputs": [
    {
     "data": {
      "text/plain": [
       "2"
      ]
     },
     "execution_count": 10,
     "metadata": {},
     "output_type": "execute_result"
    }
   ],
   "source": [
    "A.shape[0]"
   ]
  },
  {
   "cell_type": "code",
   "execution_count": 32,
   "id": "8976e84f-cbbb-4281-ba97-dcc62f2cd49e",
   "metadata": {},
   "outputs": [
    {
     "data": {
      "text/latex": [
       "$\\displaystyle \\left[\\begin{matrix}\\frac{2}{s^{2} + 10 s + 34}\\end{matrix}\\right]$"
      ],
      "text/plain": [
       "Matrix([[2/(s**2 + 10*s + 34)]])"
      ]
     },
     "execution_count": 32,
     "metadata": {},
     "output_type": "execute_result"
    }
   ],
   "source": [
    "H"
   ]
  },
  {
   "cell_type": "code",
   "execution_count": 34,
   "id": "da7a4ea7-b524-4591-a43a-65dbae5fd756",
   "metadata": {},
   "outputs": [
    {
     "data": {
      "text/latex": [
       "$\\displaystyle 90 - a$"
      ],
      "text/plain": [
       "90 - a"
      ]
     },
     "execution_count": 34,
     "metadata": {},
     "output_type": "execute_result"
    }
   ],
   "source": [
    "a = symbols('a')\n",
    "det(Matrix([[9,a],[1,10]]))"
   ]
  },
  {
   "cell_type": "code",
   "execution_count": 36,
   "id": "5c2a6503-ff63-4876-be79-a99f2dd75566",
   "metadata": {},
   "outputs": [],
   "source": [
    "s = symbols('s')"
   ]
  },
  {
   "cell_type": "code",
   "execution_count": 43,
   "id": "9f2eacc6-5d9c-495e-8d3a-882b537b9825",
   "metadata": {},
   "outputs": [
    {
     "data": {
      "text/latex": [
       "$\\displaystyle \\left[\\begin{matrix}\\frac{18 - 40 i}{962}\\end{matrix}\\right]$"
      ],
      "text/plain": [
       "Matrix([[(18 - 40*I)/962]])"
      ]
     },
     "execution_count": 43,
     "metadata": {},
     "output_type": "execute_result"
    }
   ],
   "source": [
    "H.subs({s:4*I})"
   ]
  },
  {
   "cell_type": "code",
   "execution_count": 51,
   "id": "4e396f8b-f959-4779-8a04-67bdf7b4fbf7",
   "metadata": {},
   "outputs": [
    {
     "data": {
      "text/latex": [
       "$\\displaystyle \\frac{i \\left(40 + 18 i\\right) \\sin{\\left(4 s \\right)}}{3848}$"
      ],
      "text/plain": [
       "I*(40 + 18*I)*sin(4*s)/3848"
      ]
     },
     "execution_count": 51,
     "metadata": {},
     "output_type": "execute_result"
    }
   ],
   "source": [
    "I/(481*8) * ((9-20*I)*(cos(4*s) + I*sin(4*s))-(9-20*I)*(cos(-4*s) + I*sin(-4*s))).expand().simplify()"
   ]
  },
  {
   "cell_type": "code",
   "execution_count": null,
   "id": "da72b7ff-e701-4e8c-ac24-a7e78d06e1c9",
   "metadata": {},
   "outputs": [],
   "source": []
  }
 ],
 "metadata": {
  "kernelspec": {
   "display_name": "Python 3 (ipykernel)",
   "language": "python",
   "name": "python3"
  },
  "language_info": {
   "codemirror_mode": {
    "name": "ipython",
    "version": 3
   },
   "file_extension": ".py",
   "mimetype": "text/x-python",
   "name": "python",
   "nbconvert_exporter": "python",
   "pygments_lexer": "ipython3",
   "version": "3.10.12"
  }
 },
 "nbformat": 4,
 "nbformat_minor": 5
}
