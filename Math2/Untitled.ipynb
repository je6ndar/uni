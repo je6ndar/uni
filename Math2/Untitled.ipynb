{
 "cells": [
  {
   "cell_type": "code",
   "execution_count": 2,
   "id": "d3d52c28-4bb9-4c73-9d8d-adf910a662f2",
   "metadata": {},
   "outputs": [],
   "source": [
    "from sympy import*"
   ]
  },
  {
   "cell_type": "code",
   "execution_count": 74,
   "id": "fa46bf33-ade5-431f-9039-15fd92b86656",
   "metadata": {},
   "outputs": [
    {
     "data": {
      "text/plain": [
       "[(-6,\n",
       "  1,\n",
       "  [Matrix([\n",
       "   [-1/2],\n",
       "   [   1],\n",
       "   [   0]])]),\n",
       " (0,\n",
       "  1,\n",
       "  [Matrix([\n",
       "   [0],\n",
       "   [1],\n",
       "   [1]])]),\n",
       " (10,\n",
       "  1,\n",
       "  [Matrix([\n",
       "   [1/2],\n",
       "   [  1],\n",
       "   [  0]])])]"
      ]
     },
     "execution_count": 74,
     "metadata": {},
     "output_type": "execute_result"
    }
   ],
   "source": [
    "A = Matrix([[2,4,-4],[16,2,-2],[0,0,0]])\n",
    "eig = A.eigenvects()\n",
    "eig"
   ]
  },
  {
   "cell_type": "code",
   "execution_count": 76,
   "id": "d5fc4afe-49b9-45c6-ae98-2ec11b3e9e16",
   "metadata": {},
   "outputs": [
    {
     "data": {
      "text/latex": [
       "$\\displaystyle \\left[\\begin{matrix}- \\frac{e^{- 6 t}}{2} & 0 & \\frac{e^{10 t}}{2}\\\\e^{- 6 t} & 1 & e^{10 t}\\\\0 & 1 & 0\\end{matrix}\\right]$"
      ],
      "text/plain": [
       "Matrix([\n",
       "[-exp(-6*t)/2, 0, exp(10*t)/2],\n",
       "[   exp(-6*t), 1,   exp(10*t)],\n",
       "[           0, 1,           0]])"
      ]
     },
     "execution_count": 76,
     "metadata": {},
     "output_type": "execute_result"
    }
   ],
   "source": [
    "M = Matrix.hstack(exp(eig[0][0]*t) * eig[0][2][0], exp(eig[1][0]*t) * eig[1][2][0], exp(eig[2][0]*t) * eig[2][2][0])\n",
    "M"
   ]
  },
  {
   "cell_type": "code",
   "execution_count": 77,
   "id": "8bf9d109-5c77-404d-b9ed-6ef0bb450ee7",
   "metadata": {},
   "outputs": [],
   "source": [
    "B = Matrix([5,2,4])\n",
    "sol = linsolve((M.subs({t:0}), B), c1, c2, c3)"
   ]
  },
  {
   "cell_type": "code",
   "execution_count": 78,
   "id": "f6e51fd6-8ad6-41fa-8200-429d67ef7993",
   "metadata": {},
   "outputs": [
    {
     "data": {
      "text/latex": [
       "$\\displaystyle \\left[\\begin{matrix}-6\\\\4\\\\4\\end{matrix}\\right]$"
      ],
      "text/plain": [
       "Matrix([\n",
       "[-6],\n",
       "[ 4],\n",
       "[ 4]])"
      ]
     },
     "execution_count": 78,
     "metadata": {},
     "output_type": "execute_result"
    }
   ],
   "source": [
    "c = Matrix([sol.args[0][0],sol.args[0][1],sol.args[0][2]])\n",
    "c"
   ]
  },
  {
   "cell_type": "code",
   "execution_count": 79,
   "id": "9a7fa71e-562c-418f-a11d-a72dd7f3a82e",
   "metadata": {},
   "outputs": [
    {
     "data": {
      "text/latex": [
       "$\\displaystyle \\left[\\begin{matrix}2 e^{10 t} + 3 e^{- 6 t}\\\\4 e^{10 t} + 4 - 6 e^{- 6 t}\\\\4\\end{matrix}\\right]$"
      ],
      "text/plain": [
       "Matrix([\n",
       "[    2*exp(10*t) + 3*exp(-6*t)],\n",
       "[4*exp(10*t) + 4 - 6*exp(-6*t)],\n",
       "[                            4]])"
      ]
     },
     "execution_count": 79,
     "metadata": {},
     "output_type": "execute_result"
    }
   ],
   "source": [
    "M*c"
   ]
  },
  {
   "cell_type": "code",
   "execution_count": null,
   "id": "4565db72-a82a-41ac-bc57-872a694a2af6",
   "metadata": {},
   "outputs": [],
   "source": []
  },
  {
   "cell_type": "code",
   "execution_count": 32,
   "id": "bf500eb7-249e-4cb1-83d9-e96b211871bb",
   "metadata": {},
   "outputs": [],
   "source": [
    "t,c1,c2,c3 = symbols('t, c1, c2,c3')"
   ]
  },
  {
   "cell_type": "code",
   "execution_count": 81,
   "id": "29318fde-1daf-4c9c-b38d-f4dd9d0f81db",
   "metadata": {},
   "outputs": [],
   "source": [
    "F = Matrix([[exp(5*t),2*exp(2*t)],[0, exp(2*t)]])\n",
    "F_inv = F**(-1)"
   ]
  },
  {
   "cell_type": "code",
   "execution_count": 82,
   "id": "6b5a6de9-decf-4eec-a858-706dcfca8f1c",
   "metadata": {},
   "outputs": [
    {
     "data": {
      "text/latex": [
       "$\\displaystyle \\left[\\begin{matrix}e^{5 t} & 2 e^{2 t}\\\\0 & e^{2 t}\\end{matrix}\\right]$"
      ],
      "text/plain": [
       "Matrix([\n",
       "[exp(5*t), 2*exp(2*t)],\n",
       "[       0,   exp(2*t)]])"
      ]
     },
     "metadata": {},
     "output_type": "display_data"
    },
    {
     "data": {
      "text/latex": [
       "$\\displaystyle \\left[\\begin{matrix}e^{- 5 t} & - 2 e^{- 5 t}\\\\0 & e^{- 2 t}\\end{matrix}\\right]$"
      ],
      "text/plain": [
       "Matrix([\n",
       "[exp(-5*t), -2*exp(-5*t)],\n",
       "[        0,    exp(-2*t)]])"
      ]
     },
     "metadata": {},
     "output_type": "display_data"
    }
   ],
   "source": [
    "display(F, F_inv)"
   ]
  },
  {
   "cell_type": "code",
   "execution_count": 83,
   "id": "2ae4306d-38c7-42b4-85fd-a7117ab2d7b0",
   "metadata": {},
   "outputs": [
    {
     "data": {
      "text/latex": [
       "$\\displaystyle \\left[\\begin{matrix}5\\\\-6\\end{matrix}\\right]$"
      ],
      "text/plain": [
       "Matrix([\n",
       "[ 5],\n",
       "[-6]])"
      ]
     },
     "execution_count": 83,
     "metadata": {},
     "output_type": "execute_result"
    }
   ],
   "source": [
    "v = Matrix([5, -6])\n",
    "v"
   ]
  },
  {
   "cell_type": "code",
   "execution_count": 84,
   "id": "2fc6ef76-d23f-4b4d-99d8-33952529f10c",
   "metadata": {},
   "outputs": [
    {
     "data": {
      "text/latex": [
       "$\\displaystyle \\left[\\begin{matrix}\\frac{13}{5}\\\\3\\end{matrix}\\right]$"
      ],
      "text/plain": [
       "Matrix([\n",
       "[13/5],\n",
       "[   3]])"
      ]
     },
     "execution_count": 84,
     "metadata": {},
     "output_type": "execute_result"
    }
   ],
   "source": [
    "integrand = F_inv*v\n",
    "x_part = F*integrate(integrand,t)\n",
    "x_part"
   ]
  },
  {
   "cell_type": "code",
   "execution_count": 88,
   "id": "ca114706-99f4-4335-8d32-12882d548293",
   "metadata": {},
   "outputs": [
    {
     "data": {
      "text/latex": [
       "$\\displaystyle \\left[\\begin{matrix}- 3.6 e^{5 t} + 8 e^{2 t} + \\frac{13}{5}\\\\4 e^{2 t} + 3\\end{matrix}\\right]$"
      ],
      "text/plain": [
       "Matrix([\n",
       "[-3.6*exp(5*t) + 8*exp(2*t) + 13/5],\n",
       "[                   4*exp(2*t) + 3]])"
      ]
     },
     "execution_count": 88,
     "metadata": {},
     "output_type": "execute_result"
    }
   ],
   "source": [
    "x = x_part + F*Matrix([c1, c2])\n",
    "x.expand().subs({c1:-18/5, c2:4})"
   ]
  },
  {
   "cell_type": "markdown",
   "id": "0b65fcbd-94b4-4476-b8cd-c74ebc19daa3",
   "metadata": {},
   "source": [
    "# Mobius"
   ]
  },
  {
   "cell_type": "code",
   "execution_count": 80,
   "id": "6bb0ffa0-fb1f-4795-a6ef-d386fb6e36ca",
   "metadata": {},
   "outputs": [
    {
     "data": {
      "text/plain": [
       "[(-3 - 5*I,\n",
       "  1,\n",
       "  [Matrix([\n",
       "   [-3/34 + 5*I/34],\n",
       "   [             1]])]),\n",
       " (-3 + 5*I,\n",
       "  1,\n",
       "  [Matrix([\n",
       "   [-3/34 - 5*I/34],\n",
       "   [             1]])])]"
      ]
     },
     "execution_count": 80,
     "metadata": {},
     "output_type": "execute_result"
    }
   ],
   "source": [
    "A = Matrix([[0,1],[-34, -6]])\n",
    "A.eigenvects()"
   ]
  },
  {
   "cell_type": "code",
   "execution_count": 10,
   "id": "27e62384-3406-4676-b992-e055179a1bdd",
   "metadata": {},
   "outputs": [
    {
     "data": {
      "text/plain": [
       "-355"
      ]
     },
     "execution_count": 10,
     "metadata": {},
     "output_type": "execute_result"
    }
   ],
   "source": [
    "-180-58-117"
   ]
  },
  {
   "cell_type": "code",
   "execution_count": 13,
   "id": "13fa3cd2-45e8-47b5-b779-475e8fe82e9d",
   "metadata": {},
   "outputs": [
    {
     "data": {
      "text/plain": [
       "4.0"
      ]
     },
     "execution_count": 13,
     "metadata": {},
     "output_type": "execute_result"
    }
   ],
   "source": [
    "-355/60*(-0.5)+2/30+117/60*0.5"
   ]
  },
  {
   "cell_type": "code",
   "execution_count": 17,
   "id": "3964cb02-5c28-4131-9abe-28e95b5103e9",
   "metadata": {},
   "outputs": [
    {
     "data": {
      "text/plain": [
       "136"
      ]
     },
     "execution_count": 17,
     "metadata": {},
     "output_type": "execute_result"
    }
   ],
   "source": [
    "34*4"
   ]
  },
  {
   "cell_type": "code",
   "execution_count": null,
   "id": "3758b062-5d29-4fc8-9dd2-21ac884cbfcf",
   "metadata": {},
   "outputs": [],
   "source": []
  }
 ],
 "metadata": {
  "kernelspec": {
   "display_name": "Python 3 (ipykernel)",
   "language": "python",
   "name": "python3"
  },
  "language_info": {
   "codemirror_mode": {
    "name": "ipython",
    "version": 3
   },
   "file_extension": ".py",
   "mimetype": "text/x-python",
   "name": "python",
   "nbconvert_exporter": "python",
   "pygments_lexer": "ipython3",
   "version": "3.10.12"
  }
 },
 "nbformat": 4,
 "nbformat_minor": 5
}
