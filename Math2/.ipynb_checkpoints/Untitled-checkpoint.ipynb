{
 "cells": [
  {
   "cell_type": "code",
   "execution_count": 1,
   "id": "d3d52c28-4bb9-4c73-9d8d-adf910a662f2",
   "metadata": {},
   "outputs": [],
   "source": [
    "from sympy import*"
   ]
  },
  {
   "cell_type": "code",
   "execution_count": 30,
   "id": "bf500eb7-249e-4cb1-83d9-e96b211871bb",
   "metadata": {},
   "outputs": [],
   "source": [
    "t,c1,c2 = symbols('t, c1, c2')"
   ]
  },
  {
   "cell_type": "code",
   "execution_count": 18,
   "id": "29318fde-1daf-4c9c-b38d-f4dd9d0f81db",
   "metadata": {},
   "outputs": [],
   "source": [
    "F = Matrix([[exp(4*t),2*exp(3*t)],[0, exp(3*t)]])\n",
    "F_inv = F**(-1)"
   ]
  },
  {
   "cell_type": "code",
   "execution_count": 21,
   "id": "6b5a6de9-decf-4eec-a858-706dcfca8f1c",
   "metadata": {},
   "outputs": [
    {
     "data": {
      "text/latex": [
       "$\\displaystyle \\left[\\begin{matrix}e^{4 t} & 2 e^{3 t}\\\\0 & e^{3 t}\\end{matrix}\\right]$"
      ],
      "text/plain": [
       "Matrix([\n",
       "[exp(4*t), 2*exp(3*t)],\n",
       "[       0,   exp(3*t)]])"
      ]
     },
     "metadata": {},
     "output_type": "display_data"
    },
    {
     "data": {
      "text/latex": [
       "$\\displaystyle \\left[\\begin{matrix}e^{- 4 t} & - 2 e^{- 4 t}\\\\0 & e^{- 3 t}\\end{matrix}\\right]$"
      ],
      "text/plain": [
       "Matrix([\n",
       "[exp(-4*t), -2*exp(-4*t)],\n",
       "[        0,    exp(-3*t)]])"
      ]
     },
     "metadata": {},
     "output_type": "display_data"
    }
   ],
   "source": [
    "display(F, F_inv)"
   ]
  },
  {
   "cell_type": "code",
   "execution_count": 24,
   "id": "2ae4306d-38c7-42b4-85fd-a7117ab2d7b0",
   "metadata": {},
   "outputs": [
    {
     "data": {
      "text/latex": [
       "$\\displaystyle \\left[\\begin{matrix}7\\\\-3\\end{matrix}\\right]$"
      ],
      "text/plain": [
       "Matrix([\n",
       "[ 7],\n",
       "[-3]])"
      ]
     },
     "execution_count": 24,
     "metadata": {},
     "output_type": "execute_result"
    }
   ],
   "source": [
    "v = Matrix([7, -3])\n",
    "v"
   ]
  },
  {
   "cell_type": "code",
   "execution_count": 26,
   "id": "2fc6ef76-d23f-4b4d-99d8-33952529f10c",
   "metadata": {},
   "outputs": [
    {
     "data": {
      "text/latex": [
       "$\\displaystyle \\left[\\begin{matrix}13 e^{- 4 t}\\\\- 3 e^{- 3 t}\\end{matrix}\\right]$"
      ],
      "text/plain": [
       "Matrix([\n",
       "[13*exp(-4*t)],\n",
       "[-3*exp(-3*t)]])"
      ]
     },
     "execution_count": 26,
     "metadata": {},
     "output_type": "execute_result"
    }
   ],
   "source": [
    "integrand = F_inv*v\n",
    "integrand"
   ]
  },
  {
   "cell_type": "code",
   "execution_count": 28,
   "id": "d6f909f8-61f6-4eed-b09b-fb4066805ef2",
   "metadata": {},
   "outputs": [
    {
     "data": {
      "text/latex": [
       "$\\displaystyle \\left[\\begin{matrix}\\left(-13 + 13 e^{- 4 t}\\right) e^{4 t} + 2 \\cdot \\left(3 - 3 e^{- 4 t}\\right) e^{3 t}\\\\\\left(3 - 3 e^{- 4 t}\\right) e^{3 t}\\end{matrix}\\right]$"
      ],
      "text/plain": [
       "Matrix([\n",
       "[(-13 + 13*exp(-4*t))*exp(4*t) + 2*(3 - 3*exp(-4*t))*exp(3*t)],\n",
       "[                                  (3 - 3*exp(-4*t))*exp(3*t)]])"
      ]
     },
     "execution_count": 28,
     "metadata": {},
     "output_type": "execute_result"
    }
   ],
   "source": [
    "x_part = F * Matrix([[13*exp(-4*t) - 13],[-3*exp(-4*t) + 3]])\n",
    "x_part"
   ]
  },
  {
   "cell_type": "code",
   "execution_count": 37,
   "id": "ca114706-99f4-4335-8d32-12882d548293",
   "metadata": {},
   "outputs": [
    {
     "data": {
      "text/latex": [
       "$\\displaystyle \\left[\\begin{matrix}c_{1} e^{4 t} + 2 c_{2} e^{3 t} - 13 e^{4 t} + 6 e^{3 t} + 13 - 6 e^{- t}\\\\c_{2} e^{3 t} + 3 e^{3 t} - 3 e^{- t}\\end{matrix}\\right]$"
      ],
      "text/plain": [
       "Matrix([\n",
       "[c1*exp(4*t) + 2*c2*exp(3*t) - 13*exp(4*t) + 6*exp(3*t) + 13 - 6*exp(-t)],\n",
       "[                                   c2*exp(3*t) + 3*exp(3*t) - 3*exp(-t)]])"
      ]
     },
     "execution_count": 37,
     "metadata": {},
     "output_type": "execute_result"
    }
   ],
   "source": [
    "x = x_part + F*Matrix([c1, c2])\n",
    "x.expand()"
   ]
  },
  {
   "cell_type": "code",
   "execution_count": 35,
   "id": "9a3de5db-252f-4421-ac51-31ab5d945434",
   "metadata": {},
   "outputs": [
    {
     "data": {
      "text/plain": [
       "1"
      ]
     },
     "execution_count": 35,
     "metadata": {},
     "output_type": "execute_result"
    }
   ],
   "source": [
    "-16-6+10+13"
   ]
  },
  {
   "cell_type": "code",
   "execution_count": 38,
   "id": "0c0a875d-1ec2-43eb-bbaa-53bdb7c315fa",
   "metadata": {},
   "outputs": [
    {
     "data": {
      "text/plain": [
       "7"
      ]
     },
     "execution_count": 38,
     "metadata": {},
     "output_type": "execute_result"
    }
   ],
   "source": [
    "-3+10-13+6+13-6"
   ]
  },
  {
   "cell_type": "markdown",
   "id": "0b65fcbd-94b4-4476-b8cd-c74ebc19daa3",
   "metadata": {},
   "source": [
    "# Mobius"
   ]
  },
  {
   "cell_type": "code",
   "execution_count": 16,
   "id": "6bb0ffa0-fb1f-4795-a6ef-d386fb6e36ca",
   "metadata": {},
   "outputs": [
    {
     "data": {
      "text/plain": [
       "[(-5 - 3*I,\n",
       "  1,\n",
       "  [Matrix([\n",
       "   [-5/34 + 3*I/34],\n",
       "   [             1]])]),\n",
       " (-5 + 3*I,\n",
       "  1,\n",
       "  [Matrix([\n",
       "   [-5/34 - 3*I/34],\n",
       "   [             1]])])]"
      ]
     },
     "execution_count": 16,
     "metadata": {},
     "output_type": "execute_result"
    }
   ],
   "source": [
    "A = Matrix([[0,1],[-34, -10]])\n",
    "A.eigenvects()"
   ]
  },
  {
   "cell_type": "code",
   "execution_count": 10,
   "id": "27e62384-3406-4676-b992-e055179a1bdd",
   "metadata": {},
   "outputs": [
    {
     "data": {
      "text/plain": [
       "-355"
      ]
     },
     "execution_count": 10,
     "metadata": {},
     "output_type": "execute_result"
    }
   ],
   "source": [
    "-180-58-117"
   ]
  },
  {
   "cell_type": "code",
   "execution_count": 13,
   "id": "13fa3cd2-45e8-47b5-b779-475e8fe82e9d",
   "metadata": {},
   "outputs": [
    {
     "data": {
      "text/plain": [
       "4.0"
      ]
     },
     "execution_count": 13,
     "metadata": {},
     "output_type": "execute_result"
    }
   ],
   "source": [
    "-355/60*(-0.5)+2/30+117/60*0.5"
   ]
  },
  {
   "cell_type": "code",
   "execution_count": 17,
   "id": "3964cb02-5c28-4131-9abe-28e95b5103e9",
   "metadata": {},
   "outputs": [
    {
     "data": {
      "text/plain": [
       "136"
      ]
     },
     "execution_count": 17,
     "metadata": {},
     "output_type": "execute_result"
    }
   ],
   "source": [
    "34*4"
   ]
  },
  {
   "cell_type": "code",
   "execution_count": null,
   "id": "3758b062-5d29-4fc8-9dd2-21ac884cbfcf",
   "metadata": {},
   "outputs": [],
   "source": []
  }
 ],
 "metadata": {
  "kernelspec": {
   "display_name": "Python 3 (ipykernel)",
   "language": "python",
   "name": "python3"
  },
  "language_info": {
   "codemirror_mode": {
    "name": "ipython",
    "version": 3
   },
   "file_extension": ".py",
   "mimetype": "text/x-python",
   "name": "python",
   "nbconvert_exporter": "python",
   "pygments_lexer": "ipython3",
   "version": "3.10.12"
  }
 },
 "nbformat": 4,
 "nbformat_minor": 5
}
