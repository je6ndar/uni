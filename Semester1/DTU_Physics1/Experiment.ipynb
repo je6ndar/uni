{
 "cells": [
  {
   "cell_type": "code",
   "execution_count": 135,
   "id": "69b5419e-1ad0-4612-b0f7-7a03ceeb80da",
   "metadata": {},
   "outputs": [],
   "source": [
    "import pandas as pd\n",
    "import matplotlib.pyplot as plt\n",
    "from scipy.optimize import curve_fit\n",
    "import uncertainties as unc\n",
    "import numpy as np"
   ]
  },
  {
   "cell_type": "code",
   "execution_count": 78,
   "id": "deda67de-d77b-4491-b583-8b3799dd6446",
   "metadata": {},
   "outputs": [],
   "source": [
    "force = pd.read_csv(\"Force.csv\")\n",
    "force['disp'] = ''"
   ]
  },
  {
   "cell_type": "code",
   "execution_count": 93,
   "id": "ea790826-65f6-48b4-8787-0683c76f1cd4",
   "metadata": {},
   "outputs": [],
   "source": [
    "l0 = unc.ufloat(76, 2) #initial length in mm\n",
    "dl = 2 #uncertainty for ruler measurements in mm\n",
    "l1 = unc.ufloat(92, 2)\n",
    "l2 = unc.ufloat(110, 2)\n",
    "l3 = unc.ufloat(120, 2)\n",
    "l4 = unc.ufloat(138, 2)\n",
    "l5 = unc.ufloat(147, 2)\n",
    "l6 = unc.ufloat(160, 2)\n",
    "l7 = unc.ufloat(171, 2)\n",
    "l8 = unc.ufloat(186, 2)"
   ]
  },
  {
   "cell_type": "markdown",
   "id": "ad824fb4-ea72-4108-b82f-ed78627ee1a5",
   "metadata": {},
   "source": [
    "INITIAL FORCE"
   ]
  },
  {
   "cell_type": "code",
   "execution_count": 84,
   "id": "a581dd39-b530-40f5-bcf3-2ce48f8e01ad",
   "metadata": {},
   "outputs": [
    {
     "data": {
      "text/plain": [
       "-0.6859694383740409+/-2.6830268008937934e-05"
      ]
     },
     "execution_count": 84,
     "metadata": {},
     "output_type": "execute_result"
    }
   ],
   "source": [
    "#force.loc[:70922, 'disp'] = l_0 #assigning l_o for displacement\n",
    "filtered_l0 = force.loc[(force.iloc[:,5] <= -0.67) & (force.iloc[:,5] >= -0.7)]\n",
    "f0 = filtered_l0.iloc[:,5].mean()\n",
    "f0_std = filtered_l0.iloc[:,5].std()/np.sqrt(filtered_l0.shape[0])\n",
    "f0 = unc.ufloat(f0,f0_std)\n",
    "f0"
   ]
  },
  {
   "cell_type": "markdown",
   "id": "5e57c432-df77-48f3-9088-0ed8a3d05871",
   "metadata": {},
   "source": [
    "1st FORCE"
   ]
  },
  {
   "cell_type": "code",
   "execution_count": 98,
   "id": "53b21348-effc-49d1-8817-a360895912a1",
   "metadata": {},
   "outputs": [
    {
     "data": {
      "text/plain": [
       "-0.8575251350254658+/-6.706897865391517e-05"
      ]
     },
     "execution_count": 98,
     "metadata": {},
     "output_type": "execute_result"
    }
   ],
   "source": [
    "filtered_l1 = force.loc[(force.iloc[:,5] <= -0.83) & (force.iloc[:,5] >= -0.88)]\n",
    "f1 = filtered_l1.iloc[:,5].mean()\n",
    "f1_std = filtered_l1.iloc[:,5].std()/np.sqrt(filtered_l0.shape[0])\n",
    "f1 = unc.ufloat(f1,f1_std)\n",
    "f1"
   ]
  },
  {
   "cell_type": "markdown",
   "id": "5658b668-18b7-47f8-aa49-3d8bedcab90d",
   "metadata": {},
   "source": [
    "2nd FORCE"
   ]
  },
  {
   "cell_type": "code",
   "execution_count": 86,
   "id": "3ed012dd-4be8-4428-8199-e332920bf69e",
   "metadata": {},
   "outputs": [
    {
     "data": {
      "text/plain": [
       "-1.0445503923748356+/-2.8647586428020356e-05"
      ]
     },
     "execution_count": 86,
     "metadata": {},
     "output_type": "execute_result"
    }
   ],
   "source": [
    "filtered_l2 = force.loc[(force.iloc[:,5] <= -1) & (force.iloc[:,5] >= -1.1)]\n",
    "f2 = filtered_l2.iloc[:,5].mean()\n",
    "f2_std = filtered_l2.iloc[:,5].std()/np.sqrt(filtered_l2.shape[0])\n",
    "f2 = unc.ufloat(f2,f2_std)\n",
    "f2"
   ]
  },
  {
   "cell_type": "markdown",
   "id": "2820097b-b8ed-4c4d-8baf-88fed7164355",
   "metadata": {},
   "source": [
    "3d FORCE"
   ]
  },
  {
   "cell_type": "code",
   "execution_count": 87,
   "id": "5145cb34-994b-4102-93e2-8d3e145ed184",
   "metadata": {},
   "outputs": [
    {
     "data": {
      "text/plain": [
       "-1.0445503923748356+/-4.7240103576185316e-05"
      ]
     },
     "execution_count": 87,
     "metadata": {},
     "output_type": "execute_result"
    }
   ],
   "source": [
    "filtered_l3 = force.loc[(force.iloc[:,5] <= -1.2) & (force.iloc[:,5] >= -1.3)]\n",
    "f3 = filtered_l2.iloc[:,5].mean()\n",
    "f3_std = filtered_l3.iloc[:,5].std()/np.sqrt(filtered_l3.shape[0])\n",
    "f3 = unc.ufloat(f3,f3_std)\n",
    "f3"
   ]
  },
  {
   "cell_type": "markdown",
   "id": "66e24fb0-8ada-4180-9d8f-aaaf0e92c7e1",
   "metadata": {},
   "source": [
    "4 FORCE"
   ]
  },
  {
   "cell_type": "code",
   "execution_count": 88,
   "id": "ed6e9e56-d135-440f-992d-74d8ddaa8ee1",
   "metadata": {},
   "outputs": [
    {
     "data": {
      "text/plain": [
       "-1.4245929840009208+/-2.9641699257995395e-05"
      ]
     },
     "execution_count": 88,
     "metadata": {},
     "output_type": "execute_result"
    }
   ],
   "source": [
    "filtered_l4 = force.loc[(force.iloc[:,5] <= -1.4) & (force.iloc[:,5] >= -1.5)]\n",
    "f4 = filtered_l4.iloc[:,5].mean()\n",
    "f4_std = filtered_l4.iloc[:,5].std()/np.sqrt(filtered_l4.shape[0])\n",
    "f4 = unc.ufloat(f4,f4_std)\n",
    "f4"
   ]
  },
  {
   "cell_type": "markdown",
   "id": "e224f9e7-2d3b-4f32-8ca0-d160c61593a5",
   "metadata": {},
   "source": [
    "5 FORCE"
   ]
  },
  {
   "cell_type": "code",
   "execution_count": 89,
   "id": "660bd62b-e946-4bfd-bce4-e29de2bf7ab8",
   "metadata": {},
   "outputs": [
    {
     "data": {
      "text/plain": [
       "-1.6417452594517243+/-4.00293487878917e-05"
      ]
     },
     "execution_count": 89,
     "metadata": {},
     "output_type": "execute_result"
    }
   ],
   "source": [
    "filtered_l5 = force.loc[(force.iloc[:,5] <= -1.6) & (force.iloc[:,5] >= -1.7)]\n",
    "f5 = filtered_l5.iloc[:,5].mean()\n",
    "f5_std = filtered_l5.iloc[:,5].std()/np.sqrt(filtered_l5.shape[0])\n",
    "f5 = unc.ufloat(f5,f5_std)\n",
    "f5"
   ]
  },
  {
   "cell_type": "markdown",
   "id": "35356b88-31db-43fd-aa65-e60a02eff070",
   "metadata": {},
   "source": [
    "6 FORCE"
   ]
  },
  {
   "cell_type": "code",
   "execution_count": 90,
   "id": "16017727-6e92-4133-bf31-775f96386a84",
   "metadata": {},
   "outputs": [
    {
     "data": {
      "text/plain": [
       "-1.8523254668937807+/-3.904085497395778e-05"
      ]
     },
     "execution_count": 90,
     "metadata": {},
     "output_type": "execute_result"
    }
   ],
   "source": [
    "filtered_l6 = force.loc[(force.iloc[:,5] <= -1.8) & (force.iloc[:,5] >= -1.9)]\n",
    "f6 = filtered_l6.iloc[:,5].mean()\n",
    "f6_std = filtered_l6.iloc[:,5].std()/np.sqrt(filtered_l6.shape[0])\n",
    "f6 = unc.ufloat(f6,f6_std)\n",
    "f6"
   ]
  },
  {
   "cell_type": "markdown",
   "id": "9393bafe-7939-4698-a846-17a3e320d52a",
   "metadata": {},
   "source": [
    "7 FORCE"
   ]
  },
  {
   "cell_type": "code",
   "execution_count": 91,
   "id": "7db8103f-64a9-4362-ac6b-0a7203021c46",
   "metadata": {},
   "outputs": [
    {
     "data": {
      "text/plain": [
       "-2.0528302979574655+/-3.8103420643147095e-05"
      ]
     },
     "execution_count": 91,
     "metadata": {},
     "output_type": "execute_result"
    }
   ],
   "source": [
    "filtered_l7 = force.loc[(force.iloc[:,5] <= -2) & (force.iloc[:,5] >= -2.1)]\n",
    "f7 = filtered_l7.iloc[:,5].mean()\n",
    "f7_std = filtered_l7.iloc[:,5].std()/np.sqrt(filtered_l7.shape[0])\n",
    "f7 = unc.ufloat(f7,f7_std)\n",
    "f7"
   ]
  },
  {
   "cell_type": "code",
   "execution_count": 92,
   "id": "c2096b73-3134-4c22-9233-2da9de30196c",
   "metadata": {},
   "outputs": [
    {
     "data": {
      "text/plain": [
       "-2.249405563843791+/-4.0113199426863e-05"
      ]
     },
     "execution_count": 92,
     "metadata": {},
     "output_type": "execute_result"
    }
   ],
   "source": [
    "filtered_l8 = force.loc[(force.iloc[:,5] <= -2.2) & (force.iloc[:,5] >= -2.3)]\n",
    "f8 = filtered_l8.iloc[:,5].mean()\n",
    "f8_std = filtered_l8.iloc[:,5].std()/np.sqrt(filtered_l8.shape[0])\n",
    "f8 = unc.ufloat(f8,f8_std)\n",
    "f8"
   ]
  },
  {
   "cell_type": "code",
   "execution_count": 132,
   "id": "fee87f87-6686-4867-8fd5-83ee16d18570",
   "metadata": {},
   "outputs": [
    {
     "name": "stdout",
     "output_type": "stream",
     "text": [
      "10.7+/-1.9\n",
      "10.5+/-0.9\n",
      "8.1+/-0.5\n",
      "11.9+/-0.5\n",
      "13.5+/-0.5\n",
      "13.9+/-0.5\n",
      "14.4+/-0.4\n",
      "14.2+/-0.4\n",
      "k = 12.2+/-2.1 \n",
      " 19.19194543354784\n"
     ]
    }
   ],
   "source": [
    "k = []\n",
    "for i in range(1,9,1):\n",
    "    k.append((f0 - locals()[f\"f{i}\"]) / (locals()[f\"l{i}\"]/1000 - l0/1000))\n",
    "k_mean = sum(obj.n for obj in k)/8\n",
    "k_std = sum(obj.s for obj in k)/np.sqrt(7)\n",
    "k_final = unc.ufloat(round(k_mean, 2), round(k_std, 3))\n",
    "for obj in k:\n",
    "   print(obj)\n",
    "print('k =', k_final, '\\n', k_err)"
   ]
  },
  {
   "cell_type": "code",
   "execution_count": 112,
   "id": "5583b588-435a-4ded-8d2d-79c02b038ea6",
   "metadata": {},
   "outputs": [
    {
     "data": {
      "text/plain": [
       "19.19194543354784"
      ]
     },
     "execution_count": 112,
     "metadata": {},
     "output_type": "execute_result"
    }
   ],
   "source": [
    "k_err = k_std/k_mean * 100\n",
    "k_err"
   ]
  },
  {
   "cell_type": "code",
   "execution_count": 143,
   "id": "1078c004-663f-498c-93a9-2b7f1ed93291",
   "metadata": {},
   "outputs": [
    {
     "data": {
      "image/png": "[encoded data removed]",
      "text/plain": [
       "<Figure size 640x480 with 1 Axes>"
      ]
     },
     "metadata": {},
     "output_type": "display_data"
    }
   ],
   "source": [
    "x = np.arange(1,9,1)\n",
    "y = []\n",
    "err = []\n",
    "for i in k:\n",
    "    y.append(i.n)\n",
    "    err.append(i.s)\n",
    "plt.errorbar(x, y, yerr = err, fmt = 'o')\n",
    "plt.xlabel('Experiment number')  # Set x-axis label\n",
    "plt.ylabel('k, N/m')  # Set y-axis label\n",
    "plt.title('Errorbar Plot of k, N/m, against the experiment number including uncertainties')\n",
    "plt.grid(True)"
   ]
  },
  {
   "cell_type": "code",
   "execution_count": null,
   "id": "62789656-b43d-4ad5-a0ff-46f64825c52b",
   "metadata": {},
   "outputs": [],
   "source": []
  }
 ],
 "metadata": {
  "kernelspec": {
   "display_name": "Python 3 (ipykernel)",
   "language": "python",
   "name": "python3"
  },
  "language_info": {
   "codemirror_mode": {
    "name": "ipython",
    "version": 3
   },
   "file_extension": ".py",
   "mimetype": "text/x-python",
   "name": "python",
   "nbconvert_exporter": "python",
   "pygments_lexer": "ipython3",
   "version": "3.11.4"
  }
 },
 "nbformat": 4,
 "nbformat_minor": 5
}
