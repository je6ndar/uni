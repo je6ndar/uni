{
 "cells": [
  {
   "cell_type": "code",
   "execution_count": 8,
   "id": "0175c444",
   "metadata": {},
   "outputs": [],
   "source": [
    "import sympy as sp\n",
    "from uncertainties import *\n",
    "from sympy import symbols,solve,Eq,sin,cos,Rational\n",
    "from uncertainties.umath import *\n",
    "#y,x,g,theta,v,t, x_0, y_0 = symbols('y,x,g,theta,v,t, x_0, y_0')"
   ]
  },
  {
   "cell_type": "code",
   "execution_count": 2,
   "id": "4cdcf9c3",
   "metadata": {},
   "outputs": [],
   "source": [
    "# hor = Eq(x_0 + v * cos(theta) * t, x)\n",
    "# ver = Eq(y_0 + v * sin(theta) * t + 0.5 * g * t**2, y)"
   ]
  },
  {
   "cell_type": "markdown",
   "id": "a323a0ea",
   "metadata": {},
   "source": [
    "#### Problem 1\n",
    "\n",
    "Two independent measurements, of two different pieces of wood, gives the results\n",
    "$x=95.8\\pm 0.1$ cm\n",
    "and\n",
    "$y=2.30\\pm 0.02$ cm.\n",
    "\n",
    ">a) Determine the diffence in length, $l=x-y$.\n",
    "\n",
    ">b) Determine the relative uncertainty in the difference in length, $l$.\n",
    "\n",
    "<details> <summary>Hint a) click here</summary> Do you add uncertaintites or add them in quadrature? </details>"
   ]
  },
  {
   "cell_type": "code",
   "execution_count": 3,
   "id": "f96a9dcc",
   "metadata": {},
   "outputs": [
    {
     "name": "stdout",
     "output_type": "stream",
     "text": [
      "93.50+/-0.10\n",
      "0.10198039027185571\n"
     ]
    }
   ],
   "source": [
    "x = ufloat(95.8, 0.1)\n",
    "y = ufloat(2.3, 0.02)\n",
    "l = x - y\n",
    "print(l)\n",
    "print(l.std_dev)"
   ]
  },
  {
   "cell_type": "markdown",
   "id": "0074107b",
   "metadata": {},
   "source": [
    "#### Problem 2\n",
    "\n",
    "To determine the velocity of a cart on an air track we measure the distance travelled, $d$, and the time interval, $t$.\n",
    "The measurement values are $d=5.10\\pm 0.01$ m, and $t=6.02\\pm 0.02$ s.\n",
    "\n",
    ">a) Determine the velocity of the cart.\n",
    "\n",
    ">b) Determine the momentum, $p=m\\cdot v$, for the cart which has mass $0.711\\pm 0.002$ kg.\n",
    "\n",
    "<details> <summary>Hint a) click here</summary> Do you consider absolute or relative uncertainties here? </details>"
   ]
  },
  {
   "cell_type": "code",
   "execution_count": 4,
   "id": "fdd87621",
   "metadata": {},
   "outputs": [
    {
     "name": "stdout",
     "output_type": "stream",
     "text": [
      "0.8472+/-0.0033 0.6023+/-0.0029\n"
     ]
    }
   ],
   "source": [
    "d = ufloat(5.1, 0.01)\n",
    "t = ufloat(6.02, 0.02)\n",
    "m = ufloat(0.711, 0.002)\n",
    "v = d/t\n",
    "p = m * v\n",
    "print(v, p)"
   ]
  },
  {
   "cell_type": "markdown",
   "id": "21579740",
   "metadata": {},
   "source": [
    "#### Problem 3\n",
    "\n",
    "A projectile motion starts with initial speed, $v_0=15.3\\pm 0.1 \\text{m/s}$, and initial angle, $30\\pm 1 \\degree$.\n",
    "Assume that the acceleration of gravity, $g=9.82 \\text{m/s}^2$, has no uncertainty.\n",
    "\n",
    "> a) What is the range of the projectile?\n",
    "\n",
    "> b) What is the range if the uncertainty in the initial speed is $0.2 \\text{m/s}$?\n",
    "\n",
    "> c) What is the relative contribution from uncertainties in initial speed and initial angle to the uncertainty in the range of the projectile?\n",
    "\n",
    "<details> <summary>Hint a) click here</summary> Is there a formula for the range of a projectile? </details>\n",
    "<details> <summary>Hint b) click here</summary> Can you make a small change without having to redo the calculations form a)? </details>\n",
    "<details> <summary>Hint c) click here</summary> ufloat have a method error_components() which may be useful </details>"
   ]
  },
  {
   "cell_type": "code",
   "execution_count": 17,
   "id": "eba21feb",
   "metadata": {},
   "outputs": [
    {
     "name": "stdout",
     "output_type": "stream",
     "text": [
      "20.6+/-0.7 {9.82+/-0: 0, 0.5235987755982989+/-0.017453292519943295: 0.41605308004007396, 15.3+/-0.2: 0.5397225530713609}\n"
     ]
    }
   ],
   "source": [
    "v_0 = ufloat(15.3, 0.2)\n",
    "angle = ufloat(30.0 * sp.pi/180.0, sp.pi/180.0)\n",
    "g = ufloat(9.82, 0)\n",
    "\n",
    "t = 2 * v_0 * sin(angle) / g\n",
    "\n",
    "range = v_0 * cos(angle) * t\n",
    "\n",
    "print(range, range.error_components())"
   ]
  },
  {
   "cell_type": "markdown",
   "id": "be9d2ab6",
   "metadata": {},
   "source": [
    "#### Problem 4\n",
    "\n",
    "A car travels in a circular path with radius $R=45\\pm 1$ m. \n",
    "The car starts from rest, and moves with a tangential acceleration, $a_\\text{tan}=0.23\\pm 0.01 \\text{m/s}^2$.\n",
    "\n",
    ">a) Determine the magnitude of the acceleration of the car at time $t=10.0\\pm 0.5$ s.\n",
    "\n",
    ">b) Which quantity has the largest contribution to the uncertainty in the acceleration?\n",
    "\n",
    ">c) Does any quantity have no contribution to the uncertainty in the acceleration? Hint: Consider the properly rounded result.\n",
    "\n",
    "<details> <summary>Hint a) click here</summary> Remember that the acceleration in circular motion has two different components; there are formulas for both. </details>\n",
    "<details> <summary>Formula hint a) click here</summary> a(rad) = v**2/R, a(tan)=d|v|/dt </details>\n",
    "<details> <summary>Hint b+c) click here</summary> You can use the method error_components(). You may wish to label your ufloats, i.e. ufloat(2.0,0.1,'x').  </details>"
   ]
  },
  {
   "cell_type": "code",
   "execution_count": 18,
   "id": "047bcd43",
   "metadata": {},
   "outputs": [
    {
     "name": "stdout",
     "output_type": "stream",
     "text": [
      "0.945+/-0.004 {0.23+/-0.01: 0.0024794886411517152, 45.0+/-1.0: 0.0005554194628856772, 10.0+/-0.5: 0.0024993875829855475}\n"
     ]
    }
   ],
   "source": [
    "r = ufloat(45, 1)\n",
    "a_tan = ufloat(0.23, 0.01)\n",
    "t = ufloat(10.0, 0.5)\n",
    "\n",
    "a = ((a_tan**2 * t**2 / r)**+(a_tan)**2)**0.5\n",
    "print(a, a.error_components())\n"
   ]
  },
  {
   "cell_type": "markdown",
   "id": "93eefd30",
   "metadata": {},
   "source": [
    "#### Problem 5\n",
    "\n",
    "A box slides down an inclined plane. The inclined plane makes an angle of $\\theta=30\\pm 1 \\degree$ with horizontal.\n",
    "The coefficient of friction between the box and the inclined plane is $\\mu_\\text{k}=0.22\\pm 0.01$.\n",
    "Assume that the acceleration of gravity, $g=9.82 \\text{m/s}^2$ is exact.\n",
    "\n",
    "\n",
    ">a) Determine the acceleration of the box.\n",
    "\n",
    "<details> <summary> Formula hint a) click here</summary> a = g * (sin(theta) - mu * cos(theta)) </details>"
   ]
  },
  {
   "cell_type": "code",
   "execution_count": 19,
   "id": "8dddf682",
   "metadata": {},
   "outputs": [
    {
     "data": {
      "text/plain": [
       "3.039038717664099+/-0.18765872234187989"
      ]
     },
     "execution_count": 19,
     "metadata": {},
     "output_type": "execute_result"
    }
   ],
   "source": [
    "angle = ufloat(30.0 * sp.pi/180.0, sp.pi/180.0)\n",
    "g = ufloat(9.82, 0)\n",
    "fric = ufloat(0.22, 0.01)\n",
    "\n",
    "a = g * sin(angle) - fric * g * cos(angle)\n",
    "a"
   ]
  },
  {
   "cell_type": "markdown",
   "id": "eaaf5d22",
   "metadata": {},
   "source": [
    "#### Problem 6\n",
    "\n",
    "A free fall experiment with a basket ball is used to determine the value of the acceleration of gravity. The determined values for each experiment is found below in the array *g_values*.\n",
    "\n",
    ">a) Determine the value of $g$ with uncertainty?\n",
    "\n",
    ">b) Compare the found value of $g$ with uncertainty to the accepted value of $g=9.82 \\text{ m/s}^2$\n",
    "\n",
    ">c) Determine the speed (including uncertainty) of the basket ball if it is dropped a height $1.00\\pm 0.02$ m, and you use the largest value from the experiment with uncertainty.\n",
    "\n",
    "<details> <summary>Hint a) click here</summary> Remember to use the mean and the standard deviation of the mean. </details>\n",
    "<details> <summary>Hint b) click here</summary> The ufloat method standard_score(value) could be used here. </details>\n",
    "<details> <summary>Hint c) click here</summary> Remember to use the standard deviation as uncertainty, not the standard deviation of the mean. </details>"
   ]
  },
  {
   "cell_type": "code",
   "execution_count": 39,
   "id": "d1fe9a12",
   "metadata": {},
   "outputs": [
    {
     "name": "stdout",
     "output_type": "stream",
     "text": [
      "0.027337398071750216 0.06112828041640516\n"
     ]
    }
   ],
   "source": [
    "import numpy as np\n",
    "import uncertainties as unc\n",
    "g_values = np.array([9.71,9.84,9.81,9.73,9.68,9.74])\n",
    "\n",
    "std = (sum((g_values - g_values.mean())**2)/(len(g_values)-1))**0.5\n",
    "std_mean = std / sqrt(len(g_values)-1)\n",
    "print(std_mean, std)\n"
   ]
  },
  {
   "cell_type": "markdown",
   "id": "f3d34682",
   "metadata": {},
   "source": [
    "#### Problem 7\n",
    "\n",
    "The mechanical energy of a system consisting of a spring and a mass is given by\n",
    "\n",
    "$E=\\frac{1}{2}mv^2+\\frac{1}{2}kx^2$.\n",
    "\n",
    "Assume that all quanties have uncertainties: $m\\pm\\delta m$, $v\\pm\\delta v$, $k\\pm\\delta k$, and $x\\pm\\delta x$.\n",
    "\n",
    ">a) Derive a general formula for the uncertainty in the mechanical energy, $\\delta E$.\n",
    "\n",
    ">b) Determine the mechanical energy with uncertainty when $m=0.20\\pm 0.01$ kg, $v=5.24\\pm 0.02$ m/s, $k=30.0\\pm\\ 0.5$ N/m, and $x=0.231\\pm 0.005$ m.\n",
    "\n",
    "<details> <summary>Hint a) click here</summary> Use the formula for error propagation. First create a sympy variable with the expression for the energy. </details>\n",
    "<details> <summary>Hint b) click here</summary> You may use the method subs({variable:value}). </details>"
   ]
  },
  {
   "cell_type": "code",
   "execution_count": 41,
   "id": "c8ed0fda",
   "metadata": {},
   "outputs": [
    {
     "data": {
      "text/latex": [
       "$\\displaystyle 0.372341859711813$"
      ],
      "text/plain": [
       "0.372341859711813"
      ]
     },
     "execution_count": 41,
     "metadata": {},
     "output_type": "execute_result"
    }
   ],
   "source": [
    "v, x, k, m, dm, dv, dx, dk = symbols('v,x,k,m, dm, dv, dx, dk')\n",
    "\n",
    "Energy = ((0.5 * v**2 * dm)**0.5 + (m*v*dv)**2 + (0.5 * x**2 * dk)**2 + (k*x*dx)**2)\n",
    "Energy.subs({'v': 5.24, 'x': 0.231, 'k': 30.0, 'm':0.20, 'dm': 0.01, 'dv': 0.02, 'dx': 0.005, 'dk': 0.5})"
   ]
  },
  {
   "cell_type": "code",
   "execution_count": null,
   "id": "41100f96",
   "metadata": {},
   "outputs": [],
   "source": []
  }
 ],
 "metadata": {
  "kernelspec": {
   "display_name": "Python 3 (ipykernel)",
   "language": "python",
   "name": "python3"
  },
  "language_info": {
   "codemirror_mode": {
    "name": "ipython",
    "version": 3
   },
   "file_extension": ".py",
   "mimetype": "text/x-python",
   "name": "python",
   "nbconvert_exporter": "python",
   "pygments_lexer": "ipython3",
   "version": "3.11.4"
  }
 },
 "nbformat": 4,
 "nbformat_minor": 5
}
