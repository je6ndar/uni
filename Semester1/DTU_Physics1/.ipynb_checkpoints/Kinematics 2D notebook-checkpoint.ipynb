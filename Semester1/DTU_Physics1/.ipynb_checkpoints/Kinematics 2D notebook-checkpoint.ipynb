{
 "cells": [
  {
   "cell_type": "markdown",
   "id": "4e03a27d",
   "metadata": {},
   "source": [
    "### Examples of solution of kinematics 2D problems"
   ]
  },
  {
   "cell_type": "markdown",
   "id": "cefbefb9",
   "metadata": {},
   "source": [
    "#### Problem\n",
    "\n",
    "Determine formulas for the height, range and time of flight for symmetric projectile motion.\n",
    "\n",
    "Determine the height, $H$, the range, $R$, and the time of flight, $T$, for projectile motion. Assume that the initial and final heights are identical and that the initial velocity is given by the speed, $v$, and the angle, $\\theta$. We need three equations to determine the three unknowns. We can formulate the three equations.\n",
    "The first equation is the range, the second is the impact point with the ground, and the third is the height.\n",
    "\n",
    "$$v\\cos(\\theta)T=R$$\n",
    "\n",
    "$$v\\sin(\\theta)T-\\frac{1}{2}gT^2=0$$\n",
    "\n",
    "$$v\\sin(\\theta)\\frac{T}{2}-\\frac{1}{2}g\\left(\\frac{T}{2}\\right)^2=H$$"
   ]
  },
  {
   "cell_type": "code",
   "execution_count": 5,
   "id": "101699b3",
   "metadata": {},
   "outputs": [
    {
     "name": "stdout",
     "output_type": "stream",
     "text": [
      "Equations:\n"
     ]
    },
    {
     "data": {
      "text/latex": [
       "$\\displaystyle T v \\cos{\\left(\\theta \\right)} = R$"
      ],
      "text/plain": [
       "Eq(T*v*cos(theta), R)"
      ]
     },
     "metadata": {},
     "output_type": "display_data"
    },
    {
     "data": {
      "text/latex": [
       "$\\displaystyle - \\frac{T^{2} g}{2} + T v \\sin{\\left(\\theta \\right)} = 0$"
      ],
      "text/plain": [
       "Eq(-T**2*g/2 + T*v*sin(theta), 0)"
      ]
     },
     "metadata": {},
     "output_type": "display_data"
    },
    {
     "data": {
      "text/latex": [
       "$\\displaystyle - \\frac{T^{2} g}{8} + \\frac{T v \\sin{\\left(\\theta \\right)}}{2} = H$"
      ],
      "text/plain": [
       "Eq(-T**2*g/8 + T*v*sin(theta)/2, H)"
      ]
     },
     "metadata": {},
     "output_type": "display_data"
    },
    {
     "name": "stdout",
     "output_type": "stream",
     "text": [
      "Solution:\n"
     ]
    },
    {
     "data": {
      "text/plain": [
       "[(0, 0, 0), (v**2*sin(theta)**2/(2*g), v**2*sin(2*theta)/g, 2*v*sin(theta)/g)]"
      ]
     },
     "metadata": {},
     "output_type": "display_data"
    },
    {
     "name": "stdout",
     "output_type": "stream",
     "text": [
      "Finale solution:\n"
     ]
    },
    {
     "data": {
      "text/plain": [
       "(v**2*sin(theta)**2/(2*g), v**2*sin(2*theta)/g, 2*v*sin(theta)/g)"
      ]
     },
     "metadata": {},
     "output_type": "display_data"
    },
    {
     "data": {
      "text/latex": [
       "$\\displaystyle \\frac{v^{2} \\sin^{2}{\\left(\\theta \\right)}}{2 g}$"
      ],
      "text/plain": [
       "v**2*sin(theta)**2/(2*g)"
      ]
     },
     "metadata": {},
     "output_type": "display_data"
    },
    {
     "data": {
      "text/latex": [
       "$\\displaystyle \\frac{v^{2} \\sin{\\left(2 \\theta \\right)}}{g}$"
      ],
      "text/plain": [
       "v**2*sin(2*theta)/g"
      ]
     },
     "metadata": {},
     "output_type": "display_data"
    },
    {
     "data": {
      "text/latex": [
       "$\\displaystyle \\frac{2 v \\sin{\\left(\\theta \\right)}}{g}$"
      ],
      "text/plain": [
       "2*v*sin(theta)/g"
      ]
     },
     "metadata": {},
     "output_type": "display_data"
    }
   ],
   "source": [
    "from sympy import symbols,solve,Eq,sin,cos,Rational\n",
    "H,R,g,theta,v,T = symbols('H,R,g,theta,v,T')\n",
    "eq1 = Eq(v*cos(theta)*T,R)\n",
    "eq2 = Eq(v*sin(theta)*T-Rational(1,2)*g*T**2,0)\n",
    "eq3 = Eq(v*sin(theta)*T/2-Rational(1,2)*g*(T/2)**2,H)\n",
    "print('Equations:')\n",
    "display(eq1)\n",
    "display(eq2)\n",
    "display(eq3)\n",
    "sol = solve([eq1,eq2,eq3],[H,R,T])\n",
    "print('Solution:')\n",
    "display(sol)\n",
    "print('Final solution:')\n",
    "display(sol[1])\n",
    "for expr in sol[1]:\n",
    "    display(expr)"
   ]
  },
  {
   "cell_type": "markdown",
   "id": "3f6a311b",
   "metadata": {},
   "source": [
    "Note that there are two solutions, the first one being the trivial solution, and the second being the solution we are looking for.\n",
    "\n",
    "$$H=\\frac{v^2\\sin^2(\\theta)}{2g}$$\n",
    "\n",
    "$$R=\\frac{v^2\\sin(2\\theta)}{g}$$\n",
    "\n",
    "$$T=\\frac{2v\\sin(\\theta)}{g}$$\n",
    "\n",
    "It can be an advantage to refer to the solutions by their symbol. The parameter *dict=True* returns dictionaries instead of arrays.\n",
    "The previous example is repeated."
   ]
  },
  {
   "cell_type": "code",
   "execution_count": 16,
   "metadata": {},
   "outputs": [
    {
     "name": "stdout",
     "output_type": "stream",
     "text": [
      "Equations:\n"
     ]
    },
    {
     "data": {
      "text/latex": [
       "$\\displaystyle T v \\cos{\\left(\\theta \\right)} = R$"
      ],
      "text/plain": [
       "Eq(T*v*cos(theta), R)"
      ]
     },
     "metadata": {},
     "output_type": "display_data"
    },
    {
     "data": {
      "text/latex": [
       "$\\displaystyle - \\frac{T^{2} g}{2} + T v \\sin{\\left(\\theta \\right)} = 0$"
      ],
      "text/plain": [
       "Eq(-T**2*g/2 + T*v*sin(theta), 0)"
      ]
     },
     "metadata": {},
     "output_type": "display_data"
    },
    {
     "data": {
      "text/latex": [
       "$\\displaystyle - \\frac{T^{2} g}{8} + \\frac{T v \\sin{\\left(\\theta \\right)}}{2} = H$"
      ],
      "text/plain": [
       "Eq(-T**2*g/8 + T*v*sin(theta)/2, H)"
      ]
     },
     "metadata": {},
     "output_type": "display_data"
    },
    {
     "name": "stdout",
     "output_type": "stream",
     "text": [
      "Solution:\n"
     ]
    },
    {
     "data": {
      "text/plain": [
       "[{H: 0, R: 0, T: 0},\n",
       " {H: v**2*sin(theta)**2/(2*g), R: v**2*sin(2*theta)/g, T: 2*v*sin(theta)/g}]"
      ]
     },
     "metadata": {},
     "output_type": "display_data"
    },
    {
     "name": "stdout",
     "output_type": "stream",
     "text": [
      "Final solution:\n",
      "H\n"
     ]
    },
    {
     "data": {
      "text/latex": [
       "$\\displaystyle \\frac{v^{2} \\sin^{2}{\\left(\\theta \\right)}}{2 g}$"
      ],
      "text/plain": [
       "v**2*sin(theta)**2/(2*g)"
      ]
     },
     "metadata": {},
     "output_type": "display_data"
    },
    {
     "name": "stdout",
     "output_type": "stream",
     "text": [
      "R\n"
     ]
    },
    {
     "data": {
      "text/latex": [
       "$\\displaystyle \\frac{v^{2} \\sin{\\left(2 \\theta \\right)}}{g}$"
      ],
      "text/plain": [
       "v**2*sin(2*theta)/g"
      ]
     },
     "metadata": {},
     "output_type": "display_data"
    },
    {
     "name": "stdout",
     "output_type": "stream",
     "text": [
      "T\n"
     ]
    },
    {
     "data": {
      "text/latex": [
       "$\\displaystyle \\frac{2 v \\sin{\\left(\\theta \\right)}}{g}$"
      ],
      "text/plain": [
       "2*v*sin(theta)/g"
      ]
     },
     "metadata": {},
     "output_type": "display_data"
    }
   ],
   "source": [
    "from sympy import symbols,solve,Eq,sin,cos,Rational\n",
    "H,R,g,theta,v,T = symbols('H,R,g,theta,v,T')\n",
    "eq1 = Eq(v*cos(theta)*T,R)\n",
    "eq2 = Eq(v*sin(theta)*T-Rational(1,2)*g*T**2,0)\n",
    "eq3 = Eq(v*sin(theta)*T/2-Rational(1,2)*g*(T/2)**2,H)\n",
    "print('Equations:')\n",
    "display(eq1)\n",
    "display(eq2)\n",
    "display(eq3)\n",
    "sol = solve([eq1,eq2,eq3],[H,R,T],dict=True)\n",
    "print('Solution:')\n",
    "display(sol)\n",
    "print('Final solution:')\n",
    "sol = sol[1]\n",
    "for x in [H,R,T]:\n",
    "    print(x)\n",
    "    display(sol[x])"
   ]
  },
  {
   "cell_type": "markdown",
   "id": "b011f47a",
   "metadata": {},
   "source": [
    "#### Problem\n",
    "\n",
    "A projectile is launched from the origin of a coordinate system. The projectile impacts 2.35 seconds later with an object 40 meters to the right, and 5 meters up. \n",
    "\n",
    ">a) What is the initial speed and angle of the projectile?\n",
    "\n",
    "The equations describing the given information is:\n",
    "\n",
    "$$v\\cos(\\theta)T=40$$\n",
    "\n",
    "$$v\\sin(\\theta)T-\\frac{1}{2}gT^2=5$$\n",
    "\n",
    "$$T=2.35$$\n",
    "\n",
    "We show the solution in two different ways."
   ]
  },
  {
   "cell_type": "code",
   "execution_count": 23,
   "id": "6810e9b6",
   "metadata": {},
   "outputs": [
    {
     "name": "stdout",
     "output_type": "stream",
     "text": [
      "Equations:\n"
     ]
    },
    {
     "data": {
      "text/latex": [
       "$\\displaystyle T v \\cos{\\left(\\theta \\right)} = 40.0$"
      ],
      "text/plain": [
       "Eq(T*v*cos(theta), 40.0)"
      ]
     },
     "metadata": {},
     "output_type": "display_data"
    },
    {
     "data": {
      "text/latex": [
       "$\\displaystyle - \\frac{T^{2} g}{2} + T v \\sin{\\left(\\theta \\right)} = H$"
      ],
      "text/plain": [
       "Eq(-T**2*g/2 + T*v*sin(theta), H)"
      ]
     },
     "metadata": {},
     "output_type": "display_data"
    },
    {
     "data": {
      "text/latex": [
       "$\\displaystyle g = 9.82$"
      ],
      "text/plain": [
       "Eq(g, 9.82)"
      ]
     },
     "metadata": {},
     "output_type": "display_data"
    },
    {
     "data": {
      "text/latex": [
       "$\\displaystyle T = 2.35$"
      ],
      "text/plain": [
       "Eq(T, 2.35)"
      ]
     },
     "metadata": {},
     "output_type": "display_data"
    },
    {
     "data": {
      "text/latex": [
       "$\\displaystyle R = 40$"
      ],
      "text/plain": [
       "Eq(R, 40)"
      ]
     },
     "metadata": {},
     "output_type": "display_data"
    },
    {
     "data": {
      "text/latex": [
       "$\\displaystyle H = 5$"
      ],
      "text/plain": [
       "Eq(H, 5)"
      ]
     },
     "metadata": {},
     "output_type": "display_data"
    },
    {
     "name": "stdout",
     "output_type": "stream",
     "text": [
      "Solution:\n"
     ]
    },
    {
     "data": {
      "text/plain": [
       "([H, R, g, T, v, theta],\n",
       " {(5.00000000000000,\n",
       "   40.0000000000000,\n",
       "   9.82000000000000,\n",
       "   2.35000000000000,\n",
       "   21.8285999199140,\n",
       "   0.676498754637480)})"
      ]
     },
     "metadata": {},
     "output_type": "display_data"
    },
    {
     "name": "stdout",
     "output_type": "stream",
     "text": [
      "1 solution(s).\n",
      "v=21.83, theta=0.6765\n"
     ]
    }
   ],
   "source": [
    "from sympy import symbols,solve,Eq,sin,cos,Rational\n",
    "H,L,g,theta,v,T = symbols('H,R,g,theta,v,T')\n",
    "eq1 = Eq(v*cos(theta)*T,40.0)\n",
    "eq2 = Eq(v*sin(theta)*T-Rational(1,2)*g*T**2,H)\n",
    "eq3 = Eq(g,9.82)\n",
    "eq4 = Eq(T,2.35)\n",
    "eq5 = Eq(L,40)\n",
    "eq6 = Eq(H,5)\n",
    "print('Equations:')\n",
    "display(eq1)\n",
    "display(eq2)\n",
    "display(eq3)\n",
    "display(eq4)\n",
    "display(eq5)\n",
    "display(eq6)\n",
    "print('Solution:')\n",
    "sol = solve([eq1,eq2,eq3,eq4,eq5,eq6],[H,L,g,T,v,theta],set=True)\n",
    "display(sol)\n",
    "sol = solve([Eq(v*cos(theta)*T,40.0),Eq(v*sin(theta)*T-Rational(1,2)*g*T**2,H),Eq(g,9.82),Eq(T,2.35),Eq(L,40),Eq(H,5)],[H,L,g,T,v,theta],dict=True)\n",
    "print(len(sol),'solution(s).') # how many solutions are returned?\n",
    "for i in range(len(sol)):\n",
    "    print('v={:.2f}, theta={:.4f}'.format(sol[i][v],sol[i][theta]))"
   ]
  },
  {
   "cell_type": "code",
   "execution_count": 24,
   "id": "16d9ff6b",
   "metadata": {},
   "outputs": [
    {
     "data": {
      "image/png": "[encoded data removed]",
      "text/plain": [
       "<Figure size 640x480 with 1 Axes>"
      ]
     },
     "metadata": {},
     "output_type": "display_data"
    }
   ],
   "source": [
    "import numpy as np\n",
    "import scipy as sc\n",
    "import matplotlib.pyplot as plt\n",
    "t = np.linspace(0,2.35,1001)\n",
    "v = 21.8285999199140\n",
    "theta = 0.676498754637480\n",
    "g = 9.82\n",
    "x = v*cos(theta)*t\n",
    "y = v*sin(theta)*t-1/2*g*t**2\n",
    "plt.plot(x,y,'b',label='Projectile motion')\n",
    "plt.plot(40,5,marker=\"o\", markersize=10,markerfacecolor='black',markeredgecolor='black')\n",
    "plt.xlabel('$x$ (m)')\n",
    "plt.ylabel('$y$ (m)')\n",
    "plt.grid(color='k', linestyle='--', linewidth=1)\n",
    "plt.legend()\n",
    "plt.show()"
   ]
  },
  {
   "cell_type": "markdown",
   "id": "746db158",
   "metadata": {},
   "source": [
    "It is also possible to solve for the speed and angle with a purely numerical solution. Note that we provide an initial guess for the solution."
   ]
  },
  {
   "cell_type": "code",
   "execution_count": 8,
   "id": "097796ce",
   "metadata": {},
   "outputs": [
    {
     "name": "stdout",
     "output_type": "stream",
     "text": [
      "21.828599919902775 0.6764987546376694\n",
      "(-2.673772314665257e-11, -8.988365607365267e-12)\n"
     ]
    }
   ],
   "source": [
    "from scipy.optimize import fsolve\n",
    "from math import cos,sin\n",
    "def equations(x):\n",
    "    v, theta = x\n",
    "    return (v*cos(theta)*2.35-40.0,v*sin(theta)*2.35-0.5*9.82*2.35**2-5.0)\n",
    "v, theta =  fsolve(equations, (10, 1))\n",
    "print(v, theta) # the solution (speed and angle)\n",
    "print(equations((v,theta))) # how close are we to zero?"
   ]
  }
 ],
 "metadata": {
  "kernelspec": {
   "display_name": "Python 3 (ipykernel)",
   "language": "python",
   "name": "python3"
  },
  "language_info": {
   "codemirror_mode": {
    "name": "ipython",
    "version": 3
   },
   "file_extension": ".py",
   "mimetype": "text/x-python",
   "name": "python",
   "nbconvert_exporter": "python",
   "pygments_lexer": "ipython3",
   "version": "3.11.4"
  }
 },
 "nbformat": 4,
 "nbformat_minor": 5
}
