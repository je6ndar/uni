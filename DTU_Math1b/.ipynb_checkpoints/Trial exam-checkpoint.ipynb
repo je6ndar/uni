{
 "cells": [
  {
   "cell_type": "code",
   "execution_count": 1,
   "id": "77b085c2-1c41-49be-bad9-9d20cb5f114e",
   "metadata": {},
   "outputs": [],
   "source": [
    "from sympy import*\n",
    "from dtumathtools import*\n",
    "init_printing()"
   ]
  },
  {
   "cell_type": "code",
   "execution_count": 49,
   "id": "e430ddfc-d4bf-4245-80f3-b0689cd32341",
   "metadata": {},
   "outputs": [],
   "source": [
    "x, y, z, x1, x2 = symbols(\"x, y, z, x1, x2\")\n",
    "r, u, w, t = symbols(\"r, u, w, t\")"
   ]
  },
  {
   "cell_type": "markdown",
   "id": "84bd47bf-0896-45fd-80d2-f46b4918a625",
   "metadata": {},
   "source": [
    "# Exercise 1"
   ]
  },
  {
   "cell_type": "markdown",
   "id": "e2593d29-b577-4baf-8f03-920df3ca9933",
   "metadata": {},
   "source": [
    "## a)\n",
    "We are given 2 partial derivatives with respect to both $x$ and $y$ of a function $f(x,y)$. To find the stationary points we need to equate the partial derivatives to $0$."
   ]
  },
  {
   "cell_type": "code",
   "execution_count": 4,
   "id": "38409225-2900-4b8d-b647-d8bf91e8cb4a",
   "metadata": {},
   "outputs": [
    {
     "data": {
      "image/png": "[encoded data removed]",
      "text/latex": [
       "$\\displaystyle \\left[ \\left( 0, \\  0\\right), \\  \\left( 1, \\  1\\right)\\right]$"
      ],
      "text/plain": [
       "[(0, 0), (1, 1)]"
      ]
     },
     "execution_count": 4,
     "metadata": {},
     "output_type": "execute_result"
    }
   ],
   "source": [
    "df_dx = 6*x - 6*y\n",
    "df_dy = 6*y**2 - 6*x\n",
    "\n",
    "#using sympy Eq function and solve method to solve the system of 2 non-linear equations\n",
    "solve([Eq(df_dx,0), Eq(df_dy,0)], x, y)"
   ]
  },
  {
   "cell_type": "markdown",
   "id": "d764764f-ac0d-42b7-b542-6ec0d2027875",
   "metadata": {},
   "source": [
    "We got 2 stationary points: $(0,0)$, $(1,1)$."
   ]
  },
  {
   "cell_type": "markdown",
   "id": "30b1e113-81b8-4690-bb3c-03422db12d72",
   "metadata": {},
   "source": [
    "## b)\n",
    "The hessian matrix of the given function will look like this:\n",
    "\\begin{equation}\n",
    "    H_f(x, y) = \\begin{bmatrix} \\frac{\\partial^2{f}}{\\partial{x^2}} & \\frac{\\partial^2{f}}{\\partial x \\partial y} \\\\ \\frac{\\partial^2{f}}{\\partial y \\partial x} & \\frac{\\partial^2{f}}{\\partial{y^2}} \\end{bmatrix}\n",
    "\\end{equation}\n",
    "So, we take those derivatives and get the following result:\n",
    "\\begin{equation}\n",
    "    H_f(x, y) = \\begin{bmatrix} 6 & -6 \\\\ -6 & 12y \\end{bmatrix}\n",
    "\\end{equation}\n",
    "To assess whether the stationary point is a local maximum, minimum, or saddle point, one can use Theorem 5.2.4. Now we need to find the eigenvalues of our hessian matrix for each stationary point."
   ]
  },
  {
   "cell_type": "code",
   "execution_count": 12,
   "id": "6278574d-26b3-47c1-81a6-adb43293b5f6",
   "metadata": {},
   "outputs": [
    {
     "data": {
      "text/latex": [
       "$\\displaystyle \\left[ \\left( 3 - 3 \\sqrt{5}, \\  1, \\  \\left[ \\left[\\begin{matrix}- \\frac{1}{2} + \\frac{\\sqrt{5}}{2}\\\\1\\end{matrix}\\right]\\right]\\right), \\  \\left( 3 + 3 \\sqrt{5}, \\  1, \\  \\left[ \\left[\\begin{matrix}- \\frac{\\sqrt{5}}{2} - \\frac{1}{2}\\\\1\\end{matrix}\\right]\\right]\\right)\\right]$"
      ],
      "text/plain": [
       "⎡⎛             ⎡⎡  1   √5⎤⎤⎞  ⎛             ⎡⎡  √5   1⎤⎤⎞⎤\n",
       "⎢⎜             ⎢⎢- ─ + ──⎥⎥⎟  ⎜             ⎢⎢- ── - ─⎥⎥⎟⎥\n",
       "⎢⎜3 - 3⋅√5, 1, ⎢⎢  2   2 ⎥⎥⎟, ⎜3 + 3⋅√5, 1, ⎢⎢  2    2⎥⎥⎟⎥\n",
       "⎢⎜             ⎢⎢        ⎥⎥⎟  ⎜             ⎢⎢        ⎥⎥⎟⎥\n",
       "⎣⎝             ⎣⎣   1    ⎦⎦⎠  ⎝             ⎣⎣   1    ⎦⎦⎠⎦"
      ]
     },
     "metadata": {},
     "output_type": "display_data"
    },
    {
     "data": {
      "text/latex": [
       "$\\displaystyle \\left[ \\left( 9 - 3 \\sqrt{5}, \\  1, \\  \\left[ \\left[\\begin{matrix}\\frac{1}{2} + \\frac{\\sqrt{5}}{2}\\\\1\\end{matrix}\\right]\\right]\\right), \\  \\left( 3 \\sqrt{5} + 9, \\  1, \\  \\left[ \\left[\\begin{matrix}\\frac{1}{2} - \\frac{\\sqrt{5}}{2}\\\\1\\end{matrix}\\right]\\right]\\right)\\right]$"
      ],
      "text/plain": [
       "⎡⎛             ⎡⎡1   √5⎤⎤⎞  ⎛             ⎡⎡1   √5⎤⎤⎞⎤\n",
       "⎢⎜             ⎢⎢─ + ──⎥⎥⎟  ⎜             ⎢⎢─ - ──⎥⎥⎟⎥\n",
       "⎢⎜9 - 3⋅√5, 1, ⎢⎢2   2 ⎥⎥⎟, ⎜3⋅√5 + 9, 1, ⎢⎢2   2 ⎥⎥⎟⎥\n",
       "⎢⎜             ⎢⎢      ⎥⎥⎟  ⎜             ⎢⎢      ⎥⎥⎟⎥\n",
       "⎣⎝             ⎣⎣  1   ⎦⎦⎠  ⎝             ⎣⎣  1   ⎦⎦⎠⎦"
      ]
     },
     "metadata": {},
     "output_type": "display_data"
    }
   ],
   "source": [
    "H_f = Matrix([[6, -6],[-6, 12*y]])\n",
    "display(H_f.subs(y,0).eigenvects(), H_f.subs(y,1).eigenvects())"
   ]
  },
  {
   "cell_type": "markdown",
   "id": "443a5a3b-0455-4f8e-b89b-510fda7e97c6",
   "metadata": {},
   "source": [
    "As we can see, the first stationary $(0,0)$ point is a saddle point as it has both negative and positive eigenvalues.\n",
    "\n",
    "The second point $(1,1)$ is local minimum as the both eigenvalues are positive."
   ]
  },
  {
   "cell_type": "markdown",
   "id": "62debcd7-5d96-4933-9056-1cb1dd83b8fe",
   "metadata": {},
   "source": [
    "## c)\n",
    "To determine second-degree Taylor polynomial one can use Definition 4.5.1."
   ]
  },
  {
   "cell_type": "code",
   "execution_count": 20,
   "id": "2f760596-2fe5-473e-bbf2-40f521527910",
   "metadata": {},
   "outputs": [
    {
     "data": {
      "image/png": "[encoded data removed]",
      "text/latex": [
       "$\\displaystyle - 3.0 x y + 0.5 x \\left(6 x - 6 y\\right) + 1$"
      ],
      "text/plain": [
       "-3.0⋅x⋅y + 0.5⋅x⋅(6⋅x - 6⋅y) + 1"
      ]
     },
     "metadata": {},
     "output_type": "display_data"
    }
   ],
   "source": [
    "#define the gradient of the function\n",
    "nabla = Matrix([df_dx, df_dy]).transpose()\n",
    "#define vector x - x0\n",
    "var = Matrix([x, y])\n",
    "#define dictionary for expansion point\n",
    "sub = {x: 0, y: 0}\n",
    "P_2 = 1 + (nabla.subs(sub) * var)[0] + 0.5 * (H_f.subs(sub) * var).dot(var)\n",
    "display(P_2)"
   ]
  },
  {
   "cell_type": "markdown",
   "id": "31e93aaa-1801-4fbc-8e13-56962a919332",
   "metadata": {},
   "source": [
    "# Exercise 2"
   ]
  },
  {
   "cell_type": "markdown",
   "id": "94c8826b-3fe6-433e-895b-0a7e30270b25",
   "metadata": {},
   "source": [
    "## a) \n",
    "One can find the Taylor polynomial for any function with expansion point $x_0$ by the next formula:\n",
    "\\begin{equation}\n",
    "    \\sum_{i=0}^{n} \\frac{1}{k!} f^{(k)}(x_0)(x-x_0)^k \n",
    "\\end{equation}\n",
    "In Python, one can use the function ```series()```."
   ]
  },
  {
   "cell_type": "code",
   "execution_count": 22,
   "id": "3b945a26-c369-40dd-972e-737bcccc7a9f",
   "metadata": {},
   "outputs": [
    {
     "data": {
      "image/png": "[encoded data removed]",
      "text/latex": [
       "$\\displaystyle - \\frac{x^{3}}{6} + x$"
      ],
      "text/plain": [
       "   3    \n",
       "  x     \n",
       "- ── + x\n",
       "  6     "
      ]
     },
     "metadata": {},
     "output_type": "display_data"
    }
   ],
   "source": [
    "P_3 = series(sin(x), x, 0, 4).removeO()\n",
    "display(P_3)"
   ]
  },
  {
   "cell_type": "markdown",
   "id": "e9a9febe-cb2a-4267-b51f-6e2232c54b79",
   "metadata": {},
   "source": [
    "## b)\n",
    "We now want to find \n",
    "\\begin{equation}\n",
    "    \\lim_{x \\to 0} \\frac{sin(x)}{x} \n",
    "\\end{equation}\n",
    "One can say that $sin(x) = P_3(x) + R_3(x) = P_3(x) + \\epsilon(x)x^3$. An $\\epsilon$ is a category of function that fulfill:\n",
    "1) $\\epsilon(0) = 0$\n",
    "2) $\\epsilon(x) \\rightarrow 0$\n",
    "\n",
    "So, using the result from the previous question we can write\n",
    "\\begin{gather}\n",
    "    \\lim_{x \\to 0} \\frac{sin(x)}{x} = \\lim_{x \\to 0} \\frac{-\\frac{1}{6}x^3 + x + \\epsilon(x)x^3}{x} = \\lim_{x \\to 0} -\\frac{1}{6}x^2 + 1 + \\epsilon(x)x^2 = 1\n",
    "\\end{gather}\n",
    "As we can see, when $x$ goes to $0$ the $\\frac{sin(x)}{x}$ becomes $1$."
   ]
  },
  {
   "cell_type": "markdown",
   "id": "44ef9495-593d-4b3b-b454-4e5d0a050dd5",
   "metadata": {},
   "source": [
    "## c)\n",
    "\n",
    "We can prove that $f$ is continuous on $\\mathbb{R}$ by looking at the limit of function $\\frac{sin(x)}{x}$ at the point $x = 0$. As we have already shown the $\\lim_{x \\to 0} \\frac{sin(x)}{x} = 1$ and as the second part of the piece-wise function $f$ is defined to be equal to $1$ we can conclude that the whole function is continuous on $\\mathbb{R}$."
   ]
  },
  {
   "cell_type": "markdown",
   "id": "3ab49a0d-f92c-46e6-b57f-5d207d20d410",
   "metadata": {},
   "source": [
    "## d)"
   ]
  },
  {
   "cell_type": "code",
   "execution_count": 24,
   "id": "3074bc1e-88a2-4398-b72c-a1452be3e66b",
   "metadata": {},
   "outputs": [
    {
     "data": {
      "image/png": "[encoded data removed]",
      "text/latex": [
       "$\\displaystyle 0.946083070367183$"
      ],
      "text/plain": [
       "0.946083070367183"
      ]
     },
     "execution_count": 24,
     "metadata": {},
     "output_type": "execute_result"
    }
   ],
   "source": [
    "integrate(sin(x)/x, (x, 0, 1)).evalf()"
   ]
  },
  {
   "cell_type": "markdown",
   "id": "f901ec05-1180-4867-a3d2-1827a4acf378",
   "metadata": {},
   "source": [
    "## e)"
   ]
  },
  {
   "cell_type": "code",
   "execution_count": 28,
   "id": "e58dfc26-b853-43aa-9bf4-b0d51c175725",
   "metadata": {},
   "outputs": [
    {
     "data": {
      "image/png": "[encoded data removed]",
      "text/latex": [
       "$\\displaystyle 0.948697334327921$"
      ],
      "text/plain": [
       "0.948697334327921"
      ]
     },
     "execution_count": 28,
     "metadata": {},
     "output_type": "execute_result"
    }
   ],
   "source": [
    "def riemann_mid(f, interval, n):\n",
    "    dx = (interval[1]-interval[0])/n  #defining dx\n",
    "    s = 0   # initial sum equals 0\n",
    "    for i in range(n):\n",
    "        s += f.subs(x, (interval[0] + i*dx + interval[0] + (i+1)*dx)/2)*dx #calculating and adding f(xi)dx to the sum\n",
    "    return s\n",
    "riemann_left(sin(x)/x, [1*10**(-30),1], 30)"
   ]
  },
  {
   "cell_type": "markdown",
   "id": "d00268f5-8706-49af-b4ae-3f42659ba665",
   "metadata": {},
   "source": [
    "## f)"
   ]
  },
  {
   "cell_type": "code",
   "execution_count": 47,
   "id": "e8c6c947-c08e-4895-95ab-245632147289",
   "metadata": {},
   "outputs": [
    {
     "data": {
      "image/png": "[encoded data removed]",
      "text/latex": [
       "$\\displaystyle 0.944444444444444$"
      ],
      "text/plain": [
       "0.944444444444444"
      ]
     },
     "execution_count": 47,
     "metadata": {},
     "output_type": "execute_result"
    }
   ],
   "source": [
    "integrate((x-1/6*x**3)/x, (x, 0, 1))"
   ]
  },
  {
   "cell_type": "code",
   "execution_count": 46,
   "id": "2933c7bd-9fc6-41c0-900d-b707669baa2a",
   "metadata": {},
   "outputs": [
    {
     "data": {
      "image/png": "[encoded data removed]",
      "text/plain": [
       "<Figure size 640x480 with 1 Axes>"
      ]
     },
     "metadata": {},
     "output_type": "display_data"
    }
   ],
   "source": [
    "plt = dtuplot.plot(sin(x)/x,show=False)\n",
    "plt.extend(dtuplot.plot((x-1/6*x**3)/x,(x, 0, 1), show=False))\n",
    "plt.show()"
   ]
  },
  {
   "cell_type": "markdown",
   "id": "8d31a9bf-fbcb-4e49-81fc-1158fee1fcba",
   "metadata": {},
   "source": [
    "Better approximaton"
   ]
  },
  {
   "cell_type": "markdown",
   "id": "1259ff6f-d97f-4feb-b623-af1df141152f",
   "metadata": {},
   "source": [
    "# Exercise 3"
   ]
  },
  {
   "cell_type": "markdown",
   "id": "c9542170-a618-49d8-8fc9-88f97cffbbbd",
   "metadata": {},
   "source": [
    "## a)\n",
    "Matrix $\\mathbf{A}$ is said to be normal if the following $\\mathbf{A} \\cdot \\mathbf{A}^* = \\mathbf{A}^* \\cdot \\mathbf{A}$ holds."
   ]
  },
  {
   "cell_type": "code",
   "execution_count": 50,
   "id": "0995aff0-0a69-4fdc-9cee-e18c65b7964d",
   "metadata": {},
   "outputs": [
    {
     "data": {
      "text/plain": [
       "True"
      ]
     },
     "execution_count": 50,
     "metadata": {},
     "output_type": "execute_result"
    }
   ],
   "source": [
    "C_t = Matrix([[1, 2, 3, 4],[4, 1, 2, 3],[3, 4, 1, 2],[t, 3, 4, 1]])\n",
    "C_2 = C_t.subs(t, 2)\n",
    "C_2 * C_2.transpose() == C_2.transpose() * C_2 "
   ]
  },
  {
   "cell_type": "markdown",
   "id": "ffc5f4c1-5d24-4532-a7d4-78edad04fd3f",
   "metadata": {},
   "source": [
    "## b)\n",
    "From definition of eigenvector $\\mathbf{A} \\cdot \\mathbf{v} = \\lambda \\mathbf{v}$."
   ]
  },
  {
   "cell_type": "code",
   "execution_count": 55,
   "id": "8982d6a2-4c53-49e4-af95-db93810f13ce",
   "metadata": {},
   "outputs": [
    {
     "data": {
      "text/latex": [
       "$\\displaystyle \\left[\\begin{matrix}10\\\\10\\\\10\\\\10\\end{matrix}\\right]$"
      ],
      "text/plain": [
       "⎡10⎤\n",
       "⎢  ⎥\n",
       "⎢10⎥\n",
       "⎢  ⎥\n",
       "⎢10⎥\n",
       "⎢  ⎥\n",
       "⎣10⎦"
      ]
     },
     "execution_count": 55,
     "metadata": {},
     "output_type": "execute_result"
    }
   ],
   "source": [
    "v1 = Matrix([1, 1, 1, 1])\n",
    "lamda_1 = C_2*v1\n",
    "lamda_1"
   ]
  },
  {
   "cell_type": "markdown",
   "id": "1c58dae1-23bf-4e8d-bde8-dbc80f9c9556",
   "metadata": {},
   "source": [
    "$\\lambda_{1} = 10$"
   ]
  },
  {
   "cell_type": "markdown",
   "id": "83b44fbb-fb5e-4023-8171-70571b8f4acb",
   "metadata": {},
   "source": [
    "## c)"
   ]
  },
  {
   "cell_type": "code",
   "execution_count": 56,
   "id": "2bc6c661-d0ae-45ef-b55d-df589f5b22a8",
   "metadata": {},
   "outputs": [
    {
     "data": {
      "text/latex": [
       "$\\displaystyle \\left[\\begin{matrix}-2 - 2 i\\\\2 - 2 i\\\\2 + 2 i\\\\-2 + 2 i\\end{matrix}\\right]$"
      ],
      "text/plain": [
       "⎡-2 - 2⋅ⅈ⎤\n",
       "⎢        ⎥\n",
       "⎢2 - 2⋅ⅈ ⎥\n",
       "⎢        ⎥\n",
       "⎢2 + 2⋅ⅈ ⎥\n",
       "⎢        ⎥\n",
       "⎣-2 + 2⋅ⅈ⎦"
      ]
     },
     "execution_count": 56,
     "metadata": {},
     "output_type": "execute_result"
    }
   ],
   "source": [
    "v2 = Matrix([1, I, -1, -I])\n",
    "lamda_2 = C_2*v2\n",
    "lamda_2"
   ]
  },
  {
   "cell_type": "markdown",
   "id": "078d46d7-b1ed-4aa8-a99b-08ea006c30bf",
   "metadata": {},
   "source": [
    "$\\lambda_{2} = -2-2i$"
   ]
  },
  {
   "cell_type": "markdown",
   "id": "5c2a135d-b059-4d55-b293-e55d22c281d3",
   "metadata": {},
   "source": [
    "## d)\n",
    "The orthogonality of 2 vectors can be proven by finding their inner product."
   ]
  },
  {
   "cell_type": "code",
   "execution_count": 58,
   "id": "9f8b1fa5-b040-4193-9c4a-3e4360a11ff8",
   "metadata": {},
   "outputs": [
    {
     "data": {
      "image/png": "[encoded data removed]",
      "text/latex": [
       "$\\displaystyle 0$"
      ],
      "text/plain": [
       "0"
      ]
     },
     "execution_count": 58,
     "metadata": {},
     "output_type": "execute_result"
    }
   ],
   "source": [
    "v2.dot(v1)"
   ]
  },
  {
   "cell_type": "markdown",
   "id": "93cce6b8-f7e1-4aa3-814f-b311b231d003",
   "metadata": {},
   "source": [
    "## e)\n",
    "One can normalize a vector  as follows: $\\mathbf{v} = \\frac{\\mathbf{v}}{\\Vert \\mathbf{v} \\Vert}$, where $\\Vert \\mathbf{v} \\Vert = \\sqrt{v_1 ^ 2 + v_2 ^ 2 + \\dots + v_n ^ 2}$ is the norm."
   ]
  },
  {
   "cell_type": "code",
   "execution_count": 60,
   "id": "fffdffed-6e3d-455f-99a2-afb7670c886a",
   "metadata": {},
   "outputs": [
    {
     "data": {
      "image/png": "[encoded data removed]",
      "text/latex": [
       "$\\displaystyle \\left( 2, \\  2\\right)$"
      ],
      "text/plain": [
       "(2, 2)"
      ]
     },
     "execution_count": 60,
     "metadata": {},
     "output_type": "execute_result"
    }
   ],
   "source": [
    "v1.norm(), v2.norm()"
   ]
  },
  {
   "cell_type": "markdown",
   "id": "a26387dc-f886-41be-840d-396e72397ada",
   "metadata": {},
   "source": [
    "The list $\\mathbf{v_1}, \\, \\mathbf{v_2}$ is not orthonormal as the vectors are not normal."
   ]
  },
  {
   "cell_type": "markdown",
   "id": "89d16ad6-d521-495d-b5d9-7b2f106af6d3",
   "metadata": {},
   "source": [
    "# Exercise 4"
   ]
  },
  {
   "cell_type": "markdown",
   "id": "2d009ccc-c353-4eef-9e18-fdbc2365ded0",
   "metadata": {},
   "source": [
    "## a)"
   ]
  },
  {
   "cell_type": "code",
   "execution_count": 65,
   "id": "b39d49a6-4be0-4007-9d6f-e505e6d9f413",
   "metadata": {},
   "outputs": [
    {
     "data": {
      "text/latex": [
       "$\\displaystyle \\left[\\begin{matrix}2 x_{1}^{2} - 2 x_{1} x_{2} + 2 x_{2}^{2}\\end{matrix}\\right]$"
      ],
      "text/plain": [
       "⎡    2                 2⎤\n",
       "⎣2⋅x₁  - 2⋅x₁⋅x₂ + 2⋅x₂ ⎦"
      ]
     },
     "metadata": {},
     "output_type": "display_data"
    }
   ],
   "source": [
    "A = Matrix([[2,-1],[-1,2]])\n",
    "vec = Matrix([x1,x2])\n",
    "#check if the matrix is correct\n",
    "display((vec.transpose() * A * vec).expand())"
   ]
  },
  {
   "cell_type": "code",
   "execution_count": 69,
   "id": "e9d66387-1b95-497c-a617-1a8fc71d0025",
   "metadata": {},
   "outputs": [
    {
     "data": {
      "image/png": "[encoded data removed]",
      "text/latex": [
       "$\\displaystyle 2 x_{1}^{2} - 2 x_{1} x_{2} - 4 x_{1} + 2 x_{2}^{2} + 2 x_{2} + 2$"
      ],
      "text/plain": [
       "    2                        2           \n",
       "2⋅x₁  - 2⋅x₁⋅x₂ - 4⋅x₁ + 2⋅x₂  + 2⋅x₂ + 2"
      ]
     },
     "execution_count": 69,
     "metadata": {},
     "output_type": "execute_result"
    }
   ],
   "source": [
    "b = Matrix([-4, 2])\n",
    "c = 2\n",
    "#final check\n",
    "q = (vec.transpose() * A * vec)[0] + (vec.transpose() * b)[0] + c\n",
    "q.expand()"
   ]
  },
  {
   "cell_type": "markdown",
   "id": "d90654ba-c728-4ab2-b04f-276d36bf80a3",
   "metadata": {},
   "source": [
    "$q(x_1, x_2) = \\mathbf{x}^T \\begin{bmatrix} 2 & -1 \\\\ -1 & 2 \\end{bmatrix}\\mathbf{x} + \\mathbf{x}^T \\begin{bmatrix} -4 \\\\ 2 \\end{bmatrix} + 2$"
   ]
  },
  {
   "cell_type": "markdown",
   "id": "96182d75-5ce6-4684-bef3-495f60abd929",
   "metadata": {},
   "source": [
    "## b)"
   ]
  },
  {
   "cell_type": "markdown",
   "id": "1e369fcd-f466-4de1-9eae-a830e50bbd56",
   "metadata": {},
   "source": [
    "In orded to achive reduced quadratic form we need to find orthonormal basis $\\beta = u_1, u_2, u_3$ for $\\underline{\\underline{A}}$ such that \n",
    "\\begin{align*}\n",
    "&(\\underline{\\underline{U}} * \\underline{\\tilde{x}})^T * \\underline{\\underline{A}} * (\\underline{\\underline{U}} * \\underline{\\tilde{x}}) + (\\underline{\\underline{U}} * \\underline{\\tilde{x}})^T * \\underline{b} + c = 0 \\\\\n",
    "&\\underline{\\tilde{x}}^T * \\underline{\\underline{U}}^T * \\underline{\\underline{A}} * \\underline{\\underline{U}} * \\underline{\\tilde{x}} + \\underline{\\tilde{x}}^T * \\underline{\\underline{U}}^T * \\underline{b} + c = 0 \\\\\n",
    "&\\underline{\\tilde{x}}^T * \\underline{\\underline{D}} * \\underline{\\tilde{x}} + \\underline{\\tilde{x}}^T * \\underline{\\underline{U}}^T * \\underline{b} + c = 0,\n",
    "\\end{align*}\n",
    "where $\\underline{\\underline{U}} = \\begin{bmatrix} u_1 & u_2 & u_3 \\end{bmatrix}$ and $\\underline{\\underline{D}}$ is a diagonal matrix of corresponding eigenvalues of $\\underline{\\underline{U}}$."
   ]
  },
  {
   "cell_type": "code",
   "execution_count": 73,
   "id": "b417f9aa-3ad1-4b90-874c-12b598d03431",
   "metadata": {},
   "outputs": [
    {
     "name": "stdout",
     "output_type": "stream",
     "text": [
      "lamda1 = 1, u1 = Matrix([[1], [1]]) \n",
      "lamda2 = 3, u2 = Matrix([[-1], [1]])\n"
     ]
    }
   ],
   "source": [
    "#Find the eigenvectors and eigenvalues of A\n",
    "eigens = A.eigenvects() #returns list of tuples with eigenvalue, its multiplicity and eigenvectors\n",
    "\n",
    "#print(eigens)\n",
    "\n",
    "lamda1 = eigens[0][0] #first eigenvalue\n",
    "lamda2 = eigens[1][0] #second eigenvalue\n",
    "\n",
    "u1 = eigens[0][2][0] #first eigenvector lamda1\n",
    "u2 = eigens[1][2][0] #second eigenvector lamda2\n",
    "\n",
    "print(f\"lamda1 = {lamda1}, u1 = {u1} \\nlamda2 = {lamda2}, u2 = {u2}\")"
   ]
  },
  {
   "cell_type": "markdown",
   "id": "76f410e7-5286-4d8d-9ce8-a6a417e7ad11",
   "metadata": {},
   "source": [
    "From the spectral theorem we can emediately state that those 2 vectors are normal and only require normalization."
   ]
  },
  {
   "cell_type": "code",
   "execution_count": null,
   "id": "137149b8-91a8-4f41-bece-9837f39a07b2",
   "metadata": {},
   "outputs": [],
   "source": []
  }
 ],
 "metadata": {
  "kernelspec": {
   "display_name": "Python 3 (ipykernel)",
   "language": "python",
   "name": "python3"
  },
  "language_info": {
   "codemirror_mode": {
    "name": "ipython",
    "version": 3
   },
   "file_extension": ".py",
   "mimetype": "text/x-python",
   "name": "python",
   "nbconvert_exporter": "python",
   "pygments_lexer": "ipython3",
   "version": "3.10.12"
  }
 },
 "nbformat": 4,
 "nbformat_minor": 5
}
