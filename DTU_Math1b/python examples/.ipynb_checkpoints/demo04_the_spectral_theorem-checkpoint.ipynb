{
 "cells": [
  {
   "cell_type": "markdown",
   "id": "46d999d0",
   "metadata": {},
   "source": [
    "# Week 4: The Spectral Theorem, Diagonalization, and Hermitian Matrices\n",
    "Demo by Christian Mikkelstrup, Hans Henrik Hermansen, Magnus Troen, Karl Johan Måstrup Kristensen and Jakob Lemvig"
   ]
  },
  {
   "cell_type": "code",
   "execution_count": null,
   "id": "231cfce1",
   "metadata": {},
   "outputs": [],
   "source": [
    "from sympy import *\n",
    "from dtumathtools import *\n",
    "init_printing()"
   ]
  },
  {
   "cell_type": "markdown",
   "id": "112222c2",
   "metadata": {},
   "source": [
    "## Symmetric and Hermitian Matrices"
   ]
  },
  {
   "cell_type": "markdown",
   "id": "582d95f0",
   "metadata": {},
   "source": [
    "In SymPy matrices can be checked for symmetry and Hermitian properties:"
   ]
  },
  {
   "cell_type": "markdown",
   "id": "b0ba90bf",
   "metadata": {},
   "source": [
    "1) Either using simulated manual calculations:"
   ]
  },
  {
   "cell_type": "code",
   "execution_count": null,
   "id": "ad57e36a",
   "metadata": {},
   "outputs": [],
   "source": [
    "A = Matrix([[6,2,4],[2,9,-2],[4,-2,6]])\n",
    "A, A.T, A - A.T "
   ]
  },
  {
   "cell_type": "code",
   "execution_count": null,
   "id": "f81963e5",
   "metadata": {},
   "outputs": [],
   "source": [
    "B = Matrix([[6,2+7*I,4-4*I],[2-7*I,9,-2],[4+4*I,-2,6]])\n",
    "B, B.adjoint(), B.H, (B - B.adjoint(), B - B.H) # A.H and A.adjoint() returns the same output in python"
   ]
  },
  {
   "cell_type": "markdown",
   "id": "0b2deb14",
   "metadata": {},
   "source": [
    "*Note* that since the matrix is being conjugated in the operation $\\verb|B.H| := B^*$ becaues $B^* = \\bar B ^ T$, a Hermitian matrix cannot have complex numbers in the diagonal."
   ]
  },
  {
   "cell_type": "markdown",
   "id": "cc6555a4",
   "metadata": {},
   "source": [
    "2) Or using the `SymPy` functions:"
   ]
  },
  {
   "cell_type": "code",
   "execution_count": null,
   "id": "3759b75c",
   "metadata": {},
   "outputs": [],
   "source": [
    "# For A\n",
    "A.is_symmetric(), A.is_hermitian"
   ]
  },
  {
   "cell_type": "code",
   "execution_count": null,
   "id": "d88c8ae1",
   "metadata": {},
   "outputs": [],
   "source": [
    "# For B\n",
    "B.is_symmetric(), B.is_hermitian"
   ]
  },
  {
   "cell_type": "markdown",
   "id": "65c13914",
   "metadata": {},
   "source": [
    "Be aware that $\\verb|.is_symmetric()|$ is a function and must be typed ***WITH*** brackets afterwards, whereas $\\verb|.is_hermitian|$ is typed ***WITHOUT*** such brackets. This is a tiny perculiarity in SymPy. Without going too much into the details, this has got something to do with which information that has been computed beforehand and stored by SymPy and which that have not. Fortunately one can always just give it a try:"
   ]
  },
  {
   "cell_type": "code",
   "execution_count": null,
   "id": "51c04d2a",
   "metadata": {},
   "outputs": [],
   "source": [
    "# A.is_symmetric"
   ]
  },
  {
   "cell_type": "markdown",
   "id": "5d2c459a",
   "metadata": {},
   "source": [
    "Here we are being told that we are trying to perform a \"bound method\", that is a **function**. Thus brackets must be added:"
   ]
  },
  {
   "cell_type": "code",
   "execution_count": null,
   "id": "5d276e5d",
   "metadata": {},
   "outputs": [],
   "source": [
    "A.is_symmetric()"
   ]
  },
  {
   "cell_type": "markdown",
   "id": "40481ee6",
   "metadata": {},
   "source": [
    "It is rarely necessary to use `.is_symmetric()`, since it often is possible to clarify whether a matrix is symmetric simply by looking at it. Finally, one can check whether the definition of a symmetric matrix is directly fulfilled, meaning wether $A = A^T$ is true. In Python:"
   ]
  },
  {
   "cell_type": "code",
   "execution_count": null,
   "id": "fd04fc6a",
   "metadata": {},
   "outputs": [],
   "source": [
    "A == A.T"
   ]
  },
  {
   "cell_type": "markdown",
   "id": "c0db0a4b",
   "metadata": {},
   "source": [
    "## The Spectral Theorem"
   ]
  },
  {
   "cell_type": "markdown",
   "id": "d95f732e",
   "metadata": {},
   "source": [
    "The spectral theorem provides a good example of why Hermitian (and real symmetric) matrices are so unbelievably practical. In particular in relation to diagonalization.\n",
    "\n",
    "Consider for example the real and symmetric matrix"
   ]
  },
  {
   "cell_type": "code",
   "execution_count": null,
   "id": "d8a75f71",
   "metadata": {},
   "outputs": [],
   "source": [
    "A = Matrix([[1,2,0],\n",
    "            [2,3,2],\n",
    "            [0,2,1]])\n",
    "A"
   ]
  },
  {
   "cell_type": "markdown",
   "id": "0f1cc26b",
   "metadata": {},
   "source": [
    "First we find the eigenvectors:"
   ]
  },
  {
   "cell_type": "code",
   "execution_count": null,
   "id": "4317eee0",
   "metadata": {},
   "outputs": [],
   "source": [
    "ev = A.eigenvects()\n",
    "ev"
   ]
  },
  {
   "cell_type": "markdown",
   "id": "d26906ca",
   "metadata": {},
   "source": [
    "Since we have 3 eigenvalues that all fulfill $am(\\lambda) = gm(\\lambda) = 1$ we can use Corollary 2.8.6 to easily diagonalize $A$ by doing\n",
    "\n",
    "\\begin{equation*}\n",
    "\\Lambda = Q^T A Q.\n",
    "\\end{equation*}\n",
    "\n",
    "where $Q$ is an orthogonal matrix, consisting of eigenvectors of $A$."
   ]
  },
  {
   "cell_type": "code",
   "execution_count": null,
   "id": "2bb11bc2",
   "metadata": {},
   "outputs": [],
   "source": [
    "Q = Matrix.hstack(*[ev[i][2][0].normalized() for i in range(3)])\n",
    "Q"
   ]
  },
  {
   "cell_type": "code",
   "execution_count": null,
   "id": "22418bff",
   "metadata": {},
   "outputs": [],
   "source": [
    "# Avoid using lambda as variable name since it is a reserved word in Python. We will use lamda instead\n",
    "lamda = Q.T*A*Q\n",
    "lamda"
   ]
  },
  {
   "cell_type": "markdown",
   "id": "7a47b85f",
   "metadata": {},
   "source": [
    "For matrices with complex values the same approach can be used, as long as we work with normal matrices. Meaning, matrices that fulfill\n",
    "\n",
    "\\begin{equation*}\n",
    "AA^* = A^*A.\n",
    "\\end{equation*}\n",
    "\n",
    "Note that all Hermitian matrices also are normal since\n",
    "\n",
    "\\begin{equation*}\n",
    "A = A^* \n",
    "\\end{equation*}\n",
    "\n",
    "implies \n",
    "\n",
    "\\begin{equation*}\n",
    "AA^* = A^2 = A^*A.\n",
    "\\end{equation*}\n",
    "\n",
    "Ser for example the matrix:"
   ]
  },
  {
   "cell_type": "code",
   "execution_count": null,
   "id": "70f03ed0",
   "metadata": {},
   "outputs": [],
   "source": [
    "A = Matrix([[1,2*I,0],\n",
    "           [-2*I,3,1+I],\n",
    "           [0,1-I,1]])\n",
    "\n",
    "display(A, A.is_hermitian)"
   ]
  },
  {
   "cell_type": "code",
   "execution_count": null,
   "id": "bf8e6681",
   "metadata": {},
   "outputs": [],
   "source": [
    "# eigenvectors are found\n",
    "ev = A.eigenvects()\n",
    "ev"
   ]
  },
  {
   "cell_type": "code",
   "execution_count": null,
   "id": "eef2652c",
   "metadata": {},
   "outputs": [],
   "source": [
    "U = Matrix.hstack(*[ev[i][2][0].normalized() for i in range(3)])\n",
    "\n",
    "# U is a unitary matrix\n",
    "simplify(U*U.H), simplify(U.H*U)"
   ]
  },
  {
   "cell_type": "code",
   "execution_count": null,
   "id": "62109c65",
   "metadata": {},
   "outputs": [],
   "source": [
    "simplify(U.H*A*U)"
   ]
  },
  {
   "cell_type": "markdown",
   "id": "80e76fdb",
   "metadata": {},
   "source": [
    "## Diagonalization of a Symmetric Matrix via Orthogonal Substitution\n",
    "\n",
    "If we run into the case where an eigenvalue of a symmetric matrix has $\\mathrm{am}(\\lambda) = \\mathrm{gm}(\\lambda) \\ge 2$, we can be sure that the first eigenvectors we find are orthogonal. The spectral theorem still ensures that an orthonormal basis consisting of eigenvectors exists. Consider for instance the symmetric matrix  $A$ given by"
   ]
  },
  {
   "cell_type": "code",
   "execution_count": null,
   "id": "8f2cbde6",
   "metadata": {},
   "outputs": [],
   "source": [
    "A = Matrix([[6,2,4],[2,9,-2],[4,-2,6]])\n",
    "A"
   ]
  },
  {
   "cell_type": "markdown",
   "id": "4f563b29",
   "metadata": {},
   "source": [
    "Here we see that an eigenvalue has an algebraic multiplicity of 2 and two (linearly independent) eigenvectors"
   ]
  },
  {
   "cell_type": "code",
   "execution_count": null,
   "id": "0816d2b0",
   "metadata": {},
   "outputs": [],
   "source": [
    "A.eigenvects()"
   ]
  },
  {
   "cell_type": "markdown",
   "id": "3603edb7",
   "metadata": {},
   "source": [
    "So if we, as before, only normalize the eigenvectors"
   ]
  },
  {
   "cell_type": "code",
   "execution_count": null,
   "id": "c6dd658c",
   "metadata": {},
   "outputs": [],
   "source": [
    "v_1 = Matrix([-1,Rational(1,2),1])\n",
    "v_2 = Matrix([Rational(1,2),1,0])\n",
    "v_3 = Matrix([1,0,1])\n",
    "[v.normalized() for v in [v_1,v_2,v_3]]"
   ]
  },
  {
   "cell_type": "markdown",
   "id": "376d65bd",
   "metadata": {},
   "source": [
    "*(Or in one go without having to type in the $\\boldsymbol{v}$ vectors manually):*"
   ]
  },
  {
   "cell_type": "code",
   "execution_count": null,
   "id": "7c8690ea",
   "metadata": {},
   "outputs": [],
   "source": [
    "V, Lamda = A.diagonalize()\n",
    "[v_1,v_2,v_3] = [V.col(k) for k in range(3)]        # each column in V is retrieved and stored as a vector\n",
    "q_1, q_2, q_3 = [v.normalized() for v in [v_1, v_2, v_3]]\n",
    "display([v_1,v_2,v_3])\n",
    "print('\\t   | (normalize)')\n",
    "print('\\t   q')\n",
    "display([q_1,q_2,q_3])"
   ]
  },
  {
   "cell_type": "markdown",
   "id": "fbfcc627",
   "metadata": {},
   "source": [
    "and create the wanted $Q$ matrix with those as columns"
   ]
  },
  {
   "cell_type": "code",
   "execution_count": null,
   "id": "0594c0a5",
   "metadata": {},
   "outputs": [],
   "source": [
    "Q = Matrix.hstack(q_1,q_2,q_3)\n",
    "Q"
   ]
  },
  {
   "cell_type": "markdown",
   "id": "087aeee1",
   "metadata": {},
   "source": [
    "we see that the matrix unfortunately is not real orthogonal,"
   ]
  },
  {
   "cell_type": "code",
   "execution_count": null,
   "id": "362ae84f",
   "metadata": {},
   "outputs": [],
   "source": [
    "Q.T * Q"
   ]
  },
  {
   "cell_type": "markdown",
   "id": "5d983579",
   "metadata": {},
   "source": [
    "since the last two columns in $Q$ are not orthogonal to each other!"
   ]
  },
  {
   "cell_type": "markdown",
   "id": "a8c4847a",
   "metadata": {},
   "source": [
    "Fortunately we can use a method we have learned in the course for these cases, that being the Gram-Schmidt algorithm. For eigenvectors with equal eigenvalues the Gram-Schmidt algorithm is carried out, and eigenvectors for which $\\mathrm{am}(\\lambda) = 1$ are just treated with normalization:"
   ]
  },
  {
   "cell_type": "code",
   "execution_count": null,
   "id": "fcdd2e62",
   "metadata": {},
   "outputs": [],
   "source": [
    "q_1 = v_1.normalized()\n",
    "q_2, q_3 = GramSchmidt([v_2, v_3], orthonormal=True)\n",
    "Q = Matrix.hstack(q_1,q_2,q_3)\n",
    "Q"
   ]
  },
  {
   "cell_type": "markdown",
   "id": "de26699d",
   "metadata": {},
   "source": [
    "The order of eigenvalues in the diagonal matrix $\\Lambda$ is determined by the order in which the eigenvectors we chose are merged into a matrix. $\\Lambda$ is equal to $V^{-1} A V$ and given by:"
   ]
  },
  {
   "cell_type": "code",
   "execution_count": null,
   "id": "20da935d",
   "metadata": {},
   "outputs": [],
   "source": [
    "Lamda"
   ]
  },
  {
   "cell_type": "markdown",
   "id": "9a932a43",
   "metadata": {},
   "source": [
    "Let us check that the Gram-Schmidt algorithm has not altered $\\Lambda$. We write:"
   ]
  },
  {
   "cell_type": "code",
   "execution_count": null,
   "id": "cf9ea5d5",
   "metadata": {},
   "outputs": [],
   "source": [
    "Lamda == Q.T*A*Q"
   ]
  },
  {
   "cell_type": "markdown",
   "id": "d58c88dd",
   "metadata": {},
   "source": [
    "As expected, we have $\\Lambda = V^{-1} A V = Q^T A Q$. But remember that this Gram-Schmidt method only is necessary when the matrix fulfills the spectral theorem (again for real matrices according to Theorem 2.8.5 and for complex matrices according to Theorem 2.8.9 in the Notes) but has eigenvalues with $am(\\lambda) = \\mathrm{gm}(\\lambda) \\ge 2$."
   ]
  },
  {
   "cell_type": "markdown",
   "id": "19708a7f",
   "metadata": {},
   "source": [
    "## Positive (Semi-)Definite Matrices"
   ]
  },
  {
   "cell_type": "markdown",
   "id": "b896b653",
   "metadata": {},
   "source": [
    "Positive (semi-)definite matrices have some properties that make them even easier to perform calculations with. They are furthermore Hermitian and hence fulfill everything we have worked through in this demo. You will mainly notice this during matrix manipulations, and this is thus not something we necessarily notice when using `SymPy`/CAS. `SymPy` is, though, constructed with two functions that make it easy to find out whether a matrix is positive definite or positive semi-definite."
   ]
  },
  {
   "cell_type": "markdown",
   "id": "048753ed",
   "metadata": {},
   "source": [
    "Consider the two Hermitian matrices $A,B \\in \\mathsf M_4(\\mathbb{R})$."
   ]
  },
  {
   "cell_type": "code",
   "execution_count": null,
   "id": "f845c620",
   "metadata": {},
   "outputs": [],
   "source": [
    "A = Matrix([[5,8,4,1],\n",
    "            [8,17,8,2],\n",
    "            [4,8,5,0],\n",
    "            [1,2,0,1]])\n",
    "\n",
    "B = Matrix([[1,-1,2,0],\n",
    "            [-1,4,-1,1],\n",
    "            [2,-1,6,-2],\n",
    "            [0,1,-2,4]])\n",
    "\n",
    "A,B"
   ]
  },
  {
   "cell_type": "code",
   "execution_count": null,
   "id": "55757f43",
   "metadata": {},
   "outputs": [],
   "source": [
    "A.is_positive_definite, B.is_positive_definite"
   ]
  },
  {
   "cell_type": "markdown",
   "id": "779e9baf",
   "metadata": {},
   "source": [
    "We could also try proving that $B$ is positive definite via simulated manual calculation. A strategy could be to prove axiom (i) in Definition 2.9.1, but since this would require that we test for all vectors in $\\mathbb{R}^4$, this might not be the best choice in `SymPy`. Instead, Theorem 2.9.1 (ii) would be easier to work with. So, we want to show that $B$ has strictly positive eigenvalues. This turns out to be a challenging case, though."
   ]
  },
  {
   "cell_type": "code",
   "execution_count": null,
   "id": "b6f45b51",
   "metadata": {},
   "outputs": [],
   "source": [
    "B.eigenvals()"
   ]
  },
  {
   "cell_type": "markdown",
   "id": "2b9c9cc7",
   "metadata": {},
   "source": [
    "It is not particularly obvious that these eigenvalues should be postive, and they even seem to be complex. We can instead try looking at the numerical values."
   ]
  },
  {
   "cell_type": "code",
   "execution_count": null,
   "id": "536d621e",
   "metadata": {},
   "outputs": [],
   "source": [
    "for eigenval in B.eigenvals():\n",
    "    print(eigenval.evalf(15))"
   ]
  },
  {
   "cell_type": "markdown",
   "id": "b377cc42",
   "metadata": {},
   "source": [
    "Here one could argue that the imaginary parts are so fittingly tiny that they can be assumed to be zero, which we would be happy with. This is, though, neither a particularly good nor clear proof. \n",
    "\n",
    "One can be fortunate and be dealing with a matrix with nicer eigenvalues. `SymPy's functions can be used for checks and control, but we recommend that proofs are carried out by hand instead."
   ]
  },
  {
   "cell_type": "markdown",
   "id": "977b5ea8",
   "metadata": {},
   "source": []
  }
 ],
 "metadata": {
  "kernelspec": {
   "display_name": "python3",
   "language": "python",
   "name": "python3"
  }
 },
 "nbformat": 4,
 "nbformat_minor": 5
}
