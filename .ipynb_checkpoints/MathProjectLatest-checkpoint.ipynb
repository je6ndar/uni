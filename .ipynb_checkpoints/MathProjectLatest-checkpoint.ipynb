{
 "cells": [
  {
   "cell_type": "code",
   "execution_count": 2,
   "metadata": {},
   "outputs": [],
   "source": [
    "from sympy import symbols, ln, sin, simplify, Matrix\n",
    "\n",
    "# Define symbols\n",
    "R_i, R_o, R_c, R_e, B_rem, p, θ, μ_r = symbols('R_i R_o R_c R_e B_rem p θ μ_r', real=True, positive=True)\n",
    "\n",
    "\n",
    "lhs_matrix = Matrix([\n",
    "    [1,-1, 0, R_i**(-2), -R_i**(-2), 0],\n",
    "    [0, -1, 1, 0, -R_o**(-2), R_o**(-2)],\n",
    "    [μ_r, -1, 0, -R_i**(-2) * μ_r, R_i**(-2), 0],\n",
    "    [0, -1, μ_r, 0, R_o**(-2), -R_o**(-2) * μ_r],\n",
    "    [1, 0, 0, -R_c**(-2), 0, 0],\n",
    "    [0, 0, 1, 0, 0, -R_e**(-2)]\n",
    "])\n",
    "\n",
    "# Define right-hand side expressions\n",
    "rhs_matrix = Matrix([\n",
    "    -B_rem * ln(R_i),\n",
    "    -B_rem * ln(R_o),\n",
    "    -B_rem * (1 + ln(R_i) - (sin(θ)*p/sin(θ))),\n",
    "    -B_rem * (1 + ln(R_o) - (sin(θ)*p/sin(θ))),\n",
    "    0,\n",
    "    0\n",
    "])\n",
    "\n",
    "solution = simplify(lhs_matrix**(-1)*rhs_matrix)"
   ]
  },
  {
   "cell_type": "code",
   "execution_count": 3,
   "metadata": {},
   "outputs": [],
   "source": [
    "a, b, c1, c2, c3, d1, d2, d3 = symbols('a bc c1 c2 c3 d1 d2 d3', real=True, positive=True)\n",
    "Ri, Ro, Rc, Re, Brem, mu_r = symbols(\"Ri, Ro, Rc, Re, Brem, mu_r\")\n",
    "a_eq = (Re**2 - Ro**2)/(Re**2 + Ro**2) \n",
    "b_eq = -(Ri**2 - Rc**2)/(Ri**2 + Rc**2)"
   ]
  },
  {
   "cell_type": "code",
   "execution_count": null,
   "metadata": {},
   "outputs": [],
   "source": [
    "a, b, c1, c2, c3, d1, d2, d3 = symbols('a bc c1 c2 c3 d1 d2 d3', real=True, positive=True)"
   ]
  },
  {
   "cell_type": "code",
   "execution_count": 4,
   "metadata": {},
   "outputs": [],
   "source": [
    "d2_eq = -((mu_r*a-1)/(mu_r*a+1)*Ro**(-2) - (mu_r*b-1)/(mu_r*b+1)*Ri**(-2))**(-1) * Brem * ln(Ri/Ro)\n",
    "c1_eq = (d2/(Ri**2+Rc**2))*(1-((mu_r*b-1)/(mu_r*b+1)))\n",
    "d1_eq = c1*Rc**2\n",
    "c2_eq = -d2*((mu_r*a-1)/(mu_r*a+1))*Ro**(-2) + Brem*ln(Ro)\n",
    "c3_eq = (d2/(Ro**2+Re**2))*(1-((mu_r*a-1)/(mu_r*a+1)))\n",
    "d3_eq = c3*Re**2"
   ]
  },
  {
   "cell_type": "code",
   "execution_count": 5,
   "metadata": {},
   "outputs": [],
   "source": [
    "d2_eq = d2_eq.subs([(a, a_eq), (b, b_eq), (c1, c1_eq), (c2, c2_eq), (c3, c3_eq), (d1, d1_eq), (d2, d2_eq), (d3, d3_eq)])\n",
    "c1_eq = c1_eq.subs([(a, a_eq), (b, b_eq), (c1, c1_eq), (c2, c2_eq), (c3, c3_eq), (d1, d1_eq), (d2, d2_eq), (d3, d3_eq)])\n",
    "d1_eq = d1_eq.subs([(a, a_eq), (b, b_eq), (c1, c1_eq), (c2, c2_eq), (c3, c3_eq), (d1, d1_eq), (d2, d2_eq), (d3, d3_eq)])\n",
    "c2_eq = c2_eq.subs([(a, a_eq), (b, b_eq), (c1, c1_eq), (c2, c2_eq), (c3, c3_eq), (d1, d1_eq), (d2, d2_eq), (d3, d3_eq)])\n",
    "c3_eq = c3_eq.subs([(a, a_eq), (b, b_eq), (c1, c1_eq), (c2, c2_eq), (c3, c3_eq), (d1, d1_eq), (d2, d2_eq), (d3, d3_eq)])\n",
    "d3_eq = d3_eq.subs([(a, a_eq), (b, b_eq), (c1, c1_eq), (c2, c2_eq), (c3, c3_eq), (d1, d1_eq), (d2, d2_eq), (d3, d3_eq)])"
   ]
  },
  {
   "cell_type": "code",
   "execution_count": 7,
   "metadata": {},
   "outputs": [
    {
     "data": {
      "text/latex": [
       "$\\displaystyle \\left[\\begin{matrix}\\frac{B_{rem} R_{i}^{2} \\cdot \\left(2 R_{o}^{2} \\left(R_{e}^{2} + R_{o}^{2}\\right) \\log{\\left(R_{o} \\right)} - \\left(- R_{e}^{2} R_{i}^{2} μ_{r} + R_{e}^{2} R_{i}^{2} + R_{e}^{2} R_{o}^{2} μ_{r} + R_{e}^{2} R_{o}^{2} + R_{i}^{2} R_{o}^{2} μ_{r} + R_{i}^{2} R_{o}^{2} - R_{o}^{4} μ_{r} + R_{o}^{4}\\right) \\log{\\left(R_{i} \\right)} + \\log{\\left(R_{i}^{- R_{e}^{2} R_{i}^{2} μ_{r} + R_{e}^{2} R_{i}^{2} - R_{e}^{2} R_{o}^{2} μ_{r} - R_{e}^{2} R_{o}^{2} + R_{i}^{2} R_{o}^{2} μ_{r} + R_{i}^{2} R_{o}^{2} + R_{o}^{4} μ_{r} - R_{o}^{4}} R_{o}^{2 R_{o}^{2} μ_{r} \\left(R_{e}^{2} - R_{o}^{2}\\right)} \\right)}\\right)}{R_{c}^{2} R_{e}^{2} R_{i}^{2} μ_{r}^{2} - R_{c}^{2} R_{e}^{2} R_{i}^{2} - R_{c}^{2} R_{e}^{2} R_{o}^{2} μ_{r}^{2} + R_{c}^{2} R_{e}^{2} R_{o}^{2} - R_{c}^{2} R_{i}^{2} R_{o}^{2} μ_{r}^{2} - 2 R_{c}^{2} R_{i}^{2} R_{o}^{2} μ_{r} - R_{c}^{2} R_{i}^{2} R_{o}^{2} + R_{c}^{2} R_{o}^{4} μ_{r}^{2} - 2 R_{c}^{2} R_{o}^{4} μ_{r} + R_{c}^{2} R_{o}^{4} - R_{e}^{2} R_{i}^{4} μ_{r}^{2} + 2 R_{e}^{2} R_{i}^{4} μ_{r} - R_{e}^{2} R_{i}^{4} + R_{e}^{2} R_{i}^{2} R_{o}^{2} μ_{r}^{2} + 2 R_{e}^{2} R_{i}^{2} R_{o}^{2} μ_{r} + R_{e}^{2} R_{i}^{2} R_{o}^{2} + R_{i}^{4} R_{o}^{2} μ_{r}^{2} - R_{i}^{4} R_{o}^{2} - R_{i}^{2} R_{o}^{4} μ_{r}^{2} + R_{i}^{2} R_{o}^{4}}\\\\\\frac{B_{rem} \\left(- R_{i}^{2} \\left(- R_{c}^{2} R_{e}^{2} μ_{r} + R_{c}^{2} R_{e}^{2} + R_{c}^{2} R_{o}^{2} μ_{r} + R_{c}^{2} R_{o}^{2} - R_{e}^{2} R_{i}^{2} μ_{r} + R_{e}^{2} R_{i}^{2} + R_{i}^{2} R_{o}^{2} μ_{r} + R_{i}^{2} R_{o}^{2}\\right) \\log{\\left(R_{i} \\right)} + R_{o}^{2} \\left(- R_{c}^{2} R_{e}^{2} μ_{r} + R_{c}^{2} R_{e}^{2} - R_{c}^{2} R_{o}^{2} μ_{r} + R_{c}^{2} R_{o}^{2} + R_{e}^{2} R_{i}^{2} μ_{r} + R_{e}^{2} R_{i}^{2} + R_{i}^{2} R_{o}^{2} μ_{r} + R_{i}^{2} R_{o}^{2}\\right) \\log{\\left(R_{o} \\right)} + \\log{\\left(R_{i}^{R_{i}^{2} μ_{r} \\left(R_{c}^{2} R_{e}^{2} μ_{r} - R_{c}^{2} R_{e}^{2} - R_{c}^{2} R_{o}^{2} μ_{r} - R_{c}^{2} R_{o}^{2} - R_{e}^{2} R_{i}^{2} μ_{r} + R_{e}^{2} R_{i}^{2} + R_{i}^{2} R_{o}^{2} μ_{r} + R_{i}^{2} R_{o}^{2}\\right)} R_{o}^{- R_{o}^{2} μ_{r} \\left(R_{c}^{2} R_{e}^{2} μ_{r} - R_{c}^{2} R_{e}^{2} - R_{c}^{2} R_{o}^{2} μ_{r} + R_{c}^{2} R_{o}^{2} - R_{e}^{2} R_{i}^{2} μ_{r} - R_{e}^{2} R_{i}^{2} + R_{i}^{2} R_{o}^{2} μ_{r} + R_{i}^{2} R_{o}^{2}\\right)} \\right)}\\right)}{R_{c}^{2} R_{e}^{2} R_{i}^{2} μ_{r}^{2} - R_{c}^{2} R_{e}^{2} R_{i}^{2} - R_{c}^{2} R_{e}^{2} R_{o}^{2} μ_{r}^{2} + R_{c}^{2} R_{e}^{2} R_{o}^{2} - R_{c}^{2} R_{i}^{2} R_{o}^{2} μ_{r}^{2} - 2 R_{c}^{2} R_{i}^{2} R_{o}^{2} μ_{r} - R_{c}^{2} R_{i}^{2} R_{o}^{2} + R_{c}^{2} R_{o}^{4} μ_{r}^{2} - 2 R_{c}^{2} R_{o}^{4} μ_{r} + R_{c}^{2} R_{o}^{4} - R_{e}^{2} R_{i}^{4} μ_{r}^{2} + 2 R_{e}^{2} R_{i}^{4} μ_{r} - R_{e}^{2} R_{i}^{4} + R_{e}^{2} R_{i}^{2} R_{o}^{2} μ_{r}^{2} + 2 R_{e}^{2} R_{i}^{2} R_{o}^{2} μ_{r} + R_{e}^{2} R_{i}^{2} R_{o}^{2} + R_{i}^{4} R_{o}^{2} μ_{r}^{2} - R_{i}^{4} R_{o}^{2} - R_{i}^{2} R_{o}^{4} μ_{r}^{2} + R_{i}^{2} R_{o}^{4}}\\\\\\frac{B_{rem} R_{o}^{2} \\left(- 2 R_{i}^{2} \\left(R_{c}^{2} + R_{i}^{2}\\right) \\log{\\left(R_{i} \\right)} + \\left(R_{c}^{2} R_{i}^{2} μ_{r} + R_{c}^{2} R_{i}^{2} - R_{c}^{2} R_{o}^{2} μ_{r} + R_{c}^{2} R_{o}^{2} - R_{i}^{4} μ_{r} + R_{i}^{4} + R_{i}^{2} R_{o}^{2} μ_{r} + R_{i}^{2} R_{o}^{2}\\right) \\log{\\left(R_{o} \\right)} + \\log{\\left(R_{i}^{- 2 R_{i}^{2} μ_{r} \\left(R_{c}^{2} - R_{i}^{2}\\right)} R_{o}^{R_{c}^{2} R_{i}^{2} μ_{r} + R_{c}^{2} R_{i}^{2} + R_{c}^{2} R_{o}^{2} μ_{r} - R_{c}^{2} R_{o}^{2} - R_{i}^{4} μ_{r} + R_{i}^{4} - R_{i}^{2} R_{o}^{2} μ_{r} - R_{i}^{2} R_{o}^{2}} \\right)}\\right)}{R_{c}^{2} R_{e}^{2} R_{i}^{2} μ_{r}^{2} - R_{c}^{2} R_{e}^{2} R_{i}^{2} - R_{c}^{2} R_{e}^{2} R_{o}^{2} μ_{r}^{2} + R_{c}^{2} R_{e}^{2} R_{o}^{2} - R_{c}^{2} R_{i}^{2} R_{o}^{2} μ_{r}^{2} - 2 R_{c}^{2} R_{i}^{2} R_{o}^{2} μ_{r} - R_{c}^{2} R_{i}^{2} R_{o}^{2} + R_{c}^{2} R_{o}^{4} μ_{r}^{2} - 2 R_{c}^{2} R_{o}^{4} μ_{r} + R_{c}^{2} R_{o}^{4} - R_{e}^{2} R_{i}^{4} μ_{r}^{2} + 2 R_{e}^{2} R_{i}^{4} μ_{r} - R_{e}^{2} R_{i}^{4} + R_{e}^{2} R_{i}^{2} R_{o}^{2} μ_{r}^{2} + 2 R_{e}^{2} R_{i}^{2} R_{o}^{2} μ_{r} + R_{e}^{2} R_{i}^{2} R_{o}^{2} + R_{i}^{4} R_{o}^{2} μ_{r}^{2} - R_{i}^{4} R_{o}^{2} - R_{i}^{2} R_{o}^{4} μ_{r}^{2} + R_{i}^{2} R_{o}^{4}}\\\\\\frac{B_{rem} R_{c}^{2} R_{i}^{2} \\cdot \\left(2 R_{o}^{2} \\left(R_{e}^{2} + R_{o}^{2}\\right) \\log{\\left(R_{o} \\right)} - \\left(- R_{e}^{2} R_{i}^{2} μ_{r} + R_{e}^{2} R_{i}^{2} + R_{e}^{2} R_{o}^{2} μ_{r} + R_{e}^{2} R_{o}^{2} + R_{i}^{2} R_{o}^{2} μ_{r} + R_{i}^{2} R_{o}^{2} - R_{o}^{4} μ_{r} + R_{o}^{4}\\right) \\log{\\left(R_{i} \\right)} + \\log{\\left(R_{i}^{- R_{e}^{2} R_{i}^{2} μ_{r} + R_{e}^{2} R_{i}^{2} - R_{e}^{2} R_{o}^{2} μ_{r} - R_{e}^{2} R_{o}^{2} + R_{i}^{2} R_{o}^{2} μ_{r} + R_{i}^{2} R_{o}^{2} + R_{o}^{4} μ_{r} - R_{o}^{4}} R_{o}^{2 R_{o}^{2} μ_{r} \\left(R_{e}^{2} - R_{o}^{2}\\right)} \\right)}\\right)}{R_{c}^{2} R_{e}^{2} R_{i}^{2} μ_{r}^{2} - R_{c}^{2} R_{e}^{2} R_{i}^{2} - R_{c}^{2} R_{e}^{2} R_{o}^{2} μ_{r}^{2} + R_{c}^{2} R_{e}^{2} R_{o}^{2} - R_{c}^{2} R_{i}^{2} R_{o}^{2} μ_{r}^{2} - 2 R_{c}^{2} R_{i}^{2} R_{o}^{2} μ_{r} - R_{c}^{2} R_{i}^{2} R_{o}^{2} + R_{c}^{2} R_{o}^{4} μ_{r}^{2} - 2 R_{c}^{2} R_{o}^{4} μ_{r} + R_{c}^{2} R_{o}^{4} - R_{e}^{2} R_{i}^{4} μ_{r}^{2} + 2 R_{e}^{2} R_{i}^{4} μ_{r} - R_{e}^{2} R_{i}^{4} + R_{e}^{2} R_{i}^{2} R_{o}^{2} μ_{r}^{2} + 2 R_{e}^{2} R_{i}^{2} R_{o}^{2} μ_{r} + R_{e}^{2} R_{i}^{2} R_{o}^{2} + R_{i}^{4} R_{o}^{2} μ_{r}^{2} - R_{i}^{4} R_{o}^{2} - R_{i}^{2} R_{o}^{4} μ_{r}^{2} + R_{i}^{2} R_{o}^{4}}\\\\\\frac{B_{rem} R_{i}^{2} R_{o}^{2} \\left(- \\left(R_{c}^{2} R_{e}^{2} μ_{r} + R_{c}^{2} R_{e}^{2} - R_{c}^{2} R_{o}^{2} μ_{r} + R_{c}^{2} R_{o}^{2} + R_{e}^{2} R_{i}^{2} μ_{r} + R_{e}^{2} R_{i}^{2} - R_{i}^{2} R_{o}^{2} μ_{r} + R_{i}^{2} R_{o}^{2}\\right) \\log{\\left(R_{i} \\right)} + \\left(R_{c}^{2} R_{e}^{2} μ_{r} + R_{c}^{2} R_{e}^{2} + R_{c}^{2} R_{o}^{2} μ_{r} + R_{c}^{2} R_{o}^{2} - R_{e}^{2} R_{i}^{2} μ_{r} + R_{e}^{2} R_{i}^{2} - R_{i}^{2} R_{o}^{2} μ_{r} + R_{i}^{2} R_{o}^{2}\\right) \\log{\\left(R_{o} \\right)} + \\log{\\left(R_{i}^{- μ_{r} \\left(R_{c}^{2} R_{e}^{2} μ_{r} + R_{c}^{2} R_{e}^{2} - R_{c}^{2} R_{o}^{2} μ_{r} + R_{c}^{2} R_{o}^{2} - R_{e}^{2} R_{i}^{2} μ_{r} - R_{e}^{2} R_{i}^{2} + R_{i}^{2} R_{o}^{2} μ_{r} - R_{i}^{2} R_{o}^{2}\\right)} R_{o}^{μ_{r} \\left(R_{c}^{2} R_{e}^{2} μ_{r} + R_{c}^{2} R_{e}^{2} - R_{c}^{2} R_{o}^{2} μ_{r} - R_{c}^{2} R_{o}^{2} - R_{e}^{2} R_{i}^{2} μ_{r} + R_{e}^{2} R_{i}^{2} + R_{i}^{2} R_{o}^{2} μ_{r} - R_{i}^{2} R_{o}^{2}\\right)} \\right)}\\right)}{R_{c}^{2} R_{e}^{2} R_{i}^{2} μ_{r}^{2} - R_{c}^{2} R_{e}^{2} R_{i}^{2} - R_{c}^{2} R_{e}^{2} R_{o}^{2} μ_{r}^{2} + R_{c}^{2} R_{e}^{2} R_{o}^{2} - R_{c}^{2} R_{i}^{2} R_{o}^{2} μ_{r}^{2} - 2 R_{c}^{2} R_{i}^{2} R_{o}^{2} μ_{r} - R_{c}^{2} R_{i}^{2} R_{o}^{2} + R_{c}^{2} R_{o}^{4} μ_{r}^{2} - 2 R_{c}^{2} R_{o}^{4} μ_{r} + R_{c}^{2} R_{o}^{4} - R_{e}^{2} R_{i}^{4} μ_{r}^{2} + 2 R_{e}^{2} R_{i}^{4} μ_{r} - R_{e}^{2} R_{i}^{4} + R_{e}^{2} R_{i}^{2} R_{o}^{2} μ_{r}^{2} + 2 R_{e}^{2} R_{i}^{2} R_{o}^{2} μ_{r} + R_{e}^{2} R_{i}^{2} R_{o}^{2} + R_{i}^{4} R_{o}^{2} μ_{r}^{2} - R_{i}^{4} R_{o}^{2} - R_{i}^{2} R_{o}^{4} μ_{r}^{2} + R_{i}^{2} R_{o}^{4}}\\\\\\frac{B_{rem} R_{e}^{2} R_{o}^{2} \\left(- 2 R_{i}^{2} \\left(R_{c}^{2} + R_{i}^{2}\\right) \\log{\\left(R_{i} \\right)} + \\left(R_{c}^{2} R_{i}^{2} μ_{r} + R_{c}^{2} R_{i}^{2} - R_{c}^{2} R_{o}^{2} μ_{r} + R_{c}^{2} R_{o}^{2} - R_{i}^{4} μ_{r} + R_{i}^{4} + R_{i}^{2} R_{o}^{2} μ_{r} + R_{i}^{2} R_{o}^{2}\\right) \\log{\\left(R_{o} \\right)} + \\log{\\left(R_{i}^{- 2 R_{i}^{2} μ_{r} \\left(R_{c}^{2} - R_{i}^{2}\\right)} R_{o}^{R_{c}^{2} R_{i}^{2} μ_{r} + R_{c}^{2} R_{i}^{2} + R_{c}^{2} R_{o}^{2} μ_{r} - R_{c}^{2} R_{o}^{2} - R_{i}^{4} μ_{r} + R_{i}^{4} - R_{i}^{2} R_{o}^{2} μ_{r} - R_{i}^{2} R_{o}^{2}} \\right)}\\right)}{R_{c}^{2} R_{e}^{2} R_{i}^{2} μ_{r}^{2} - R_{c}^{2} R_{e}^{2} R_{i}^{2} - R_{c}^{2} R_{e}^{2} R_{o}^{2} μ_{r}^{2} + R_{c}^{2} R_{e}^{2} R_{o}^{2} - R_{c}^{2} R_{i}^{2} R_{o}^{2} μ_{r}^{2} - 2 R_{c}^{2} R_{i}^{2} R_{o}^{2} μ_{r} - R_{c}^{2} R_{i}^{2} R_{o}^{2} + R_{c}^{2} R_{o}^{4} μ_{r}^{2} - 2 R_{c}^{2} R_{o}^{4} μ_{r} + R_{c}^{2} R_{o}^{4} - R_{e}^{2} R_{i}^{4} μ_{r}^{2} + 2 R_{e}^{2} R_{i}^{4} μ_{r} - R_{e}^{2} R_{i}^{4} + R_{e}^{2} R_{i}^{2} R_{o}^{2} μ_{r}^{2} + 2 R_{e}^{2} R_{i}^{2} R_{o}^{2} μ_{r} + R_{e}^{2} R_{i}^{2} R_{o}^{2} + R_{i}^{4} R_{o}^{2} μ_{r}^{2} - R_{i}^{4} R_{o}^{2} - R_{i}^{2} R_{o}^{4} μ_{r}^{2} + R_{i}^{2} R_{o}^{4}}\\end{matrix}\\right]$"
      ],
      "text/plain": [
       "Matrix([\n",
       "[                                                                                                                                                                                                                                                                                                  B_rem*R_i**2*(2*R_o**2*(R_e**2 + R_o**2)*log(R_o) - (-R_e**2*R_i**2*μ_r + R_e**2*R_i**2 + R_e**2*R_o**2*μ_r + R_e**2*R_o**2 + R_i**2*R_o**2*μ_r + R_i**2*R_o**2 - R_o**4*μ_r + R_o**4)*log(R_i) + log(R_i**(-R_e**2*R_i**2*μ_r + R_e**2*R_i**2 - R_e**2*R_o**2*μ_r - R_e**2*R_o**2 + R_i**2*R_o**2*μ_r + R_i**2*R_o**2 + R_o**4*μ_r - R_o**4)*R_o**(2*R_o**2*μ_r*(R_e**2 - R_o**2))))/(R_c**2*R_e**2*R_i**2*μ_r**2 - R_c**2*R_e**2*R_i**2 - R_c**2*R_e**2*R_o**2*μ_r**2 + R_c**2*R_e**2*R_o**2 - R_c**2*R_i**2*R_o**2*μ_r**2 - 2*R_c**2*R_i**2*R_o**2*μ_r - R_c**2*R_i**2*R_o**2 + R_c**2*R_o**4*μ_r**2 - 2*R_c**2*R_o**4*μ_r + R_c**2*R_o**4 - R_e**2*R_i**4*μ_r**2 + 2*R_e**2*R_i**4*μ_r - R_e**2*R_i**4 + R_e**2*R_i**2*R_o**2*μ_r**2 + 2*R_e**2*R_i**2*R_o**2*μ_r + R_e**2*R_i**2*R_o**2 + R_i**4*R_o**2*μ_r**2 - R_i**4*R_o**2 - R_i**2*R_o**4*μ_r**2 + R_i**2*R_o**4)],\n",
       "[B_rem*(-R_i**2*(-R_c**2*R_e**2*μ_r + R_c**2*R_e**2 + R_c**2*R_o**2*μ_r + R_c**2*R_o**2 - R_e**2*R_i**2*μ_r + R_e**2*R_i**2 + R_i**2*R_o**2*μ_r + R_i**2*R_o**2)*log(R_i) + R_o**2*(-R_c**2*R_e**2*μ_r + R_c**2*R_e**2 - R_c**2*R_o**2*μ_r + R_c**2*R_o**2 + R_e**2*R_i**2*μ_r + R_e**2*R_i**2 + R_i**2*R_o**2*μ_r + R_i**2*R_o**2)*log(R_o) + log(R_i**(R_i**2*μ_r*(R_c**2*R_e**2*μ_r - R_c**2*R_e**2 - R_c**2*R_o**2*μ_r - R_c**2*R_o**2 - R_e**2*R_i**2*μ_r + R_e**2*R_i**2 + R_i**2*R_o**2*μ_r + R_i**2*R_o**2))/R_o**(R_o**2*μ_r*(R_c**2*R_e**2*μ_r - R_c**2*R_e**2 - R_c**2*R_o**2*μ_r + R_c**2*R_o**2 - R_e**2*R_i**2*μ_r - R_e**2*R_i**2 + R_i**2*R_o**2*μ_r + R_i**2*R_o**2))))/(R_c**2*R_e**2*R_i**2*μ_r**2 - R_c**2*R_e**2*R_i**2 - R_c**2*R_e**2*R_o**2*μ_r**2 + R_c**2*R_e**2*R_o**2 - R_c**2*R_i**2*R_o**2*μ_r**2 - 2*R_c**2*R_i**2*R_o**2*μ_r - R_c**2*R_i**2*R_o**2 + R_c**2*R_o**4*μ_r**2 - 2*R_c**2*R_o**4*μ_r + R_c**2*R_o**4 - R_e**2*R_i**4*μ_r**2 + 2*R_e**2*R_i**4*μ_r - R_e**2*R_i**4 + R_e**2*R_i**2*R_o**2*μ_r**2 + 2*R_e**2*R_i**2*R_o**2*μ_r + R_e**2*R_i**2*R_o**2 + R_i**4*R_o**2*μ_r**2 - R_i**4*R_o**2 - R_i**2*R_o**4*μ_r**2 + R_i**2*R_o**4)],\n",
       "[                                                                                                                                                                                                                                                                                                   B_rem*R_o**2*(-2*R_i**2*(R_c**2 + R_i**2)*log(R_i) + (R_c**2*R_i**2*μ_r + R_c**2*R_i**2 - R_c**2*R_o**2*μ_r + R_c**2*R_o**2 - R_i**4*μ_r + R_i**4 + R_i**2*R_o**2*μ_r + R_i**2*R_o**2)*log(R_o) + log(R_o**(R_c**2*R_i**2*μ_r + R_c**2*R_i**2 + R_c**2*R_o**2*μ_r - R_c**2*R_o**2 - R_i**4*μ_r + R_i**4 - R_i**2*R_o**2*μ_r - R_i**2*R_o**2)/R_i**(2*R_i**2*μ_r*(R_c**2 - R_i**2))))/(R_c**2*R_e**2*R_i**2*μ_r**2 - R_c**2*R_e**2*R_i**2 - R_c**2*R_e**2*R_o**2*μ_r**2 + R_c**2*R_e**2*R_o**2 - R_c**2*R_i**2*R_o**2*μ_r**2 - 2*R_c**2*R_i**2*R_o**2*μ_r - R_c**2*R_i**2*R_o**2 + R_c**2*R_o**4*μ_r**2 - 2*R_c**2*R_o**4*μ_r + R_c**2*R_o**4 - R_e**2*R_i**4*μ_r**2 + 2*R_e**2*R_i**4*μ_r - R_e**2*R_i**4 + R_e**2*R_i**2*R_o**2*μ_r**2 + 2*R_e**2*R_i**2*R_o**2*μ_r + R_e**2*R_i**2*R_o**2 + R_i**4*R_o**2*μ_r**2 - R_i**4*R_o**2 - R_i**2*R_o**4*μ_r**2 + R_i**2*R_o**4)],\n",
       "[                                                                                                                                                                                                                                                                                           B_rem*R_c**2*R_i**2*(2*R_o**2*(R_e**2 + R_o**2)*log(R_o) - (-R_e**2*R_i**2*μ_r + R_e**2*R_i**2 + R_e**2*R_o**2*μ_r + R_e**2*R_o**2 + R_i**2*R_o**2*μ_r + R_i**2*R_o**2 - R_o**4*μ_r + R_o**4)*log(R_i) + log(R_i**(-R_e**2*R_i**2*μ_r + R_e**2*R_i**2 - R_e**2*R_o**2*μ_r - R_e**2*R_o**2 + R_i**2*R_o**2*μ_r + R_i**2*R_o**2 + R_o**4*μ_r - R_o**4)*R_o**(2*R_o**2*μ_r*(R_e**2 - R_o**2))))/(R_c**2*R_e**2*R_i**2*μ_r**2 - R_c**2*R_e**2*R_i**2 - R_c**2*R_e**2*R_o**2*μ_r**2 + R_c**2*R_e**2*R_o**2 - R_c**2*R_i**2*R_o**2*μ_r**2 - 2*R_c**2*R_i**2*R_o**2*μ_r - R_c**2*R_i**2*R_o**2 + R_c**2*R_o**4*μ_r**2 - 2*R_c**2*R_o**4*μ_r + R_c**2*R_o**4 - R_e**2*R_i**4*μ_r**2 + 2*R_e**2*R_i**4*μ_r - R_e**2*R_i**4 + R_e**2*R_i**2*R_o**2*μ_r**2 + 2*R_e**2*R_i**2*R_o**2*μ_r + R_e**2*R_i**2*R_o**2 + R_i**4*R_o**2*μ_r**2 - R_i**4*R_o**2 - R_i**2*R_o**4*μ_r**2 + R_i**2*R_o**4)],\n",
       "[                B_rem*R_i**2*R_o**2*(-(R_c**2*R_e**2*μ_r + R_c**2*R_e**2 - R_c**2*R_o**2*μ_r + R_c**2*R_o**2 + R_e**2*R_i**2*μ_r + R_e**2*R_i**2 - R_i**2*R_o**2*μ_r + R_i**2*R_o**2)*log(R_i) + (R_c**2*R_e**2*μ_r + R_c**2*R_e**2 + R_c**2*R_o**2*μ_r + R_c**2*R_o**2 - R_e**2*R_i**2*μ_r + R_e**2*R_i**2 - R_i**2*R_o**2*μ_r + R_i**2*R_o**2)*log(R_o) + log(R_o**(μ_r*(R_c**2*R_e**2*μ_r + R_c**2*R_e**2 - R_c**2*R_o**2*μ_r - R_c**2*R_o**2 - R_e**2*R_i**2*μ_r + R_e**2*R_i**2 + R_i**2*R_o**2*μ_r - R_i**2*R_o**2))/R_i**(μ_r*(R_c**2*R_e**2*μ_r + R_c**2*R_e**2 - R_c**2*R_o**2*μ_r + R_c**2*R_o**2 - R_e**2*R_i**2*μ_r - R_e**2*R_i**2 + R_i**2*R_o**2*μ_r - R_i**2*R_o**2))))/(R_c**2*R_e**2*R_i**2*μ_r**2 - R_c**2*R_e**2*R_i**2 - R_c**2*R_e**2*R_o**2*μ_r**2 + R_c**2*R_e**2*R_o**2 - R_c**2*R_i**2*R_o**2*μ_r**2 - 2*R_c**2*R_i**2*R_o**2*μ_r - R_c**2*R_i**2*R_o**2 + R_c**2*R_o**4*μ_r**2 - 2*R_c**2*R_o**4*μ_r + R_c**2*R_o**4 - R_e**2*R_i**4*μ_r**2 + 2*R_e**2*R_i**4*μ_r - R_e**2*R_i**4 + R_e**2*R_i**2*R_o**2*μ_r**2 + 2*R_e**2*R_i**2*R_o**2*μ_r + R_e**2*R_i**2*R_o**2 + R_i**4*R_o**2*μ_r**2 - R_i**4*R_o**2 - R_i**2*R_o**4*μ_r**2 + R_i**2*R_o**4)],\n",
       "[                                                                                                                                                                                                                                                                                            B_rem*R_e**2*R_o**2*(-2*R_i**2*(R_c**2 + R_i**2)*log(R_i) + (R_c**2*R_i**2*μ_r + R_c**2*R_i**2 - R_c**2*R_o**2*μ_r + R_c**2*R_o**2 - R_i**4*μ_r + R_i**4 + R_i**2*R_o**2*μ_r + R_i**2*R_o**2)*log(R_o) + log(R_o**(R_c**2*R_i**2*μ_r + R_c**2*R_i**2 + R_c**2*R_o**2*μ_r - R_c**2*R_o**2 - R_i**4*μ_r + R_i**4 - R_i**2*R_o**2*μ_r - R_i**2*R_o**2)/R_i**(2*R_i**2*μ_r*(R_c**2 - R_i**2))))/(R_c**2*R_e**2*R_i**2*μ_r**2 - R_c**2*R_e**2*R_i**2 - R_c**2*R_e**2*R_o**2*μ_r**2 + R_c**2*R_e**2*R_o**2 - R_c**2*R_i**2*R_o**2*μ_r**2 - 2*R_c**2*R_i**2*R_o**2*μ_r - R_c**2*R_i**2*R_o**2 + R_c**2*R_o**4*μ_r**2 - 2*R_c**2*R_o**4*μ_r + R_c**2*R_o**4 - R_e**2*R_i**4*μ_r**2 + 2*R_e**2*R_i**4*μ_r - R_e**2*R_i**4 + R_e**2*R_i**2*R_o**2*μ_r**2 + 2*R_e**2*R_i**2*R_o**2*μ_r + R_e**2*R_i**2*R_o**2 + R_i**4*R_o**2*μ_r**2 - R_i**4*R_o**2 - R_i**2*R_o**4*μ_r**2 + R_i**2*R_o**4)]])"
      ]
     },
     "metadata": {},
     "output_type": "display_data"
    }
   ],
   "source": [
    "solution_p_1 = solution.subs(p,1)\n",
    "display(solution_p_1)\n",
    "\n",
    "display(simplify(solution_p_1[0]-c1_eq))\n",
    "display(simplify(solution_p_1[1]-c2_eq))\n",
    "display(simplify(solution_p_1[2]-c3_eq))\n",
    "display(simplify(solution_p_1[3]-d1_eq))\n",
    "display(simplify(solution_p_1[4]-d2_eq))\n",
    "display(simplify(solution_p_1[5]-d3_eq))"
   ]
  }
 ],
 "metadata": {
  "kernelspec": {
   "display_name": "Python 3",
   "language": "python",
   "name": "python3"
  },
  "language_info": {
   "codemirror_mode": {
    "name": "ipython",
    "version": 3
   },
   "file_extension": ".py",
   "mimetype": "text/x-python",
   "name": "python",
   "nbconvert_exporter": "python",
   "pygments_lexer": "ipython3",
   "version": "3.11.2"
  }
 },
 "nbformat": 4,
 "nbformat_minor": 2
}
