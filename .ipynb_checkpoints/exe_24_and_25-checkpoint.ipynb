{
 "cells": [
  {
   "cell_type": "code",
   "execution_count": 14,
   "metadata": {},
   "outputs": [
    {
     "data": {
      "text/latex": [
       "$\\displaystyle \\left[\\begin{matrix}- B_{rem} \\log{\\left(R_{i} \\right)}\\\\- B_{rem} \\log{\\left(R_{o} \\right)}\\\\- B_{rem} \\log{\\left(R_{i} \\right)}\\\\- B_{rem} \\log{\\left(R_{o} \\right)}\\\\0\\\\0\\end{matrix}\\right]$"
      ],
      "text/plain": [
       "Matrix([\n",
       "[-B_rem*log(R_i)],\n",
       "[-B_rem*log(R_o)],\n",
       "[-B_rem*log(R_i)],\n",
       "[-B_rem*log(R_o)],\n",
       "[              0],\n",
       "[              0]])"
      ]
     },
     "execution_count": 14,
     "metadata": {},
     "output_type": "execute_result"
    }
   ],
   "source": [
    "from sympy import symbols, ln, sin, simplify, Matrix\n",
    "\n",
    "# Define symbols\n",
    "R_i, R_o, R_c, R_e, B_rem, p, θ, μ_r = symbols('R_i R_o R_c R_e B_rem p θ μ_r', real=True, positive=True)\n",
    "\n",
    "\n",
    "lhs_matrix = Matrix([\n",
    "    [1,-1, 0, R_i**(-2), -R_i**(-2), 0],\n",
    "    [0, -1, 1, 0, -R_o**(-2), R_o**(-2)],\n",
    "    [μ_r, -1, 0, -R_i**(-2) * μ_r, R_i**(-2), 0],\n",
    "    [0, -1, μ_r, 0, R_o**(-2), -R_o**(-2) * μ_r],\n",
    "    [1, 0, 0, -R_c**(-2), 0, 0],\n",
    "    [0, 0, 1, 0, 0, -R_e**(-2)]\n",
    "])\n",
    "\n",
    "# Define right-hand side expressions\n",
    "rhs_matrix = Matrix([\n",
    "    -B_rem * ln(R_i),\n",
    "    -B_rem * ln(R_o),\n",
    "    -B_rem * ln(R_i),\n",
    "    -B_rem * ln(R_o),\n",
    "    0,\n",
    "    0\n",
    "])\n",
    "rhs_matrix = rhs_matrix.subs(p, 1)\n",
    "rhs_matrix"
   ]
  },
  {
   "cell_type": "code",
   "execution_count": 15,
   "metadata": {},
   "outputs": [
    {
     "data": {
      "text/latex": [
       "$\\displaystyle \\left[\\begin{matrix}\\frac{\\log{\\left(\\left(R_{i}^{- R_{e}^{2} μ_{r} - R_{e}^{2} + R_{o}^{2} μ_{r} - R_{o}^{2}} R_{o}^{R_{e}^{2} μ_{r} + R_{e}^{2} - R_{o}^{2} μ_{r} + R_{o}^{2}}\\right)^{2 B_{rem} R_{i}^{2} R_{o}^{2}} \\right)}}{R_{c}^{2} R_{e}^{2} R_{i}^{2} μ_{r}^{2} - R_{c}^{2} R_{e}^{2} R_{i}^{2} - R_{c}^{2} R_{e}^{2} R_{o}^{2} μ_{r}^{2} + R_{c}^{2} R_{e}^{2} R_{o}^{2} - R_{c}^{2} R_{i}^{2} R_{o}^{2} μ_{r}^{2} - 2 R_{c}^{2} R_{i}^{2} R_{o}^{2} μ_{r} - R_{c}^{2} R_{i}^{2} R_{o}^{2} + R_{c}^{2} R_{o}^{4} μ_{r}^{2} - 2 R_{c}^{2} R_{o}^{4} μ_{r} + R_{c}^{2} R_{o}^{4} - R_{e}^{2} R_{i}^{4} μ_{r}^{2} + 2 R_{e}^{2} R_{i}^{4} μ_{r} - R_{e}^{2} R_{i}^{4} + R_{e}^{2} R_{i}^{2} R_{o}^{2} μ_{r}^{2} + 2 R_{e}^{2} R_{i}^{2} R_{o}^{2} μ_{r} + R_{e}^{2} R_{i}^{2} R_{o}^{2} + R_{i}^{4} R_{o}^{2} μ_{r}^{2} - R_{i}^{4} R_{o}^{2} - R_{i}^{2} R_{o}^{4} μ_{r}^{2} + R_{i}^{2} R_{o}^{4}}\\\\\\frac{\\log{\\left(\\left(R_{i}^{- R_{e}^{2} R_{i}^{4}} R_{i}^{- R_{i}^{4} R_{o}^{2}} R_{i}^{- R_{c}^{2} R_{e}^{2} R_{i}^{2}} R_{i}^{- R_{c}^{2} R_{i}^{2} R_{o}^{2}} R_{i}^{2 R_{e}^{2} R_{i}^{4} μ_{r}} R_{i}^{- R_{e}^{2} R_{i}^{4} μ_{r}^{2}} R_{i}^{R_{i}^{4} R_{o}^{2} μ_{r}^{2}} R_{i}^{R_{c}^{2} R_{e}^{2} R_{i}^{2} μ_{r}^{2}} R_{i}^{- 2 R_{c}^{2} R_{i}^{2} R_{o}^{2} μ_{r}} R_{i}^{- R_{c}^{2} R_{i}^{2} R_{o}^{2} μ_{r}^{2}} R_{o}^{R_{c}^{2} R_{o}^{4}} R_{o}^{R_{i}^{2} R_{o}^{4}} R_{o}^{R_{c}^{2} R_{e}^{2} R_{o}^{2}} R_{o}^{- 2 R_{c}^{2} R_{o}^{4} μ_{r}} R_{o}^{R_{c}^{2} R_{o}^{4} μ_{r}^{2}} R_{o}^{R_{e}^{2} R_{i}^{2} R_{o}^{2}} R_{o}^{- R_{i}^{2} R_{o}^{4} μ_{r}^{2}} R_{o}^{- R_{c}^{2} R_{e}^{2} R_{o}^{2} μ_{r}^{2}} R_{o}^{2 R_{e}^{2} R_{i}^{2} R_{o}^{2} μ_{r}} R_{o}^{R_{e}^{2} R_{i}^{2} R_{o}^{2} μ_{r}^{2}}\\right)^{B_{rem}} \\right)}}{R_{c}^{2} R_{e}^{2} R_{i}^{2} μ_{r}^{2} - R_{c}^{2} R_{e}^{2} R_{i}^{2} - R_{c}^{2} R_{e}^{2} R_{o}^{2} μ_{r}^{2} + R_{c}^{2} R_{e}^{2} R_{o}^{2} - R_{c}^{2} R_{i}^{2} R_{o}^{2} μ_{r}^{2} - 2 R_{c}^{2} R_{i}^{2} R_{o}^{2} μ_{r} - R_{c}^{2} R_{i}^{2} R_{o}^{2} + R_{c}^{2} R_{o}^{4} μ_{r}^{2} - 2 R_{c}^{2} R_{o}^{4} μ_{r} + R_{c}^{2} R_{o}^{4} - R_{e}^{2} R_{i}^{4} μ_{r}^{2} + 2 R_{e}^{2} R_{i}^{4} μ_{r} - R_{e}^{2} R_{i}^{4} + R_{e}^{2} R_{i}^{2} R_{o}^{2} μ_{r}^{2} + 2 R_{e}^{2} R_{i}^{2} R_{o}^{2} μ_{r} + R_{e}^{2} R_{i}^{2} R_{o}^{2} + R_{i}^{4} R_{o}^{2} μ_{r}^{2} - R_{i}^{4} R_{o}^{2} - R_{i}^{2} R_{o}^{4} μ_{r}^{2} + R_{i}^{2} R_{o}^{4}}\\\\\\frac{\\log{\\left(\\left(R_{i}^{- R_{c}^{2} μ_{r} - R_{c}^{2} + R_{i}^{2} μ_{r} - R_{i}^{2}} R_{o}^{R_{c}^{2} μ_{r} + R_{c}^{2} - R_{i}^{2} μ_{r} + R_{i}^{2}}\\right)^{2 B_{rem} R_{i}^{2} R_{o}^{2}} \\right)}}{R_{c}^{2} R_{e}^{2} R_{i}^{2} μ_{r}^{2} - R_{c}^{2} R_{e}^{2} R_{i}^{2} - R_{c}^{2} R_{e}^{2} R_{o}^{2} μ_{r}^{2} + R_{c}^{2} R_{e}^{2} R_{o}^{2} - R_{c}^{2} R_{i}^{2} R_{o}^{2} μ_{r}^{2} - 2 R_{c}^{2} R_{i}^{2} R_{o}^{2} μ_{r} - R_{c}^{2} R_{i}^{2} R_{o}^{2} + R_{c}^{2} R_{o}^{4} μ_{r}^{2} - 2 R_{c}^{2} R_{o}^{4} μ_{r} + R_{c}^{2} R_{o}^{4} - R_{e}^{2} R_{i}^{4} μ_{r}^{2} + 2 R_{e}^{2} R_{i}^{4} μ_{r} - R_{e}^{2} R_{i}^{4} + R_{e}^{2} R_{i}^{2} R_{o}^{2} μ_{r}^{2} + 2 R_{e}^{2} R_{i}^{2} R_{o}^{2} μ_{r} + R_{e}^{2} R_{i}^{2} R_{o}^{2} + R_{i}^{4} R_{o}^{2} μ_{r}^{2} - R_{i}^{4} R_{o}^{2} - R_{i}^{2} R_{o}^{4} μ_{r}^{2} + R_{i}^{2} R_{o}^{4}}\\\\\\frac{\\log{\\left(\\left(R_{i}^{- R_{e}^{2} μ_{r} - R_{e}^{2} + R_{o}^{2} μ_{r} - R_{o}^{2}} R_{o}^{R_{e}^{2} μ_{r} + R_{e}^{2} - R_{o}^{2} μ_{r} + R_{o}^{2}}\\right)^{2 B_{rem} R_{c}^{2} R_{i}^{2} R_{o}^{2}} \\right)}}{R_{c}^{2} R_{e}^{2} R_{i}^{2} μ_{r}^{2} - R_{c}^{2} R_{e}^{2} R_{i}^{2} - R_{c}^{2} R_{e}^{2} R_{o}^{2} μ_{r}^{2} + R_{c}^{2} R_{e}^{2} R_{o}^{2} - R_{c}^{2} R_{i}^{2} R_{o}^{2} μ_{r}^{2} - 2 R_{c}^{2} R_{i}^{2} R_{o}^{2} μ_{r} - R_{c}^{2} R_{i}^{2} R_{o}^{2} + R_{c}^{2} R_{o}^{4} μ_{r}^{2} - 2 R_{c}^{2} R_{o}^{4} μ_{r} + R_{c}^{2} R_{o}^{4} - R_{e}^{2} R_{i}^{4} μ_{r}^{2} + 2 R_{e}^{2} R_{i}^{4} μ_{r} - R_{e}^{2} R_{i}^{4} + R_{e}^{2} R_{i}^{2} R_{o}^{2} μ_{r}^{2} + 2 R_{e}^{2} R_{i}^{2} R_{o}^{2} μ_{r} + R_{e}^{2} R_{i}^{2} R_{o}^{2} + R_{i}^{4} R_{o}^{2} μ_{r}^{2} - R_{i}^{4} R_{o}^{2} - R_{i}^{2} R_{o}^{4} μ_{r}^{2} + R_{i}^{2} R_{o}^{4}}\\\\\\frac{\\log{\\left(\\left(R_{i}^{- R_{c}^{2} R_{e}^{2} μ_{r}^{2} - 2 R_{c}^{2} R_{e}^{2} μ_{r} - R_{c}^{2} R_{e}^{2} + R_{c}^{2} R_{o}^{2} μ_{r}^{2} - R_{c}^{2} R_{o}^{2} + R_{e}^{2} R_{i}^{2} μ_{r}^{2} - R_{e}^{2} R_{i}^{2} - R_{i}^{2} R_{o}^{2} μ_{r}^{2} + 2 R_{i}^{2} R_{o}^{2} μ_{r} - R_{i}^{2} R_{o}^{2}} R_{o}^{R_{c}^{2} R_{e}^{2} μ_{r}^{2} + 2 R_{c}^{2} R_{e}^{2} μ_{r} + R_{c}^{2} R_{e}^{2} - R_{c}^{2} R_{o}^{2} μ_{r}^{2} + R_{c}^{2} R_{o}^{2} - R_{e}^{2} R_{i}^{2} μ_{r}^{2} + R_{e}^{2} R_{i}^{2} + R_{i}^{2} R_{o}^{2} μ_{r}^{2} - 2 R_{i}^{2} R_{o}^{2} μ_{r} + R_{i}^{2} R_{o}^{2}}\\right)^{B_{rem} R_{i}^{2} R_{o}^{2}} \\right)}}{R_{c}^{2} R_{e}^{2} R_{i}^{2} μ_{r}^{2} - R_{c}^{2} R_{e}^{2} R_{i}^{2} - R_{c}^{2} R_{e}^{2} R_{o}^{2} μ_{r}^{2} + R_{c}^{2} R_{e}^{2} R_{o}^{2} - R_{c}^{2} R_{i}^{2} R_{o}^{2} μ_{r}^{2} - 2 R_{c}^{2} R_{i}^{2} R_{o}^{2} μ_{r} - R_{c}^{2} R_{i}^{2} R_{o}^{2} + R_{c}^{2} R_{o}^{4} μ_{r}^{2} - 2 R_{c}^{2} R_{o}^{4} μ_{r} + R_{c}^{2} R_{o}^{4} - R_{e}^{2} R_{i}^{4} μ_{r}^{2} + 2 R_{e}^{2} R_{i}^{4} μ_{r} - R_{e}^{2} R_{i}^{4} + R_{e}^{2} R_{i}^{2} R_{o}^{2} μ_{r}^{2} + 2 R_{e}^{2} R_{i}^{2} R_{o}^{2} μ_{r} + R_{e}^{2} R_{i}^{2} R_{o}^{2} + R_{i}^{4} R_{o}^{2} μ_{r}^{2} - R_{i}^{4} R_{o}^{2} - R_{i}^{2} R_{o}^{4} μ_{r}^{2} + R_{i}^{2} R_{o}^{4}}\\\\\\frac{\\log{\\left(\\left(R_{i}^{- R_{c}^{2} μ_{r} - R_{c}^{2} + R_{i}^{2} μ_{r} - R_{i}^{2}} R_{o}^{R_{c}^{2} μ_{r} + R_{c}^{2} - R_{i}^{2} μ_{r} + R_{i}^{2}}\\right)^{2 B_{rem} R_{e}^{2} R_{i}^{2} R_{o}^{2}} \\right)}}{R_{c}^{2} R_{e}^{2} R_{i}^{2} μ_{r}^{2} - R_{c}^{2} R_{e}^{2} R_{i}^{2} - R_{c}^{2} R_{e}^{2} R_{o}^{2} μ_{r}^{2} + R_{c}^{2} R_{e}^{2} R_{o}^{2} - R_{c}^{2} R_{i}^{2} R_{o}^{2} μ_{r}^{2} - 2 R_{c}^{2} R_{i}^{2} R_{o}^{2} μ_{r} - R_{c}^{2} R_{i}^{2} R_{o}^{2} + R_{c}^{2} R_{o}^{4} μ_{r}^{2} - 2 R_{c}^{2} R_{o}^{4} μ_{r} + R_{c}^{2} R_{o}^{4} - R_{e}^{2} R_{i}^{4} μ_{r}^{2} + 2 R_{e}^{2} R_{i}^{4} μ_{r} - R_{e}^{2} R_{i}^{4} + R_{e}^{2} R_{i}^{2} R_{o}^{2} μ_{r}^{2} + 2 R_{e}^{2} R_{i}^{2} R_{o}^{2} μ_{r} + R_{e}^{2} R_{i}^{2} R_{o}^{2} + R_{i}^{4} R_{o}^{2} μ_{r}^{2} - R_{i}^{4} R_{o}^{2} - R_{i}^{2} R_{o}^{4} μ_{r}^{2} + R_{i}^{2} R_{o}^{4}}\\end{matrix}\\right]$"
      ],
      "text/plain": [
       "Matrix([\n",
       "[                                                                                                                                                                                                                                                                                                                                                                                                                                                                       log((R_i**(-R_e**2*μ_r - R_e**2 + R_o**2*μ_r - R_o**2)*R_o**(R_e**2*μ_r + R_e**2 - R_o**2*μ_r + R_o**2))**(2*B_rem*R_i**2*R_o**2))/(R_c**2*R_e**2*R_i**2*μ_r**2 - R_c**2*R_e**2*R_i**2 - R_c**2*R_e**2*R_o**2*μ_r**2 + R_c**2*R_e**2*R_o**2 - R_c**2*R_i**2*R_o**2*μ_r**2 - 2*R_c**2*R_i**2*R_o**2*μ_r - R_c**2*R_i**2*R_o**2 + R_c**2*R_o**4*μ_r**2 - 2*R_c**2*R_o**4*μ_r + R_c**2*R_o**4 - R_e**2*R_i**4*μ_r**2 + 2*R_e**2*R_i**4*μ_r - R_e**2*R_i**4 + R_e**2*R_i**2*R_o**2*μ_r**2 + 2*R_e**2*R_i**2*R_o**2*μ_r + R_e**2*R_i**2*R_o**2 + R_i**4*R_o**2*μ_r**2 - R_i**4*R_o**2 - R_i**2*R_o**4*μ_r**2 + R_i**2*R_o**4)],\n",
       "[log((R_i**(2*R_e**2*R_i**4*μ_r)*R_i**(R_i**4*R_o**2*μ_r**2)*R_i**(R_c**2*R_e**2*R_i**2*μ_r**2)*R_o**(R_c**2*R_o**4)*R_o**(R_i**2*R_o**4)*R_o**(R_c**2*R_e**2*R_o**2)*R_o**(R_c**2*R_o**4*μ_r**2)*R_o**(R_e**2*R_i**2*R_o**2)*R_o**(2*R_e**2*R_i**2*R_o**2*μ_r)*R_o**(R_e**2*R_i**2*R_o**2*μ_r**2)/(R_i**(R_e**2*R_i**4)*R_i**(R_i**4*R_o**2)*R_i**(R_c**2*R_e**2*R_i**2)*R_i**(R_c**2*R_i**2*R_o**2)*R_i**(R_e**2*R_i**4*μ_r**2)*R_i**(2*R_c**2*R_i**2*R_o**2*μ_r)*R_i**(R_c**2*R_i**2*R_o**2*μ_r**2)*R_o**(2*R_c**2*R_o**4*μ_r)*R_o**(R_i**2*R_o**4*μ_r**2)*R_o**(R_c**2*R_e**2*R_o**2*μ_r**2)))**B_rem)/(R_c**2*R_e**2*R_i**2*μ_r**2 - R_c**2*R_e**2*R_i**2 - R_c**2*R_e**2*R_o**2*μ_r**2 + R_c**2*R_e**2*R_o**2 - R_c**2*R_i**2*R_o**2*μ_r**2 - 2*R_c**2*R_i**2*R_o**2*μ_r - R_c**2*R_i**2*R_o**2 + R_c**2*R_o**4*μ_r**2 - 2*R_c**2*R_o**4*μ_r + R_c**2*R_o**4 - R_e**2*R_i**4*μ_r**2 + 2*R_e**2*R_i**4*μ_r - R_e**2*R_i**4 + R_e**2*R_i**2*R_o**2*μ_r**2 + 2*R_e**2*R_i**2*R_o**2*μ_r + R_e**2*R_i**2*R_o**2 + R_i**4*R_o**2*μ_r**2 - R_i**4*R_o**2 - R_i**2*R_o**4*μ_r**2 + R_i**2*R_o**4)],\n",
       "[                                                                                                                                                                                                                                                                                                                                                                                                                                                                       log((R_i**(-R_c**2*μ_r - R_c**2 + R_i**2*μ_r - R_i**2)*R_o**(R_c**2*μ_r + R_c**2 - R_i**2*μ_r + R_i**2))**(2*B_rem*R_i**2*R_o**2))/(R_c**2*R_e**2*R_i**2*μ_r**2 - R_c**2*R_e**2*R_i**2 - R_c**2*R_e**2*R_o**2*μ_r**2 + R_c**2*R_e**2*R_o**2 - R_c**2*R_i**2*R_o**2*μ_r**2 - 2*R_c**2*R_i**2*R_o**2*μ_r - R_c**2*R_i**2*R_o**2 + R_c**2*R_o**4*μ_r**2 - 2*R_c**2*R_o**4*μ_r + R_c**2*R_o**4 - R_e**2*R_i**4*μ_r**2 + 2*R_e**2*R_i**4*μ_r - R_e**2*R_i**4 + R_e**2*R_i**2*R_o**2*μ_r**2 + 2*R_e**2*R_i**2*R_o**2*μ_r + R_e**2*R_i**2*R_o**2 + R_i**4*R_o**2*μ_r**2 - R_i**4*R_o**2 - R_i**2*R_o**4*μ_r**2 + R_i**2*R_o**4)],\n",
       "[                                                                                                                                                                                                                                                                                                                                                                                                                                                                log((R_i**(-R_e**2*μ_r - R_e**2 + R_o**2*μ_r - R_o**2)*R_o**(R_e**2*μ_r + R_e**2 - R_o**2*μ_r + R_o**2))**(2*B_rem*R_c**2*R_i**2*R_o**2))/(R_c**2*R_e**2*R_i**2*μ_r**2 - R_c**2*R_e**2*R_i**2 - R_c**2*R_e**2*R_o**2*μ_r**2 + R_c**2*R_e**2*R_o**2 - R_c**2*R_i**2*R_o**2*μ_r**2 - 2*R_c**2*R_i**2*R_o**2*μ_r - R_c**2*R_i**2*R_o**2 + R_c**2*R_o**4*μ_r**2 - 2*R_c**2*R_o**4*μ_r + R_c**2*R_o**4 - R_e**2*R_i**4*μ_r**2 + 2*R_e**2*R_i**4*μ_r - R_e**2*R_i**4 + R_e**2*R_i**2*R_o**2*μ_r**2 + 2*R_e**2*R_i**2*R_o**2*μ_r + R_e**2*R_i**2*R_o**2 + R_i**4*R_o**2*μ_r**2 - R_i**4*R_o**2 - R_i**2*R_o**4*μ_r**2 + R_i**2*R_o**4)],\n",
       "[                                                                                                                                                 log((R_i**(-R_c**2*R_e**2*μ_r**2 - 2*R_c**2*R_e**2*μ_r - R_c**2*R_e**2 + R_c**2*R_o**2*μ_r**2 - R_c**2*R_o**2 + R_e**2*R_i**2*μ_r**2 - R_e**2*R_i**2 - R_i**2*R_o**2*μ_r**2 + 2*R_i**2*R_o**2*μ_r - R_i**2*R_o**2)*R_o**(R_c**2*R_e**2*μ_r**2 + 2*R_c**2*R_e**2*μ_r + R_c**2*R_e**2 - R_c**2*R_o**2*μ_r**2 + R_c**2*R_o**2 - R_e**2*R_i**2*μ_r**2 + R_e**2*R_i**2 + R_i**2*R_o**2*μ_r**2 - 2*R_i**2*R_o**2*μ_r + R_i**2*R_o**2))**(B_rem*R_i**2*R_o**2))/(R_c**2*R_e**2*R_i**2*μ_r**2 - R_c**2*R_e**2*R_i**2 - R_c**2*R_e**2*R_o**2*μ_r**2 + R_c**2*R_e**2*R_o**2 - R_c**2*R_i**2*R_o**2*μ_r**2 - 2*R_c**2*R_i**2*R_o**2*μ_r - R_c**2*R_i**2*R_o**2 + R_c**2*R_o**4*μ_r**2 - 2*R_c**2*R_o**4*μ_r + R_c**2*R_o**4 - R_e**2*R_i**4*μ_r**2 + 2*R_e**2*R_i**4*μ_r - R_e**2*R_i**4 + R_e**2*R_i**2*R_o**2*μ_r**2 + 2*R_e**2*R_i**2*R_o**2*μ_r + R_e**2*R_i**2*R_o**2 + R_i**4*R_o**2*μ_r**2 - R_i**4*R_o**2 - R_i**2*R_o**4*μ_r**2 + R_i**2*R_o**4)],\n",
       "[                                                                                                                                                                                                                                                                                                                                                                                                                                                                log((R_i**(-R_c**2*μ_r - R_c**2 + R_i**2*μ_r - R_i**2)*R_o**(R_c**2*μ_r + R_c**2 - R_i**2*μ_r + R_i**2))**(2*B_rem*R_e**2*R_i**2*R_o**2))/(R_c**2*R_e**2*R_i**2*μ_r**2 - R_c**2*R_e**2*R_i**2 - R_c**2*R_e**2*R_o**2*μ_r**2 + R_c**2*R_e**2*R_o**2 - R_c**2*R_i**2*R_o**2*μ_r**2 - 2*R_c**2*R_i**2*R_o**2*μ_r - R_c**2*R_i**2*R_o**2 + R_c**2*R_o**4*μ_r**2 - 2*R_c**2*R_o**4*μ_r + R_c**2*R_o**4 - R_e**2*R_i**4*μ_r**2 + 2*R_e**2*R_i**4*μ_r - R_e**2*R_i**4 + R_e**2*R_i**2*R_o**2*μ_r**2 + 2*R_e**2*R_i**2*R_o**2*μ_r + R_e**2*R_i**2*R_o**2 + R_i**4*R_o**2*μ_r**2 - R_i**4*R_o**2 - R_i**2*R_o**4*μ_r**2 + R_i**2*R_o**4)]])"
      ]
     },
     "execution_count": 15,
     "metadata": {},
     "output_type": "execute_result"
    }
   ],
   "source": [
    "# Solve the matrices for the vector of constants. Takes around 100s.\n",
    "solution = simplify(lhs_matrix**(-1)*rhs_matrix)\n",
    "solution\n"
   ]
  },
  {
   "cell_type": "code",
   "execution_count": null,
   "metadata": {},
   "outputs": [],
   "source": [
    "import sympy as sp\n",
    "Ri, Ro, Rc, Re = sp.symbols('Ri Ro Rc Re', positive=True)\n",
    "miu, Br = sp.symbols('miu Br',real=True)\n",
    "\n",
    "coeff = sp.Matrix([[1,-1,0,Ri**(-2),-Ri**(-2),0],\n",
    "                   [0,1,-1,0,Ro**(-2),-Ro**(-2)],\n",
    "                   [-1,0,0,Rc**(-2),0,0],\n",
    "                   [-miu,1,0,miu*Ri**(-2),-Ri**(-2),0],\n",
    "                   [0,-1,miu,0,Ro**(-2),-miu*Ro**(-2)],\n",
    "                   [0,0,-1,0,0,Re**(-2)]])\n",
    "\n",
    "const = sp.Matrix([[-Br*sp.log(Ri)],\n",
    "                   [Br*sp.log(Ro)],\n",
    "                   [0],\n",
    "                   [Br*sp.log(Ri)],\n",
    "                   [-Br*sp.log(Ro)],\n",
    "                   [0]])\n",
    "\n",
    "solution2 = coeff**(-1)*const\n",
    "solution2"
   ]
  },
  {
   "cell_type": "code",
   "execution_count": null,
   "metadata": {},
   "outputs": [],
   "source": [
    "simplify(lhs_matrix*solution2) == rhs_matrix.T"
   ]
  },
  {
   "cell_type": "markdown",
   "metadata": {},
   "source": []
  },
  {
   "cell_type": "code",
   "execution_count": null,
   "metadata": {},
   "outputs": [],
   "source": [
    "# check if our solution satisfies the whole equation\n",
    "simplify(lhs_matrix*solution) == rhs_matrix.T"
   ]
  },
  {
   "cell_type": "code",
   "execution_count": null,
   "metadata": {},
   "outputs": [],
   "source": [
    "a, b = symbols('a b')\n",
    "\n",
    "a_val = (R_e**2-R_o**2)/(R_e**2+R_o**2)\n",
    "b_val = -(R_i**2-R_c**2)/(R_i**2+R_c**2)\n",
    "\n",
    "D_II = -((a*μ_r-1)/(a*μ_r+1) * R_o**(-2) - (b*μ_r-1)/(b*μ_r+1) * R_i**(-2))**(-1) * B_rem * ln(R_i/R_o)\n",
    "C_I = - D_II / (R_i**2 + R_c**2) * (1 - (b*μ_r-1)/(b*μ_r+1))\n",
    "D_I = - C_I * R_c**2\n",
    "C_II = D_II * (a*μ_r-1)/(a*μ_r+1) * R_o**(-2) + B_rem * ln(R_o)\n",
    "C_III = - D_II / (R_o**2 + R_e**2) * (1 - (a*μ_r-1)/(a*μ_r+1))\n",
    "D_III = - C_III * R_e**2"
   ]
  },
  {
   "cell_type": "code",
   "execution_count": null,
   "metadata": {},
   "outputs": [],
   "source": [
    "simplify(D2.subs([(a, a_val), (b, b_val)]) - solution[4])"
   ]
  },
  {
   "cell_type": "code",
   "execution_count": null,
   "metadata": {},
   "outputs": [],
   "source": [
    "a, b = symbols('a b')\n",
    "\n",
    "a_val = (Re**2-Ro**2)/(Re**2+Ro**2)\n",
    "b_val = -(Ri**2-Rc**2)/(Ri**2+Rc**2)\n",
    "\n",
    "\n",
    "D2 = -((a*miu-1)/(a*miu+1)*Ro**(-2)-(miu*b-1)/(miu*b+1)*Ri**(-2))**(-1)*Br*(ln(Ri)-ln(Ro))\n",
    "C1 = D2/(Ri**2+Rc**2)*(1-(miu*b-1)/(miu*b+1))\n",
    "C2 = -D2*(miu*a-1)/(miu*a+1)*Ro**(-2)+Br*ln(Ro)\n",
    "C3 = D2/(Ro**2+Re**2)*(1-(miu*a-1)/(miu*a+1))\n",
    "D1 = C1*Rc**2\n",
    "D3 = C3*Re**2\n",
    "simplify(C1)\n",
    "\n",
    "\n",
    "simp1 =simplify(lhs_matrix * Matrix([C1, C2, C3, D1, D2, D3]))\n",
    "simp1"
   ]
  }
 ],
 "metadata": {
  "kernelspec": {
   "display_name": "Python 3",
   "language": "python",
   "name": "python3"
  },
  "language_info": {
   "codemirror_mode": {
    "name": "ipython",
    "version": 3
   },
   "file_extension": ".py",
   "mimetype": "text/x-python",
   "name": "python",
   "nbconvert_exporter": "python",
   "pygments_lexer": "ipython3",
   "version": "3.11.5"
  }
 },
 "nbformat": 4,
 "nbformat_minor": 2
}
