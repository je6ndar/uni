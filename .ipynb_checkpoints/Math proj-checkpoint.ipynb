{
 "cells": [
  {
   "cell_type": "code",
   "execution_count": 3,
   "id": "914615f5-f62c-41af-b5c3-4e8192b950d3",
   "metadata": {},
   "outputs": [],
   "source": [
    "from dtumathtools import*\n",
    "from sympy import*\n",
    "import matplotlib.pyplot as plt\n",
    "import numpy as np\n",
    "from spb.vectors import plot_vector"
   ]
  },
  {
   "cell_type": "code",
   "execution_count": 4,
   "id": "21a00a29-73e4-482d-9c5f-a00f50f7c913",
   "metadata": {},
   "outputs": [],
   "source": [
    "x, y, r, th, z = symbols(\"x,y,r,th,z\")"
   ]
  },
  {
   "cell_type": "code",
   "execution_count": 5,
   "id": "ffb5a14e-4c16-44cf-b947-dd740fca0a10",
   "metadata": {},
   "outputs": [],
   "source": [
    "mu_0 = 4*pi*10**(-7)\n",
    "I = 10"
   ]
  },
  {
   "cell_type": "code",
   "execution_count": 6,
   "id": "ca124754-a1d0-4e01-90be-c15305536413",
   "metadata": {},
   "outputs": [],
   "source": [
    "Ri, Ro, Rc, Re, Brem, mu_r = symbols(\"Ri, Ro, Rc, Re, Brem, mu_r\")\n",
    "C1, C2, C3, D1, D2, D3 = symbols(\"C1, C2, C3, D1, D2, D3\")"
   ]
  },
  {
   "cell_type": "code",
   "execution_count": 7,
   "id": "f06bd4d7-6995-4cfe-983e-b3a1dacbbf81",
   "metadata": {},
   "outputs": [],
   "source": [
    "domain_constants_matrix = Matrix([[1, -1, 0, Ri**(-2), -Ri**(-2), 0],\n",
    "                                  [0, 1, -1, 0, Ro**(-2), -Ro**(-2)],\n",
    "                                  [-1, 0, 0, Rc**(-2), 0, 0],\n",
    "                                  [-mu_r, 1, 0, mu_r*Ri**(-2), -Ri**(-2), 0],\n",
    "                                  [0, 1, -mu_r, 0, -Ro**(-2), mu_r*Ro**(-2)],\n",
    "                                  [0, 0, -1, 0, 0, Re**(-2)]])\n",
    "\n",
    "domain_solution_matrix = Matrix([-Brem*ln(Ri), \n",
    "                                 Brem*ln(Ro), \n",
    "                                 0, \n",
    "                                 Brem*ln(Ri), \n",
    "                                 Brem*ln(Ro), \n",
    "                                 0])"
   ]
  },
  {
   "cell_type": "code",
   "execution_count": 8,
   "id": "b0154c93-1255-43d5-b846-c80c2358227b",
   "metadata": {},
   "outputs": [
    {
     "data": {
      "text/latex": [
       "$\\displaystyle \\left[\\begin{matrix}1 & -1 & 0 & \\frac{1}{Ri^{2}} & - \\frac{1}{Ri^{2}} & 0\\\\0 & 1 & -1 & 0 & \\frac{1}{Ro^{2}} & - \\frac{1}{Ro^{2}}\\\\-1 & 0 & 0 & \\frac{1}{Rc^{2}} & 0 & 0\\\\- \\mu_{r} & 1 & 0 & \\frac{\\mu_{r}}{Ri^{2}} & - \\frac{1}{Ri^{2}} & 0\\\\0 & 1 & - \\mu_{r} & 0 & - \\frac{1}{Ro^{2}} & \\frac{\\mu_{r}}{Ro^{2}}\\\\0 & 0 & -1 & 0 & 0 & \\frac{1}{Re^{2}}\\end{matrix}\\right]$"
      ],
      "text/plain": [
       "Matrix([\n",
       "[    1, -1,     0,   Ri**(-2), -1/Ri**2,          0],\n",
       "[    0,  1,    -1,          0, Ro**(-2),   -1/Ro**2],\n",
       "[   -1,  0,     0,   Rc**(-2),        0,          0],\n",
       "[-mu_r,  1,     0, mu_r/Ri**2, -1/Ri**2,          0],\n",
       "[    0,  1, -mu_r,          0, -1/Ro**2, mu_r/Ro**2],\n",
       "[    0,  0,    -1,          0,        0,   Re**(-2)]])"
      ]
     },
     "metadata": {},
     "output_type": "display_data"
    },
    {
     "data": {
      "text/latex": [
       "$\\displaystyle \\left[\\begin{matrix}- Brem \\log{\\left(Ri \\right)}\\\\Brem \\log{\\left(Ro \\right)}\\\\0\\\\Brem \\log{\\left(Ri \\right)}\\\\Brem \\log{\\left(Ro \\right)}\\\\0\\end{matrix}\\right]$"
      ],
      "text/plain": [
       "Matrix([\n",
       "[-Brem*log(Ri)],\n",
       "[ Brem*log(Ro)],\n",
       "[            0],\n",
       "[ Brem*log(Ri)],\n",
       "[ Brem*log(Ro)],\n",
       "[            0]])"
      ]
     },
     "metadata": {},
     "output_type": "display_data"
    }
   ],
   "source": [
    "display(domain_constants_matrix, domain_solution_matrix)"
   ]
  },
  {
   "cell_type": "code",
   "execution_count": 9,
   "id": "79fb0928-91c3-46ab-b285-972abe6d5db9",
   "metadata": {},
   "outputs": [
    {
     "data": {
      "text/latex": [
       "$\\displaystyle \\left[\\begin{matrix}1 & -1 & 0 & \\frac{1}{Ri^{2}} & - \\frac{1}{Ri^{2}} & 0\\\\0 & 1 & -1 & 0 & \\frac{1}{Ro^{2}} & - \\frac{1}{Ro^{2}}\\\\-1 & 0 & 0 & \\frac{1}{Rc^{2}} & 0 & 0\\\\- \\mu_{r} & 1 & 0 & \\frac{\\mu_{r}}{Ri^{2}} & - \\frac{1}{Ri^{2}} & 0\\\\0 & 1 & - \\mu_{r} & 0 & - \\frac{1}{Ro^{2}} & \\frac{\\mu_{r}}{Ro^{2}}\\\\0 & 0 & -1 & 0 & 0 & \\frac{1}{Re^{2}}\\end{matrix}\\right]$"
      ],
      "text/plain": [
       "Matrix([\n",
       "[    1, -1,     0,   Ri**(-2), -1/Ri**2,          0],\n",
       "[    0,  1,    -1,          0, Ro**(-2),   -1/Ro**2],\n",
       "[   -1,  0,     0,   Rc**(-2),        0,          0],\n",
       "[-mu_r,  1,     0, mu_r/Ri**2, -1/Ri**2,          0],\n",
       "[    0,  1, -mu_r,          0, -1/Ro**2, mu_r/Ro**2],\n",
       "[    0,  0,    -1,          0,        0,   Re**(-2)]])"
      ]
     },
     "execution_count": 9,
     "metadata": {},
     "output_type": "execute_result"
    }
   ],
   "source": [
    "domain_constants_matrix"
   ]
  },
  {
   "cell_type": "code",
   "execution_count": 10,
   "id": "1f7a14f8-72dd-45fd-bf52-6e0c977d4224",
   "metadata": {},
   "outputs": [],
   "source": [
    "a = (Re**2 - Ro**2)/(Re**2 + Ro**2) \n",
    "b = (Ri**2 - Rc**2)/(Ri**2 + Rc**2)\n"
   ]
  },
  {
   "cell_type": "code",
   "execution_count": 11,
   "id": "dde03102-17be-4c18-aab4-57429d405ef1",
   "metadata": {},
   "outputs": [],
   "source": [
    "d2 = -((mu_r*a-1)/(mu_r*a+1)*Ro**(-2) - (mu_r*b-1)/(mu_r*b+1)*Ri**(-2))**(-1) * Brem * ln(Ri/Ro)"
   ]
  },
  {
   "cell_type": "code",
   "execution_count": 12,
   "id": "efcb5d97-65c4-4168-add0-16a205309038",
   "metadata": {},
   "outputs": [
    {
     "data": {
      "text/latex": [
       "$\\displaystyle - \\frac{Brem \\log{\\left(\\frac{Ri}{Ro} \\right)}}{\\frac{Rc^{2} \\mu_{r}}{- \\frac{Rc^{4} Ri^{2} \\mu_{r}}{Rc^{2} + Ri^{2}} + Rc^{2} Ri^{2} + \\frac{Ri^{6} \\mu_{r}}{Rc^{2} + Ri^{2}} + Ri^{4}} + \\frac{Re^{2} \\mu_{r}}{\\frac{Re^{4} Ro^{2} \\mu_{r}}{Re^{2} + Ro^{2}} + Re^{2} Ro^{2} - \\frac{Ro^{6} \\mu_{r}}{Re^{2} + Ro^{2}} + Ro^{4}} - \\frac{Ri^{2} \\mu_{r}}{- \\frac{Rc^{4} Ri^{2} \\mu_{r}}{Rc^{2} + Ri^{2}} + Rc^{2} Ri^{2} + \\frac{Ri^{6} \\mu_{r}}{Rc^{2} + Ri^{2}} + Ri^{4}} - \\frac{Ro^{2} \\mu_{r}}{\\frac{Re^{4} Ro^{2} \\mu_{r}}{Re^{2} + Ro^{2}} + Re^{2} Ro^{2} - \\frac{Ro^{6} \\mu_{r}}{Re^{2} + Ro^{2}} + Ro^{4}} - \\frac{1}{\\frac{Re^{2} Ro^{2} \\mu_{r}}{Re^{2} + Ro^{2}} - \\frac{Ro^{4} \\mu_{r}}{Re^{2} + Ro^{2}} + Ro^{2}} + \\frac{1}{- \\frac{Rc^{2} Ri^{2} \\mu_{r}}{Rc^{2} + Ri^{2}} + \\frac{Ri^{4} \\mu_{r}}{Rc^{2} + Ri^{2}} + Ri^{2}}}$"
      ],
      "text/plain": [
       "-Brem*log(Ri/Ro)/(Rc**2*mu_r/(-Rc**4*Ri**2*mu_r/(Rc**2 + Ri**2) + Rc**2*Ri**2 + Ri**6*mu_r/(Rc**2 + Ri**2) + Ri**4) + Re**2*mu_r/(Re**4*Ro**2*mu_r/(Re**2 + Ro**2) + Re**2*Ro**2 - Ro**6*mu_r/(Re**2 + Ro**2) + Ro**4) - Ri**2*mu_r/(-Rc**4*Ri**2*mu_r/(Rc**2 + Ri**2) + Rc**2*Ri**2 + Ri**6*mu_r/(Rc**2 + Ri**2) + Ri**4) - Ro**2*mu_r/(Re**4*Ro**2*mu_r/(Re**2 + Ro**2) + Re**2*Ro**2 - Ro**6*mu_r/(Re**2 + Ro**2) + Ro**4) - 1/(Re**2*Ro**2*mu_r/(Re**2 + Ro**2) - Ro**4*mu_r/(Re**2 + Ro**2) + Ro**2) + 1/(-Rc**2*Ri**2*mu_r/(Rc**2 + Ri**2) + Ri**4*mu_r/(Rc**2 + Ri**2) + Ri**2))"
      ]
     },
     "execution_count": 12,
     "metadata": {},
     "output_type": "execute_result"
    }
   ],
   "source": [
    "d2.expand()"
   ]
  },
  {
   "cell_type": "code",
   "execution_count": null,
   "id": "f87d3963-0474-4590-b264-5382a183a710",
   "metadata": {},
   "outputs": [],
   "source": []
  },
  {
   "cell_type": "code",
   "execution_count": 13,
   "id": "1e9a4a15-2d11-499b-b61d-9a29efea777d",
   "metadata": {},
   "outputs": [
    {
     "data": {
      "text/latex": [
       "$\\displaystyle \\infty$"
      ],
      "text/plain": [
       "oo"
      ]
     },
     "execution_count": 13,
     "metadata": {},
     "output_type": "execute_result"
    }
   ],
   "source": [
    "from sympy import limit\n",
    "\n",
    "limit(50/x, x, 0)"
   ]
  },
  {
   "cell_type": "code",
   "execution_count": 14,
   "id": "9e940676-05b6-4781-a9d9-c02d64585006",
   "metadata": {},
   "outputs": [],
   "source": [
    "from sympy import solve_linear_system"
   ]
  },
  {
   "cell_type": "code",
   "execution_count": 15,
   "id": "9218cb9b-269b-4c20-9d8c-a123f5617400",
   "metadata": {},
   "outputs": [],
   "source": [
    "sys = domain_constants_matrix.col_insert(6, domain_solution_matrix)\n",
    "solver = solve_linear_system(sys, C1, C2, C3, D1, D2, D3)"
   ]
  },
  {
   "cell_type": "code",
   "execution_count": null,
   "id": "923d48e8-3ec1-4756-98d6-2e04139b692b",
   "metadata": {},
   "outputs": [],
   "source": []
  },
  {
   "cell_type": "code",
   "execution_count": 16,
   "id": "50d36996-713e-4dbe-a1a2-f0b0ff4e6d1c",
   "metadata": {},
   "outputs": [],
   "source": [
    "B_r, B_th = symbols(\"B_r, B_th\")\n",
    "B_r = Brem*ln(Ro/Ri)*cos(th)\n",
    "B_th = -Brem*ln(Ro/Ri)*sin(th)\n",
    "B = sqrt(B_r**2 + B_th**2)"
   ]
  },
  {
   "cell_type": "code",
   "execution_count": 17,
   "id": "111dae31-e040-418a-9e4c-abab4471b159",
   "metadata": {},
   "outputs": [],
   "source": [
    "mag_d = solve(B.subs({Ri:0.6, Brem:1.4})-1.5,Ro)[1]"
   ]
  },
  {
   "cell_type": "code",
   "execution_count": 19,
   "id": "5f979a3f-a22c-42f6-b866-f3d20b9a8142",
   "metadata": {},
   "outputs": [],
   "source": [
    "I_sol = 0.75/(4*pi*10**(-7)*5000)"
   ]
  },
  {
   "cell_type": "code",
   "execution_count": 21,
   "id": "edf0a58b-f117-4983-bf07-04cd3275c88c",
   "metadata": {},
   "outputs": [],
   "source": [
    "length = 2*pi*0.6*5000\n",
    "A = pi*0.001**2\n",
    "rho = 8960\n",
    "resistivity_copper = 1.68 * 10**(-8)\n",
    "L = 0.5\n",
    "B = 1.5\n",
    "B_0 = 3\n",
    "I_0 = 1.8 * 10**3"
   ]
  },
  {
   "cell_type": "code",
   "execution_count": 29,
   "id": "8c7f2d81-3f0d-42ac-99d6-5e3941b0fd24",
   "metadata": {},
   "outputs": [],
   "source": [
    "res_copper = resistivity_copper * length / A\n",
    "mass = length * A * rho\n",
    "power = I_sol**2 * res_copper\n",
    "N = 0.5 * 3 *(1.8 - 1.2) * 10**3 / (1.2 * 10**3)**2 / (4 * pi * 10**(-7))"
   ]
  },
  {
   "cell_type": "code",
   "execution_count": 30,
   "id": "39928ab6-476f-4c0e-ac31-644a00ff76b3",
   "metadata": {},
   "outputs": [
    {
     "name": "stdout",
     "output_type": "stream",
     "text": [
      "Outer radius =, 1.75172838247696\n",
      "Current through the wire = 119.366207318921\n",
      "length = 18849.5559215388\n",
      "resistivity = 100.800000000000\n",
      "mass = 530.589932602564\n",
      "power = 1436227.77813014\n",
      "N = 497.359197162173\n"
     ]
    }
   ],
   "source": [
    "print(\"Outer radius =,\", mag_d.evalf())\n",
    "print(\"Current through the wire =\", I_sol.evalf())\n",
    "print(\"length =\", length.evalf())\n",
    "print(\"resistivity =\", res_copper)\n",
    "print(\"mass =\", mass.evalf())\n",
    "print(\"power =\", power.evalf())\n",
    "print(\"N =\", N.evalf())"
   ]
  },
  {
   "cell_type": "code",
   "execution_count": null,
   "id": "086d6bf2-3fba-4fc6-b9d7-4bf6648bd05c",
   "metadata": {},
   "outputs": [],
   "source": []
  }
 ],
 "metadata": {
  "kernelspec": {
   "display_name": "Python 3 (ipykernel)",
   "language": "python",
   "name": "python3"
  },
  "language_info": {
   "codemirror_mode": {
    "name": "ipython",
    "version": 3
   },
   "file_extension": ".py",
   "mimetype": "text/x-python",
   "name": "python",
   "nbconvert_exporter": "python",
   "pygments_lexer": "ipython3",
   "version": "3.10.12"
  }
 },
 "nbformat": 4,
 "nbformat_minor": 5
}
